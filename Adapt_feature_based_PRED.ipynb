{
  "nbformat": 4,
  "nbformat_minor": 0,
  "metadata": {
    "colab": {
      "provenance": [],
      "authorship_tag": "ABX9TyMgtXd/i23t3kQsne1/LUfu",
      "include_colab_link": true
    },
    "kernelspec": {
      "name": "python3",
      "display_name": "Python 3"
    },
    "language_info": {
      "name": "python"
    }
  },
  "cells": [
    {
      "cell_type": "markdown",
      "metadata": {
        "id": "view-in-github",
        "colab_type": "text"
      },
      "source": [
        "<a href=\"https://colab.research.google.com/github/KOMBOU12/Marius/blob/main/Adapt_feature_based_PRED.ipynb\" target=\"_parent\"><img src=\"https://colab.research.google.com/assets/colab-badge.svg\" alt=\"Open In Colab\"/></a>"
      ]
    },
    {
      "cell_type": "markdown",
      "source": [
        "# **PRED**"
      ],
      "metadata": {
        "id": "5G6ajlJ_aoo1"
      }
    },
    {
      "cell_type": "code",
      "source": [
        "!pip install adapt"
      ],
      "metadata": {
        "id": "TPu0N1jiakzU"
      },
      "execution_count": null,
      "outputs": []
    },
    {
      "cell_type": "code",
      "execution_count": 3,
      "metadata": {
        "colab": {
          "base_uri": "https://localhost:8080/"
        },
        "id": "fU2yO06FPXi7",
        "outputId": "b07be34d-3bb6-4fc6-a7ce-f8ad4cb93973"
      },
      "outputs": [
        {
          "output_type": "execute_result",
          "data": {
            "text/plain": [
              "0.77"
            ]
          },
          "metadata": {},
          "execution_count": 3
        }
      ],
      "source": [
        "from sklearn.linear_model import RidgeClassifier\n",
        "from adapt.utils import make_classification_da\n",
        "from adapt.feature_based import PRED\n",
        "Xs, ys, Xt, yt = make_classification_da()\n",
        "model = PRED(RidgeClassifier(0.), Xt=Xt[[1, -1, -2]], yt=yt[[1, -1, -2]],\n",
        "             pretrain=True, verbose=0, random_state=0)\n",
        "model.fit(Xs, ys)\n",
        "model.score(Xt, yt)"
      ]
    },
    {
      "cell_type": "markdown",
      "source": [
        "On reproduit le code sur un nouveau jeu de donnée de notre choix"
      ],
      "metadata": {
        "id": "DNuH5ezBTVsq"
      }
    },
    {
      "cell_type": "code",
      "source": [
        "from sklearn.linear_model import RidgeClassifier\n",
        "from sklearn.datasets import load_breast_cancer\n",
        "from adapt.feature_based import PRED\n",
        "from sklearn.model_selection import train_test_split\n",
        "\n",
        "# Charger le jeu de données sur le cancer du sein\n",
        "data = load_breast_cancer()\n",
        "X, y = data.data, data.target\n",
        "\n",
        "# Séparer les données en ensemble source (Xs, ys) et ensemble cible (Xt, yt)\n",
        "Xs, Xt, ys, yt = train_test_split(X, y, test_size=0.5, random_state=0)\n",
        "\n",
        "# Initialiser et entraîner le modèle PRED avec RidgeClassifier\n",
        "model = PRED(RidgeClassifier(alpha=1.0), Xt=Xt[:3], yt=yt[:3],\n",
        "             pretrain=True, verbose=0, random_state=0)\n",
        "model.fit(Xs, ys)\n",
        "\n",
        "# Évaluer le modèle\n",
        "score = model.score(Xt, yt)\n",
        "print(\"Score:\", score)\n"
      ],
      "metadata": {
        "colab": {
          "base_uri": "https://localhost:8080/"
        },
        "id": "5czsB6wxTVCK",
        "outputId": "ab6d8f91-acc0-451b-b93f-43a3815a0a87"
      },
      "execution_count": 4,
      "outputs": [
        {
          "output_type": "stream",
          "name": "stdout",
          "text": [
            "Score: 0.9333333333333333\n"
          ]
        }
      ]
    },
    {
      "cell_type": "markdown",
      "source": [
        "Ce score est encourageant et montre que le modèle est performant dans cette tâche spécifique, mais une analyse plus approfondie avec des métriques complémentaires et des tests sur d'autres données permettrait de confirmer la validité et la robustesse de cette performance."
      ],
      "metadata": {
        "id": "j5DeonbTVXjt"
      }
    },
    {
      "cell_type": "markdown",
      "source": [
        "# **FA**"
      ],
      "metadata": {
        "id": "0jH8HHO1ZwTL"
      }
    },
    {
      "cell_type": "code",
      "source": [
        "from sklearn.linear_model import RidgeClassifier\n",
        "from adapt.utils import make_classification_da\n",
        "from adapt.feature_based import FA\n",
        "Xs, ys, Xt, yt = make_classification_da()\n",
        "model = FA(RidgeClassifier(), Xt=Xt[:10], yt=yt[:10], random_state=0)\n",
        "model.fit(Xs, ys)\n",
        "model.score(Xt, yt)"
      ],
      "metadata": {
        "colab": {
          "base_uri": "https://localhost:8080/"
        },
        "id": "BlkKBugvZmhM",
        "outputId": "04cb5861-e651-4795-8586-7c38c4559b03"
      },
      "execution_count": 9,
      "outputs": [
        {
          "output_type": "stream",
          "name": "stdout",
          "text": [
            "Fit transform...\n",
            "Previous shape: (100, 2)\n",
            "New shape: (110, 6)\n",
            "Fit Estimator...\n"
          ]
        },
        {
          "output_type": "execute_result",
          "data": {
            "text/plain": [
              "0.92"
            ]
          },
          "metadata": {},
          "execution_count": 9
        }
      ]
    },
    {
      "cell_type": "code",
      "source": [
        "from sklearn.linear_model import RidgeClassifier\n",
        "from sklearn.datasets import load_digits\n",
        "from adapt.feature_based import FA\n",
        "from sklearn.model_selection import train_test_split\n",
        "\n",
        "# Charger le jeu de données digits\n",
        "data = load_digits()\n",
        "X, y = data.data, data.target\n",
        "\n",
        "# Diviser les données en ensembles source (Xs, ys) et cible (Xt, yt)\n",
        "Xs, Xt, ys, yt = train_test_split(X, y, test_size=0.5, random_state=0)\n",
        "\n",
        "# Initialiser et entraîner le modèle FA avec RidgeClassifier\n",
        "# En utilisant un sous-ensemble de Xt et yt pour l'adaptation de domaine\n",
        "model = FA(RidgeClassifier(), Xt=Xt[:10], yt=yt[:10], random_state=0)\n",
        "model.fit(Xs, ys)\n",
        "\n",
        "# Évaluer le modèle\n",
        "score = model.score(Xt, yt)\n",
        "print(\"Score:\", score)\n"
      ],
      "metadata": {
        "colab": {
          "base_uri": "https://localhost:8080/"
        },
        "id": "r29QXVQZbrxY",
        "outputId": "69c81f65-68a1-47d4-fba0-641020c23c48"
      },
      "execution_count": 11,
      "outputs": [
        {
          "output_type": "stream",
          "name": "stdout",
          "text": [
            "Fit transform...\n",
            "Previous shape: (898, 64)\n",
            "New shape: (908, 192)\n",
            "Fit Estimator...\n",
            "Score: 0.6162402669632926\n"
          ]
        }
      ]
    },
    {
      "cell_type": "markdown",
      "source": [
        "# **CORAL**"
      ],
      "metadata": {
        "id": "68FsVn1gaUFE"
      }
    },
    {
      "cell_type": "code",
      "source": [
        "from sklearn.linear_model import RidgeClassifier\n",
        "from adapt.utils import make_classification_da\n",
        "from adapt.feature_based import CORAL\n",
        "Xs, ys, Xt, yt = make_classification_da()\n",
        "model = CORAL(RidgeClassifier(), Xt=Xt, random_state=0)\n",
        "model.fit(Xs, ys)\n",
        "model.score(Xt, yt)"
      ],
      "metadata": {
        "colab": {
          "base_uri": "https://localhost:8080/"
        },
        "id": "Va7Mh_AAaC5L",
        "outputId": "80fb27e2-cbb0-40f1-fbd2-f9d120778d37"
      },
      "execution_count": 10,
      "outputs": [
        {
          "output_type": "stream",
          "name": "stdout",
          "text": [
            "Fit transform...\n",
            "Previous covariance difference: 0.013181\n",
            "New covariance difference: 0.000004\n",
            "Fit Estimator...\n"
          ]
        },
        {
          "output_type": "execute_result",
          "data": {
            "text/plain": [
              "0.86"
            ]
          },
          "metadata": {},
          "execution_count": 10
        }
      ]
    },
    {
      "cell_type": "code",
      "source": [
        "from sklearn.linear_model import RidgeClassifier\n",
        "from sklearn.datasets import load_wine\n",
        "from adapt.feature_based import CORAL\n",
        "from sklearn.model_selection import train_test_split\n",
        "\n",
        "# Charger le jeu de données wine\n",
        "data = load_wine()\n",
        "X, y = data.data, data.target\n",
        "\n",
        "# Diviser les données en ensembles source (Xs, ys) et cible (Xt, yt)\n",
        "Xs, Xt, ys, yt = train_test_split(X, y, test_size=0.5, random_state=0)\n",
        "\n",
        "# Initialiser et entraîner le modèle CORAL avec RidgeClassifier\n",
        "model = CORAL(RidgeClassifier(), Xt=Xt, random_state=0)\n",
        "model.fit(Xs, ys)\n",
        "\n",
        "# Évaluer le modèle\n",
        "score = model.score(Xt, yt)\n",
        "print(\"Score:\", score)\n"
      ],
      "metadata": {
        "colab": {
          "base_uri": "https://localhost:8080/"
        },
        "id": "L43wfwOWb5uI",
        "outputId": "cfbb1d91-4a53-42fe-8076-37594b52d4f1"
      },
      "execution_count": 12,
      "outputs": [
        {
          "output_type": "stream",
          "name": "stdout",
          "text": [
            "Fit transform...\n",
            "Previous covariance difference: 35.215205\n",
            "New covariance difference: 0.000002\n",
            "Fit Estimator...\n",
            "Score: 0.8426966292134831\n"
          ]
        }
      ]
    }
  ]
}
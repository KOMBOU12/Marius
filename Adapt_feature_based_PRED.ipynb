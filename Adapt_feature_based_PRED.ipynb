{
  "nbformat": 4,
  "nbformat_minor": 0,
  "metadata": {
    "colab": {
      "provenance": [],
      "authorship_tag": "ABX9TyOvLR7zugt8KP6XEYWravFD",
      "include_colab_link": true
    },
    "kernelspec": {
      "name": "python3",
      "display_name": "Python 3"
    },
    "language_info": {
      "name": "python"
    }
  },
  "cells": [
    {
      "cell_type": "markdown",
      "metadata": {
        "id": "view-in-github",
        "colab_type": "text"
      },
      "source": [
        "<a href=\"https://colab.research.google.com/github/KOMBOU12/Marius/blob/main/Adapt_feature_based_PRED.ipynb\" target=\"_parent\"><img src=\"https://colab.research.google.com/assets/colab-badge.svg\" alt=\"Open In Colab\"/></a>"
      ]
    },
    {
      "cell_type": "markdown",
      "source": [
        "# **Projet : ADAPTATION DE DOMAINE**\n",
        "Le projet consiste à faire fonctionner les codes PRED, FA, CORAL de la toolbox https://adapt-python.github.io/adapt/ avec des données diverses de mon choix."
      ],
      "metadata": {
        "id": "djft6xrc3b9Q"
      }
    },
    {
      "cell_type": "markdown",
      "source": [
        "# **1- PRED**\n",
        "\n",
        "PRED utilise la sortie d'un modèle préentraîné sur les données sources comme une caractéristique dans le modèle cible. Plus précisément, PRED entraîne d'abord un modèle SrcOnly. Ensuite, il exécute le modèle SrcOnly sur les données cibles. Les prédictions effectuées par le modèle SrcOnly sont utilisées comme caractéristiques supplémentaires, et un second modèle est entraîné sur les données cibles, enrichies avec cette nouvelle caractéristique."
      ],
      "metadata": {
        "id": "5G6ajlJ_aoo1"
      }
    },
    {
      "cell_type": "code",
      "source": [
        "!pip install adapt"
      ],
      "metadata": {
        "id": "TPu0N1jiakzU",
        "colab": {
          "base_uri": "https://localhost:8080/"
        },
        "outputId": "34b75981-7de6-4acf-deff-3f4930d21058"
      },
      "execution_count": 1,
      "outputs": [
        {
          "output_type": "stream",
          "name": "stdout",
          "text": [
            "Collecting adapt\n",
            "  Downloading adapt-0.4.4.tar.gz (100 kB)\n",
            "\u001b[?25l     \u001b[90m━━━━━━━━━━━━━━━━━━━━━━━━━━━━━━━━━━━━━━━━\u001b[0m \u001b[32m0.0/100.9 kB\u001b[0m \u001b[31m?\u001b[0m eta \u001b[36m-:--:--\u001b[0m\r\u001b[2K     \u001b[90m━━━━━━━━━━━━━━━━━━━━━━━━━━━━━━━━━━━━━━━━\u001b[0m \u001b[32m100.9/100.9 kB\u001b[0m \u001b[31m3.3 MB/s\u001b[0m eta \u001b[36m0:00:00\u001b[0m\n",
            "\u001b[?25h  Preparing metadata (setup.py) ... \u001b[?25l\u001b[?25hdone\n",
            "Requirement already satisfied: numpy in /usr/local/lib/python3.10/dist-packages (from adapt) (1.26.4)\n",
            "Requirement already satisfied: scipy in /usr/local/lib/python3.10/dist-packages (from adapt) (1.13.1)\n",
            "Requirement already satisfied: tensorflow in /usr/local/lib/python3.10/dist-packages (from adapt) (2.17.1)\n",
            "Requirement already satisfied: scikit-learn in /usr/local/lib/python3.10/dist-packages (from adapt) (1.5.2)\n",
            "Requirement already satisfied: cvxopt in /usr/local/lib/python3.10/dist-packages (from adapt) (1.3.2)\n",
            "Collecting scikeras (from adapt)\n",
            "  Downloading scikeras-0.13.0-py3-none-any.whl.metadata (3.1 kB)\n",
            "Requirement already satisfied: keras>=3.2.0 in /usr/local/lib/python3.10/dist-packages (from scikeras->adapt) (3.5.0)\n",
            "Requirement already satisfied: joblib>=1.2.0 in /usr/local/lib/python3.10/dist-packages (from scikit-learn->adapt) (1.4.2)\n",
            "Requirement already satisfied: threadpoolctl>=3.1.0 in /usr/local/lib/python3.10/dist-packages (from scikit-learn->adapt) (3.5.0)\n",
            "Requirement already satisfied: absl-py>=1.0.0 in /usr/local/lib/python3.10/dist-packages (from tensorflow->adapt) (1.4.0)\n",
            "Requirement already satisfied: astunparse>=1.6.0 in /usr/local/lib/python3.10/dist-packages (from tensorflow->adapt) (1.6.3)\n",
            "Requirement already satisfied: flatbuffers>=24.3.25 in /usr/local/lib/python3.10/dist-packages (from tensorflow->adapt) (24.3.25)\n",
            "Requirement already satisfied: gast!=0.5.0,!=0.5.1,!=0.5.2,>=0.2.1 in /usr/local/lib/python3.10/dist-packages (from tensorflow->adapt) (0.6.0)\n",
            "Requirement already satisfied: google-pasta>=0.1.1 in /usr/local/lib/python3.10/dist-packages (from tensorflow->adapt) (0.2.0)\n",
            "Requirement already satisfied: h5py>=3.10.0 in /usr/local/lib/python3.10/dist-packages (from tensorflow->adapt) (3.12.1)\n",
            "Requirement already satisfied: libclang>=13.0.0 in /usr/local/lib/python3.10/dist-packages (from tensorflow->adapt) (18.1.1)\n",
            "Requirement already satisfied: ml-dtypes<0.5.0,>=0.3.1 in /usr/local/lib/python3.10/dist-packages (from tensorflow->adapt) (0.4.1)\n",
            "Requirement already satisfied: opt-einsum>=2.3.2 in /usr/local/lib/python3.10/dist-packages (from tensorflow->adapt) (3.4.0)\n",
            "Requirement already satisfied: packaging in /usr/local/lib/python3.10/dist-packages (from tensorflow->adapt) (24.2)\n",
            "Requirement already satisfied: protobuf!=4.21.0,!=4.21.1,!=4.21.2,!=4.21.3,!=4.21.4,!=4.21.5,<5.0.0dev,>=3.20.3 in /usr/local/lib/python3.10/dist-packages (from tensorflow->adapt) (4.25.5)\n",
            "Requirement already satisfied: requests<3,>=2.21.0 in /usr/local/lib/python3.10/dist-packages (from tensorflow->adapt) (2.32.3)\n",
            "Requirement already satisfied: setuptools in /usr/local/lib/python3.10/dist-packages (from tensorflow->adapt) (75.1.0)\n",
            "Requirement already satisfied: six>=1.12.0 in /usr/local/lib/python3.10/dist-packages (from tensorflow->adapt) (1.16.0)\n",
            "Requirement already satisfied: termcolor>=1.1.0 in /usr/local/lib/python3.10/dist-packages (from tensorflow->adapt) (2.5.0)\n",
            "Requirement already satisfied: typing-extensions>=3.6.6 in /usr/local/lib/python3.10/dist-packages (from tensorflow->adapt) (4.12.2)\n",
            "Requirement already satisfied: wrapt>=1.11.0 in /usr/local/lib/python3.10/dist-packages (from tensorflow->adapt) (1.16.0)\n",
            "Requirement already satisfied: grpcio<2.0,>=1.24.3 in /usr/local/lib/python3.10/dist-packages (from tensorflow->adapt) (1.67.1)\n",
            "Requirement already satisfied: tensorboard<2.18,>=2.17 in /usr/local/lib/python3.10/dist-packages (from tensorflow->adapt) (2.17.1)\n",
            "Requirement already satisfied: tensorflow-io-gcs-filesystem>=0.23.1 in /usr/local/lib/python3.10/dist-packages (from tensorflow->adapt) (0.37.1)\n",
            "Requirement already satisfied: wheel<1.0,>=0.23.0 in /usr/local/lib/python3.10/dist-packages (from astunparse>=1.6.0->tensorflow->adapt) (0.45.0)\n",
            "Requirement already satisfied: rich in /usr/local/lib/python3.10/dist-packages (from keras>=3.2.0->scikeras->adapt) (13.9.4)\n",
            "Requirement already satisfied: namex in /usr/local/lib/python3.10/dist-packages (from keras>=3.2.0->scikeras->adapt) (0.0.8)\n",
            "Requirement already satisfied: optree in /usr/local/lib/python3.10/dist-packages (from keras>=3.2.0->scikeras->adapt) (0.13.1)\n",
            "Requirement already satisfied: charset-normalizer<4,>=2 in /usr/local/lib/python3.10/dist-packages (from requests<3,>=2.21.0->tensorflow->adapt) (3.4.0)\n",
            "Requirement already satisfied: idna<4,>=2.5 in /usr/local/lib/python3.10/dist-packages (from requests<3,>=2.21.0->tensorflow->adapt) (3.10)\n",
            "Requirement already satisfied: urllib3<3,>=1.21.1 in /usr/local/lib/python3.10/dist-packages (from requests<3,>=2.21.0->tensorflow->adapt) (2.2.3)\n",
            "Requirement already satisfied: certifi>=2017.4.17 in /usr/local/lib/python3.10/dist-packages (from requests<3,>=2.21.0->tensorflow->adapt) (2024.8.30)\n",
            "Requirement already satisfied: markdown>=2.6.8 in /usr/local/lib/python3.10/dist-packages (from tensorboard<2.18,>=2.17->tensorflow->adapt) (3.7)\n",
            "Requirement already satisfied: tensorboard-data-server<0.8.0,>=0.7.0 in /usr/local/lib/python3.10/dist-packages (from tensorboard<2.18,>=2.17->tensorflow->adapt) (0.7.2)\n",
            "Requirement already satisfied: werkzeug>=1.0.1 in /usr/local/lib/python3.10/dist-packages (from tensorboard<2.18,>=2.17->tensorflow->adapt) (3.1.3)\n",
            "Requirement already satisfied: MarkupSafe>=2.1.1 in /usr/local/lib/python3.10/dist-packages (from werkzeug>=1.0.1->tensorboard<2.18,>=2.17->tensorflow->adapt) (3.0.2)\n",
            "Requirement already satisfied: markdown-it-py>=2.2.0 in /usr/local/lib/python3.10/dist-packages (from rich->keras>=3.2.0->scikeras->adapt) (3.0.0)\n",
            "Requirement already satisfied: pygments<3.0.0,>=2.13.0 in /usr/local/lib/python3.10/dist-packages (from rich->keras>=3.2.0->scikeras->adapt) (2.18.0)\n",
            "Requirement already satisfied: mdurl~=0.1 in /usr/local/lib/python3.10/dist-packages (from markdown-it-py>=2.2.0->rich->keras>=3.2.0->scikeras->adapt) (0.1.2)\n",
            "Downloading scikeras-0.13.0-py3-none-any.whl (26 kB)\n",
            "Building wheels for collected packages: adapt\n",
            "  Building wheel for adapt (setup.py) ... \u001b[?25l\u001b[?25hdone\n",
            "  Created wheel for adapt: filename=adapt-0.4.4-py3-none-any.whl size=131790 sha256=0bf6d878d769ff180d3b855958b7eb785bd566989bb45a501e65cdea18ca8506\n",
            "  Stored in directory: /root/.cache/pip/wheels/cb/88/91/f7ac7b6024ad8778b5ecca6ebe44421105722648f2a6b7afd7\n",
            "Successfully built adapt\n",
            "Installing collected packages: scikeras, adapt\n",
            "Successfully installed adapt-0.4.4 scikeras-0.13.0\n"
          ]
        }
      ]
    },
    {
      "cell_type": "markdown",
      "source": [
        "On reproduit le code sur un nouveau jeu de données **breast cancer**"
      ],
      "metadata": {
        "id": "DNuH5ezBTVsq"
      }
    },
    {
      "cell_type": "code",
      "source": [
        "from sklearn.linear_model import RidgeClassifier\n",
        "from sklearn.datasets import load_breast_cancer\n",
        "from adapt.feature_based import PRED\n",
        "from sklearn.model_selection import train_test_split\n",
        "\n",
        "# Charger le jeu de données sur le cancer du sein\n",
        "data = load_breast_cancer()\n",
        "X, y = data.data, data.target\n",
        "\n",
        "# Séparer les données en ensemble source (Xs, ys) et ensemble cible (Xt, yt)\n",
        "Xs, Xt, ys, yt = train_test_split(X, y, test_size=0.5, random_state=0)\n",
        "\n",
        "# Initialiser et entraîner le modèle PRED avec RidgeClassifier\n",
        "model = PRED(RidgeClassifier(alpha=1.0), Xt=Xt[:3], yt=yt[:3],\n",
        "             pretrain=True, verbose=0, random_state=0)\n",
        "model.fit(Xs, ys)\n",
        "\n",
        "# Évaluer le modèle\n",
        "score = model.score(Xt, yt)\n",
        "print(\"Score:\", score)\n"
      ],
      "metadata": {
        "colab": {
          "base_uri": "https://localhost:8080/"
        },
        "id": "5czsB6wxTVCK",
        "outputId": "b683f351-c57e-4712-d1fa-7effc840db24"
      },
      "execution_count": 2,
      "outputs": [
        {
          "output_type": "stream",
          "name": "stdout",
          "text": [
            "Score: 0.9333333333333333\n"
          ]
        }
      ]
    },
    {
      "cell_type": "markdown",
      "source": [
        "Ce score est encourageant et montre que le modèle est performant dans cette tâche spécifique, mais une analyse plus approfondie avec des métriques complémentaires et des tests sur d'autres données permettrait de confirmer la validité et la robustesse de cette performance."
      ],
      "metadata": {
        "id": "j5DeonbTVXjt"
      }
    },
    {
      "cell_type": "markdown",
      "source": [
        "# **2- FA**\n",
        "\n",
        "FA consiste en une méthode d'augmentation des caractéristiques où chaque vecteur de caractéristiques d'entrée est transformé de la manière suivante :\n",
        "\n",
        "1.   Les vecteurs de caractéristiques d'entrée de la source  $X_s$ sont transformés en $(X_s, 0, X_s)$\n",
        "2.   Les vecteurs de caractéristiques d'entrée de la cible $ X_t $ sont transformés en $ (0, X_t, X_t)$.\n",
        "\n",
        "Où $0$ désigne le vecteur nul de même dimension que  $X_s$ et $X_t$.\n",
        "\n"
      ],
      "metadata": {
        "id": "0jH8HHO1ZwTL"
      }
    },
    {
      "cell_type": "markdown",
      "source": [
        "On reproduit le code sur le jeu de données **digits**"
      ],
      "metadata": {
        "id": "pdAmqnBy5hk4"
      }
    },
    {
      "cell_type": "code",
      "source": [
        "from sklearn.linear_model import RidgeClassifier\n",
        "from sklearn.datasets import load_digits\n",
        "from adapt.feature_based import FA\n",
        "from sklearn.model_selection import train_test_split\n",
        "\n",
        "# Charger le jeu de données digits\n",
        "data = load_digits()\n",
        "X, y = data.data, data.target\n",
        "\n",
        "# Diviser les données en ensembles source (Xs, ys) et cible (Xt, yt)\n",
        "Xs, Xt, ys, yt = train_test_split(X, y, test_size=0.5, random_state=0)\n",
        "\n",
        "# Initialiser et entraîner le modèle FA avec RidgeClassifier\n",
        "# En utilisant un sous-ensemble de Xt et yt pour l'adaptation de domaine\n",
        "model = FA(RidgeClassifier(), Xt=Xt[:10], yt=yt[:10], random_state=0)\n",
        "model.fit(Xs, ys)\n",
        "\n",
        "# Évaluer le modèle\n",
        "score = model.score(Xt, yt)\n",
        "print(\"Score:\", score)\n"
      ],
      "metadata": {
        "colab": {
          "base_uri": "https://localhost:8080/"
        },
        "id": "r29QXVQZbrxY",
        "outputId": "2d38131d-30c4-4a70-ba72-bc43981dc536"
      },
      "execution_count": 3,
      "outputs": [
        {
          "output_type": "stream",
          "name": "stdout",
          "text": [
            "Fit transform...\n",
            "Previous shape: (898, 64)\n",
            "New shape: (908, 192)\n",
            "Fit Estimator...\n",
            "Score: 0.6162402669632926\n"
          ]
        }
      ]
    },
    {
      "cell_type": "markdown",
      "source": [
        "\n",
        "\n",
        "*   La transformation a enrichi les données. La dimension initiale des caractéristiques (64) est passée à 192.\n",
        "*   Le score de 61,6 % représente l'exactitude sur les données cibles.\n",
        "*   Compte tenu que seulement 10 exemples du domaine cible ont été utilisés pour guider l'adaptation, cette performance est raisonnable. Cependant, il reste de la marge pour améliorer l'alignement entre les distributions source et cible."
      ],
      "metadata": {
        "id": "x2gfx5Wy8m1i"
      }
    },
    {
      "cell_type": "markdown",
      "source": [
        "# **3- CORAL**\n",
        "\n",
        "CORAL est une méthode d'adaptation de domaine basée sur les caractéristiques, qui minimise le décalage entre domaines en alignant les statistiques d'ordre deux des distributions source et cible.\n",
        "\n",
        "La méthode transforme les caractéristiques de la source afin de minimiser la norme de Frobenius entre la matrice de corrélation des données cibles d'entrée et celle des données sources transformées."
      ],
      "metadata": {
        "id": "68FsVn1gaUFE"
      }
    },
    {
      "cell_type": "markdown",
      "source": [
        "On reproduit le code sur le jeu de données **wine**"
      ],
      "metadata": {
        "id": "234STQ6-95Fh"
      }
    },
    {
      "cell_type": "code",
      "source": [
        "from sklearn.linear_model import RidgeClassifier\n",
        "from sklearn.datasets import load_wine\n",
        "from adapt.feature_based import CORAL\n",
        "from sklearn.model_selection import train_test_split\n",
        "\n",
        "# Charger le jeu de données wine\n",
        "data = load_wine()\n",
        "X, y = data.data, data.target\n",
        "\n",
        "# Diviser les données en ensembles source (Xs, ys) et cible (Xt, yt)\n",
        "Xs, Xt, ys, yt = train_test_split(X, y, test_size=0.5, random_state=0)\n",
        "\n",
        "# Initialiser et entraîner le modèle CORAL avec RidgeClassifier\n",
        "model = CORAL(RidgeClassifier(), Xt=Xt, random_state=0)\n",
        "model.fit(Xs, ys)\n",
        "\n",
        "# Évaluer le modèle\n",
        "score = model.score(Xt, yt)\n",
        "print(\"Score:\", score)\n"
      ],
      "metadata": {
        "colab": {
          "base_uri": "https://localhost:8080/"
        },
        "id": "L43wfwOWb5uI",
        "outputId": "cfbb1d91-4a53-42fe-8076-37594b52d4f1"
      },
      "execution_count": null,
      "outputs": [
        {
          "output_type": "stream",
          "name": "stdout",
          "text": [
            "Fit transform...\n",
            "Previous covariance difference: 35.215205\n",
            "New covariance difference: 0.000002\n",
            "Fit Estimator...\n",
            "Score: 0.8426966292134831\n"
          ]
        }
      ]
    }
  ]
}
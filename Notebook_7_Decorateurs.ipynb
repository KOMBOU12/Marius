{
  "cells": [
    {
      "cell_type": "markdown",
      "metadata": {
        "id": "view-in-github",
        "colab_type": "text"
      },
      "source": [
        "<a href=\"https://colab.research.google.com/github/KOMBOU12/Marius/blob/main/Notebook_7_Decorateurs.ipynb\" target=\"_parent\"><img src=\"https://colab.research.google.com/assets/colab-badge.svg\" alt=\"Open In Colab\"/></a>"
      ]
    },
    {
      "cell_type": "markdown",
      "id": "25a31b33",
      "metadata": {
        "id": "25a31b33"
      },
      "source": [
        "\n",
        "# Notebook 7 : Les Décorateurs en Python\n",
        "\n",
        "## Introduction\n",
        "Les **décorateurs** sont un concept puissant en Python permettant de modifier ou d'enrichir le comportement de fonctions ou de méthodes.\n",
        "Ils sont souvent utilisés pour améliorer la lisibilité et la réutilisabilité du code.\n",
        "\n",
        "Dans ce notebook, nous allons aborder :\n",
        "- Ce qu'est un décorateur\n",
        "- Comment créer et utiliser un décorateur\n",
        "- Les décorateurs avec des arguments\n",
        "- Des exemples de décorateurs courants\n",
        "\n",
        "À la fin, vous trouverez quelques exercices pour pratiquer ce concept.\n"
      ]
    },
    {
      "cell_type": "markdown",
      "id": "b4ad1e29",
      "metadata": {
        "id": "b4ad1e29"
      },
      "source": [
        "\n",
        "## Section 1 : Qu'est-ce qu'un décorateur ?\n",
        "\n",
        "Un **décorateur** est une fonction qui prend une autre fonction en paramètre et qui retourne une nouvelle fonction avec un comportement modifié.\n",
        "Le décorateur est appliqué avec le symbole `@` avant la définition d'une fonction.\n",
        "\n",
        "### Exemple de base\n",
        "Voici un exemple d'un décorateur qui affiche un message avant et après l'exécution d'une fonction :\n"
      ]
    },
    {
      "cell_type": "code",
      "execution_count": null,
      "id": "12e9df4a",
      "metadata": {
        "id": "12e9df4a",
        "colab": {
          "base_uri": "https://localhost:8080/"
        },
        "outputId": "d0633516-f67d-43ec-eaf0-25117d98bc23"
      },
      "outputs": [
        {
          "output_type": "stream",
          "name": "stdout",
          "text": [
            "Avant l'exécution de la fonction.\n",
            "Bonjour!\n",
            "Après l'exécution de la fonction.\n"
          ]
        }
      ],
      "source": [
        "\n",
        "def mon_decorateur(fonction):\n",
        "    def fonction_modifiee():\n",
        "        print(\"Avant l'exécution de la fonction.\")\n",
        "        fonction()\n",
        "        print(\"Après l'exécution de la fonction.\")\n",
        "    return fonction_modifiee\n",
        "\n",
        "@mon_decorateur\n",
        "def dire_bonjour():\n",
        "    print(\"Bonjour!\")\n",
        "\n",
        "dire_bonjour()\n"
      ]
    },
    {
      "cell_type": "markdown",
      "id": "d591c73f",
      "metadata": {
        "id": "d591c73f"
      },
      "source": [
        "\n",
        "## Section 2 : Décorateurs avec des arguments\n",
        "\n",
        "Les décorateurs peuvent être conçus pour accepter des arguments, permettant de les rendre plus flexibles.\n",
        "Pour cela, la fonction interne du décorateur prend également des arguments.\n",
        "\n",
        "### Exemple\n",
        "Ici, nous créons un décorateur qui prend un argument et l'utilise pour afficher un message avant d'exécuter la fonction.\n"
      ]
    },
    {
      "cell_type": "code",
      "execution_count": null,
      "id": "17caa286",
      "metadata": {
        "id": "17caa286",
        "colab": {
          "base_uri": "https://localhost:8080/"
        },
        "outputId": "4abe7b23-ff68-4abe-cd2b-0eee8e061f65"
      },
      "outputs": [
        {
          "output_type": "stream",
          "name": "stdout",
          "text": [
            "Exécution de la fonction suivante :\n",
            "Au revoir!\n"
          ]
        }
      ],
      "source": [
        "\n",
        "def salutation_decorateur(message):\n",
        "    def decorateur(fonction):\n",
        "        def fonction_modifiee(*args, **kwargs):\n",
        "            print(message)\n",
        "            return fonction(*args, **kwargs)\n",
        "        return fonction_modifiee\n",
        "    return decorateur\n",
        "\n",
        "@salutation_decorateur(\"Exécution de la fonction suivante :\")\n",
        "def dire_au_revoir():\n",
        "    print(\"Au revoir!\")\n",
        "\n",
        "dire_au_revoir()\n"
      ]
    },
    {
      "cell_type": "markdown",
      "id": "4ff7f9eb",
      "metadata": {
        "id": "4ff7f9eb"
      },
      "source": [
        "\n",
        "## Section 3 : Utilisation de décorateurs courants\n",
        "\n",
        "Python fournit également certains décorateurs intégrés couramment utilisés :\n",
        "- `@staticmethod`\n",
        "- `@classmethod`\n",
        "- `@property`\n",
        "\n",
        "Par exemple, `@staticmethod` est utilisé pour définir des méthodes qui n'ont pas besoin d'accès à l'instance de classe.\n"
      ]
    },
    {
      "cell_type": "code",
      "execution_count": null,
      "id": "2fe7d22e",
      "metadata": {
        "id": "2fe7d22e",
        "colab": {
          "base_uri": "https://localhost:8080/"
        },
        "outputId": "448e1d72-7733-4e41-bc19-b6098eb3c3e8"
      },
      "outputs": [
        {
          "output_type": "stream",
          "name": "stdout",
          "text": [
            "Valeur du compteur: 0\n",
            "Valeur du compteur: 1\n"
          ]
        }
      ],
      "source": [
        "\n",
        "class MaClasse:\n",
        "    compteur = 0\n",
        "\n",
        "    @staticmethod\n",
        "    def afficher_compteur():\n",
        "        print(\"Valeur du compteur:\", MaClasse.compteur)\n",
        "\n",
        "    @classmethod\n",
        "    def incrementer_compteur(cls):\n",
        "        cls.compteur += 1\n",
        "\n",
        "# Utilisation\n",
        "MaClasse.afficher_compteur()\n",
        "MaClasse.incrementer_compteur()\n",
        "MaClasse.afficher_compteur()\n"
      ]
    },
    {
      "cell_type": "markdown",
      "id": "f5167992",
      "metadata": {
        "id": "f5167992"
      },
      "source": [
        "\n",
        "# Exercices Pratiques\n",
        "\n",
        "Appliquez les concepts des décorateurs pour résoudre les exercices ci-dessous.\n"
      ]
    },
    {
      "cell_type": "markdown",
      "id": "e34e5122",
      "metadata": {
        "id": "e34e5122"
      },
      "source": [
        "\n",
        "## Exercice 1 : Calcul du temps d'exécution\n",
        "Créez un décorateur `calculer_temps` qui affiche le temps d'exécution d'une fonction donnée.\n",
        "Utilisez `time.time()` pour obtenir le temps actuel.\n",
        "\n",
        "**Exemple attendu** : pour une fonction simulant un délai, le décorateur devrait afficher le temps pris pour exécuter cette fonction.\n"
      ]
    },
    {
      "cell_type": "code",
      "execution_count": 1,
      "id": "5dce724b",
      "metadata": {
        "id": "5dce724b",
        "colab": {
          "base_uri": "https://localhost:8080/"
        },
        "outputId": "511e9294-0a93-48ab-c819-44365999e2a7"
      },
      "outputs": [
        {
          "output_type": "stream",
          "name": "stdout",
          "text": [
            "hi\n",
            "Le temps d'exécution est : 6.699562072753906e-05\n"
          ]
        }
      ],
      "source": [
        "\n",
        "# Réponse Exercice 1\n",
        "import time\n",
        "\n",
        "def calculer_temps(fonction) :\n",
        "   begin = time.time()\n",
        "   fonction()\n",
        "   end = time.time()\n",
        "   print(f\"Le temps d'exécution est : {end - begin}\")\n",
        "\n",
        "\n",
        "\n",
        "@calculer_temps\n",
        "def dire_hi () :\n",
        "  print(\"hi\")\n",
        "\n"
      ]
    },
    {
      "cell_type": "markdown",
      "id": "50122885",
      "metadata": {
        "id": "50122885"
      },
      "source": [
        "\n",
        "## Exercice 2 : Vérification des arguments\n",
        "Créez un décorateur `verifier_arguments` qui vérifie si les arguments d'une fonction sont positifs.\n",
        "Si un argument est négatif, le décorateur doit afficher un message d'erreur avant d'exécuter la fonction.\n",
        "\n",
        "**Exemple attendu** : pour une fonction prenant des nombres comme arguments, le décorateur devrait vérifier chaque nombre avant l'exécution.\n"
      ]
    },
    {
      "cell_type": "code",
      "execution_count": null,
      "id": "0f2ea2ab",
      "metadata": {
        "id": "0f2ea2ab"
      },
      "outputs": [],
      "source": [
        "\n",
        "# Réponse Exercice 2\n",
        "\n",
        "def verifier_arguments(fonction):\n",
        "   def fonction_modifiee(*args, **kwargs):\n",
        "      print(\"hi\")\n",
        "      return fonction(*args, **kwargs)\n",
        "\n",
        "\n",
        "\n",
        "@verifier_arguments\n",
        "def fonctions(a, b):\n",
        "  if (a > 0 and b > 0 ):\n",
        "     print(\"correct\")\n",
        "  elif (a < 0 or b < 0):\n",
        "     print(\"error\")\n",
        "\n"
      ]
    },
    {
      "cell_type": "markdown",
      "id": "cb72b0f8",
      "metadata": {
        "id": "cb72b0f8"
      },
      "source": [
        "\n",
        "## Exercice 3 : Limiter les appels d'une fonction\n",
        "Créez un décorateur `limiter_appels` qui limite le nombre de fois qu'une fonction peut être appelée.\n",
        "Si la limite est dépassée, affichez un message indiquant que la fonction ne peut plus être appelée.\n",
        "\n",
        "**Exemple attendu** : pour une fonction ayant une limite de 3 appels, le décorateur doit bloquer le 4ème appel.\n"
      ]
    },
    {
      "cell_type": "code",
      "execution_count": null,
      "id": "232576b7",
      "metadata": {
        "id": "232576b7",
        "colab": {
          "base_uri": "https://localhost:8080/"
        },
        "outputId": "50acce64-d0c3-430c-f4d5-fa7e32c03128"
      },
      "outputs": [
        {
          "output_type": "stream",
          "name": "stdout",
          "text": [
            "nothing\n",
            "nothing\n",
            "nothing\n"
          ]
        }
      ],
      "source": [
        "\n",
        "# Réponse Exercice 3\n",
        "\n",
        "def limiter_appels(fonction) :\n",
        "   fonction()\n",
        "   fonction()\n",
        "   fonction()\n",
        "\n",
        "\n",
        "@limiter_appels\n",
        "def funct():\n",
        "  print(\"nothing\")\n"
      ]
    }
  ],
  "metadata": {
    "language_info": {
      "name": "python"
    },
    "colab": {
      "provenance": [],
      "include_colab_link": true
    },
    "kernelspec": {
      "name": "python3",
      "display_name": "Python 3"
    }
  },
  "nbformat": 4,
  "nbformat_minor": 5
}
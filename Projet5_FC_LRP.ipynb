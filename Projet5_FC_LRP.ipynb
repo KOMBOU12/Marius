{
  "nbformat": 4,
  "nbformat_minor": 0,
  "metadata": {
    "colab": {
      "provenance": [],
      "include_colab_link": true
    },
    "kernelspec": {
      "name": "python3",
      "display_name": "Python 3"
    },
    "language_info": {
      "name": "python"
    }
  },
  "cells": [
    {
      "cell_type": "markdown",
      "metadata": {
        "id": "view-in-github",
        "colab_type": "text"
      },
      "source": [
        "<a href=\"https://colab.research.google.com/github/KOMBOU12/Marius/blob/main/Projet5_FC_LRP.ipynb\" target=\"_parent\"><img src=\"https://colab.research.google.com/assets/colab-badge.svg\" alt=\"Open In Colab\"/></a>"
      ]
    },
    {
      "cell_type": "markdown",
      "source": [
        "\n",
        "# **Tâche 1 : LRP appliqué à un réseau de neurones entièrement connecté (FC)**\n",
        "\n",
        "Dans cette tâche, l'objectif est de calculer la pertinence (relevance) pour des éléments spécifiques d'un petit réseau de neurones entièrement connecté. Le réseau est composé uniquement d'une couche d'entrée (ses neurones sont indexés par ($i$),d'une couche cachée ($j$) et d'une couche de sortie ($k$). $x_i$ représente les valeurs des neurones d'entrée, $x_j$ les sorties des neurones de la couche cachée, et $x_k$ les sorties des neurones de la couche de sortie. La fonction non linéaire de la couche cachée est la ReLU, exprimée par l'équation\n",
        "$x_j = max(0, \\sum_i x_i w_{ij} + b_j)$. $w_{ij}\\:$ désigne les poids entre la  $i-$ième et la $j-$ième couche, et $b_j$ le biais (ce dernier est omis dans cette tâche). La fonction non linéaire effectuée par la couche de sortie est la fonction de somme, exprimée par $x_k = \\sum_j x_j$.L'architecture globale du réseau est illustrée dans la première figure, et le fonctionnement de chaque neurone est décrit dans la deuxième.\n",
        "\n",
        "Cette tâche n'utilise pas de jeu de données prédéfini. Les utilisateurs sélectionneront les entrées du réseau de neurones ainsi que les poids. Nous encourageons les utilisateurs à essayer autant de combinaisons possibles d'entrées et de poids. La méthode LRP sera appliquée pour calculer la pertinence de chaque neurone et des entrées.\n"
      ],
      "metadata": {
        "id": "AQE0WxSzgBp4"
      }
    },
    {
      "cell_type": "code",
      "metadata": {
        "colab": {
          "base_uri": "https://localhost:8080/"
        },
        "id": "DoaO8nmKZqK6",
        "outputId": "89839303-1468-405f-b63a-8fa26e76c2fb"
      },
      "source": [
        "################################################################################\n",
        "# [0.] Installation of the necessary packages ==================================\n",
        "################################################################################\n",
        "\n",
        "!pip3 install scipy\n",
        "!pip3 install matplotlib"
      ],
      "execution_count": 1,
      "outputs": [
        {
          "output_type": "stream",
          "name": "stdout",
          "text": [
            "Requirement already satisfied: scipy in /usr/local/lib/python3.11/dist-packages (1.13.1)\n",
            "Requirement already satisfied: numpy<2.3,>=1.22.4 in /usr/local/lib/python3.11/dist-packages (from scipy) (1.26.4)\n",
            "Requirement already satisfied: matplotlib in /usr/local/lib/python3.11/dist-packages (3.10.0)\n",
            "Requirement already satisfied: contourpy>=1.0.1 in /usr/local/lib/python3.11/dist-packages (from matplotlib) (1.3.1)\n",
            "Requirement already satisfied: cycler>=0.10 in /usr/local/lib/python3.11/dist-packages (from matplotlib) (0.12.1)\n",
            "Requirement already satisfied: fonttools>=4.22.0 in /usr/local/lib/python3.11/dist-packages (from matplotlib) (4.55.3)\n",
            "Requirement already satisfied: kiwisolver>=1.3.1 in /usr/local/lib/python3.11/dist-packages (from matplotlib) (1.4.8)\n",
            "Requirement already satisfied: numpy>=1.23 in /usr/local/lib/python3.11/dist-packages (from matplotlib) (1.26.4)\n",
            "Requirement already satisfied: packaging>=20.0 in /usr/local/lib/python3.11/dist-packages (from matplotlib) (24.2)\n",
            "Requirement already satisfied: pillow>=8 in /usr/local/lib/python3.11/dist-packages (from matplotlib) (11.1.0)\n",
            "Requirement already satisfied: pyparsing>=2.3.1 in /usr/local/lib/python3.11/dist-packages (from matplotlib) (3.2.1)\n",
            "Requirement already satisfied: python-dateutil>=2.7 in /usr/local/lib/python3.11/dist-packages (from matplotlib) (2.8.2)\n",
            "Requirement already satisfied: six>=1.5 in /usr/local/lib/python3.11/dist-packages (from python-dateutil>=2.7->matplotlib) (1.17.0)\n"
          ]
        }
      ]
    },
    {
      "cell_type": "code",
      "metadata": {
        "colab": {
          "base_uri": "https://localhost:8080/",
          "height": 834
        },
        "outputId": "4734d8c4-9d85-4c7d-ba52-4129578b6f9e",
        "id": "0ptGS70airut"
      },
      "source": [
        "################################################################################\n",
        "# Figure of the overall architecture of the FC network =========================\n",
        "################################################################################\n",
        "\n",
        "from google.colab import drive\n",
        "drive.mount('/content/drive/')\n",
        "\n",
        "from IPython.display import Image\n",
        "Image(\"/content/drive/MyDrive/figures/FC_Neural_Network_A.png\")\n"
      ],
      "execution_count": 2,
      "outputs": [
        {
          "output_type": "stream",
          "name": "stdout",
          "text": [
            "Mounted at /content/drive/\n"
          ]
        },
        {
          "output_type": "error",
          "ename": "FileNotFoundError",
          "evalue": "No such file or directory: '/content/drive/MyDrive/figures/FC_Neural_Network_A.png'",
          "traceback": [
            "\u001b[0;31m---------------------------------------------------------------------------\u001b[0m",
            "\u001b[0;31mTypeError\u001b[0m                                 Traceback (most recent call last)",
            "\u001b[0;32m/usr/local/lib/python3.11/dist-packages/IPython/core/display.py\u001b[0m in \u001b[0;36m_data_and_metadata\u001b[0;34m(self, always_both)\u001b[0m\n\u001b[1;32m   1299\u001b[0m         \u001b[0;32mtry\u001b[0m\u001b[0;34m:\u001b[0m\u001b[0;34m\u001b[0m\u001b[0;34m\u001b[0m\u001b[0m\n\u001b[0;32m-> 1300\u001b[0;31m             \u001b[0mb64_data\u001b[0m \u001b[0;34m=\u001b[0m \u001b[0mb2a_base64\u001b[0m\u001b[0;34m(\u001b[0m\u001b[0mself\u001b[0m\u001b[0;34m.\u001b[0m\u001b[0mdata\u001b[0m\u001b[0;34m)\u001b[0m\u001b[0;34m.\u001b[0m\u001b[0mdecode\u001b[0m\u001b[0;34m(\u001b[0m\u001b[0;34m'ascii'\u001b[0m\u001b[0;34m)\u001b[0m\u001b[0;34m\u001b[0m\u001b[0;34m\u001b[0m\u001b[0m\n\u001b[0m\u001b[1;32m   1301\u001b[0m         \u001b[0;32mexcept\u001b[0m \u001b[0mTypeError\u001b[0m\u001b[0;34m:\u001b[0m\u001b[0;34m\u001b[0m\u001b[0;34m\u001b[0m\u001b[0m\n",
            "\u001b[0;31mTypeError\u001b[0m: a bytes-like object is required, not 'str'",
            "\nDuring handling of the above exception, another exception occurred:\n",
            "\u001b[0;31mFileNotFoundError\u001b[0m                         Traceback (most recent call last)",
            "\u001b[0;32m/usr/local/lib/python3.11/dist-packages/IPython/core/formatters.py\u001b[0m in \u001b[0;36m__call__\u001b[0;34m(self, obj, include, exclude)\u001b[0m\n\u001b[1;32m    968\u001b[0m \u001b[0;34m\u001b[0m\u001b[0m\n\u001b[1;32m    969\u001b[0m             \u001b[0;32mif\u001b[0m \u001b[0mmethod\u001b[0m \u001b[0;32mis\u001b[0m \u001b[0;32mnot\u001b[0m \u001b[0;32mNone\u001b[0m\u001b[0;34m:\u001b[0m\u001b[0;34m\u001b[0m\u001b[0;34m\u001b[0m\u001b[0m\n\u001b[0;32m--> 970\u001b[0;31m                 \u001b[0;32mreturn\u001b[0m \u001b[0mmethod\u001b[0m\u001b[0;34m(\u001b[0m\u001b[0minclude\u001b[0m\u001b[0;34m=\u001b[0m\u001b[0minclude\u001b[0m\u001b[0;34m,\u001b[0m \u001b[0mexclude\u001b[0m\u001b[0;34m=\u001b[0m\u001b[0mexclude\u001b[0m\u001b[0;34m)\u001b[0m\u001b[0;34m\u001b[0m\u001b[0;34m\u001b[0m\u001b[0m\n\u001b[0m\u001b[1;32m    971\u001b[0m             \u001b[0;32mreturn\u001b[0m \u001b[0;32mNone\u001b[0m\u001b[0;34m\u001b[0m\u001b[0;34m\u001b[0m\u001b[0m\n\u001b[1;32m    972\u001b[0m         \u001b[0;32melse\u001b[0m\u001b[0;34m:\u001b[0m\u001b[0;34m\u001b[0m\u001b[0;34m\u001b[0m\u001b[0m\n",
            "\u001b[0;32m/usr/local/lib/python3.11/dist-packages/IPython/core/display.py\u001b[0m in \u001b[0;36m_repr_mimebundle_\u001b[0;34m(self, include, exclude)\u001b[0m\n\u001b[1;32m   1288\u001b[0m         \u001b[0;32mif\u001b[0m \u001b[0mself\u001b[0m\u001b[0;34m.\u001b[0m\u001b[0membed\u001b[0m\u001b[0;34m:\u001b[0m\u001b[0;34m\u001b[0m\u001b[0;34m\u001b[0m\u001b[0m\n\u001b[1;32m   1289\u001b[0m             \u001b[0mmimetype\u001b[0m \u001b[0;34m=\u001b[0m \u001b[0mself\u001b[0m\u001b[0;34m.\u001b[0m\u001b[0m_mimetype\u001b[0m\u001b[0;34m\u001b[0m\u001b[0;34m\u001b[0m\u001b[0m\n\u001b[0;32m-> 1290\u001b[0;31m             \u001b[0mdata\u001b[0m\u001b[0;34m,\u001b[0m \u001b[0mmetadata\u001b[0m \u001b[0;34m=\u001b[0m \u001b[0mself\u001b[0m\u001b[0;34m.\u001b[0m\u001b[0m_data_and_metadata\u001b[0m\u001b[0;34m(\u001b[0m\u001b[0malways_both\u001b[0m\u001b[0;34m=\u001b[0m\u001b[0;32mTrue\u001b[0m\u001b[0;34m)\u001b[0m\u001b[0;34m\u001b[0m\u001b[0;34m\u001b[0m\u001b[0m\n\u001b[0m\u001b[1;32m   1291\u001b[0m             \u001b[0;32mif\u001b[0m \u001b[0mmetadata\u001b[0m\u001b[0;34m:\u001b[0m\u001b[0;34m\u001b[0m\u001b[0;34m\u001b[0m\u001b[0m\n\u001b[1;32m   1292\u001b[0m                 \u001b[0mmetadata\u001b[0m \u001b[0;34m=\u001b[0m \u001b[0;34m{\u001b[0m\u001b[0mmimetype\u001b[0m\u001b[0;34m:\u001b[0m \u001b[0mmetadata\u001b[0m\u001b[0;34m}\u001b[0m\u001b[0;34m\u001b[0m\u001b[0;34m\u001b[0m\u001b[0m\n",
            "\u001b[0;32m/usr/local/lib/python3.11/dist-packages/IPython/core/display.py\u001b[0m in \u001b[0;36m_data_and_metadata\u001b[0;34m(self, always_both)\u001b[0m\n\u001b[1;32m   1300\u001b[0m             \u001b[0mb64_data\u001b[0m \u001b[0;34m=\u001b[0m \u001b[0mb2a_base64\u001b[0m\u001b[0;34m(\u001b[0m\u001b[0mself\u001b[0m\u001b[0;34m.\u001b[0m\u001b[0mdata\u001b[0m\u001b[0;34m)\u001b[0m\u001b[0;34m.\u001b[0m\u001b[0mdecode\u001b[0m\u001b[0;34m(\u001b[0m\u001b[0;34m'ascii'\u001b[0m\u001b[0;34m)\u001b[0m\u001b[0;34m\u001b[0m\u001b[0;34m\u001b[0m\u001b[0m\n\u001b[1;32m   1301\u001b[0m         \u001b[0;32mexcept\u001b[0m \u001b[0mTypeError\u001b[0m\u001b[0;34m:\u001b[0m\u001b[0;34m\u001b[0m\u001b[0;34m\u001b[0m\u001b[0m\n\u001b[0;32m-> 1302\u001b[0;31m             raise FileNotFoundError(\n\u001b[0m\u001b[1;32m   1303\u001b[0m                 \"No such file or directory: '%s'\" % (self.data))\n\u001b[1;32m   1304\u001b[0m         \u001b[0mmd\u001b[0m \u001b[0;34m=\u001b[0m \u001b[0;34m{\u001b[0m\u001b[0;34m}\u001b[0m\u001b[0;34m\u001b[0m\u001b[0;34m\u001b[0m\u001b[0m\n",
            "\u001b[0;31mFileNotFoundError\u001b[0m: No such file or directory: '/content/drive/MyDrive/figures/FC_Neural_Network_A.png'"
          ]
        },
        {
          "output_type": "error",
          "ename": "FileNotFoundError",
          "evalue": "No such file or directory: '/content/drive/MyDrive/figures/FC_Neural_Network_A.png'",
          "traceback": [
            "\u001b[0;31m---------------------------------------------------------------------------\u001b[0m",
            "\u001b[0;31mTypeError\u001b[0m                                 Traceback (most recent call last)",
            "\u001b[0;32m/usr/local/lib/python3.11/dist-packages/IPython/core/display.py\u001b[0m in \u001b[0;36m_data_and_metadata\u001b[0;34m(self, always_both)\u001b[0m\n\u001b[1;32m   1299\u001b[0m         \u001b[0;32mtry\u001b[0m\u001b[0;34m:\u001b[0m\u001b[0;34m\u001b[0m\u001b[0;34m\u001b[0m\u001b[0m\n\u001b[0;32m-> 1300\u001b[0;31m             \u001b[0mb64_data\u001b[0m \u001b[0;34m=\u001b[0m \u001b[0mb2a_base64\u001b[0m\u001b[0;34m(\u001b[0m\u001b[0mself\u001b[0m\u001b[0;34m.\u001b[0m\u001b[0mdata\u001b[0m\u001b[0;34m)\u001b[0m\u001b[0;34m.\u001b[0m\u001b[0mdecode\u001b[0m\u001b[0;34m(\u001b[0m\u001b[0;34m'ascii'\u001b[0m\u001b[0;34m)\u001b[0m\u001b[0;34m\u001b[0m\u001b[0;34m\u001b[0m\u001b[0m\n\u001b[0m\u001b[1;32m   1301\u001b[0m         \u001b[0;32mexcept\u001b[0m \u001b[0mTypeError\u001b[0m\u001b[0;34m:\u001b[0m\u001b[0;34m\u001b[0m\u001b[0;34m\u001b[0m\u001b[0m\n",
            "\u001b[0;31mTypeError\u001b[0m: a bytes-like object is required, not 'str'",
            "\nDuring handling of the above exception, another exception occurred:\n",
            "\u001b[0;31mFileNotFoundError\u001b[0m                         Traceback (most recent call last)",
            "\u001b[0;32m/usr/local/lib/python3.11/dist-packages/IPython/core/formatters.py\u001b[0m in \u001b[0;36m__call__\u001b[0;34m(self, obj)\u001b[0m\n\u001b[1;32m    343\u001b[0m             \u001b[0mmethod\u001b[0m \u001b[0;34m=\u001b[0m \u001b[0mget_real_method\u001b[0m\u001b[0;34m(\u001b[0m\u001b[0mobj\u001b[0m\u001b[0;34m,\u001b[0m \u001b[0mself\u001b[0m\u001b[0;34m.\u001b[0m\u001b[0mprint_method\u001b[0m\u001b[0;34m)\u001b[0m\u001b[0;34m\u001b[0m\u001b[0;34m\u001b[0m\u001b[0m\n\u001b[1;32m    344\u001b[0m             \u001b[0;32mif\u001b[0m \u001b[0mmethod\u001b[0m \u001b[0;32mis\u001b[0m \u001b[0;32mnot\u001b[0m \u001b[0;32mNone\u001b[0m\u001b[0;34m:\u001b[0m\u001b[0;34m\u001b[0m\u001b[0;34m\u001b[0m\u001b[0m\n\u001b[0;32m--> 345\u001b[0;31m                 \u001b[0;32mreturn\u001b[0m \u001b[0mmethod\u001b[0m\u001b[0;34m(\u001b[0m\u001b[0;34m)\u001b[0m\u001b[0;34m\u001b[0m\u001b[0;34m\u001b[0m\u001b[0m\n\u001b[0m\u001b[1;32m    346\u001b[0m             \u001b[0;32mreturn\u001b[0m \u001b[0;32mNone\u001b[0m\u001b[0;34m\u001b[0m\u001b[0;34m\u001b[0m\u001b[0m\n\u001b[1;32m    347\u001b[0m         \u001b[0;32melse\u001b[0m\u001b[0;34m:\u001b[0m\u001b[0;34m\u001b[0m\u001b[0;34m\u001b[0m\u001b[0m\n",
            "\u001b[0;32m/usr/local/lib/python3.11/dist-packages/IPython/core/display.py\u001b[0m in \u001b[0;36m_repr_png_\u001b[0;34m(self)\u001b[0m\n\u001b[1;32m   1318\u001b[0m     \u001b[0;32mdef\u001b[0m \u001b[0m_repr_png_\u001b[0m\u001b[0;34m(\u001b[0m\u001b[0mself\u001b[0m\u001b[0;34m)\u001b[0m\u001b[0;34m:\u001b[0m\u001b[0;34m\u001b[0m\u001b[0;34m\u001b[0m\u001b[0m\n\u001b[1;32m   1319\u001b[0m         \u001b[0;32mif\u001b[0m \u001b[0mself\u001b[0m\u001b[0;34m.\u001b[0m\u001b[0membed\u001b[0m \u001b[0;32mand\u001b[0m \u001b[0mself\u001b[0m\u001b[0;34m.\u001b[0m\u001b[0mformat\u001b[0m \u001b[0;34m==\u001b[0m \u001b[0mself\u001b[0m\u001b[0;34m.\u001b[0m\u001b[0m_FMT_PNG\u001b[0m\u001b[0;34m:\u001b[0m\u001b[0;34m\u001b[0m\u001b[0;34m\u001b[0m\u001b[0m\n\u001b[0;32m-> 1320\u001b[0;31m             \u001b[0;32mreturn\u001b[0m \u001b[0mself\u001b[0m\u001b[0;34m.\u001b[0m\u001b[0m_data_and_metadata\u001b[0m\u001b[0;34m(\u001b[0m\u001b[0;34m)\u001b[0m\u001b[0;34m\u001b[0m\u001b[0;34m\u001b[0m\u001b[0m\n\u001b[0m\u001b[1;32m   1321\u001b[0m \u001b[0;34m\u001b[0m\u001b[0m\n\u001b[1;32m   1322\u001b[0m     \u001b[0;32mdef\u001b[0m \u001b[0m_repr_jpeg_\u001b[0m\u001b[0;34m(\u001b[0m\u001b[0mself\u001b[0m\u001b[0;34m)\u001b[0m\u001b[0;34m:\u001b[0m\u001b[0;34m\u001b[0m\u001b[0;34m\u001b[0m\u001b[0m\n",
            "\u001b[0;32m/usr/local/lib/python3.11/dist-packages/IPython/core/display.py\u001b[0m in \u001b[0;36m_data_and_metadata\u001b[0;34m(self, always_both)\u001b[0m\n\u001b[1;32m   1300\u001b[0m             \u001b[0mb64_data\u001b[0m \u001b[0;34m=\u001b[0m \u001b[0mb2a_base64\u001b[0m\u001b[0;34m(\u001b[0m\u001b[0mself\u001b[0m\u001b[0;34m.\u001b[0m\u001b[0mdata\u001b[0m\u001b[0;34m)\u001b[0m\u001b[0;34m.\u001b[0m\u001b[0mdecode\u001b[0m\u001b[0;34m(\u001b[0m\u001b[0;34m'ascii'\u001b[0m\u001b[0;34m)\u001b[0m\u001b[0;34m\u001b[0m\u001b[0;34m\u001b[0m\u001b[0m\n\u001b[1;32m   1301\u001b[0m         \u001b[0;32mexcept\u001b[0m \u001b[0mTypeError\u001b[0m\u001b[0;34m:\u001b[0m\u001b[0;34m\u001b[0m\u001b[0;34m\u001b[0m\u001b[0m\n\u001b[0;32m-> 1302\u001b[0;31m             raise FileNotFoundError(\n\u001b[0m\u001b[1;32m   1303\u001b[0m                 \"No such file or directory: '%s'\" % (self.data))\n\u001b[1;32m   1304\u001b[0m         \u001b[0mmd\u001b[0m \u001b[0;34m=\u001b[0m \u001b[0;34m{\u001b[0m\u001b[0;34m}\u001b[0m\u001b[0;34m\u001b[0m\u001b[0;34m\u001b[0m\u001b[0m\n",
            "\u001b[0;31mFileNotFoundError\u001b[0m: No such file or directory: '/content/drive/MyDrive/figures/FC_Neural_Network_A.png'"
          ]
        },
        {
          "output_type": "execute_result",
          "data": {
            "text/plain": [
              "<IPython.core.display.Image object>"
            ]
          },
          "metadata": {},
          "execution_count": 2
        }
      ]
    },
    {
      "cell_type": "code",
      "metadata": {
        "colab": {
          "base_uri": "https://localhost:8080/",
          "height": 817
        },
        "id": "NLQzmta-bZDZ",
        "outputId": "6f29b9e1-0d5e-40aa-9f99-da8fd91ee8cd"
      },
      "source": [
        "################################################################################\n",
        "# Figure of the functionality of one neuron - the one of the output layer, =====\n",
        "# but can be extended to all neurons without loss of generality ================\n",
        "################################################################################\n",
        "\n",
        "from IPython.display import Image\n",
        "Image(\"/content/drive/MyDrive/figures/FC_Neural_Network_B.jpeg\")"
      ],
      "execution_count": 3,
      "outputs": [
        {
          "output_type": "error",
          "ename": "FileNotFoundError",
          "evalue": "No such file or directory: '/content/drive/MyDrive/figures/FC_Neural_Network_B.jpeg'",
          "traceback": [
            "\u001b[0;31m---------------------------------------------------------------------------\u001b[0m",
            "\u001b[0;31mTypeError\u001b[0m                                 Traceback (most recent call last)",
            "\u001b[0;32m/usr/local/lib/python3.11/dist-packages/IPython/core/display.py\u001b[0m in \u001b[0;36m_data_and_metadata\u001b[0;34m(self, always_both)\u001b[0m\n\u001b[1;32m   1299\u001b[0m         \u001b[0;32mtry\u001b[0m\u001b[0;34m:\u001b[0m\u001b[0;34m\u001b[0m\u001b[0;34m\u001b[0m\u001b[0m\n\u001b[0;32m-> 1300\u001b[0;31m             \u001b[0mb64_data\u001b[0m \u001b[0;34m=\u001b[0m \u001b[0mb2a_base64\u001b[0m\u001b[0;34m(\u001b[0m\u001b[0mself\u001b[0m\u001b[0;34m.\u001b[0m\u001b[0mdata\u001b[0m\u001b[0;34m)\u001b[0m\u001b[0;34m.\u001b[0m\u001b[0mdecode\u001b[0m\u001b[0;34m(\u001b[0m\u001b[0;34m'ascii'\u001b[0m\u001b[0;34m)\u001b[0m\u001b[0;34m\u001b[0m\u001b[0;34m\u001b[0m\u001b[0m\n\u001b[0m\u001b[1;32m   1301\u001b[0m         \u001b[0;32mexcept\u001b[0m \u001b[0mTypeError\u001b[0m\u001b[0;34m:\u001b[0m\u001b[0;34m\u001b[0m\u001b[0;34m\u001b[0m\u001b[0m\n",
            "\u001b[0;31mTypeError\u001b[0m: a bytes-like object is required, not 'str'",
            "\nDuring handling of the above exception, another exception occurred:\n",
            "\u001b[0;31mFileNotFoundError\u001b[0m                         Traceback (most recent call last)",
            "\u001b[0;32m/usr/local/lib/python3.11/dist-packages/IPython/core/formatters.py\u001b[0m in \u001b[0;36m__call__\u001b[0;34m(self, obj, include, exclude)\u001b[0m\n\u001b[1;32m    968\u001b[0m \u001b[0;34m\u001b[0m\u001b[0m\n\u001b[1;32m    969\u001b[0m             \u001b[0;32mif\u001b[0m \u001b[0mmethod\u001b[0m \u001b[0;32mis\u001b[0m \u001b[0;32mnot\u001b[0m \u001b[0;32mNone\u001b[0m\u001b[0;34m:\u001b[0m\u001b[0;34m\u001b[0m\u001b[0;34m\u001b[0m\u001b[0m\n\u001b[0;32m--> 970\u001b[0;31m                 \u001b[0;32mreturn\u001b[0m \u001b[0mmethod\u001b[0m\u001b[0;34m(\u001b[0m\u001b[0minclude\u001b[0m\u001b[0;34m=\u001b[0m\u001b[0minclude\u001b[0m\u001b[0;34m,\u001b[0m \u001b[0mexclude\u001b[0m\u001b[0;34m=\u001b[0m\u001b[0mexclude\u001b[0m\u001b[0;34m)\u001b[0m\u001b[0;34m\u001b[0m\u001b[0;34m\u001b[0m\u001b[0m\n\u001b[0m\u001b[1;32m    971\u001b[0m             \u001b[0;32mreturn\u001b[0m \u001b[0;32mNone\u001b[0m\u001b[0;34m\u001b[0m\u001b[0;34m\u001b[0m\u001b[0m\n\u001b[1;32m    972\u001b[0m         \u001b[0;32melse\u001b[0m\u001b[0;34m:\u001b[0m\u001b[0;34m\u001b[0m\u001b[0;34m\u001b[0m\u001b[0m\n",
            "\u001b[0;32m/usr/local/lib/python3.11/dist-packages/IPython/core/display.py\u001b[0m in \u001b[0;36m_repr_mimebundle_\u001b[0;34m(self, include, exclude)\u001b[0m\n\u001b[1;32m   1288\u001b[0m         \u001b[0;32mif\u001b[0m \u001b[0mself\u001b[0m\u001b[0;34m.\u001b[0m\u001b[0membed\u001b[0m\u001b[0;34m:\u001b[0m\u001b[0;34m\u001b[0m\u001b[0;34m\u001b[0m\u001b[0m\n\u001b[1;32m   1289\u001b[0m             \u001b[0mmimetype\u001b[0m \u001b[0;34m=\u001b[0m \u001b[0mself\u001b[0m\u001b[0;34m.\u001b[0m\u001b[0m_mimetype\u001b[0m\u001b[0;34m\u001b[0m\u001b[0;34m\u001b[0m\u001b[0m\n\u001b[0;32m-> 1290\u001b[0;31m             \u001b[0mdata\u001b[0m\u001b[0;34m,\u001b[0m \u001b[0mmetadata\u001b[0m \u001b[0;34m=\u001b[0m \u001b[0mself\u001b[0m\u001b[0;34m.\u001b[0m\u001b[0m_data_and_metadata\u001b[0m\u001b[0;34m(\u001b[0m\u001b[0malways_both\u001b[0m\u001b[0;34m=\u001b[0m\u001b[0;32mTrue\u001b[0m\u001b[0;34m)\u001b[0m\u001b[0;34m\u001b[0m\u001b[0;34m\u001b[0m\u001b[0m\n\u001b[0m\u001b[1;32m   1291\u001b[0m             \u001b[0;32mif\u001b[0m \u001b[0mmetadata\u001b[0m\u001b[0;34m:\u001b[0m\u001b[0;34m\u001b[0m\u001b[0;34m\u001b[0m\u001b[0m\n\u001b[1;32m   1292\u001b[0m                 \u001b[0mmetadata\u001b[0m \u001b[0;34m=\u001b[0m \u001b[0;34m{\u001b[0m\u001b[0mmimetype\u001b[0m\u001b[0;34m:\u001b[0m \u001b[0mmetadata\u001b[0m\u001b[0;34m}\u001b[0m\u001b[0;34m\u001b[0m\u001b[0;34m\u001b[0m\u001b[0m\n",
            "\u001b[0;32m/usr/local/lib/python3.11/dist-packages/IPython/core/display.py\u001b[0m in \u001b[0;36m_data_and_metadata\u001b[0;34m(self, always_both)\u001b[0m\n\u001b[1;32m   1300\u001b[0m             \u001b[0mb64_data\u001b[0m \u001b[0;34m=\u001b[0m \u001b[0mb2a_base64\u001b[0m\u001b[0;34m(\u001b[0m\u001b[0mself\u001b[0m\u001b[0;34m.\u001b[0m\u001b[0mdata\u001b[0m\u001b[0;34m)\u001b[0m\u001b[0;34m.\u001b[0m\u001b[0mdecode\u001b[0m\u001b[0;34m(\u001b[0m\u001b[0;34m'ascii'\u001b[0m\u001b[0;34m)\u001b[0m\u001b[0;34m\u001b[0m\u001b[0;34m\u001b[0m\u001b[0m\n\u001b[1;32m   1301\u001b[0m         \u001b[0;32mexcept\u001b[0m \u001b[0mTypeError\u001b[0m\u001b[0;34m:\u001b[0m\u001b[0;34m\u001b[0m\u001b[0;34m\u001b[0m\u001b[0m\n\u001b[0;32m-> 1302\u001b[0;31m             raise FileNotFoundError(\n\u001b[0m\u001b[1;32m   1303\u001b[0m                 \"No such file or directory: '%s'\" % (self.data))\n\u001b[1;32m   1304\u001b[0m         \u001b[0mmd\u001b[0m \u001b[0;34m=\u001b[0m \u001b[0;34m{\u001b[0m\u001b[0;34m}\u001b[0m\u001b[0;34m\u001b[0m\u001b[0;34m\u001b[0m\u001b[0m\n",
            "\u001b[0;31mFileNotFoundError\u001b[0m: No such file or directory: '/content/drive/MyDrive/figures/FC_Neural_Network_B.jpeg'"
          ]
        },
        {
          "output_type": "error",
          "ename": "FileNotFoundError",
          "evalue": "No such file or directory: '/content/drive/MyDrive/figures/FC_Neural_Network_B.jpeg'",
          "traceback": [
            "\u001b[0;31m---------------------------------------------------------------------------\u001b[0m",
            "\u001b[0;31mTypeError\u001b[0m                                 Traceback (most recent call last)",
            "\u001b[0;32m/usr/local/lib/python3.11/dist-packages/IPython/core/display.py\u001b[0m in \u001b[0;36m_data_and_metadata\u001b[0;34m(self, always_both)\u001b[0m\n\u001b[1;32m   1299\u001b[0m         \u001b[0;32mtry\u001b[0m\u001b[0;34m:\u001b[0m\u001b[0;34m\u001b[0m\u001b[0;34m\u001b[0m\u001b[0m\n\u001b[0;32m-> 1300\u001b[0;31m             \u001b[0mb64_data\u001b[0m \u001b[0;34m=\u001b[0m \u001b[0mb2a_base64\u001b[0m\u001b[0;34m(\u001b[0m\u001b[0mself\u001b[0m\u001b[0;34m.\u001b[0m\u001b[0mdata\u001b[0m\u001b[0;34m)\u001b[0m\u001b[0;34m.\u001b[0m\u001b[0mdecode\u001b[0m\u001b[0;34m(\u001b[0m\u001b[0;34m'ascii'\u001b[0m\u001b[0;34m)\u001b[0m\u001b[0;34m\u001b[0m\u001b[0;34m\u001b[0m\u001b[0m\n\u001b[0m\u001b[1;32m   1301\u001b[0m         \u001b[0;32mexcept\u001b[0m \u001b[0mTypeError\u001b[0m\u001b[0;34m:\u001b[0m\u001b[0;34m\u001b[0m\u001b[0;34m\u001b[0m\u001b[0m\n",
            "\u001b[0;31mTypeError\u001b[0m: a bytes-like object is required, not 'str'",
            "\nDuring handling of the above exception, another exception occurred:\n",
            "\u001b[0;31mFileNotFoundError\u001b[0m                         Traceback (most recent call last)",
            "\u001b[0;32m/usr/local/lib/python3.11/dist-packages/IPython/core/formatters.py\u001b[0m in \u001b[0;36m__call__\u001b[0;34m(self, obj)\u001b[0m\n\u001b[1;32m    343\u001b[0m             \u001b[0mmethod\u001b[0m \u001b[0;34m=\u001b[0m \u001b[0mget_real_method\u001b[0m\u001b[0;34m(\u001b[0m\u001b[0mobj\u001b[0m\u001b[0;34m,\u001b[0m \u001b[0mself\u001b[0m\u001b[0;34m.\u001b[0m\u001b[0mprint_method\u001b[0m\u001b[0;34m)\u001b[0m\u001b[0;34m\u001b[0m\u001b[0;34m\u001b[0m\u001b[0m\n\u001b[1;32m    344\u001b[0m             \u001b[0;32mif\u001b[0m \u001b[0mmethod\u001b[0m \u001b[0;32mis\u001b[0m \u001b[0;32mnot\u001b[0m \u001b[0;32mNone\u001b[0m\u001b[0;34m:\u001b[0m\u001b[0;34m\u001b[0m\u001b[0;34m\u001b[0m\u001b[0m\n\u001b[0;32m--> 345\u001b[0;31m                 \u001b[0;32mreturn\u001b[0m \u001b[0mmethod\u001b[0m\u001b[0;34m(\u001b[0m\u001b[0;34m)\u001b[0m\u001b[0;34m\u001b[0m\u001b[0;34m\u001b[0m\u001b[0m\n\u001b[0m\u001b[1;32m    346\u001b[0m             \u001b[0;32mreturn\u001b[0m \u001b[0;32mNone\u001b[0m\u001b[0;34m\u001b[0m\u001b[0;34m\u001b[0m\u001b[0m\n\u001b[1;32m    347\u001b[0m         \u001b[0;32melse\u001b[0m\u001b[0;34m:\u001b[0m\u001b[0;34m\u001b[0m\u001b[0;34m\u001b[0m\u001b[0m\n",
            "\u001b[0;32m/usr/local/lib/python3.11/dist-packages/IPython/core/display.py\u001b[0m in \u001b[0;36m_repr_png_\u001b[0;34m(self)\u001b[0m\n\u001b[1;32m   1318\u001b[0m     \u001b[0;32mdef\u001b[0m \u001b[0m_repr_png_\u001b[0m\u001b[0;34m(\u001b[0m\u001b[0mself\u001b[0m\u001b[0;34m)\u001b[0m\u001b[0;34m:\u001b[0m\u001b[0;34m\u001b[0m\u001b[0;34m\u001b[0m\u001b[0m\n\u001b[1;32m   1319\u001b[0m         \u001b[0;32mif\u001b[0m \u001b[0mself\u001b[0m\u001b[0;34m.\u001b[0m\u001b[0membed\u001b[0m \u001b[0;32mand\u001b[0m \u001b[0mself\u001b[0m\u001b[0;34m.\u001b[0m\u001b[0mformat\u001b[0m \u001b[0;34m==\u001b[0m \u001b[0mself\u001b[0m\u001b[0;34m.\u001b[0m\u001b[0m_FMT_PNG\u001b[0m\u001b[0;34m:\u001b[0m\u001b[0;34m\u001b[0m\u001b[0;34m\u001b[0m\u001b[0m\n\u001b[0;32m-> 1320\u001b[0;31m             \u001b[0;32mreturn\u001b[0m \u001b[0mself\u001b[0m\u001b[0;34m.\u001b[0m\u001b[0m_data_and_metadata\u001b[0m\u001b[0;34m(\u001b[0m\u001b[0;34m)\u001b[0m\u001b[0;34m\u001b[0m\u001b[0;34m\u001b[0m\u001b[0m\n\u001b[0m\u001b[1;32m   1321\u001b[0m \u001b[0;34m\u001b[0m\u001b[0m\n\u001b[1;32m   1322\u001b[0m     \u001b[0;32mdef\u001b[0m \u001b[0m_repr_jpeg_\u001b[0m\u001b[0;34m(\u001b[0m\u001b[0mself\u001b[0m\u001b[0;34m)\u001b[0m\u001b[0;34m:\u001b[0m\u001b[0;34m\u001b[0m\u001b[0;34m\u001b[0m\u001b[0m\n",
            "\u001b[0;32m/usr/local/lib/python3.11/dist-packages/IPython/core/display.py\u001b[0m in \u001b[0;36m_data_and_metadata\u001b[0;34m(self, always_both)\u001b[0m\n\u001b[1;32m   1300\u001b[0m             \u001b[0mb64_data\u001b[0m \u001b[0;34m=\u001b[0m \u001b[0mb2a_base64\u001b[0m\u001b[0;34m(\u001b[0m\u001b[0mself\u001b[0m\u001b[0;34m.\u001b[0m\u001b[0mdata\u001b[0m\u001b[0;34m)\u001b[0m\u001b[0;34m.\u001b[0m\u001b[0mdecode\u001b[0m\u001b[0;34m(\u001b[0m\u001b[0;34m'ascii'\u001b[0m\u001b[0;34m)\u001b[0m\u001b[0;34m\u001b[0m\u001b[0;34m\u001b[0m\u001b[0m\n\u001b[1;32m   1301\u001b[0m         \u001b[0;32mexcept\u001b[0m \u001b[0mTypeError\u001b[0m\u001b[0;34m:\u001b[0m\u001b[0;34m\u001b[0m\u001b[0;34m\u001b[0m\u001b[0m\n\u001b[0;32m-> 1302\u001b[0;31m             raise FileNotFoundError(\n\u001b[0m\u001b[1;32m   1303\u001b[0m                 \"No such file or directory: '%s'\" % (self.data))\n\u001b[1;32m   1304\u001b[0m         \u001b[0mmd\u001b[0m \u001b[0;34m=\u001b[0m \u001b[0;34m{\u001b[0m\u001b[0;34m}\u001b[0m\u001b[0;34m\u001b[0m\u001b[0;34m\u001b[0m\u001b[0m\n",
            "\u001b[0;31mFileNotFoundError\u001b[0m: No such file or directory: '/content/drive/MyDrive/figures/FC_Neural_Network_B.jpeg'"
          ]
        },
        {
          "output_type": "execute_result",
          "data": {
            "text/plain": [
              "<IPython.core.display.Image object>"
            ]
          },
          "metadata": {},
          "execution_count": 3
        }
      ]
    },
    {
      "cell_type": "code",
      "metadata": {
        "colab": {
          "base_uri": "https://localhost:8080/",
          "height": 98
        },
        "id": "jd5sjFJldeRd",
        "outputId": "d83e1038-db4a-4c29-eadf-70fba0b0b3d4"
      },
      "source": [
        "################################################################################\n",
        "# Mathematical euqations for the computation of relevances (R) =================\n",
        "# in the output (k), hidden (j) and input (i) layer. ===========================\n",
        "################################################################################\n",
        "from IPython.display import Math, HTML\n",
        "\n",
        "# The output layer's (k) output is the sum of the all inputs x_j ---------------\n",
        "# The relevance R_k of the neuron in this layer --------------------------------\n",
        "# is also the sum of all its inputs --------------------------------------------\n",
        "\n",
        "# The output x_j of each neuron in layer (j) -----------------------------------\n",
        "# (each of them is subscripted with j) -----------------------------------------\n",
        "# is either zero or equals to the sum of the weighted inputs -------------------\n",
        "# plus the bias term -----------------------------------------------------------\n",
        "\n",
        "Math(r'x_j = max(0, \\sum_i x_i w_{ij} + b_j) \\\\ R_k = x_k = \\sum_j x_j \\\\ ')"
      ],
      "execution_count": 4,
      "outputs": [
        {
          "output_type": "execute_result",
          "data": {
            "text/plain": [
              "<IPython.core.display.Math object>"
            ],
            "text/latex": "$\\displaystyle x_j = max(0, \\sum_i x_i w_{ij} + b_j) \\\\ R_k = x_k = \\sum_j x_j \\\\ $"
          },
          "metadata": {},
          "execution_count": 4
        }
      ]
    },
    {
      "cell_type": "code",
      "metadata": {
        "colab": {
          "base_uri": "https://localhost:8080/",
          "height": 63
        },
        "id": "v9F1Cx8ZbfOc",
        "outputId": "7e4575d9-7309-4882-e1be-093d9b92e83e"
      },
      "source": [
        "# The relevance of each neuron j in layer (j) is R_j. --------------------------\n",
        "# This can be deduced from the equation that computes x_j ----------------------\n",
        "# and by the observation that the root point (x_tilde) equals to zero. ---------\n",
        "\n",
        "from IPython.display import Math\n",
        "\n",
        "Math(r'R_j = R_k(\\tilde{\\mathbf{x}}) + \\frac{\\partial R_k}{\\partial x_j} \\biggr\\rvert_{\\{ \\tilde{x}_j \\}} \\cdot (x_j - \\tilde{x}_j) = x_j = max(0, \\sum_i x_i w_{ij} + b_j) \\\\' )\n",
        "\n",
        "\n"
      ],
      "execution_count": 5,
      "outputs": [
        {
          "output_type": "execute_result",
          "data": {
            "text/plain": [
              "<IPython.core.display.Math object>"
            ],
            "text/latex": "$\\displaystyle R_j = R_k(\\tilde{\\mathbf{x}}) + \\frac{\\partial R_k}{\\partial x_j} \\biggr\\rvert_{\\{ \\tilde{x}_j \\}} \\cdot (x_j - \\tilde{x}_j) = x_j = max(0, \\sum_i x_i w_{ij} + b_j) \\\\$"
          },
          "metadata": {},
          "execution_count": 5
        }
      ]
    },
    {
      "cell_type": "code",
      "metadata": {
        "colab": {
          "base_uri": "https://localhost:8080/",
          "height": 34
        },
        "id": "cAzP-lvjiUtR",
        "outputId": "ee6797a8-5b13-4eb3-8687-9122d5558a8d"
      },
      "source": [
        "# The relevance of each neuron i in layer (i), which is practically the input --\n",
        "# is R_i. The mathematical equations behind this computation -------------------\n",
        "# can be found in the referenced sources and are out of scope of this ----------\n",
        "# task. What is important to emphasize is that the relevance is proportional ---\n",
        "# to the power of the weights - remember that the weights can be ---------------\n",
        "# positive and negative --------------------------------------------------------\n",
        "\n",
        "from IPython.display import Math\n",
        "\n",
        "Math(r'R_i = \\sum_j \\frac{w_{ij}^2}{\\sum_{\\'{i}}} w_{\\acute{\\'{i}}j}^2} R_j')"
      ],
      "execution_count": 6,
      "outputs": [
        {
          "output_type": "execute_result",
          "data": {
            "text/plain": [
              "<IPython.core.display.Math object>"
            ],
            "text/latex": "$\\displaystyle R_i = \\sum_j \\frac{w_{ij}^2}{\\sum_{\\'{i}}} w_{\\acute{\\'{i}}j}^2} R_j$"
          },
          "metadata": {},
          "execution_count": 6
        }
      ]
    },
    {
      "cell_type": "code",
      "metadata": {
        "colab": {
          "base_uri": "https://localhost:8080/",
          "height": 472
        },
        "id": "0titLqrsj0ZS",
        "outputId": "fcc5efbd-86f0-4e00-9df1-248dc309a07b"
      },
      "source": [
        "import numpy as np\n",
        "import matplotlib.pyplot as plt\n",
        "\n",
        "################################################################################\n",
        "# [1.] Define input, weights ===================================================\n",
        "#      and see their distribution with a histogram =============================\n",
        "################################################################################\n",
        "\n",
        "# i: input layer, j: hidden layer, k: output layer\n",
        "\n",
        "# 1.1. Values selected by user -------------------------------------------------\n",
        "x_i_dict = {'x_1': 3, 'x_2': 4, 'x_3': -10}\n",
        "\n",
        "w_j_1_dict = {'w_i1_j1': -0.2, 'w_i2_j1': 0.5, 'w_i3_j1': -0.1}\n",
        "w_j_2_dict = {'w_i1_j2': -0.25, 'w_i2_j2': 0.1, 'w_i3_j2': 0.4}\n",
        "w_j_3_dict = {'w_i1_j3': 0.2, 'w_i2_j3': -0.3, 'w_i3_j3': -0.2}\n",
        "w_j_4_dict = {'w_i1_j4': 0.5, 'w_i2_j4': -0.8, 'w_i3_j4': 0.6}\n",
        "w_j_5_dict = {'w_i1_j5': 0.1, 'w_i2_j5': 0.4, 'w_i3_j5': 0.7}\n",
        "\n",
        "w_k_dict = {'w_j1_k1': 0.8, 'w_j2_k1': 0.1, 'w_j3_k1': -0.2,\n",
        "            'w_j4_k1': -0.4, 'w_j5_k1': 0.6}\n",
        "\n",
        "\n",
        "# 1.2. Randomly (Normally distributed) values ----------------------------------\n",
        "mu, sigma = 0, 0.05\n",
        "x_i_normal = np.random.normal(mu, sigma, 3)\n",
        "\n",
        "x_j_1_normal = np.random.normal(mu, sigma, 3)\n",
        "x_j_2_normal = np.random.normal(mu, sigma, 3)\n",
        "x_j_3_normal = np.random.normal(mu, sigma, 3)\n",
        "x_j_4_normal = np.random.normal(mu, sigma, 3)\n",
        "x_j_5_normal = np.random.normal(mu, sigma, 3)\n",
        "\n",
        "x_k_normal = np.random.normal(mu, sigma, 5)\n",
        "\n",
        "\n",
        "# Histogram of weights ---------------------------------------------------------\n",
        "n, bins, patches = plt.hist(w_k_dict.values(), 50, density=True, facecolor='g', alpha=0.75)\n",
        "\n",
        "\n",
        "plt.xlabel('Weight values')\n",
        "plt.title('Histogram of weight values')\n",
        "plt.grid(True)\n",
        "plt.show()\n"
      ],
      "execution_count": 7,
      "outputs": [
        {
          "output_type": "display_data",
          "data": {
            "text/plain": [
              "<Figure size 640x480 with 1 Axes>"
            ],
            "image/png": "[encoded data removed]"
          },
          "metadata": {}
        }
      ]
    },
    {
      "cell_type": "markdown",
      "source": [
        "L'objectif de la tâche est d'encourager l'utilisateur à sélectionner les valeurs des entrées ainsi que les valeurs des poids, soit de manière aléatoire, soit de manière intentionnelle, et d'observer comment la sortie des neurones, ainsi que les pertinences, varient en fonction de ces changements.\n",
        "\n",
        "Les variables \"x_i_dict\", \"w_j_1_dict\" ... \"w_j_5_dict\", \"w_k_dict\" correspondent aux variables définies dans les équations mathématiques mentionnées ci-dessus. L'utilisateur peut également générer des poids suivant une distribution donnée ou complètement aléatoire. Dans cet exemple, nous les définissons selon une distribution gaussienne, mais cela peut être facilement remplacé par une autre méthode.\n"
      ],
      "metadata": {
        "id": "Uy_uTyWkxix9"
      }
    },
    {
      "cell_type": "code",
      "metadata": {
        "id": "CW1m7JNnSW-h",
        "colab": {
          "base_uri": "https://localhost:8080/"
        },
        "outputId": "8d791b26-3b2f-4f15-e003-f21274a7b770"
      },
      "source": [
        "################################################################################\n",
        "# [2.] Compute equations of feedforward pass ===================================\n",
        "# Apply those equations to compute the output of the network ===================\n",
        "################################################################################\n",
        "sum_j1 = x_i_dict['x_1'] * w_j_1_dict['w_i1_j1'] + \\\n",
        "         x_i_dict['x_2'] * w_j_1_dict['w_i2_j1'] + \\\n",
        "         x_i_dict['x_3'] * w_j_1_dict['w_i3_j1']\n",
        "\n",
        "sum_j2 = x_i_dict['x_1'] * w_j_2_dict['w_i1_j2'] + \\\n",
        "         x_i_dict['x_2'] * w_j_2_dict['w_i2_j2'] + \\\n",
        "         x_i_dict['x_3'] * w_j_2_dict['w_i3_j2']\n",
        "\n",
        "sum_j3 = x_i_dict['x_1'] * w_j_3_dict['w_i1_j3'] + \\\n",
        "         x_i_dict['x_2'] * w_j_3_dict['w_i2_j3'] + \\\n",
        "         x_i_dict['x_3'] * w_j_3_dict['w_i3_j3']\n",
        "\n",
        "sum_j4 = x_i_dict['x_1'] * w_j_4_dict['w_i1_j4'] + \\\n",
        "         x_i_dict['x_2'] * w_j_4_dict['w_i2_j4'] + \\\n",
        "         x_i_dict['x_3'] * w_j_4_dict['w_i3_j4']\n",
        "\n",
        "sum_j5 = x_i_dict['x_1'] * w_j_5_dict['w_i1_j5'] + \\\n",
        "         x_i_dict['x_2'] * w_j_5_dict['w_i2_j5'] + \\\n",
        "         x_i_dict['x_3'] * w_j_5_dict['w_i3_j5']\n",
        "\n",
        "# Apply ReLU -------------------------------------------------------------------\n",
        "val_j1 = max(0, sum_j1)\n",
        "val_j2 = max(0, sum_j2)\n",
        "val_j3 = max(0, sum_j3)\n",
        "val_j4 = max(0, sum_j4)\n",
        "val_j5 = max(0, sum_j5)\n",
        "\n",
        "# Compute the output of the NN -------------------------------------------------\n",
        "val_k1 = val_j1 + val_j2 + val_j3 + val_j4 + val_j5\n",
        "print(f\"Output value of the network: {val_k1}\")\n"
      ],
      "execution_count": 8,
      "outputs": [
        {
          "output_type": "stream",
          "name": "stdout",
          "text": [
            "Output value of the network: 3.8\n"
          ]
        }
      ]
    },
    {
      "cell_type": "code",
      "metadata": {
        "colab": {
          "base_uri": "https://localhost:8080/"
        },
        "id": "SABHHAdEkEsw",
        "outputId": "5bfd5cb1-2910-4948-989c-fa8d505ff8b3"
      },
      "source": [
        "################################################################################\n",
        "################################################################################\n",
        "################################################################################\n",
        "# [3.] Compute the relevances of each neuron in all layers =====================\n",
        "# The relevances computations follow the mathematical formulas defined above. ==\n",
        "################################################################################\n",
        "################################################################################\n",
        "################################################################################\n",
        "\n",
        "################################################################################\n",
        "# [3.1] Compute relevance of output layer (k) ==================================\n",
        "################################################################################\n",
        "R_k = val_k1\n",
        "\n",
        "print(f\"Relevances of neurons of k layer: {R_k}\")\n",
        "\n",
        "################################################################################\n",
        "# [3.2] Compute relevance of every one of the 5 neurons of the layer (j) =======\n",
        "################################################################################\n",
        "R_j1 = val_j1\n",
        "R_j2 = val_j2\n",
        "R_j3 = val_j3\n",
        "R_j4 = val_j4\n",
        "R_j5 = val_j5\n",
        "\n",
        "print(f\"Relevances of neurons of j layer: {R_j1}, {R_j2}, {R_j3}, {R_j4}, {R_j5}\")\n",
        "\n",
        "################################################################################\n",
        "# [3.3] Compute relevance of every one of the 3 neurons of the layer (i) =======\n",
        "################################################################################\n",
        "sum_j1_power = w_j_1_dict['w_i1_j1'] ** 2 + \\\n",
        "               w_j_1_dict['w_i2_j1'] ** 2 + \\\n",
        "               w_j_1_dict['w_i3_j1'] ** 2\n",
        "\n",
        "sum_j2_power = w_j_2_dict['w_i1_j2'] ** 2 + \\\n",
        "               w_j_2_dict['w_i2_j2'] ** 2 + \\\n",
        "               w_j_2_dict['w_i3_j2'] ** 2\n",
        "\n",
        "sum_j3_power = w_j_3_dict['w_i1_j3'] ** 2 + \\\n",
        "               w_j_3_dict['w_i2_j3'] ** 2 + \\\n",
        "               w_j_3_dict['w_i3_j3'] ** 2\n",
        "\n",
        "sum_j4_power = w_j_4_dict['w_i1_j4'] ** 2 + \\\n",
        "               w_j_4_dict['w_i2_j4'] ** 2 + \\\n",
        "               w_j_4_dict['w_i3_j4'] ** 2\n",
        "\n",
        "sum_j5_power = w_j_5_dict['w_i1_j5'] ** 2 + \\\n",
        "               w_j_5_dict['w_i2_j5'] ** 2 + \\\n",
        "               w_j_5_dict['w_i3_j5'] ** 2\n",
        "\n",
        "R_i1 = ((w_j_1_dict['w_i1_j1'] ** 2) / sum_j1_power) * R_j1 + \\\n",
        "       ((w_j_2_dict['w_i1_j2'] ** 2) / sum_j2_power) * R_j2 + \\\n",
        "       ((w_j_3_dict['w_i1_j3'] ** 2) / sum_j3_power) * R_j3 + \\\n",
        "       ((w_j_4_dict['w_i1_j4'] ** 2) / sum_j4_power) * R_j4 + \\\n",
        "       ((w_j_5_dict['w_i1_j5'] ** 2) / sum_j5_power) * R_j5\n",
        "\n",
        "R_i2 = ((w_j_1_dict['w_i2_j1'] ** 2) / sum_j1_power) * R_j1 + \\\n",
        "       ((w_j_2_dict['w_i2_j2'] ** 2) / sum_j2_power) * R_j2 + \\\n",
        "       ((w_j_3_dict['w_i2_j3'] ** 2) / sum_j3_power) * R_j3 + \\\n",
        "       ((w_j_4_dict['w_i2_j4'] ** 2) / sum_j4_power) * R_j4 + \\\n",
        "       ((w_j_5_dict['w_i2_j5'] ** 2) / sum_j5_power) * R_j5\n",
        "\n",
        "R_i3 = ((w_j_1_dict['w_i3_j1'] ** 2) / sum_j1_power) * R_j1 + \\\n",
        "       ((w_j_2_dict['w_i3_j2'] ** 2) / sum_j2_power) * R_j2 + \\\n",
        "       ((w_j_3_dict['w_i3_j3'] ** 2) / sum_j3_power) * R_j3 + \\\n",
        "       ((w_j_4_dict['w_i3_j4'] ** 2) / sum_j4_power) * R_j4 + \\\n",
        "       ((w_j_5_dict['w_i3_j5'] ** 2) / sum_j5_power) * R_j5\n",
        "\n",
        "\n",
        "print(f\"Relevances of neurons of i layer: {R_i1}, {R_i2}, {R_i3}\")\n"
      ],
      "execution_count": null,
      "outputs": [
        {
          "output_type": "stream",
          "name": "stdout",
          "text": [
            "Relevances of neurons of k layer: 3.8\n",
            "Relevances of neurons of j layer: 2.4, 0, 1.4000000000000001, 0, 0\n",
            "Relevances of neurons of i layer: 0.6494117647058824, 2.741176470588235, 0.4094117647058824\n"
          ]
        }
      ]
    },
    {
      "cell_type": "code",
      "metadata": {
        "colab": {
          "base_uri": "https://localhost:8080/",
          "height": 79
        },
        "id": "tmV8fYl2kKlC",
        "outputId": "7cbb0a46-f0e2-4be1-afba-462e977cf7fe"
      },
      "source": [
        "################################################################################\n",
        "# Positivity and conservativity properties =====================================\n",
        "# For every input x and every neuron p the relevance is positive ===============\n",
        "# The sum of relevances of all neurons in layer (i) ============================\n",
        "# equals the sum of relevances of all neurons in layer (j) =====================\n",
        "################################################################################\n",
        "\n",
        "Math(r'\\forall \\mathbf{x}, p: R_p(\\mathbf{x}) \\geq 0 \\\\ \\sum_i R_i = \\sum_j R_j ')"
      ],
      "execution_count": null,
      "outputs": [
        {
          "output_type": "execute_result",
          "data": {
            "text/latex": "$$\\forall \\mathbf{x}, p: R_p(\\mathbf{x}) \\geq 0 \\\\ \\sum_i R_i = \\sum_j R_j $$",
            "text/plain": [
              "<IPython.core.display.Math object>"
            ]
          },
          "metadata": {
            "tags": []
          },
          "execution_count": 42
        }
      ]
    },
    {
      "cell_type": "code",
      "metadata": {
        "colab": {
          "base_uri": "https://localhost:8080/"
        },
        "id": "lZhhnAyukppR",
        "outputId": "bf58b282-266b-4f43-843b-abc0f81d7186"
      },
      "source": [
        "################################################################################\n",
        "################################################################################\n",
        "################################################################################\n",
        "# [4.] Check that the computations of the relevance obay =======================\n",
        "# the positivity and conservativity properties =================================\n",
        "# (see cell above), with the help of assertions and unit tests =================\n",
        "################################################################################\n",
        "################################################################################\n",
        "################################################################################\n",
        "\n",
        "\n",
        "################################################################################\n",
        "# [4.1] Check positivity =======================================================\n",
        "################################################################################\n",
        "\n",
        "assert R_k >= 0, \"Relevance of every neuron of every layer must be positive\"\n",
        "\n",
        "assert R_j1 >=0, \"Relevance of every neuron of every layer must be positive\"\n",
        "assert R_j2 >=0, \"Relevance of every neuron of every layer must be positive\"\n",
        "assert R_j3 >=0, \"Relevance of every neuron of every layer must be positive\"\n",
        "assert R_j4 >=0, \"Relevance of every neuron of every layer must be positive\"\n",
        "assert R_j5 >=0, \"Relevance of every neuron of every layer must be positive\"\n",
        "\n",
        "assert R_i1 >=0, \"Relevance of every neuron of every layer must be positive\"\n",
        "assert R_i2 >=0, \"Relevance of every neuron of every layer must be positive\"\n",
        "assert R_i3 >=0, \"Relevance of every neuron of every layer must be positive\"\n",
        "\n",
        "\n",
        "################################################################################\n",
        "# [4.2] Check conservativity ===================================================\n",
        "################################################################################\n",
        "sum_Rj = R_j1 + R_j2 + R_j3 + R_j4 + R_j5\n",
        "print(f\" Conservativity j --to--> k: sum_Rj: {sum_Rj}, R_k: {R_k}\")\n",
        "\n",
        "\n",
        "sum_Ri = R_i1 + R_i2 + R_i3\n",
        "print(f\" Conservativity i --to--> j: sum_Ri: {sum_Ri}, sum_Rj: {sum_Rj}\")"
      ],
      "execution_count": null,
      "outputs": [
        {
          "output_type": "stream",
          "text": [
            " Conservativity j --to--> k: sum_Rj: 3.8, R_k: 3.8\n",
            " Conservativity i --to--> j: sum_Ri: 3.8, sum_Rj: 3.8\n"
          ],
          "name": "stdout"
        }
      ]
    },
    {
      "cell_type": "code",
      "metadata": {
        "colab": {
          "base_uri": "https://localhost:8080/"
        },
        "id": "8DQ_Hh9Nkuen",
        "outputId": "ab9ce0d8-24f5-4536-f9c2-801da9f8b449"
      },
      "source": [
        "import unittest\n",
        "\n",
        "class TestLRPProperties(unittest.TestCase):\n",
        "\n",
        "    def test_relevance_positivity(self):\n",
        "\n",
        "        assert R_k >= 0, \"Relevance of every neuron of every layer must be positive\"\n",
        "\n",
        "        assert R_j1 >=0, \"Relevance of every neuron of every layer must be positive\"\n",
        "        assert R_j2 >=0, \"Relevance of every neuron of every layer must be positive\"\n",
        "        assert R_j3 >=0, \"Relevance of every neuron of every layer must be positive\"\n",
        "        assert R_j4 >=0, \"Relevance of every neuron of every layer must be positive\"\n",
        "        assert R_j5 >=0, \"Relevance of every neuron of every layer must be positive\"\n",
        "\n",
        "        assert R_i1 >=0, \"Relevance of every neuron of every layer must be positive\"\n",
        "        assert R_i2 >=0, \"Relevance of every neuron of every layer must be positive\"\n",
        "        assert R_i3 >=0, \"Relevance of every neuron of every layer must be positive\"\n",
        "\n",
        "\n",
        "    def test_relevance_conservativity(self):\n",
        "        self.assertEqual(R_k, R_j1 + R_j2 + R_j3 + R_j4 + R_j5)\n",
        "        self.assertEqual(R_j1 + R_j2 + R_j3 + R_j4 + R_j5, R_i1 + R_i2 + R_i3)\n",
        "\n",
        "\n",
        "unittest.main(argv=[''], verbosity=2, exit=False)"
      ],
      "execution_count": null,
      "outputs": [
        {
          "output_type": "stream",
          "name": "stderr",
          "text": [
            "test_conservativity (__main__.TestLRPProperties) ... ok\n",
            "test_positivity (__main__.TestLRPProperties) ... ok\n",
            "\n",
            "----------------------------------------------------------------------\n",
            "Ran 2 tests in 0.005s\n",
            "\n",
            "OK\n"
          ]
        },
        {
          "output_type": "execute_result",
          "data": {
            "text/plain": [
              "<unittest.main.TestProgram at 0x7f3f42470b10>"
            ]
          },
          "metadata": {},
          "execution_count": 42
        }
      ]
    }
  ]
}
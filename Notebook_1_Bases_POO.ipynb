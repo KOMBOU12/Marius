{
  "cells": [
    {
      "cell_type": "markdown",
      "metadata": {
        "id": "view-in-github",
        "colab_type": "text"
      },
      "source": [
        "<a href=\"https://colab.research.google.com/github/KOMBOU12/Marius/blob/main/Notebook_1_Bases_POO.ipynb\" target=\"_parent\"><img src=\"https://colab.research.google.com/assets/colab-badge.svg\" alt=\"Open In Colab\"/></a>"
      ]
    },
    {
      "cell_type": "markdown",
      "id": "0f60ebca",
      "metadata": {
        "id": "0f60ebca"
      },
      "source": [
        "\n",
        "# Notebook 10 : Programmation Orientée Objet en Python\n",
        "\n",
        "## Introduction\n",
        "La **programmation orientée objet (POO)** est un paradigme de programmation basé sur les objets, qui sont des instances de classes.\n",
        "Elle permet de structurer le code en utilisant des concepts comme les classes, les objets, l'encapsulation et l'abstraction.\n",
        "\n",
        "Dans ce notebook, nous allons aborder :\n",
        "- Les classes et les objets\n",
        "- L'encapsulation pour protéger les données\n",
        "- L'abstraction pour simplifier l'utilisation des objets\n",
        "\n",
        "Les exemples dans ce notebook sont basés sur un système d'information d'une université.\n"
      ]
    },
    {
      "cell_type": "markdown",
      "id": "5962e8e4",
      "metadata": {
        "id": "5962e8e4"
      },
      "source": [
        "\n",
        "## Section 1 : Classes et Objets\n",
        "\n",
        "Une **classe** est un modèle définissant les attributs et les comportements d'un type d'objet.\n",
        "Un **objet** est une instance d'une classe, c'est-à-dire une occurrence spécifique de la classe avec des valeurs propres.\n",
        "\n",
        "### Exemple : Étudiant et Cours\n",
        "Dans un système d'information d'université, les étudiants et les cours sont des entités importantes. Nous pouvons les modéliser comme des classes.\n"
      ]
    },
    {
      "cell_type": "code",
      "execution_count": 1,
      "id": "080fea4b",
      "metadata": {
        "colab": {
          "base_uri": "https://localhost:8080/"
        },
        "id": "080fea4b",
        "outputId": "c7d7e3ce-28a7-46f0-8f05-09557560d241"
      },
      "outputs": [
        {
          "output_type": "stream",
          "name": "stdout",
          "text": [
            "Étudiant : Alice Dupont, Matricule : 2022001\n",
            "Cours : Introduction à l'informatique (Code : INF101)\n"
          ]
        }
      ],
      "source": [
        "\n",
        "class Etudiant:\n",
        "    def __init__(self, nom, matricule):\n",
        "        self.nom = nom\n",
        "        self.matricule = matricule\n",
        "\n",
        "    def afficher_infos(self):\n",
        "        print(f\"Étudiant : {self.nom}, Matricule : {self.matricule}\")\n",
        "\n",
        "class Cours:\n",
        "    def __init__(self, code, titre):\n",
        "        self.code = code\n",
        "        self.titre = titre\n",
        "\n",
        "    def afficher_infos(self):\n",
        "        print(f\"Cours : {self.titre} (Code : {self.code})\")\n",
        "\n",
        "# Création d'instances\n",
        "etudiant1 = Etudiant(\"Alice Dupont\", \"2022001\")\n",
        "cours1 = Cours(\"INF101\", \"Introduction à l'informatique\")\n",
        "\n",
        "etudiant1.afficher_infos()\n",
        "cours1.afficher_infos()\n"
      ]
    },
    {
      "cell_type": "markdown",
      "id": "881dbbaf",
      "metadata": {
        "id": "881dbbaf"
      },
      "source": [
        "\n",
        "## Section 2 : Encapsulation\n",
        "\n",
        "L'**encapsulation** est le concept de protection des données pour empêcher un accès direct non autorisé.\n",
        "En Python, on utilise des attributs privés pour restreindre l'accès, en ajoutant un underscore `_` avant le nom de l'attribut.\n",
        "\n",
        "### Exemple : Notes de l'étudiant\n",
        "Nous allons encapsuler les notes d'un étudiant pour les rendre privées et contrôler l'accès.\n"
      ]
    },
    {
      "cell_type": "code",
      "execution_count": 2,
      "id": "7e75424d",
      "metadata": {
        "colab": {
          "base_uri": "https://localhost:8080/"
        },
        "id": "7e75424d",
        "outputId": "689af329-8848-4bba-ed06-dad08990e66c"
      },
      "outputs": [
        {
          "output_type": "stream",
          "name": "stdout",
          "text": [
            "Note invalide.\n",
            "Notes de Bob Martin : [15, 18]\n"
          ]
        }
      ],
      "source": [
        "\n",
        "class Etudiant:\n",
        "    def __init__(self, nom, matricule):\n",
        "        self.nom = nom\n",
        "        self.matricule = matricule\n",
        "        self._notes = []  # Attribut privé\n",
        "\n",
        "    def ajouter_note(self, note):\n",
        "        if 0 <= note <= 20:\n",
        "            self._notes.append(note)\n",
        "        else:\n",
        "            print(\"Note invalide.\")\n",
        "\n",
        "    def afficher_notes(self):\n",
        "        print(f\"Notes de {self.nom} : {self._notes}\")\n",
        "\n",
        "# Utilisation\n",
        "etudiant2 = Etudiant(\"Bob Martin\", \"2022002\")\n",
        "etudiant2.ajouter_note(15)\n",
        "etudiant2.ajouter_note(18)\n",
        "etudiant2.ajouter_note(22)  # Note invalide\n",
        "etudiant2.afficher_notes()\n"
      ]
    },
    {
      "cell_type": "markdown",
      "id": "8497caca",
      "metadata": {
        "id": "8497caca"
      },
      "source": [
        "\n",
        "## Section 3 : Abstraction\n",
        "\n",
        "L'**abstraction** permet de masquer les détails internes et de ne fournir que les fonctionnalités essentielles à l'utilisateur.\n",
        "Cela rend l'utilisation des classes plus intuitive.\n",
        "\n",
        "### Exemple : Gestion de l'inscription\n",
        "Nous allons ajouter une méthode abstraite `inscrire_cours` pour inscrire un étudiant à un cours.\n"
      ]
    },
    {
      "cell_type": "code",
      "execution_count": 19,
      "id": "162ddeb8",
      "metadata": {
        "colab": {
          "base_uri": "https://localhost:8080/"
        },
        "id": "162ddeb8",
        "outputId": "21c9a305-bd39-41a5-e535-4bbc5d987493"
      },
      "outputs": [
        {
          "output_type": "stream",
          "name": "stdout",
          "text": [
            "Inscription de Alice Dupont au cours Introduction à l'informatique.\n"
          ]
        }
      ],
      "source": [
        "\n",
        "class Inscription:\n",
        "    def __init__(self, etudiant, cours):\n",
        "        self.etudiant = etudiant\n",
        "        self.cours = cours\n",
        "\n",
        "    def inscrire(self):\n",
        "        print(f\"Inscription de {self.etudiant.nom} au cours {self.cours.titre}.\")\n",
        "\n",
        "# Utilisation\n",
        "inscription1 = Inscription(etudiant1, cours1)\n",
        "inscription1.inscrire()\n"
      ]
    },
    {
      "cell_type": "markdown",
      "id": "23dd5adf",
      "metadata": {
        "id": "23dd5adf"
      },
      "source": [
        "\n",
        "# Exercices Pratiques\n",
        "\n",
        "Appliquez les concepts de la programmation orientée objet pour résoudre les exercices suivants.\n"
      ]
    },
    {
      "cell_type": "markdown",
      "id": "24a2f3d2",
      "metadata": {
        "id": "24a2f3d2"
      },
      "source": [
        "\n",
        "## Exercice 1 : Classe Département\n",
        "Créez une classe `Departement` avec un attribut `nom` et une méthode `ajouter_cours` qui ajoute des cours au département.\n",
        "\n",
        "**Exemple attendu** : pour un département \"Informatique\", ajoutez-y des cours et affichez la liste des cours.\n"
      ]
    },
    {
      "cell_type": "code",
      "execution_count": 16,
      "id": "e55406ca",
      "metadata": {
        "colab": {
          "base_uri": "https://localhost:8080/"
        },
        "id": "e55406ca",
        "outputId": "8bcbd58c-8f8e-48d7-e3fe-be7b6058db77"
      },
      "outputs": [
        {
          "output_type": "stream",
          "name": "stdout",
          "text": [
            "Les cours du départment Informatique sont : ['Inf102', 'Inf101']\n"
          ]
        }
      ],
      "source": [
        "\n",
        "# Réponse Exercice 1\n",
        "class Departement :\n",
        "   def __init__(self, nom) :\n",
        "       self.nom = nom\n",
        "       self.cours = []\n",
        "\n",
        "   def ajouter_cours(self, cours) :\n",
        "       self.cours.append(cours)\n",
        "\n",
        "   def afficher_cours(self):\n",
        "       print(f\"Les cours du départment {self.nom} sont : {self.cours}\")\n",
        "\n",
        "Informatique = Departement(\"Informatique\")\n",
        "Informatique.ajouter_cours(\"Inf102\")\n",
        "Informatique.ajouter_cours(\"Inf101\")\n",
        "Informatique.afficher_cours()\n",
        "\n"
      ]
    },
    {
      "cell_type": "markdown",
      "id": "0a622ece",
      "metadata": {
        "id": "0a622ece"
      },
      "source": [
        "\n",
        "## Exercice 2 : Encapsulation des coordonnées\n",
        "Créez une classe `Salle` avec un nom et des coordonnées géographiques (latitude, longitude).\n",
        "Rendez les coordonnées privées et ajoutez une méthode pour les afficher uniquement si l'utilisateur est autorisé.\n",
        "\n",
        "**Exemple attendu** : l'utilisateur peut afficher les coordonnées de la salle \"Salle 101\" s'il est autorisé.\n"
      ]
    },
    {
      "cell_type": "code",
      "execution_count": 18,
      "id": "87e0d353",
      "metadata": {
        "colab": {
          "base_uri": "https://localhost:8080/"
        },
        "id": "87e0d353",
        "outputId": "363c8eb3-9eb7-4167-e883-b1b268d1ee36"
      },
      "outputs": [
        {
          "output_type": "stream",
          "name": "stdout",
          "text": [
            "La salle numéro 101  a pour latitude  [12] et pour longitude  [24]\n"
          ]
        }
      ],
      "source": [
        "\n",
        "# Réponse Exercice 2\n",
        "class Salle :\n",
        "    def __init__(self, numero) :\n",
        "        self.numero = numero\n",
        "        self._latitude = []\n",
        "        self._longitude = []\n",
        "\n",
        "    def ajouter_coordonnees(self, latitude, longitude) :\n",
        "        self._latitude.append(latitude)\n",
        "        self._longitude.append(longitude)\n",
        "\n",
        "    def afficher_coordonnees(self) :\n",
        "        print(f\"La salle numéro {self.numero}  a pour latitude  {self._latitude} et pour longitude  {self._longitude}\")\n",
        "\n",
        "Salle_101 = Salle(101)\n",
        "Salle_101.ajouter_coordonnees(12, 24)\n",
        "Salle_101.afficher_coordonnees()\n"
      ]
    },
    {
      "cell_type": "markdown",
      "id": "c63b7254",
      "metadata": {
        "id": "c63b7254"
      },
      "source": [
        "\n",
        "## Exercice 3 : Abstraction pour l'inscription multiple\n",
        "Créez une classe `Etudiant` avec une méthode `inscrire_a_cours` pour inscrire un étudiant à plusieurs cours.\n",
        "Affichez la liste des cours auxquels l'étudiant est inscrit.\n",
        "\n",
        "**Exemple attendu** : pour un étudiant, affichez les cours auxquels il est inscrit.\n"
      ]
    },
    {
      "cell_type": "code",
      "execution_count": null,
      "id": "dd066867",
      "metadata": {
        "id": "dd066867"
      },
      "outputs": [],
      "source": [
        "\n",
        "# Réponse Exercice 3\n"
      ]
    }
  ],
  "metadata": {
    "language_info": {
      "name": "python"
    },
    "colab": {
      "provenance": [],
      "include_colab_link": true
    },
    "kernelspec": {
      "name": "python3",
      "display_name": "Python 3"
    }
  },
  "nbformat": 4,
  "nbformat_minor": 5
}
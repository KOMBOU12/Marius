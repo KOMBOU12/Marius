{
  "cells": [
    {
      "cell_type": "markdown",
      "metadata": {
        "id": "view-in-github",
        "colab_type": "text"
      },
      "source": [
        "<a href=\"https://colab.research.google.com/github/KOMBOU12/Marius/blob/main/Copie_de_01_backpropagation.ipynb\" target=\"_parent\"><img src=\"https://colab.research.google.com/assets/colab-badge.svg\" alt=\"Open In Colab\"/></a>"
      ]
    },
    {
      "cell_type": "markdown",
      "metadata": {
        "id": "v61hs3jf0Kem"
      },
      "source": [
        "# Introduction to PyTorch\n",
        "\n",
        "## Introduction\n",
        "\n",
        "In this seminar, we will overview the **PyTorch** library. It is very similar to **NumPy**, with just one distinction (there are actually more, but we will focus on the most important one) — **PyTorch** can compute gradients for you.\n",
        "This means you won't have to manually write the backward pass in neural networks.\n",
        "\n",
        "### Plan:\n",
        "\n",
        "1. Recall **NumPy** and compare its functionality with **PyTorch** operations.\n",
        "2. Create tensors in **PyTorch** and explore more basic operations.\n",
        "3. Work with gradients manually.\n",
        "4. First neural network (Fully-connected NN).\n"
      ]
    },
    {
      "cell_type": "code",
      "execution_count": null,
      "metadata": {
        "id": "KzLLQC520Keq"
      },
      "outputs": [],
      "source": [
        "import matplotlib.pyplot as plt\n",
        "import pandas as pd\n",
        "import numpy as np\n",
        "import torch\n",
        "import torch.nn.functional as F\n",
        "import torchvision\n",
        "from torch import nn\n",
        "from tqdm.notebook import tqdm\n",
        "\n",
        "%matplotlib inline"
      ]
    },
    {
      "cell_type": "markdown",
      "source": [
        "### 1. Recall **NumPy** and compare its functionality with **PyTorch**\n",
        "\n",
        "We can create matrices, multiply them, add, transpose, and perform various matrix operations in both libraries.\n"
      ],
      "metadata": {
        "collapsed": false,
        "id": "94iOrcm00Ket"
      }
    },
    {
      "cell_type": "code",
      "execution_count": null,
      "metadata": {
        "colab": {
          "base_uri": "https://localhost:8080/"
        },
        "id": "rVCr4CZ20Ket",
        "outputId": "546d65e2-ed2f-495e-e8e8-62a032df143c"
      },
      "outputs": [
        {
          "output_type": "execute_result",
          "data": {
            "text/plain": [
              "array([[0.23263446, 0.69044185, 0.78772675],\n",
              "       [0.70655776, 0.17127899, 0.48664702],\n",
              "       [0.37118766, 0.73934866, 0.81724728],\n",
              "       [0.90658887, 0.27211312, 0.93646929],\n",
              "       [0.43987136, 0.28655495, 0.13221405]])"
            ]
          },
          "metadata": {},
          "execution_count": 2
        }
      ],
      "source": [
        "# random matrix\n",
        "a = np.random.rand(5, 3)\n",
        "a"
      ]
    },
    {
      "cell_type": "code",
      "execution_count": null,
      "metadata": {
        "colab": {
          "base_uri": "https://localhost:8080/"
        },
        "id": "RyeAzyDI0Kev",
        "outputId": "072bbbf8-efba-4363-c5bd-77fdb8821727"
      },
      "outputs": [
        {
          "output_type": "execute_result",
          "data": {
            "text/plain": [
              "(5, 3)"
            ]
          },
          "metadata": {},
          "execution_count": 3
        }
      ],
      "source": [
        "# array dimensions\n",
        "a.shape"
      ]
    },
    {
      "cell_type": "code",
      "execution_count": null,
      "metadata": {
        "colab": {
          "base_uri": "https://localhost:8080/"
        },
        "id": "R21tEXX40Key",
        "outputId": "9be5da4f-c2a0-45e5-df66-8b09416017d1"
      },
      "outputs": [
        {
          "output_type": "execute_result",
          "data": {
            "text/plain": [
              "array([[5.23263446, 5.69044185, 5.78772675],\n",
              "       [5.70655776, 5.17127899, 5.48664702],\n",
              "       [5.37118766, 5.73934866, 5.81724728],\n",
              "       [5.90658887, 5.27211312, 5.93646929],\n",
              "       [5.43987136, 5.28655495, 5.13221405]])"
            ]
          },
          "metadata": {},
          "execution_count": 4
        }
      ],
      "source": [
        "# element-wise addition\n",
        "a + 5"
      ]
    },
    {
      "cell_type": "code",
      "execution_count": null,
      "metadata": {
        "colab": {
          "base_uri": "https://localhost:8080/"
        },
        "id": "OaUAWdLK0Kez",
        "outputId": "9b8311fc-33f6-4b23-9eb0-b346c50437d6"
      },
      "outputs": [
        {
          "output_type": "execute_result",
          "data": {
            "text/plain": [
              "array([[1.15134218, 0.66597274, 1.24059584, 1.13646401, 0.40432731],\n",
              "       [0.66597274, 0.76538568, 0.78661136, 1.14289464, 0.42421694],\n",
              "       [1.24059584, 0.78661136, 1.35230984, 1.30302805, 0.48319041],\n",
              "       [1.13646401, 1.14289464, 1.30302805, 1.77292365, 0.60057224],\n",
              "       [0.40432731, 0.42421694, 0.48319041, 0.60057224, 0.29308111]])"
            ]
          },
          "metadata": {},
          "execution_count": 5
        }
      ],
      "source": [
        "# matrix multiplication\n",
        "a @ a.T"
      ]
    },
    {
      "cell_type": "code",
      "execution_count": null,
      "metadata": {
        "colab": {
          "base_uri": "https://localhost:8080/"
        },
        "id": "eKVahxON0Ke0",
        "outputId": "00ba32a4-8866-434e-a27f-640fa98a79e9"
      },
      "outputs": [
        {
          "output_type": "execute_result",
          "data": {
            "text/plain": [
              "array([0.57026769, 0.45482792, 0.64259453, 0.70505709, 0.28621345])"
            ]
          },
          "metadata": {},
          "execution_count": 6
        }
      ],
      "source": [
        "# column-wise mean\n",
        "a.mean(axis=-1)"
      ]
    },
    {
      "cell_type": "code",
      "execution_count": null,
      "metadata": {
        "colab": {
          "base_uri": "https://localhost:8080/"
        },
        "id": "Vo07a_jq0Ke1",
        "outputId": "014a62f4-7d47-49d1-c024-65e60076aa3f"
      },
      "outputs": [
        {
          "output_type": "execute_result",
          "data": {
            "text/plain": [
              "(3, 5)"
            ]
          },
          "metadata": {},
          "execution_count": 7
        }
      ],
      "source": [
        "# reshape\n",
        "a.reshape(3, 5).shape"
      ]
    },
    {
      "cell_type": "markdown",
      "metadata": {
        "id": "PEkuPaCD0Ke3"
      },
      "source": [
        "#### Warm-up exercise 1\n",
        "\n",
        "Using **NumPy**, calculate the sum of squares of natural numbers from 1 to 10000."
      ]
    },
    {
      "cell_type": "code",
      "execution_count": null,
      "metadata": {
        "id": "FKoKuDkx0Ke4"
      },
      "outputs": [],
      "source": [
        "# YOUR CODE"
      ]
    },
    {
      "cell_type": "markdown",
      "metadata": {
        "id": "ivkSueKl0Ke4"
      },
      "source": [
        "The operations in **PyTorch** are very similar but may sometimes have slightly different syntax.\n"
      ]
    },
    {
      "cell_type": "code",
      "execution_count": null,
      "metadata": {
        "colab": {
          "base_uri": "https://localhost:8080/"
        },
        "id": "QhqMBjHm0Ke5",
        "outputId": "54ca51a3-6de7-4dd0-f304-1eb5638c14c4"
      },
      "outputs": [
        {
          "output_type": "execute_result",
          "data": {
            "text/plain": [
              "tensor([[0.8779, 0.2566, 0.5505],\n",
              "        [0.1586, 0.4595, 0.0678],\n",
              "        [0.4030, 0.9914, 0.9183],\n",
              "        [0.8061, 0.3997, 0.5882],\n",
              "        [0.3027, 0.5615, 0.4984]])"
            ]
          },
          "metadata": {},
          "execution_count": 9
        }
      ],
      "source": [
        "# random tensor\n",
        "x = torch.rand(5, 3)\n",
        "x"
      ]
    },
    {
      "cell_type": "code",
      "execution_count": null,
      "metadata": {
        "colab": {
          "base_uri": "https://localhost:8080/"
        },
        "id": "6E4uYSRV0Ke6",
        "outputId": "9c15b210-1eee-418b-8ca3-e329e5ec6f67"
      },
      "outputs": [
        {
          "output_type": "execute_result",
          "data": {
            "text/plain": [
              "torch.Size([5, 3])"
            ]
          },
          "metadata": {},
          "execution_count": 10
        }
      ],
      "source": [
        "# tensor dimensions\n",
        "x.shape"
      ]
    },
    {
      "cell_type": "code",
      "execution_count": null,
      "metadata": {
        "colab": {
          "base_uri": "https://localhost:8080/"
        },
        "id": "dTdy-b2S0Ke7",
        "outputId": "00c358c4-23c9-41cf-9bef-4c20a2d90938"
      },
      "outputs": [
        {
          "output_type": "execute_result",
          "data": {
            "text/plain": [
              "torch.Size([5, 3])"
            ]
          },
          "metadata": {},
          "execution_count": 11
        }
      ],
      "source": [
        "# tensor dimensions (alternate syntax)\n",
        "x.size()"
      ]
    },
    {
      "cell_type": "code",
      "execution_count": null,
      "metadata": {
        "colab": {
          "base_uri": "https://localhost:8080/"
        },
        "id": "rOLeBr_M0Ke8",
        "outputId": "ef158fbc-023c-41fc-b080-653f75f7e0d4"
      },
      "outputs": [
        {
          "output_type": "execute_result",
          "data": {
            "text/plain": [
              "tensor([[5.8779, 5.2566, 5.5505],\n",
              "        [5.1586, 5.4595, 5.0678],\n",
              "        [5.4030, 5.9914, 5.9183],\n",
              "        [5.8061, 5.3997, 5.5882],\n",
              "        [5.3027, 5.5615, 5.4984]])"
            ]
          },
          "metadata": {},
          "execution_count": 12
        }
      ],
      "source": [
        "# addition\n",
        "x + 5"
      ]
    },
    {
      "cell_type": "code",
      "execution_count": null,
      "metadata": {
        "colab": {
          "base_uri": "https://localhost:8080/"
        },
        "id": "Wj7Uk2xS0Ke8",
        "outputId": "4d19fce6-5bf6-4e9d-8841-df983e3dd879"
      },
      "outputs": [
        {
          "output_type": "execute_result",
          "data": {
            "text/plain": [
              "tensor([[1.1397, 0.2945, 1.1137, 1.1341, 0.6843],\n",
              "        [0.2945, 0.2409, 0.5817, 0.3514, 0.3398],\n",
              "        [1.1137, 0.5817, 1.9886, 1.2612, 1.1364],\n",
              "        [1.1341, 0.3514, 1.2612, 1.1556, 0.7616],\n",
              "        [0.6843, 0.3398, 1.1364, 0.7616, 0.6553]])"
            ]
          },
          "metadata": {},
          "execution_count": 13
        }
      ],
      "source": [
        "# matrix multiplication\n",
        "# refer to the documentation for various options: @, torch.mm, torch.matmul, torch.bmm\n",
        "torch.matmul(x, x.transpose(1, 0))"
      ]
    },
    {
      "cell_type": "code",
      "execution_count": null,
      "metadata": {
        "colab": {
          "base_uri": "https://localhost:8080/"
        },
        "id": "xR5yXQWz0Ke9",
        "outputId": "17b2c969-2240-40e0-dd60-6c17a12372e9"
      },
      "outputs": [
        {
          "output_type": "execute_result",
          "data": {
            "text/plain": [
              "tensor([[1.1397, 0.2945, 1.1137, 1.1341, 0.6843],\n",
              "        [0.2945, 0.2409, 0.5817, 0.3514, 0.3398],\n",
              "        [1.1137, 0.5817, 1.9886, 1.2612, 1.1364],\n",
              "        [1.1341, 0.3514, 1.2612, 1.1556, 0.7616],\n",
              "        [0.6843, 0.3398, 1.1364, 0.7616, 0.6553]])"
            ]
          },
          "metadata": {},
          "execution_count": 14
        }
      ],
      "source": [
        "# another multiplication\n",
        "x.mm(x.t())"
      ]
    },
    {
      "cell_type": "code",
      "execution_count": null,
      "metadata": {
        "colab": {
          "base_uri": "https://localhost:8080/"
        },
        "id": "WlGdq9qV0Ke9",
        "outputId": "e02f4e9a-d6c5-43ef-daa2-749d8da45b85"
      },
      "outputs": [
        {
          "output_type": "execute_result",
          "data": {
            "text/plain": [
              "tensor([[0.7707, 0.0658, 0.3031],\n",
              "        [0.0252, 0.2111, 0.0046],\n",
              "        [0.1624, 0.9828, 0.8434],\n",
              "        [0.6499, 0.1598, 0.3460],\n",
              "        [0.0917, 0.3153, 0.2484]])"
            ]
          },
          "metadata": {},
          "execution_count": 15
        }
      ],
      "source": [
        "# element-wise multiplication\n",
        "x * x"
      ]
    },
    {
      "cell_type": "code",
      "execution_count": null,
      "metadata": {
        "colab": {
          "base_uri": "https://localhost:8080/"
        },
        "id": "1eX-KOGX0Ke-",
        "outputId": "e9676566-4ce3-4160-c9ab-61c4f16a9bff"
      },
      "outputs": [
        {
          "output_type": "execute_result",
          "data": {
            "text/plain": [
              "tensor([0.5617, 0.2286, 0.7709, 0.5980, 0.4542])"
            ]
          },
          "metadata": {},
          "execution_count": 16
        }
      ],
      "source": [
        "# column-wise mean\n",
        "x.mean(dim=-1)"
      ]
    },
    {
      "cell_type": "code",
      "execution_count": null,
      "metadata": {
        "colab": {
          "base_uri": "https://localhost:8080/"
        },
        "id": "fgQsC_3A0Ke-",
        "outputId": "9e122364-41f5-43d8-d39b-a866b42eb21c"
      },
      "outputs": [
        {
          "output_type": "execute_result",
          "data": {
            "text/plain": [
              "torch.Size([3, 5])"
            ]
          },
          "metadata": {},
          "execution_count": 17
        }
      ],
      "source": [
        "# tensor reshape\n",
        "x.view([3, 5]).shape"
      ]
    },
    {
      "cell_type": "code",
      "execution_count": null,
      "metadata": {
        "colab": {
          "base_uri": "https://localhost:8080/"
        },
        "id": "Q8DOZbHL0Ke-",
        "outputId": "68729a8f-30b5-46d2-a8ba-df7426297d67"
      },
      "outputs": [
        {
          "output_type": "execute_result",
          "data": {
            "text/plain": [
              "torch.Size([3, 5])"
            ]
          },
          "metadata": {},
          "execution_count": 18
        }
      ],
      "source": [
        "x.reshape([3, 5]).shape"
      ]
    },
    {
      "cell_type": "code",
      "execution_count": null,
      "metadata": {
        "colab": {
          "base_uri": "https://localhost:8080/"
        },
        "id": "Gf3dYMcE0Ke_",
        "outputId": "d9f2de72-cf37-4646-b53f-91805a1bd7bc"
      },
      "outputs": [
        {
          "output_type": "execute_result",
          "data": {
            "text/plain": [
              "tensor([[ True, False, False, False, False],\n",
              "        [False, False,  True, False, False],\n",
              "        [False, False, False, False,  True]])"
            ]
          },
          "metadata": {},
          "execution_count": 19
        }
      ],
      "source": [
        "# be careful and do not use `view` for axis transposition!\n",
        "x.view_as(x.t()) == x.t()"
      ]
    },
    {
      "cell_type": "markdown",
      "metadata": {
        "id": "vGsLuJSv0Ke_"
      },
      "source": [
        "Examples of how operations change:\n",
        "\n",
        "* `x.reshape([1,2,8]) -> x.view(1,2,8)`\n",
        "\n",
        "* `x.sum(axis=-1) -> x.sum(dim=-1)`\n",
        "\n",
        "* `x.astype(\"int64\") -> x.type(torch.LongTensor)`\n",
        "\n",
        "For assistance, refer to this [table](https://github.com/torch/torch7/wiki/Torch-for-Numpy-users), which will help you find the **PyTorch** equivalent of **NumPy** operations.\n"
      ]
    },
    {
      "cell_type": "markdown",
      "metadata": {
        "id": "vAMWKJ2i0Ke_"
      },
      "source": [
        "#### Warm-up exercise 2\n",
        "\n",
        "Using PyTorch, calculate the sum of squares of natural numbers from 1 to 10000.\n"
      ]
    },
    {
      "cell_type": "code",
      "execution_count": null,
      "metadata": {
        "id": "YF3kyAX90KfA"
      },
      "outputs": [],
      "source": [
        "# YOUR CODE"
      ]
    },
    {
      "cell_type": "markdown",
      "metadata": {
        "id": "Qh4A3WV-0KfA"
      },
      "source": [
        "### 2. Creating Tensors in **PyTorch** and Exploring More Basic Operations\n"
      ]
    },
    {
      "cell_type": "code",
      "execution_count": null,
      "metadata": {
        "colab": {
          "base_uri": "https://localhost:8080/"
        },
        "id": "PFVBOTRt0KfB",
        "outputId": "738c2bef-49b5-46ec-a144-433c736ac36d"
      },
      "outputs": [
        {
          "output_type": "execute_result",
          "data": {
            "text/plain": [
              "tensor([[-1.0872e-15,  3.0924e-41,  0.0000e+00],\n",
              "        [ 0.0000e+00, -1.1518e-15,  3.0924e-41],\n",
              "        [-3.9779e-17,  3.0924e-41,  2.2195e+35],\n",
              "        [ 4.5580e-41,  0.0000e+00,  0.0000e+00],\n",
              "        [ 0.0000e+00,  0.0000e+00,  0.0000e+00]])"
            ]
          },
          "metadata": {},
          "execution_count": 21
        }
      ],
      "source": [
        "# empty tensor\n",
        "x = torch.empty(5, 3)\n",
        "x"
      ]
    },
    {
      "cell_type": "code",
      "execution_count": null,
      "metadata": {
        "colab": {
          "base_uri": "https://localhost:8080/"
        },
        "id": "t-xYbyaY0KfC",
        "outputId": "ba6b5172-b6ed-4fd7-bc3c-6a00d27b7882"
      },
      "outputs": [
        {
          "output_type": "execute_result",
          "data": {
            "text/plain": [
              "tensor([[0.1855, 0.5030, 0.8639],\n",
              "        [0.3879, 0.3582, 0.7228],\n",
              "        [0.2347, 0.6920, 0.0507],\n",
              "        [0.3810, 0.1753, 0.7581],\n",
              "        [0.2721, 0.3655, 0.2431]])"
            ]
          },
          "metadata": {},
          "execution_count": 22
        }
      ],
      "source": [
        "# Random tensor ~ Uniform[0, 1)\n",
        "x = torch.rand(5, 3)\n",
        "x"
      ]
    },
    {
      "cell_type": "code",
      "execution_count": null,
      "metadata": {
        "colab": {
          "base_uri": "https://localhost:8080/"
        },
        "id": "i-VUTpee0KfC",
        "outputId": "4f213144-063c-4cd0-d465-aa748b9f1d32"
      },
      "outputs": [
        {
          "output_type": "execute_result",
          "data": {
            "text/plain": [
              "tensor([[0., 0., 0.],\n",
              "        [0., 0., 0.],\n",
              "        [0., 0., 0.],\n",
              "        [0., 0., 0.],\n",
              "        [0., 0., 0.]])"
            ]
          },
          "metadata": {},
          "execution_count": 23
        }
      ],
      "source": [
        "# Tensor with zeros with specified dtype\n",
        "x = torch.zeros(5, 3, dtype=torch.float32)\n",
        "x"
      ]
    },
    {
      "cell_type": "code",
      "execution_count": null,
      "metadata": {
        "colab": {
          "base_uri": "https://localhost:8080/"
        },
        "id": "AE-e8aAf0KfD",
        "outputId": "9341f9fd-4071-4ccc-f1c3-e7e10ab6f5b6"
      },
      "outputs": [
        {
          "output_type": "execute_result",
          "data": {
            "text/plain": [
              "tensor([5.5000, 3.0000])"
            ]
          },
          "metadata": {},
          "execution_count": 24
        }
      ],
      "source": [
        "# Constructing a tensor from a Python list\n",
        "x = torch.tensor([5.5, 3])\n",
        "x"
      ]
    },
    {
      "cell_type": "code",
      "execution_count": null,
      "metadata": {
        "colab": {
          "base_uri": "https://localhost:8080/"
        },
        "id": "fWTfyBR40KfE",
        "outputId": "45b5ff78-5f1e-4c06-e94b-926aa178cfd2"
      },
      "outputs": [
        {
          "output_type": "execute_result",
          "data": {
            "text/plain": [
              "tensor([[1., 1., 1.],\n",
              "        [1., 1., 1.],\n",
              "        [1., 1., 1.],\n",
              "        [1., 1., 1.],\n",
              "        [1., 1., 1.]], dtype=torch.float64)"
            ]
          },
          "metadata": {},
          "execution_count": 25
        }
      ],
      "source": [
        "# Using a previously created tensor to create a tensor of ones\n",
        "x1 = x.new_ones(5, 3, dtype=torch.double)\n",
        "x1"
      ]
    },
    {
      "cell_type": "code",
      "execution_count": null,
      "metadata": {
        "colab": {
          "base_uri": "https://localhost:8080/"
        },
        "id": "1pwJdH2N0KfF",
        "outputId": "53e70195-2209-40bc-9749-1fc321fcc46c"
      },
      "outputs": [
        {
          "output_type": "execute_result",
          "data": {
            "text/plain": [
              "tensor([[ 9.7713e-01, -3.0262e-01, -1.8407e-01],\n",
              "        [-1.6838e+00, -7.1088e-01,  1.0002e+00],\n",
              "        [-2.3882e+00,  8.4101e-01,  5.4790e-03],\n",
              "        [ 1.5809e+00,  1.1701e+00, -5.6724e-01],\n",
              "        [-7.9777e-01,  9.8703e-05, -1.0450e+00]])"
            ]
          },
          "metadata": {},
          "execution_count": 26
        }
      ],
      "source": [
        "# creating a random tensor with the same dimensions as another tensor\n",
        "x = torch.randn_like(x1, dtype=torch.float)\n",
        "x"
      ]
    },
    {
      "cell_type": "code",
      "execution_count": null,
      "metadata": {
        "id": "omcYoksM0KfF"
      },
      "outputs": [],
      "source": [
        "x = torch.rand(5, 3)\n",
        "y = torch.rand(5, 3)"
      ]
    },
    {
      "cell_type": "code",
      "execution_count": null,
      "metadata": {
        "colab": {
          "base_uri": "https://localhost:8080/"
        },
        "id": "7jeNAhB50KfG",
        "outputId": "c7a39a37-7fc5-4a37-e2f2-7a252eb72b3b"
      },
      "outputs": [
        {
          "output_type": "execute_result",
          "data": {
            "text/plain": [
              "tensor([[0.7778, 0.8266, 0.7164],\n",
              "        [0.6085, 0.3872, 0.9500],\n",
              "        [0.7164, 0.8877, 0.2837],\n",
              "        [0.7987, 0.6304, 0.0518],\n",
              "        [0.0974, 0.1693, 0.5829]])"
            ]
          },
          "metadata": {},
          "execution_count": 28
        }
      ],
      "source": [
        "x"
      ]
    },
    {
      "cell_type": "code",
      "execution_count": null,
      "metadata": {
        "colab": {
          "base_uri": "https://localhost:8080/"
        },
        "id": "DFmQjhzI0KfG",
        "outputId": "d2d3ceee-fcb3-4c5a-8013-8ebe7c103df3"
      },
      "outputs": [
        {
          "output_type": "execute_result",
          "data": {
            "text/plain": [
              "tensor([[0.8946, 0.1640, 0.5152],\n",
              "        [0.1000, 0.5674, 0.5686],\n",
              "        [0.9528, 0.9837, 0.5304],\n",
              "        [0.5406, 0.6813, 0.6985],\n",
              "        [0.7237, 0.2729, 0.5225]])"
            ]
          },
          "metadata": {},
          "execution_count": 29
        }
      ],
      "source": [
        "y"
      ]
    },
    {
      "cell_type": "code",
      "execution_count": null,
      "metadata": {
        "colab": {
          "base_uri": "https://localhost:8080/"
        },
        "id": "JnRS-_nt0KfH",
        "outputId": "bc578e1c-fa20-44e9-8abe-875d8fd96621"
      },
      "outputs": [
        {
          "output_type": "execute_result",
          "data": {
            "text/plain": [
              "tensor([[1.6724, 0.9906, 1.2316],\n",
              "        [0.7085, 0.9546, 1.5186],\n",
              "        [1.6692, 1.8713, 0.8141],\n",
              "        [1.3393, 1.3118, 0.7503],\n",
              "        [0.8211, 0.4422, 1.1054]])"
            ]
          },
          "metadata": {},
          "execution_count": 30
        }
      ],
      "source": [
        "# Addition\n",
        "x + y"
      ]
    },
    {
      "cell_type": "code",
      "execution_count": null,
      "metadata": {
        "colab": {
          "base_uri": "https://localhost:8080/"
        },
        "id": "FiDNVlS80KfI",
        "outputId": "f3b11411-b6ae-424a-e776-7147bea2ed40"
      },
      "outputs": [
        {
          "output_type": "execute_result",
          "data": {
            "text/plain": [
              "tensor([[1.6724, 0.9906, 1.2316],\n",
              "        [0.7085, 0.9546, 1.5186],\n",
              "        [1.6692, 1.8713, 0.8141],\n",
              "        [1.3393, 1.3118, 0.7503],\n",
              "        [0.8211, 0.4422, 1.1054]])"
            ]
          },
          "metadata": {},
          "execution_count": 31
        }
      ],
      "source": [
        "z = torch.add(x, y)\n",
        "z"
      ]
    },
    {
      "cell_type": "code",
      "execution_count": null,
      "metadata": {
        "colab": {
          "base_uri": "https://localhost:8080/"
        },
        "id": "Znt7WDb70KfI",
        "outputId": "6b12df57-cd24-4b9d-c09f-f7f10be06725"
      },
      "outputs": [
        {
          "output_type": "execute_result",
          "data": {
            "text/plain": [
              "tensor([[1.6724, 0.9906, 1.2316],\n",
              "        [0.7085, 0.9546, 1.5186],\n",
              "        [1.6692, 1.8713, 0.8141],\n",
              "        [1.3393, 1.3118, 0.7503],\n",
              "        [0.8211, 0.4422, 1.1054]])"
            ]
          },
          "metadata": {},
          "execution_count": 32
        }
      ],
      "source": [
        "torch.add(x, y, out=x)\n",
        "x"
      ]
    },
    {
      "cell_type": "code",
      "execution_count": null,
      "metadata": {
        "colab": {
          "base_uri": "https://localhost:8080/"
        },
        "id": "7hbW6IBA0Kfa",
        "outputId": "80043853-c6ec-424b-c8a5-290ea6d1f952"
      },
      "outputs": [
        {
          "output_type": "execute_result",
          "data": {
            "text/plain": [
              "torch.Size([1, 5, 3])"
            ]
          },
          "metadata": {},
          "execution_count": 33
        }
      ],
      "source": [
        "# Added a dimension at the beginning, analogous to broadcasting\n",
        "x.unsqueeze(0).size()"
      ]
    },
    {
      "cell_type": "code",
      "execution_count": null,
      "metadata": {
        "colab": {
          "base_uri": "https://localhost:8080/"
        },
        "id": "o-gepTtR0Kfb",
        "outputId": "8b9aba8f-e946-4de0-8774-8af79aa9ff4b"
      },
      "outputs": [
        {
          "output_type": "execute_result",
          "data": {
            "text/plain": [
              "torch.Size([1, 5, 3])"
            ]
          },
          "metadata": {},
          "execution_count": 34
        }
      ],
      "source": [
        "# Removed one singleton dimension\n",
        "x.unsqueeze(0).unsqueeze(1).squeeze(0).size()"
      ]
    },
    {
      "cell_type": "code",
      "execution_count": null,
      "metadata": {
        "colab": {
          "base_uri": "https://localhost:8080/"
        },
        "id": "97uJmpBo0Kfc",
        "outputId": "1841939c-e47e-4e9a-e786-38d44a6e4a28"
      },
      "outputs": [
        {
          "output_type": "execute_result",
          "data": {
            "text/plain": [
              "torch.Size([5, 3])"
            ]
          },
          "metadata": {},
          "execution_count": 35
        }
      ],
      "source": [
        "# Removed all singleton dimensions\n",
        "x.unsqueeze(0).unsqueeze(1).squeeze().size()"
      ]
    },
    {
      "cell_type": "code",
      "execution_count": null,
      "metadata": {
        "colab": {
          "base_uri": "https://localhost:8080/"
        },
        "id": "s01tuBGN0Kfd",
        "outputId": "6a9f7164-1b2e-493f-996f-12b503fe7914"
      },
      "outputs": [
        {
          "output_type": "execute_result",
          "data": {
            "text/plain": [
              "torch.Size([5, 3])"
            ]
          },
          "metadata": {},
          "execution_count": 36
        }
      ],
      "source": [
        "# Operations without '_' do not modify the tensor but create a copy\n",
        "x.unsqueeze(0)\n",
        "x.size()"
      ]
    },
    {
      "cell_type": "code",
      "execution_count": null,
      "metadata": {
        "colab": {
          "base_uri": "https://localhost:8080/"
        },
        "id": "I9MOYqQQ0Kfe",
        "outputId": "c337783e-650c-400d-d864-81b9217ab3fe"
      },
      "outputs": [
        {
          "output_type": "execute_result",
          "data": {
            "text/plain": [
              "torch.Size([1, 5, 3])"
            ]
          },
          "metadata": {},
          "execution_count": 37
        }
      ],
      "source": [
        "# Operations with '_' modify the tensor\n",
        "x.unsqueeze_(0)\n",
        "x.size()"
      ]
    },
    {
      "cell_type": "markdown",
      "metadata": {
        "id": "_o72STAw0Kff"
      },
      "source": [
        "We can perform regular slicing and convert matrices between **PyTorch** and **NumPy**:\n"
      ]
    },
    {
      "cell_type": "code",
      "execution_count": null,
      "metadata": {
        "colab": {
          "base_uri": "https://localhost:8080/"
        },
        "id": "4Ir2iKnz0Kfg",
        "outputId": "c02b6b03-c9b8-450c-d951-0646e445a6d0"
      },
      "outputs": [
        {
          "output_type": "execute_result",
          "data": {
            "text/plain": [
              "True"
            ]
          },
          "metadata": {},
          "execution_count": 38
        }
      ],
      "source": [
        "a = np.ones((3, 5))\n",
        "x = torch.ones((3, 5))\n",
        "np.allclose(x.numpy(), a)"
      ]
    },
    {
      "cell_type": "code",
      "execution_count": null,
      "metadata": {
        "colab": {
          "base_uri": "https://localhost:8080/"
        },
        "id": "KgPWXfRE0Kfh",
        "outputId": "f3080aa1-b556-4a07-f6c0-e340d3dd922c"
      },
      "outputs": [
        {
          "output_type": "execute_result",
          "data": {
            "text/plain": [
              "True"
            ]
          },
          "metadata": {},
          "execution_count": 39
        }
      ],
      "source": [
        "np.allclose(x.numpy()[:, 1], a[:, 1])"
      ]
    },
    {
      "cell_type": "code",
      "execution_count": null,
      "metadata": {
        "colab": {
          "base_uri": "https://localhost:8080/"
        },
        "id": "ImVN58lC0Kfi",
        "outputId": "b9228a85-87db-440c-8479-42848486c304"
      },
      "outputs": [
        {
          "output_type": "execute_result",
          "data": {
            "text/plain": [
              "tensor([[1., 1., 1., 1., 1.],\n",
              "        [1., 1., 1., 1., 1.],\n",
              "        [1., 1., 1., 1., 1.]])"
            ]
          },
          "metadata": {},
          "execution_count": 40
        }
      ],
      "source": [
        "torch.from_numpy(x.numpy())"
      ]
    },
    {
      "cell_type": "markdown",
      "metadata": {
        "id": "7ugXJIuE0Kfj"
      },
      "source": [
        "### 3. Working with Gradients Manually"
      ]
    },
    {
      "cell_type": "code",
      "source": [
        "import pandas as pd\n",
        "import numpy as np\n",
        "import torch\n",
        "import torch.nn.functional as F\n",
        "import torchvision\n",
        "from torch import nn\n",
        "from tqdm.notebook import tqdm\n",
        "import matplotlib.pyplot as plt\n"
      ],
      "metadata": {
        "id": "c4nJT-4bo_b9"
      },
      "execution_count": 7,
      "outputs": []
    },
    {
      "cell_type": "code",
      "execution_count": 8,
      "metadata": {
        "colab": {
          "base_uri": "https://localhost:8080/",
          "height": 430
        },
        "id": "xBbiARMv0Kfk",
        "outputId": "ea550383-f56f-424e-a0ae-c1d2032d1139"
      },
      "outputs": [
        {
          "output_type": "display_data",
          "data": {
            "text/plain": [
              "<Figure size 640x480 with 1 Axes>"
            ],
            "image/png": "[encoded data removed]"
          },
          "metadata": {}
        }
      ],
      "source": [
        "data_url = \"http://lib.stat.cmu.edu/datasets/boston\"\n",
        "raw_df = pd.read_csv(data_url, sep=\"\\s+\", skiprows=22, header=None)\n",
        "data = np.hstack([raw_df.values[::2, :], raw_df.values[1::2, :2]])\n",
        "target = raw_df.values[1::2, 2]\n",
        "plt.scatter(data[:, -1], target);"
      ]
    },
    {
      "cell_type": "markdown",
      "metadata": {
        "id": "zhN9rw8D0Kfm"
      },
      "source": [
        "In **PyTorch**, when creating a tensor object, there is an option to specify whether to compute gradients for it using the `requires_grad` parameter. When `requires_grad=True`, we inform the framework that we want to track all tensors derived from it and that autograd should record operations on this tensor. If these functions are differentiable, the tensor will have a `.grad` attribute containing the gradient value.\n"
      ]
    },
    {
      "cell_type": "markdown",
      "metadata": {
        "id": "h7DEMRpo0Kfo"
      },
      "source": [
        "![image.png](data:image/png;base64,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)"
      ]
    },
    {
      "cell_type": "markdown",
      "metadata": {
        "id": "qVjlIsgm0Kfp"
      },
      "source": [
        "If the `.backward()` method is applied to the resulting tensor, the framework will compute gradients through the entire chain for all tensors with `requires_grad=True`.\n"
      ]
    },
    {
      "cell_type": "code",
      "execution_count": 9,
      "metadata": {
        "id": "rREO5dG30Kfq"
      },
      "outputs": [],
      "source": [
        "w = torch.rand(1, requires_grad=True)\n",
        "b = torch.rand(1, requires_grad=True)\n",
        "\n",
        "x = torch.tensor(data[:, -1] / data[:, -1].max(), dtype=torch.float32)\n",
        "y = torch.tensor(target, dtype=torch.float32)\n",
        "\n",
        "# Created tensors without w.grad=True\n",
        "assert w.grad is None\n",
        "assert b.grad is None"
      ]
    },
    {
      "cell_type": "code",
      "execution_count": 10,
      "metadata": {
        "colab": {
          "base_uri": "https://localhost:8080/"
        },
        "id": "VrGaaxRQ0Kfr",
        "outputId": "69d4546f-188b-4269-8ee8-2e213a6ef277"
      },
      "outputs": [
        {
          "output_type": "execute_result",
          "data": {
            "text/plain": [
              "(torch.Size([506]), torch.Size([506]))"
            ]
          },
          "metadata": {},
          "execution_count": 10
        }
      ],
      "source": [
        "x.size(), y.size()"
      ]
    },
    {
      "cell_type": "code",
      "execution_count": 12,
      "metadata": {
        "id": "YBQeUJoW0Kft"
      },
      "outputs": [],
      "source": [
        "y_pred = w * x + b\n",
        "loss = torch.mean((y_pred - y) ** 2)\n",
        "loss.backward() # Backward propagation"
      ]
    },
    {
      "cell_type": "code",
      "execution_count": 13,
      "metadata": {
        "colab": {
          "base_uri": "https://localhost:8080/"
        },
        "id": "4IP0HVZ30Kfu",
        "outputId": "2ec18aa5-62d9-4408-c7e8-4fd6b19e40d6"
      },
      "outputs": [
        {
          "output_type": "stream",
          "name": "stdout",
          "text": [
            "dL/dw = tensor([-24.2701])\n",
            "dL/db = tensor([-88.2683])\n"
          ]
        }
      ],
      "source": [
        "# Gradient values in corresponding fields appeared\n",
        "assert w.grad is not None\n",
        "assert b.grad is not None\n",
        "\n",
        "print(f\"dL/dw = {w.grad}\")\n",
        "print(f\"dL/db = {b.grad}\")\n"
      ]
    },
    {
      "cell_type": "markdown",
      "metadata": {
        "id": "6TvGn8or0Kfv"
      },
      "source": [
        "To access the values in a tensor, use the `.data` attribute:\n",
        "```python\n",
        "tensor_value = some_tensor.data\n"
      ]
    },
    {
      "cell_type": "code",
      "execution_count": null,
      "metadata": {
        "colab": {
          "base_uri": "https://localhost:8080/"
        },
        "id": "o1HvFQaH0Kfw",
        "outputId": "2c60d5a4-d973-42d3-dfc5-557f48e2cc75"
      },
      "outputs": [
        {
          "output_type": "execute_result",
          "data": {
            "text/plain": [
              "(tensor([0.1156]), tensor([-12.3550]))"
            ]
          },
          "metadata": {},
          "execution_count": 46
        }
      ],
      "source": [
        "w.data, w.grad"
      ]
    },
    {
      "cell_type": "code",
      "execution_count": null,
      "metadata": {
        "colab": {
          "base_uri": "https://localhost:8080/"
        },
        "id": "-zpmyWEG0Kfx",
        "outputId": "24366ac7-f7ec-4d96-fcfa-151fd85715cc"
      },
      "outputs": [
        {
          "output_type": "execute_result",
          "data": {
            "text/plain": [
              "tensor([0.1156], requires_grad=True)"
            ]
          },
          "metadata": {},
          "execution_count": 47
        }
      ],
      "source": [
        "w"
      ]
    },
    {
      "cell_type": "code",
      "execution_count": 14,
      "metadata": {
        "colab": {
          "base_uri": "https://localhost:8080/",
          "height": 745
        },
        "id": "yShQE_vK0Kfy",
        "outputId": "f7a5b274-04c0-4361-c3b2-53ebecc33b90"
      },
      "outputs": [
        {
          "output_type": "display_data",
          "data": {
            "text/plain": [
              "<Figure size 1000x800 with 1 Axes>"
            ],
            "image/png": "[encoded data removed]"
          },
          "metadata": {}
        },
        {
          "output_type": "stream",
          "name": "stdout",
          "text": [
            "loss =  48.22992\n"
          ]
        }
      ],
      "source": [
        "from IPython.display import clear_output\n",
        "\n",
        "for i in range(300):\n",
        "    y_pred = w * x + b\n",
        "    # Try polynomial regression in this prediction and calculate gradients afterward\n",
        "    loss = torch.mean((y_pred - y) ** 2)\n",
        "    loss.backward()\n",
        "\n",
        "    # Perform a gradient descent step with lr = 0.05\n",
        "    w.data -= 0.05 * w.grad\n",
        "    b.data -= 0.05 * b.grad\n",
        "\n",
        "    # Reset gradients to zero to compute them again on the next step without accumulation\n",
        "    w.grad.data.zero_()\n",
        "    b.grad.data.zero_()\n",
        "\n",
        "    # Plot figures\n",
        "    if (i + 1) % 5 == 0:\n",
        "        clear_output(True)\n",
        "        plt.figure(figsize=(10, 8))\n",
        "        plt.scatter(x.data.numpy(), y.data.numpy(), label=\"data\")\n",
        "        plt.scatter(\n",
        "            x.data.numpy(),\n",
        "            y_pred.data.numpy(),\n",
        "            color=\"orange\",\n",
        "            linewidth=5,\n",
        "            label=\"predictions\",\n",
        "        )\n",
        "        plt.xlabel(\"LSTAT\", fontsize=14)\n",
        "        plt.ylabel(\"MEDV (target)\", fontsize=14)\n",
        "        plt.title(\"Boston modeling\", fontsize=18)\n",
        "        plt.legend(fontsize=14)\n",
        "        plt.show()\n",
        "\n",
        "        print(\"loss = \", loss.data.numpy())\n",
        "        if loss.data.numpy() < 0.1:\n",
        "            print(\"Done!\")\n",
        "            break\n"
      ]
    },
    {
      "cell_type": "markdown",
      "metadata": {
        "id": "3J_cYSYy0Kfz"
      },
      "source": [
        "### 4. First Neural Network\n",
        "\n",
        "To understand how to train neural networks in **PyTorch**, you need to master three things:\n",
        "\n",
        "1. How to create batches and feed them into the network.\n",
        "2. How to define the network architecture.\n",
        "3. How to write the training loop and track metrics.\n",
        "\n",
        "#### How to create batches and feed them into the neural network\n",
        "\n",
        "To be able to iterate through data and apply transformations to them (e.g., augmentations, which you'll learn about later), you need to create your class inherited from `torch.utils.data.Dataset`.\n",
        "\n",
        "Such a class **should have** three methods:\n",
        "\n",
        "- `__init__` — initializes the class fields (e.g., the path to the folder with training object files).\n",
        "- `__len__` — returns information about how many objects we have in the dataset.\n",
        "- `__getitem__` — returns a sample and its target by index.\n",
        "\n",
        "Let's write such a class ourselves, using random values as data."
      ]
    },
    {
      "cell_type": "code",
      "execution_count": null,
      "metadata": {
        "id": "ZYdNtHqQ0Kf0"
      },
      "outputs": [],
      "source": [
        "class RandomDataset(torch.utils.data.Dataset):\n",
        "    \"\"\"\n",
        "    Our random dataset\n",
        "    \"\"\"\n",
        "\n",
        "    def __init__(self, x, y):\n",
        "        self.x = x\n",
        "        self.y = y\n",
        "\n",
        "    def __len__(self):\n",
        "        return len(self.x)\n",
        "\n",
        "    def __getitem__(self, idx):\n",
        "        return {\n",
        "            \"sample\": torch.tensor(self.x[idx, :], dtype=torch.float),\n",
        "            \"target\": self.y[idx],\n",
        "        }"
      ]
    },
    {
      "cell_type": "code",
      "execution_count": null,
      "metadata": {
        "id": "_WfYNuiL0Kf1"
      },
      "outputs": [],
      "source": [
        "x = np.random.rand(1000, 5)\n",
        "y = np.random.rand(1000)"
      ]
    },
    {
      "cell_type": "code",
      "execution_count": null,
      "metadata": {
        "id": "z9vFoTlK0Kf1"
      },
      "outputs": [],
      "source": [
        "our_dataset = RandomDataset(x, y)"
      ]
    },
    {
      "cell_type": "code",
      "execution_count": null,
      "metadata": {
        "colab": {
          "base_uri": "https://localhost:8080/"
        },
        "id": "1QelmGVK0Kf2",
        "outputId": "37ddf3ed-bd38-4e7d-a735-6cf2aa24e6c4"
      },
      "outputs": [
        {
          "output_type": "execute_result",
          "data": {
            "text/plain": [
              "{'sample': tensor([0.4385, 0.1459, 0.2935, 0.9663, 0.8488]),\n",
              " 'target': 0.8775065961281371}"
            ]
          },
          "metadata": {},
          "execution_count": 52
        }
      ],
      "source": [
        "our_dataset.__getitem__(1)"
      ]
    },
    {
      "cell_type": "markdown",
      "metadata": {
        "id": "gt2CXLSm0Kf3"
      },
      "source": [
        "To obtain batches from data in PyTorch, a DataLoader is used, which takes as input a class inherited from `torch.utils.data.Dataset`. Let's look at an example:\n",
        "\n"
      ]
    },
    {
      "cell_type": "code",
      "execution_count": null,
      "metadata": {
        "id": "8LycIOe40Kf3"
      },
      "outputs": [],
      "source": [
        "dataloader = torch.utils.data.DataLoader(our_dataset, batch_size=4)"
      ]
    },
    {
      "cell_type": "markdown",
      "metadata": {
        "id": "lsYe_WcW0Kf4"
      },
      "source": [
        "They are used with it as follows:"
      ]
    },
    {
      "cell_type": "code",
      "execution_count": null,
      "metadata": {
        "colab": {
          "base_uri": "https://localhost:8080/"
        },
        "id": "e_gwvOaP0Kf4",
        "outputId": "cc6be990-c7af-436d-cea0-9e909adb22e0"
      },
      "outputs": [
        {
          "output_type": "stream",
          "name": "stdout",
          "text": [
            "Sample:\n",
            "tensor([[0.5462, 0.7764, 0.7119, 0.4132, 0.6973],\n",
            "        [0.4385, 0.1459, 0.2935, 0.9663, 0.8488],\n",
            "        [0.8572, 0.5000, 0.4637, 0.8505, 0.3231],\n",
            "        [0.8889, 0.6515, 0.9476, 0.8221, 0.3193]])\n",
            "Target:\n",
            "tensor([0.9161, 0.8775, 0.8730, 0.5613], dtype=torch.float64)\n"
          ]
        }
      ],
      "source": [
        "batch = next(iter(dataloader))\n",
        "\n",
        "print(f\"Sample:\\n{batch['sample']}\")\n",
        "print(f\"Target:\\n{batch['target']}\")"
      ]
    },
    {
      "cell_type": "markdown",
      "metadata": {
        "id": "jCvNkkcv0Kf5"
      },
      "source": [
        "#### How to create a neural network\n"
      ]
    },
    {
      "cell_type": "markdown",
      "metadata": {
        "id": "hZ4NgN5e0Kf6"
      },
      "source": [
        "To create neural networks in high-level PyTorch, the `torch.nn` module is used. A neural network should inherit from the `nn.Module` class. Here's an example of how it might look:\n",
        "\n",
        "```python\n",
        "class Model(nn.Module):\n",
        "    def __init__(self):\n",
        "        super(Model, self).__init__()\n",
        "        self.conv1 = nn.Conv2d(1, 20, 5)\n",
        "        self.conv2 = nn.Conv2d(20, 20, 5)\n",
        "\n",
        "    def forward(self, x):\n",
        "       x = F.relu(self.conv1(x))\n",
        "       return F.relu(self.conv2(x))\n",
        "```\n",
        "\n",
        "As we can see from this example, the class **should have** a forward method, which defines the forward pass of the neural network. It's also evident that the nn module contains the implementation of most layers, while the nn.functional module contains activation functions.\n",
        "\n",
        "There's another way to create a neural network, and let's explore it in practice:"
      ]
    },
    {
      "cell_type": "code",
      "execution_count": null,
      "metadata": {
        "id": "wF54liGx0Kf6"
      },
      "outputs": [],
      "source": [
        "model = nn.Sequential()  # Create an empty model to which layers will be added\n",
        "model.add_module(\"l1\", nn.Linear(5, 30))  # Add a layer with 5 input neurons and 30 output neurons\n",
        "model.add_module(\"l2\", nn.ReLU())  # Add an activation function\n",
        "model.add_module(\"l3\", nn.Linear(30, 1))  # Add a layer with 30 input neurons and 1 output neuron\n",
        "\n",
        "# Alternative approach\n",
        "another_model = nn.Sequential(nn.Linear(5, 30), nn.ReLU(), nn.Linear(30, 1))"
      ]
    },
    {
      "cell_type": "code",
      "execution_count": null,
      "metadata": {
        "id": "Dj9jFrRJ0Kf7"
      },
      "outputs": [],
      "source": [
        "y_pred = model(batch[\"sample\"])  # Obtained predictions from the model"
      ]
    },
    {
      "cell_type": "markdown",
      "metadata": {
        "id": "mdOdLbz60Kf8"
      },
      "source": [
        "#### How to write a training loop and track metrics\n",
        "\n",
        "Now, let's put together data loading, model creation, and train on the MNIST dataset that is readily available for us.\n"
      ]
    },
    {
      "cell_type": "code",
      "execution_count": null,
      "metadata": {
        "colab": {
          "base_uri": "https://localhost:8080/"
        },
        "id": "Hw6t2Nzj0Kf8",
        "outputId": "14ee5e53-97ac-400e-b0c8-a5618201d370"
      },
      "outputs": [
        {
          "output_type": "stream",
          "name": "stdout",
          "text": [
            "Downloading http://yann.lecun.com/exdb/mnist/train-images-idx3-ubyte.gz\n",
            "Downloading http://yann.lecun.com/exdb/mnist/train-images-idx3-ubyte.gz to ./mnist/MNIST/raw/train-images-idx3-ubyte.gz\n"
          ]
        },
        {
          "output_type": "stream",
          "name": "stderr",
          "text": [
            "100%|██████████| 9912422/9912422 [00:00<00:00, 113261244.87it/s]"
          ]
        },
        {
          "output_type": "stream",
          "name": "stdout",
          "text": [
            "Extracting ./mnist/MNIST/raw/train-images-idx3-ubyte.gz to ./mnist/MNIST/raw\n"
          ]
        },
        {
          "output_type": "stream",
          "name": "stderr",
          "text": [
            "\n"
          ]
        },
        {
          "output_type": "stream",
          "name": "stdout",
          "text": [
            "\n",
            "Downloading http://yann.lecun.com/exdb/mnist/train-labels-idx1-ubyte.gz\n",
            "Downloading http://yann.lecun.com/exdb/mnist/train-labels-idx1-ubyte.gz to ./mnist/MNIST/raw/train-labels-idx1-ubyte.gz\n"
          ]
        },
        {
          "output_type": "stream",
          "name": "stderr",
          "text": [
            "100%|██████████| 28881/28881 [00:00<00:00, 24576119.66it/s]\n"
          ]
        },
        {
          "output_type": "stream",
          "name": "stdout",
          "text": [
            "Extracting ./mnist/MNIST/raw/train-labels-idx1-ubyte.gz to ./mnist/MNIST/raw\n",
            "\n",
            "Downloading http://yann.lecun.com/exdb/mnist/t10k-images-idx3-ubyte.gz\n",
            "Downloading http://yann.lecun.com/exdb/mnist/t10k-images-idx3-ubyte.gz to ./mnist/MNIST/raw/t10k-images-idx3-ubyte.gz\n"
          ]
        },
        {
          "output_type": "stream",
          "name": "stderr",
          "text": [
            "100%|██████████| 1648877/1648877 [00:00<00:00, 30606435.58it/s]\n"
          ]
        },
        {
          "output_type": "stream",
          "name": "stdout",
          "text": [
            "Extracting ./mnist/MNIST/raw/t10k-images-idx3-ubyte.gz to ./mnist/MNIST/raw\n",
            "\n",
            "Downloading http://yann.lecun.com/exdb/mnist/t10k-labels-idx1-ubyte.gz\n",
            "Downloading http://yann.lecun.com/exdb/mnist/t10k-labels-idx1-ubyte.gz to ./mnist/MNIST/raw/t10k-labels-idx1-ubyte.gz\n"
          ]
        },
        {
          "output_type": "stream",
          "name": "stderr",
          "text": [
            "100%|██████████| 4542/4542 [00:00<00:00, 11232623.09it/s]\n"
          ]
        },
        {
          "output_type": "stream",
          "name": "stdout",
          "text": [
            "Extracting ./mnist/MNIST/raw/t10k-labels-idx1-ubyte.gz to ./mnist/MNIST/raw\n",
            "\n"
          ]
        }
      ],
      "source": [
        "# Use the ready-made class from PyTorch to load training data\n",
        "mnist_train = torchvision.datasets.MNIST(\n",
        "    \"./mnist/\", train=True, download=True, transform=torchvision.transforms.ToTensor()\n",
        ")\n",
        "mnist_val = torchvision.datasets.MNIST(\n",
        "    \"./mnist/\", train=False, download=True, transform=torchvision.transforms.ToTensor()\n",
        ")\n",
        "\n",
        "# Since it's already inherited from the Dataset class, it can be directly wrapped in a DataLoader\n",
        "train_dataloader = torch.utils.data.DataLoader(\n",
        "    mnist_train, batch_size=4, shuffle=True, num_workers=1\n",
        ")\n",
        "\n",
        "val_dataloader = torch.utils.data.DataLoader(\n",
        "    mnist_val, batch_size=4, shuffle=False, num_workers=1\n",
        ")\n"
      ]
    },
    {
      "cell_type": "code",
      "execution_count": null,
      "metadata": {
        "scrolled": true,
        "colab": {
          "base_uri": "https://localhost:8080/",
          "height": 308
        },
        "id": "rBY-fBrt0Kf9",
        "outputId": "ae5957cb-0ff0-4034-f4ba-3926ca800c3b"
      },
      "outputs": [
        {
          "output_type": "display_data",
          "data": {
            "text/plain": [
              "<Figure size 640x480 with 2 Axes>"
            ],
            "image/png": "[encoded data removed]"
          },
          "metadata": {}
        }
      ],
      "source": [
        "# Let's look at what we're working with\n",
        "for i in [0, 1]:\n",
        "    plt.subplot(1, 2, i + 1)\n",
        "    plt.imshow(mnist_train[i][0].squeeze(0).numpy().reshape([28, 28]))\n",
        "    plt.title(str(mnist_train[i][1]))\n",
        "plt.show()\n"
      ]
    },
    {
      "cell_type": "code",
      "execution_count": null,
      "metadata": {
        "id": "-0YRLFLc0Kf-"
      },
      "outputs": [],
      "source": [
        "model = nn.Sequential(\n",
        "    nn.Flatten(),  # Transform the 28x28 image into a vector of size 784\n",
        "    nn.Linear(28 * 28, 128),  # Linear layer transforming a vector of size 784 into a vector of size 128\n",
        "    nn.ReLU(),  # Non-linearity\n",
        "    nn.Linear(128, 10),  # Linear layer transforming a vector of size 128 into a vector of size 10\n",
        ")\n",
        "\n",
        "# Create an optimizer that will update the model weights\n",
        "optimizer = torch.optim.SGD(model.parameters(), lr=0.05)\n"
      ]
    },
    {
      "cell_type": "markdown",
      "metadata": {
        "id": "Ze3dRAoy0Kf_"
      },
      "source": [
        "Model weights are stored as matrices and look like this:"
      ]
    },
    {
      "cell_type": "code",
      "execution_count": null,
      "metadata": {
        "scrolled": false,
        "colab": {
          "base_uri": "https://localhost:8080/"
        },
        "id": "H3kQebZG0KgA",
        "outputId": "aaed6407-f0e3-4829-f03e-b21ecedd1dd5"
      },
      "outputs": [
        {
          "output_type": "execute_result",
          "data": {
            "text/plain": [
              "[('1.weight',\n",
              "  Parameter containing:\n",
              "  tensor([[ 1.1802e-02,  2.5838e-03, -3.1591e-02,  ..., -3.4311e-02,\n",
              "           -4.5556e-03, -1.1638e-03],\n",
              "          [-2.0199e-02,  2.1986e-03,  3.1093e-02,  ..., -3.4112e-02,\n",
              "            7.0197e-05, -3.5628e-02],\n",
              "          [ 1.8605e-02, -3.4087e-02, -7.2568e-03,  ..., -2.4734e-02,\n",
              "            2.6424e-03, -2.6265e-03],\n",
              "          ...,\n",
              "          [-3.5064e-02, -1.6941e-02,  1.2117e-02,  ...,  1.3387e-02,\n",
              "            1.9854e-02,  1.3807e-02],\n",
              "          [-1.6130e-02, -1.5290e-02,  8.7667e-03,  ...,  2.3794e-02,\n",
              "           -2.6146e-02,  3.1920e-02],\n",
              "          [-2.6388e-02,  3.1690e-02, -7.3097e-03,  ...,  1.2506e-02,\n",
              "           -4.7098e-03,  2.9577e-02]], requires_grad=True)),\n",
              " ('1.bias',\n",
              "  Parameter containing:\n",
              "  tensor([-0.0102, -0.0289, -0.0140, -0.0068,  0.0138, -0.0156, -0.0073, -0.0124,\n",
              "          -0.0001,  0.0162, -0.0235,  0.0066,  0.0346,  0.0199,  0.0227, -0.0077,\n",
              "          -0.0232, -0.0309,  0.0108,  0.0337, -0.0306, -0.0087, -0.0248,  0.0232,\n",
              "           0.0119, -0.0251, -0.0025,  0.0033,  0.0341, -0.0258, -0.0231, -0.0301,\n",
              "          -0.0052, -0.0176,  0.0348, -0.0065,  0.0313, -0.0034, -0.0306, -0.0173,\n",
              "          -0.0147, -0.0327, -0.0299, -0.0048, -0.0342,  0.0354, -0.0159, -0.0264,\n",
              "          -0.0320,  0.0019,  0.0207, -0.0280,  0.0300, -0.0348,  0.0209, -0.0161,\n",
              "           0.0131,  0.0236,  0.0095, -0.0032, -0.0004, -0.0160,  0.0226,  0.0319,\n",
              "          -0.0253, -0.0117, -0.0342,  0.0101,  0.0152, -0.0191, -0.0090,  0.0320,\n",
              "           0.0157,  0.0060,  0.0036,  0.0049, -0.0155,  0.0005, -0.0355,  0.0296,\n",
              "           0.0307,  0.0224,  0.0083,  0.0331,  0.0005, -0.0023, -0.0135, -0.0253,\n",
              "          -0.0280, -0.0236,  0.0352,  0.0116, -0.0117, -0.0266, -0.0015, -0.0223,\n",
              "          -0.0168,  0.0333, -0.0356,  0.0228,  0.0214, -0.0107,  0.0076, -0.0265,\n",
              "           0.0219, -0.0252,  0.0291, -0.0287,  0.0042, -0.0091, -0.0327, -0.0033,\n",
              "           0.0223, -0.0324,  0.0194, -0.0239,  0.0192,  0.0292,  0.0168,  0.0346,\n",
              "          -0.0012,  0.0199, -0.0292,  0.0023,  0.0341,  0.0171, -0.0192, -0.0185],\n",
              "         requires_grad=True)),\n",
              " ('3.weight',\n",
              "  Parameter containing:\n",
              "  tensor([[ 0.0865, -0.0658,  0.0034,  ..., -0.0280,  0.0243, -0.0746],\n",
              "          [ 0.0747,  0.0610, -0.0550,  ..., -0.0419,  0.0485, -0.0763],\n",
              "          [-0.0130, -0.0226,  0.0492,  ..., -0.0689, -0.0391,  0.0770],\n",
              "          ...,\n",
              "          [ 0.0306,  0.0240,  0.0099,  ..., -0.0125, -0.0460,  0.0032],\n",
              "          [ 0.0585, -0.0317, -0.0375,  ...,  0.0713,  0.0747, -0.0270],\n",
              "          [ 0.0328, -0.0710,  0.0422,  ..., -0.0343,  0.0373,  0.0214]],\n",
              "         requires_grad=True)),\n",
              " ('3.bias',\n",
              "  Parameter containing:\n",
              "  tensor([-0.0576, -0.0416, -0.0325,  0.0256,  0.0271, -0.0509,  0.0060, -0.0200,\n",
              "           0.0465,  0.0123], requires_grad=True))]"
            ]
          },
          "metadata": {},
          "execution_count": 60
        }
      ],
      "source": [
        "[x for x in model.named_parameters()]"
      ]
    },
    {
      "cell_type": "markdown",
      "metadata": {
        "id": "1BjDEdBA0KgC"
      },
      "source": [
        "Instead of manually plotting graphs in `matplotlib` every time, we will track metrics in a semi-automatic mode using [wandb](https://wandb.ai). To do this, register on the website, install, and log in (it's worth it).\n",
        "\n",
        "Note: Besides this tool, there are other alternatives like Tensorboard (minimalistic, works locally), MLFlow (less visually appealing but open source), Neptune (similar to W&B).\n"
      ]
    },
    {
      "cell_type": "code",
      "source": [
        "!pip install wandb --upgrade --quiet"
      ],
      "metadata": {
        "colab": {
          "base_uri": "https://localhost:8080/"
        },
        "id": "z4n9XfASSFN9",
        "outputId": "cf9bf8f2-8631-4acb-845b-5727bc8d188c"
      },
      "execution_count": null,
      "outputs": [
        {
          "output_type": "stream",
          "name": "stdout",
          "text": [
            "\u001b[2K     \u001b[90m━━━━━━━━━━━━━━━━━━━━━━━━━━━━━━━━━━━━━━━━\u001b[0m \u001b[32m2.2/2.2 MB\u001b[0m \u001b[31m8.0 MB/s\u001b[0m eta \u001b[36m0:00:00\u001b[0m\n",
            "\u001b[2K     \u001b[90m━━━━━━━━━━━━━━━━━━━━━━━━━━━━━━━━━━━━━━━━\u001b[0m \u001b[32m196.4/196.4 kB\u001b[0m \u001b[31m9.0 MB/s\u001b[0m eta \u001b[36m0:00:00\u001b[0m\n",
            "\u001b[2K     \u001b[90m━━━━━━━━━━━━━━━━━━━━━━━━━━━━━━━━━━━━━━━━\u001b[0m \u001b[32m254.1/254.1 kB\u001b[0m \u001b[31m9.7 MB/s\u001b[0m eta \u001b[36m0:00:00\u001b[0m\n",
            "\u001b[2K     \u001b[90m━━━━━━━━━━━━━━━━━━━━━━━━━━━━━━━━━━━━━━━━\u001b[0m \u001b[32m62.7/62.7 kB\u001b[0m \u001b[31m6.3 MB/s\u001b[0m eta \u001b[36m0:00:00\u001b[0m\n",
            "\u001b[?25h"
          ]
        }
      ]
    },
    {
      "cell_type": "code",
      "execution_count": null,
      "metadata": {
        "pycharm": {
          "is_executing": true
        },
        "id": "W7-0av040KgD"
      },
      "outputs": [],
      "source": [
        "# Install wandb\n",
        "# !pip install wandb --upgrade --quiet\n",
        "import wandb\n",
        "\n",
        "# Log in to your user account (you need to enter the key from the wandb.ai settings via the console)\n",
        "wandb.login()\n",
        "\n",
        "# Initialize the project\n",
        "wandb.init(project=\"pytorch-demo\")\n",
        "\n",
        "# Save the model's grid parameters in wandb + request to track the grid gradients\n",
        "wandb.watch(model)\n"
      ]
    },
    {
      "cell_type": "markdown",
      "metadata": {
        "id": "yXEYrxqA0KgE"
      },
      "source": [
        "You can follow the link and monitor our model right during training!\n"
      ]
    },
    {
      "cell_type": "code",
      "execution_count": null,
      "metadata": {
        "scrolled": false,
        "colab": {
          "base_uri": "https://localhost:8080/",
          "height": 325,
          "referenced_widgets": [
            "f8473445abc4479bbeb5c36612e080da",
            "449b8ef18f054f258c98a939532e07e0",
            "d43ca06d1f854be1855d454ef67557f6",
            "815a365c153545539c1828cf2c0e30a6",
            "3ee81775b58140aa91080d2fafacada3",
            "c5b5da4b5f354aa4a126b47f7004a875",
            "732d4d4d562b499eb5a0a6d81c52ca69",
            "893c16e25a4f4067800421b7a97f8536",
            "b65443342c0e4ba9ab2597e5143f85b6",
            "48a1db29e81d4feeb0a1159020929e78",
            "559360328b504e05aca02f8ab8234b36",
            "54c383c0778f4e689df05ffbd9980851",
            "26f5f562c0144fb6ae1a9da289cd9035",
            "3879d503d5ef450fa67e13e0de08a4c9",
            "90a04ec87a2946e5a9062d44f223c557",
            "d87183618d0547319556b07f6d139ed8",
            "a11aaab171a740c9b05794bdd784aae7",
            "01b55c314e444d849d470d067f4ff66d",
            "c825525a437f448e83e2c505a0ffd60e",
            "1dbfa40df2f240b9bae120c91eebc66b",
            "b96d79c18d6342848a6f4ce8a31e8438",
            "4d0b97d7a1eb4338b279626bcc2f0183",
            "b78ae5111bc54a5385c7b5fd83a2e771",
            "34cc74b147894561906debb15debf75a",
            "a15b507e9c7848298198b0dfe6af68fb",
            "c23aaf36a2f347f9913814d808240b7f",
            "334dff426e5d45a38bcecc71aa0ab690",
            "7dc91cd81bb04d55bb5db4f7ba7e415d",
            "8d90969e5b584004aa163c1ce85f4583",
            "46bba9e237dd4241a4aa4dfdbd1dbcc5",
            "d346005056d949bdb85fd6d0d58f7175",
            "ccd7f9fc83e74c23a08d2bb2fe275adb",
            "47b499364a144a0ebcdd40141159764e",
            "c98c94f7aee5482a9f8ea68955f4bf00",
            "1485f4e3c1f647ab8307c7609180636d",
            "68822a38ef164f609b012e91eb2e73c5",
            "a06bc77fa0264b46ba6778ce9580f584",
            "30b130d38bf041fab0571d21197e00f1",
            "a908915186b54b0199bc56e42630c596",
            "edafeda850174c8ea757e7e1974ef900",
            "2029605a9a834ef1a03e9e3d1844370f",
            "12a50f2968cc40edb56474aac2dce85d",
            "429412f49c06485fba9df061ab228ec3",
            "61375db44b7b40d69a0f2a867ff8c9b1",
            "9bed04cfdf2d48b396356e916fff16a4",
            "a849b466aa8d4c77bb49290a98e1dd65",
            "9fa9f99885314b5285800f29b08f2d6d",
            "7bbbe58862474c7fa3290b5c6ff91d21",
            "619fb8a8b5a84a32bc87d58250844eb8",
            "6345e5133ad9476d8b8c0fbc7da9679c",
            "71261f5637164f08bb83a6ccc44e6ad6",
            "ba771a8f025a431ea451fbcbdc402e74",
            "0720436d7e8644b7a7055731ed4138fe",
            "40adfed39adf4e9cade2378e112206ca",
            "ec1bf3705d7b4b2f9c3aac5b60597022",
            "2fd7885796814e6894d8081e0c9760b6",
            "a6c9a61a1c7a4e9b8d680d622130246b",
            "d29be1ee3aa1476e93d79479fa1688e3",
            "27f814f759de420ca29138a52f646a4c",
            "3efd13fd5f5243c78f02761da4fe0e60",
            "bf0192b04d074e6386e7390fe5a5b346",
            "c55f191108fa47cbac29bc7f38a0d3e6",
            "6849f968a6f546a5b5dc41c3b6cf40a3",
            "1ba02dadeea84f6294145d2d1e584be6",
            "977664640226462fbdaddd7087e744b6",
            "1e7d7e0ed8fa4087bd69de3522178413",
            "df96fc67383047c0b2a9e1cf47bc0e69",
            "9918d3ce650546418d568f0e327d8ad9",
            "3dab7b18ab914c5db34c2cb5181271e4",
            "cc850ac2bd974c758bbd5b94a7b12f27",
            "9256bfe1cad2457583486cdcdf042fe5",
            "f0100c86ea43451d9ae1ea739985ef46",
            "47fbf44bf17c46b6a87be77c61e177cb",
            "86c5f00e2e6b438d937ec836946b678b",
            "92c67539a5914bcc93e1bd905a2e4264",
            "b25133ff8dbf44439c409918b30ee74d",
            "0375be7d9248427f96fadad920efab47",
            "61acba45a5b94cccbd3096fe25c27eb7",
            "dca7c19c07424114b13dde0a94f8d891",
            "3f506beb95d646b89776e80f340a0f02",
            "533fef3f18aa4f6e8035d958b3bf8d60",
            "a8830015a53040a18f235d30b2182857",
            "a0c2ae2694384788a94726cab816a696",
            "5234c320a89e44298d605334d6f752bb",
            "8ddbac9ed8194909af7047bca2150fef",
            "b4d87b7bac30486190b86a2a295e3824",
            "6f5bef8efddc4aefa2e611978f060896",
            "537446912aa446008da44c37ff5619cd"
          ]
        },
        "id": "uXb5l5fi0KgG",
        "outputId": "a91cb5d7-67d8-4274-c471-0fc3119dd4b4"
      },
      "outputs": [
        {
          "output_type": "display_data",
          "data": {
            "text/plain": [
              "  0%|          | 0/15000 [00:00<?, ?it/s]"
            ],
            "application/vnd.jupyter.widget-view+json": {
              "version_major": 2,
              "version_minor": 0,
              "model_id": "f8473445abc4479bbeb5c36612e080da"
            }
          },
          "metadata": {}
        },
        {
          "output_type": "display_data",
          "data": {
            "text/plain": [
              "  0%|          | 0/2500 [00:00<?, ?it/s]"
            ],
            "application/vnd.jupyter.widget-view+json": {
              "version_major": 2,
              "version_minor": 0,
              "model_id": "54c383c0778f4e689df05ffbd9980851"
            }
          },
          "metadata": {}
        },
        {
          "output_type": "stream",
          "name": "stdout",
          "text": [
            "Epoch: 0, loss: 0.12197370827198029, accuracy: 0.963\n"
          ]
        },
        {
          "output_type": "display_data",
          "data": {
            "text/plain": [
              "  0%|          | 0/15000 [00:00<?, ?it/s]"
            ],
            "application/vnd.jupyter.widget-view+json": {
              "version_major": 2,
              "version_minor": 0,
              "model_id": "b78ae5111bc54a5385c7b5fd83a2e771"
            }
          },
          "metadata": {}
        },
        {
          "output_type": "display_data",
          "data": {
            "text/plain": [
              "  0%|          | 0/15000 [00:00<?, ?it/s]"
            ],
            "application/vnd.jupyter.widget-view+json": {
              "version_major": 2,
              "version_minor": 0,
              "model_id": "c98c94f7aee5482a9f8ea68955f4bf00"
            }
          },
          "metadata": {}
        },
        {
          "output_type": "display_data",
          "data": {
            "text/plain": [
              "  0%|          | 0/2500 [00:00<?, ?it/s]"
            ],
            "application/vnd.jupyter.widget-view+json": {
              "version_major": 2,
              "version_minor": 0,
              "model_id": "9bed04cfdf2d48b396356e916fff16a4"
            }
          },
          "metadata": {}
        },
        {
          "output_type": "stream",
          "name": "stdout",
          "text": [
            "Epoch: 2, loss: 0.09390398859977722, accuracy: 0.9717\n"
          ]
        },
        {
          "output_type": "display_data",
          "data": {
            "text/plain": [
              "  0%|          | 0/15000 [00:00<?, ?it/s]"
            ],
            "application/vnd.jupyter.widget-view+json": {
              "version_major": 2,
              "version_minor": 0,
              "model_id": "2fd7885796814e6894d8081e0c9760b6"
            }
          },
          "metadata": {}
        },
        {
          "output_type": "display_data",
          "data": {
            "text/plain": [
              "  0%|          | 0/15000 [00:00<?, ?it/s]"
            ],
            "application/vnd.jupyter.widget-view+json": {
              "version_major": 2,
              "version_minor": 0,
              "model_id": "df96fc67383047c0b2a9e1cf47bc0e69"
            }
          },
          "metadata": {}
        },
        {
          "output_type": "display_data",
          "data": {
            "text/plain": [
              "  0%|          | 0/2500 [00:00<?, ?it/s]"
            ],
            "application/vnd.jupyter.widget-view+json": {
              "version_major": 2,
              "version_minor": 0,
              "model_id": "61acba45a5b94cccbd3096fe25c27eb7"
            }
          },
          "metadata": {}
        },
        {
          "output_type": "stream",
          "name": "stdout",
          "text": [
            "Epoch: 4, loss: 0.08953408896923065, accuracy: 0.9742\n"
          ]
        }
      ],
      "source": [
        "# We'll have a total of 5 epochs (we'll go through all batches from the training set 5 times)\n",
        "for epoch in range(5):\n",
        "    for x_train, y_train in tqdm(train_dataloader):  # Take a batch from the training loader\n",
        "        y_pred = model(x_train)  # Make predictions\n",
        "        loss = F.cross_entropy(y_pred, y_train)  # Calculate loss\n",
        "        loss.backward()  # Calculate gradients with backward pass\n",
        "        optimizer.step()  # Update network parameters\n",
        "        optimizer.zero_grad()  # Reset calculated parameter gradients\n",
        "\n",
        "    if epoch % 2 == 0:\n",
        "        val_loss = []  # We'll store the **average per batch** loss here\n",
        "        val_accuracy = []\n",
        "        with torch.no_grad():  # For validation, we forbid the framework from computing gradients for parameters\n",
        "            for x_val, y_val in tqdm(val_dataloader):  # Take a batch from the validation loader\n",
        "                y_pred = model(x_val)  # Make predictions\n",
        "                loss = F.cross_entropy(y_pred, y_val)  # Calculate loss\n",
        "                val_loss.append(loss.numpy())  # Add to the array\n",
        "                val_accuracy.extend(\n",
        "                    (torch.argmax(y_pred, dim=-1) == y_val).numpy().tolist()\n",
        "                )\n",
        "\n",
        "        # Log metrics on wandb and automatically view the graphs\n",
        "        wandb.log(\n",
        "            {\n",
        "                \"mean val loss\": np.mean(val_loss),\n",
        "                \"mean val accuracy\": np.mean(val_accuracy),\n",
        "            }\n",
        "        )\n",
        "\n",
        "        # Print metrics\n",
        "        print(\n",
        "            f\"Epoch: {epoch}, loss: {np.mean(val_loss)}, accuracy: {np.mean(val_accuracy)}\"\n",
        "        )\n"
      ]
    },
    {
      "cell_type": "markdown",
      "metadata": {
        "id": "vKM6UcAd0KgJ"
      },
      "source": [
        "### Additional Resources\n",
        "\n",
        "* [A good book about PyTorch](https://isip.piconepress.com/courses/temple/ece_4822/resources/books/Deep-Learning-with-PyTorch.pdf)\n",
        "* [Using PyTorch on GPU](https://pytorch.org/docs/master/notes/cuda.html)\n",
        "* [PyTorch in 60 minutes](http://pytorch.org/tutorials/beginner/deep_learning_60min_blitz.html)\n",
        "* [How automatic differentiation works in PyTorch](https://videolectures.net/deeplearning2017_johnson_automatic_differentiation/)\n"
      ]
    }
  ],
  "metadata": {
    "kernelspec": {
      "display_name": "Python 3 (ipykernel)",
      "language": "python",
      "name": "python3"
    },
    "language_info": {
      "codemirror_mode": {
        "name": "ipython",
        "version": 3
      },
      "file_extension": ".py",
      "mimetype": "text/x-python",
      "name": "python",
      "nbconvert_exporter": "python",
      "pygments_lexer": "ipython3",
      "version": "3.9.10"
    },
    "colab": {
      "provenance": [],
      "include_colab_link": true
    },
    "widgets": {
      "application/vnd.jupyter.widget-state+json": {
        "f8473445abc4479bbeb5c36612e080da": {
          "model_module": "@jupyter-widgets/controls",
          "model_name": "HBoxModel",
          "model_module_version": "1.5.0",
          "state": {
            "_dom_classes": [],
            "_model_module": "@jupyter-widgets/controls",
            "_model_module_version": "1.5.0",
            "_model_name": "HBoxModel",
            "_view_count": null,
            "_view_module": "@jupyter-widgets/controls",
            "_view_module_version": "1.5.0",
            "_view_name": "HBoxView",
            "box_style": "",
            "children": [
              "IPY_MODEL_449b8ef18f054f258c98a939532e07e0",
              "IPY_MODEL_d43ca06d1f854be1855d454ef67557f6",
              "IPY_MODEL_815a365c153545539c1828cf2c0e30a6"
            ],
            "layout": "IPY_MODEL_3ee81775b58140aa91080d2fafacada3"
          }
        },
        "449b8ef18f054f258c98a939532e07e0": {
          "model_module": "@jupyter-widgets/controls",
          "model_name": "HTMLModel",
          "model_module_version": "1.5.0",
          "state": {
            "_dom_classes": [],
            "_model_module": "@jupyter-widgets/controls",
            "_model_module_version": "1.5.0",
            "_model_name": "HTMLModel",
            "_view_count": null,
            "_view_module": "@jupyter-widgets/controls",
            "_view_module_version": "1.5.0",
            "_view_name": "HTMLView",
            "description": "",
            "description_tooltip": null,
            "layout": "IPY_MODEL_c5b5da4b5f354aa4a126b47f7004a875",
            "placeholder": "​",
            "style": "IPY_MODEL_732d4d4d562b499eb5a0a6d81c52ca69",
            "value": "100%"
          }
        },
        "d43ca06d1f854be1855d454ef67557f6": {
          "model_module": "@jupyter-widgets/controls",
          "model_name": "FloatProgressModel",
          "model_module_version": "1.5.0",
          "state": {
            "_dom_classes": [],
            "_model_module": "@jupyter-widgets/controls",
            "_model_module_version": "1.5.0",
            "_model_name": "FloatProgressModel",
            "_view_count": null,
            "_view_module": "@jupyter-widgets/controls",
            "_view_module_version": "1.5.0",
            "_view_name": "ProgressView",
            "bar_style": "success",
            "description": "",
            "description_tooltip": null,
            "layout": "IPY_MODEL_893c16e25a4f4067800421b7a97f8536",
            "max": 15000,
            "min": 0,
            "orientation": "horizontal",
            "style": "IPY_MODEL_b65443342c0e4ba9ab2597e5143f85b6",
            "value": 15000
          }
        },
        "815a365c153545539c1828cf2c0e30a6": {
          "model_module": "@jupyter-widgets/controls",
          "model_name": "HTMLModel",
          "model_module_version": "1.5.0",
          "state": {
            "_dom_classes": [],
            "_model_module": "@jupyter-widgets/controls",
            "_model_module_version": "1.5.0",
            "_model_name": "HTMLModel",
            "_view_count": null,
            "_view_module": "@jupyter-widgets/controls",
            "_view_module_version": "1.5.0",
            "_view_name": "HTMLView",
            "description": "",
            "description_tooltip": null,
            "layout": "IPY_MODEL_48a1db29e81d4feeb0a1159020929e78",
            "placeholder": "​",
            "style": "IPY_MODEL_559360328b504e05aca02f8ab8234b36",
            "value": " 15000/15000 [01:20&lt;00:00, 190.35it/s]"
          }
        },
        "3ee81775b58140aa91080d2fafacada3": {
          "model_module": "@jupyter-widgets/base",
          "model_name": "LayoutModel",
          "model_module_version": "1.2.0",
          "state": {
            "_model_module": "@jupyter-widgets/base",
            "_model_module_version": "1.2.0",
            "_model_name": "LayoutModel",
            "_view_count": null,
            "_view_module": "@jupyter-widgets/base",
            "_view_module_version": "1.2.0",
            "_view_name": "LayoutView",
            "align_content": null,
            "align_items": null,
            "align_self": null,
            "border": null,
            "bottom": null,
            "display": null,
            "flex": null,
            "flex_flow": null,
            "grid_area": null,
            "grid_auto_columns": null,
            "grid_auto_flow": null,
            "grid_auto_rows": null,
            "grid_column": null,
            "grid_gap": null,
            "grid_row": null,
            "grid_template_areas": null,
            "grid_template_columns": null,
            "grid_template_rows": null,
            "height": null,
            "justify_content": null,
            "justify_items": null,
            "left": null,
            "margin": null,
            "max_height": null,
            "max_width": null,
            "min_height": null,
            "min_width": null,
            "object_fit": null,
            "object_position": null,
            "order": null,
            "overflow": null,
            "overflow_x": null,
            "overflow_y": null,
            "padding": null,
            "right": null,
            "top": null,
            "visibility": null,
            "width": null
          }
        },
        "c5b5da4b5f354aa4a126b47f7004a875": {
          "model_module": "@jupyter-widgets/base",
          "model_name": "LayoutModel",
          "model_module_version": "1.2.0",
          "state": {
            "_model_module": "@jupyter-widgets/base",
            "_model_module_version": "1.2.0",
            "_model_name": "LayoutModel",
            "_view_count": null,
            "_view_module": "@jupyter-widgets/base",
            "_view_module_version": "1.2.0",
            "_view_name": "LayoutView",
            "align_content": null,
            "align_items": null,
            "align_self": null,
            "border": null,
            "bottom": null,
            "display": null,
            "flex": null,
            "flex_flow": null,
            "grid_area": null,
            "grid_auto_columns": null,
            "grid_auto_flow": null,
            "grid_auto_rows": null,
            "grid_column": null,
            "grid_gap": null,
            "grid_row": null,
            "grid_template_areas": null,
            "grid_template_columns": null,
            "grid_template_rows": null,
            "height": null,
            "justify_content": null,
            "justify_items": null,
            "left": null,
            "margin": null,
            "max_height": null,
            "max_width": null,
            "min_height": null,
            "min_width": null,
            "object_fit": null,
            "object_position": null,
            "order": null,
            "overflow": null,
            "overflow_x": null,
            "overflow_y": null,
            "padding": null,
            "right": null,
            "top": null,
            "visibility": null,
            "width": null
          }
        },
        "732d4d4d562b499eb5a0a6d81c52ca69": {
          "model_module": "@jupyter-widgets/controls",
          "model_name": "DescriptionStyleModel",
          "model_module_version": "1.5.0",
          "state": {
            "_model_module": "@jupyter-widgets/controls",
            "_model_module_version": "1.5.0",
            "_model_name": "DescriptionStyleModel",
            "_view_count": null,
            "_view_module": "@jupyter-widgets/base",
            "_view_module_version": "1.2.0",
            "_view_name": "StyleView",
            "description_width": ""
          }
        },
        "893c16e25a4f4067800421b7a97f8536": {
          "model_module": "@jupyter-widgets/base",
          "model_name": "LayoutModel",
          "model_module_version": "1.2.0",
          "state": {
            "_model_module": "@jupyter-widgets/base",
            "_model_module_version": "1.2.0",
            "_model_name": "LayoutModel",
            "_view_count": null,
            "_view_module": "@jupyter-widgets/base",
            "_view_module_version": "1.2.0",
            "_view_name": "LayoutView",
            "align_content": null,
            "align_items": null,
            "align_self": null,
            "border": null,
            "bottom": null,
            "display": null,
            "flex": null,
            "flex_flow": null,
            "grid_area": null,
            "grid_auto_columns": null,
            "grid_auto_flow": null,
            "grid_auto_rows": null,
            "grid_column": null,
            "grid_gap": null,
            "grid_row": null,
            "grid_template_areas": null,
            "grid_template_columns": null,
            "grid_template_rows": null,
            "height": null,
            "justify_content": null,
            "justify_items": null,
            "left": null,
            "margin": null,
            "max_height": null,
            "max_width": null,
            "min_height": null,
            "min_width": null,
            "object_fit": null,
            "object_position": null,
            "order": null,
            "overflow": null,
            "overflow_x": null,
            "overflow_y": null,
            "padding": null,
            "right": null,
            "top": null,
            "visibility": null,
            "width": null
          }
        },
        "b65443342c0e4ba9ab2597e5143f85b6": {
          "model_module": "@jupyter-widgets/controls",
          "model_name": "ProgressStyleModel",
          "model_module_version": "1.5.0",
          "state": {
            "_model_module": "@jupyter-widgets/controls",
            "_model_module_version": "1.5.0",
            "_model_name": "ProgressStyleModel",
            "_view_count": null,
            "_view_module": "@jupyter-widgets/base",
            "_view_module_version": "1.2.0",
            "_view_name": "StyleView",
            "bar_color": null,
            "description_width": ""
          }
        },
        "48a1db29e81d4feeb0a1159020929e78": {
          "model_module": "@jupyter-widgets/base",
          "model_name": "LayoutModel",
          "model_module_version": "1.2.0",
          "state": {
            "_model_module": "@jupyter-widgets/base",
            "_model_module_version": "1.2.0",
            "_model_name": "LayoutModel",
            "_view_count": null,
            "_view_module": "@jupyter-widgets/base",
            "_view_module_version": "1.2.0",
            "_view_name": "LayoutView",
            "align_content": null,
            "align_items": null,
            "align_self": null,
            "border": null,
            "bottom": null,
            "display": null,
            "flex": null,
            "flex_flow": null,
            "grid_area": null,
            "grid_auto_columns": null,
            "grid_auto_flow": null,
            "grid_auto_rows": null,
            "grid_column": null,
            "grid_gap": null,
            "grid_row": null,
            "grid_template_areas": null,
            "grid_template_columns": null,
            "grid_template_rows": null,
            "height": null,
            "justify_content": null,
            "justify_items": null,
            "left": null,
            "margin": null,
            "max_height": null,
            "max_width": null,
            "min_height": null,
            "min_width": null,
            "object_fit": null,
            "object_position": null,
            "order": null,
            "overflow": null,
            "overflow_x": null,
            "overflow_y": null,
            "padding": null,
            "right": null,
            "top": null,
            "visibility": null,
            "width": null
          }
        },
        "559360328b504e05aca02f8ab8234b36": {
          "model_module": "@jupyter-widgets/controls",
          "model_name": "DescriptionStyleModel",
          "model_module_version": "1.5.0",
          "state": {
            "_model_module": "@jupyter-widgets/controls",
            "_model_module_version": "1.5.0",
            "_model_name": "DescriptionStyleModel",
            "_view_count": null,
            "_view_module": "@jupyter-widgets/base",
            "_view_module_version": "1.2.0",
            "_view_name": "StyleView",
            "description_width": ""
          }
        },
        "54c383c0778f4e689df05ffbd9980851": {
          "model_module": "@jupyter-widgets/controls",
          "model_name": "HBoxModel",
          "model_module_version": "1.5.0",
          "state": {
            "_dom_classes": [],
            "_model_module": "@jupyter-widgets/controls",
            "_model_module_version": "1.5.0",
            "_model_name": "HBoxModel",
            "_view_count": null,
            "_view_module": "@jupyter-widgets/controls",
            "_view_module_version": "1.5.0",
            "_view_name": "HBoxView",
            "box_style": "",
            "children": [
              "IPY_MODEL_26f5f562c0144fb6ae1a9da289cd9035",
              "IPY_MODEL_3879d503d5ef450fa67e13e0de08a4c9",
              "IPY_MODEL_90a04ec87a2946e5a9062d44f223c557"
            ],
            "layout": "IPY_MODEL_d87183618d0547319556b07f6d139ed8"
          }
        },
        "26f5f562c0144fb6ae1a9da289cd9035": {
          "model_module": "@jupyter-widgets/controls",
          "model_name": "HTMLModel",
          "model_module_version": "1.5.0",
          "state": {
            "_dom_classes": [],
            "_model_module": "@jupyter-widgets/controls",
            "_model_module_version": "1.5.0",
            "_model_name": "HTMLModel",
            "_view_count": null,
            "_view_module": "@jupyter-widgets/controls",
            "_view_module_version": "1.5.0",
            "_view_name": "HTMLView",
            "description": "",
            "description_tooltip": null,
            "layout": "IPY_MODEL_a11aaab171a740c9b05794bdd784aae7",
            "placeholder": "​",
            "style": "IPY_MODEL_01b55c314e444d849d470d067f4ff66d",
            "value": "100%"
          }
        },
        "3879d503d5ef450fa67e13e0de08a4c9": {
          "model_module": "@jupyter-widgets/controls",
          "model_name": "FloatProgressModel",
          "model_module_version": "1.5.0",
          "state": {
            "_dom_classes": [],
            "_model_module": "@jupyter-widgets/controls",
            "_model_module_version": "1.5.0",
            "_model_name": "FloatProgressModel",
            "_view_count": null,
            "_view_module": "@jupyter-widgets/controls",
            "_view_module_version": "1.5.0",
            "_view_name": "ProgressView",
            "bar_style": "success",
            "description": "",
            "description_tooltip": null,
            "layout": "IPY_MODEL_c825525a437f448e83e2c505a0ffd60e",
            "max": 2500,
            "min": 0,
            "orientation": "horizontal",
            "style": "IPY_MODEL_1dbfa40df2f240b9bae120c91eebc66b",
            "value": 2500
          }
        },
        "90a04ec87a2946e5a9062d44f223c557": {
          "model_module": "@jupyter-widgets/controls",
          "model_name": "HTMLModel",
          "model_module_version": "1.5.0",
          "state": {
            "_dom_classes": [],
            "_model_module": "@jupyter-widgets/controls",
            "_model_module_version": "1.5.0",
            "_model_name": "HTMLModel",
            "_view_count": null,
            "_view_module": "@jupyter-widgets/controls",
            "_view_module_version": "1.5.0",
            "_view_name": "HTMLView",
            "description": "",
            "description_tooltip": null,
            "layout": "IPY_MODEL_b96d79c18d6342848a6f4ce8a31e8438",
            "placeholder": "​",
            "style": "IPY_MODEL_4d0b97d7a1eb4338b279626bcc2f0183",
            "value": " 2500/2500 [00:08&lt;00:00, 303.48it/s]"
          }
        },
        "d87183618d0547319556b07f6d139ed8": {
          "model_module": "@jupyter-widgets/base",
          "model_name": "LayoutModel",
          "model_module_version": "1.2.0",
          "state": {
            "_model_module": "@jupyter-widgets/base",
            "_model_module_version": "1.2.0",
            "_model_name": "LayoutModel",
            "_view_count": null,
            "_view_module": "@jupyter-widgets/base",
            "_view_module_version": "1.2.0",
            "_view_name": "LayoutView",
            "align_content": null,
            "align_items": null,
            "align_self": null,
            "border": null,
            "bottom": null,
            "display": null,
            "flex": null,
            "flex_flow": null,
            "grid_area": null,
            "grid_auto_columns": null,
            "grid_auto_flow": null,
            "grid_auto_rows": null,
            "grid_column": null,
            "grid_gap": null,
            "grid_row": null,
            "grid_template_areas": null,
            "grid_template_columns": null,
            "grid_template_rows": null,
            "height": null,
            "justify_content": null,
            "justify_items": null,
            "left": null,
            "margin": null,
            "max_height": null,
            "max_width": null,
            "min_height": null,
            "min_width": null,
            "object_fit": null,
            "object_position": null,
            "order": null,
            "overflow": null,
            "overflow_x": null,
            "overflow_y": null,
            "padding": null,
            "right": null,
            "top": null,
            "visibility": null,
            "width": null
          }
        },
        "a11aaab171a740c9b05794bdd784aae7": {
          "model_module": "@jupyter-widgets/base",
          "model_name": "LayoutModel",
          "model_module_version": "1.2.0",
          "state": {
            "_model_module": "@jupyter-widgets/base",
            "_model_module_version": "1.2.0",
            "_model_name": "LayoutModel",
            "_view_count": null,
            "_view_module": "@jupyter-widgets/base",
            "_view_module_version": "1.2.0",
            "_view_name": "LayoutView",
            "align_content": null,
            "align_items": null,
            "align_self": null,
            "border": null,
            "bottom": null,
            "display": null,
            "flex": null,
            "flex_flow": null,
            "grid_area": null,
            "grid_auto_columns": null,
            "grid_auto_flow": null,
            "grid_auto_rows": null,
            "grid_column": null,
            "grid_gap": null,
            "grid_row": null,
            "grid_template_areas": null,
            "grid_template_columns": null,
            "grid_template_rows": null,
            "height": null,
            "justify_content": null,
            "justify_items": null,
            "left": null,
            "margin": null,
            "max_height": null,
            "max_width": null,
            "min_height": null,
            "min_width": null,
            "object_fit": null,
            "object_position": null,
            "order": null,
            "overflow": null,
            "overflow_x": null,
            "overflow_y": null,
            "padding": null,
            "right": null,
            "top": null,
            "visibility": null,
            "width": null
          }
        },
        "01b55c314e444d849d470d067f4ff66d": {
          "model_module": "@jupyter-widgets/controls",
          "model_name": "DescriptionStyleModel",
          "model_module_version": "1.5.0",
          "state": {
            "_model_module": "@jupyter-widgets/controls",
            "_model_module_version": "1.5.0",
            "_model_name": "DescriptionStyleModel",
            "_view_count": null,
            "_view_module": "@jupyter-widgets/base",
            "_view_module_version": "1.2.0",
            "_view_name": "StyleView",
            "description_width": ""
          }
        },
        "c825525a437f448e83e2c505a0ffd60e": {
          "model_module": "@jupyter-widgets/base",
          "model_name": "LayoutModel",
          "model_module_version": "1.2.0",
          "state": {
            "_model_module": "@jupyter-widgets/base",
            "_model_module_version": "1.2.0",
            "_model_name": "LayoutModel",
            "_view_count": null,
            "_view_module": "@jupyter-widgets/base",
            "_view_module_version": "1.2.0",
            "_view_name": "LayoutView",
            "align_content": null,
            "align_items": null,
            "align_self": null,
            "border": null,
            "bottom": null,
            "display": null,
            "flex": null,
            "flex_flow": null,
            "grid_area": null,
            "grid_auto_columns": null,
            "grid_auto_flow": null,
            "grid_auto_rows": null,
            "grid_column": null,
            "grid_gap": null,
            "grid_row": null,
            "grid_template_areas": null,
            "grid_template_columns": null,
            "grid_template_rows": null,
            "height": null,
            "justify_content": null,
            "justify_items": null,
            "left": null,
            "margin": null,
            "max_height": null,
            "max_width": null,
            "min_height": null,
            "min_width": null,
            "object_fit": null,
            "object_position": null,
            "order": null,
            "overflow": null,
            "overflow_x": null,
            "overflow_y": null,
            "padding": null,
            "right": null,
            "top": null,
            "visibility": null,
            "width": null
          }
        },
        "1dbfa40df2f240b9bae120c91eebc66b": {
          "model_module": "@jupyter-widgets/controls",
          "model_name": "ProgressStyleModel",
          "model_module_version": "1.5.0",
          "state": {
            "_model_module": "@jupyter-widgets/controls",
            "_model_module_version": "1.5.0",
            "_model_name": "ProgressStyleModel",
            "_view_count": null,
            "_view_module": "@jupyter-widgets/base",
            "_view_module_version": "1.2.0",
            "_view_name": "StyleView",
            "bar_color": null,
            "description_width": ""
          }
        },
        "b96d79c18d6342848a6f4ce8a31e8438": {
          "model_module": "@jupyter-widgets/base",
          "model_name": "LayoutModel",
          "model_module_version": "1.2.0",
          "state": {
            "_model_module": "@jupyter-widgets/base",
            "_model_module_version": "1.2.0",
            "_model_name": "LayoutModel",
            "_view_count": null,
            "_view_module": "@jupyter-widgets/base",
            "_view_module_version": "1.2.0",
            "_view_name": "LayoutView",
            "align_content": null,
            "align_items": null,
            "align_self": null,
            "border": null,
            "bottom": null,
            "display": null,
            "flex": null,
            "flex_flow": null,
            "grid_area": null,
            "grid_auto_columns": null,
            "grid_auto_flow": null,
            "grid_auto_rows": null,
            "grid_column": null,
            "grid_gap": null,
            "grid_row": null,
            "grid_template_areas": null,
            "grid_template_columns": null,
            "grid_template_rows": null,
            "height": null,
            "justify_content": null,
            "justify_items": null,
            "left": null,
            "margin": null,
            "max_height": null,
            "max_width": null,
            "min_height": null,
            "min_width": null,
            "object_fit": null,
            "object_position": null,
            "order": null,
            "overflow": null,
            "overflow_x": null,
            "overflow_y": null,
            "padding": null,
            "right": null,
            "top": null,
            "visibility": null,
            "width": null
          }
        },
        "4d0b97d7a1eb4338b279626bcc2f0183": {
          "model_module": "@jupyter-widgets/controls",
          "model_name": "DescriptionStyleModel",
          "model_module_version": "1.5.0",
          "state": {
            "_model_module": "@jupyter-widgets/controls",
            "_model_module_version": "1.5.0",
            "_model_name": "DescriptionStyleModel",
            "_view_count": null,
            "_view_module": "@jupyter-widgets/base",
            "_view_module_version": "1.2.0",
            "_view_name": "StyleView",
            "description_width": ""
          }
        },
        "b78ae5111bc54a5385c7b5fd83a2e771": {
          "model_module": "@jupyter-widgets/controls",
          "model_name": "HBoxModel",
          "model_module_version": "1.5.0",
          "state": {
            "_dom_classes": [],
            "_model_module": "@jupyter-widgets/controls",
            "_model_module_version": "1.5.0",
            "_model_name": "HBoxModel",
            "_view_count": null,
            "_view_module": "@jupyter-widgets/controls",
            "_view_module_version": "1.5.0",
            "_view_name": "HBoxView",
            "box_style": "",
            "children": [
              "IPY_MODEL_34cc74b147894561906debb15debf75a",
              "IPY_MODEL_a15b507e9c7848298198b0dfe6af68fb",
              "IPY_MODEL_c23aaf36a2f347f9913814d808240b7f"
            ],
            "layout": "IPY_MODEL_334dff426e5d45a38bcecc71aa0ab690"
          }
        },
        "34cc74b147894561906debb15debf75a": {
          "model_module": "@jupyter-widgets/controls",
          "model_name": "HTMLModel",
          "model_module_version": "1.5.0",
          "state": {
            "_dom_classes": [],
            "_model_module": "@jupyter-widgets/controls",
            "_model_module_version": "1.5.0",
            "_model_name": "HTMLModel",
            "_view_count": null,
            "_view_module": "@jupyter-widgets/controls",
            "_view_module_version": "1.5.0",
            "_view_name": "HTMLView",
            "description": "",
            "description_tooltip": null,
            "layout": "IPY_MODEL_7dc91cd81bb04d55bb5db4f7ba7e415d",
            "placeholder": "​",
            "style": "IPY_MODEL_8d90969e5b584004aa163c1ce85f4583",
            "value": "100%"
          }
        },
        "a15b507e9c7848298198b0dfe6af68fb": {
          "model_module": "@jupyter-widgets/controls",
          "model_name": "FloatProgressModel",
          "model_module_version": "1.5.0",
          "state": {
            "_dom_classes": [],
            "_model_module": "@jupyter-widgets/controls",
            "_model_module_version": "1.5.0",
            "_model_name": "FloatProgressModel",
            "_view_count": null,
            "_view_module": "@jupyter-widgets/controls",
            "_view_module_version": "1.5.0",
            "_view_name": "ProgressView",
            "bar_style": "success",
            "description": "",
            "description_tooltip": null,
            "layout": "IPY_MODEL_46bba9e237dd4241a4aa4dfdbd1dbcc5",
            "max": 15000,
            "min": 0,
            "orientation": "horizontal",
            "style": "IPY_MODEL_d346005056d949bdb85fd6d0d58f7175",
            "value": 15000
          }
        },
        "c23aaf36a2f347f9913814d808240b7f": {
          "model_module": "@jupyter-widgets/controls",
          "model_name": "HTMLModel",
          "model_module_version": "1.5.0",
          "state": {
            "_dom_classes": [],
            "_model_module": "@jupyter-widgets/controls",
            "_model_module_version": "1.5.0",
            "_model_name": "HTMLModel",
            "_view_count": null,
            "_view_module": "@jupyter-widgets/controls",
            "_view_module_version": "1.5.0",
            "_view_name": "HTMLView",
            "description": "",
            "description_tooltip": null,
            "layout": "IPY_MODEL_ccd7f9fc83e74c23a08d2bb2fe275adb",
            "placeholder": "​",
            "style": "IPY_MODEL_47b499364a144a0ebcdd40141159764e",
            "value": " 15000/15000 [01:05&lt;00:00, 243.22it/s]"
          }
        },
        "334dff426e5d45a38bcecc71aa0ab690": {
          "model_module": "@jupyter-widgets/base",
          "model_name": "LayoutModel",
          "model_module_version": "1.2.0",
          "state": {
            "_model_module": "@jupyter-widgets/base",
            "_model_module_version": "1.2.0",
            "_model_name": "LayoutModel",
            "_view_count": null,
            "_view_module": "@jupyter-widgets/base",
            "_view_module_version": "1.2.0",
            "_view_name": "LayoutView",
            "align_content": null,
            "align_items": null,
            "align_self": null,
            "border": null,
            "bottom": null,
            "display": null,
            "flex": null,
            "flex_flow": null,
            "grid_area": null,
            "grid_auto_columns": null,
            "grid_auto_flow": null,
            "grid_auto_rows": null,
            "grid_column": null,
            "grid_gap": null,
            "grid_row": null,
            "grid_template_areas": null,
            "grid_template_columns": null,
            "grid_template_rows": null,
            "height": null,
            "justify_content": null,
            "justify_items": null,
            "left": null,
            "margin": null,
            "max_height": null,
            "max_width": null,
            "min_height": null,
            "min_width": null,
            "object_fit": null,
            "object_position": null,
            "order": null,
            "overflow": null,
            "overflow_x": null,
            "overflow_y": null,
            "padding": null,
            "right": null,
            "top": null,
            "visibility": null,
            "width": null
          }
        },
        "7dc91cd81bb04d55bb5db4f7ba7e415d": {
          "model_module": "@jupyter-widgets/base",
          "model_name": "LayoutModel",
          "model_module_version": "1.2.0",
          "state": {
            "_model_module": "@jupyter-widgets/base",
            "_model_module_version": "1.2.0",
            "_model_name": "LayoutModel",
            "_view_count": null,
            "_view_module": "@jupyter-widgets/base",
            "_view_module_version": "1.2.0",
            "_view_name": "LayoutView",
            "align_content": null,
            "align_items": null,
            "align_self": null,
            "border": null,
            "bottom": null,
            "display": null,
            "flex": null,
            "flex_flow": null,
            "grid_area": null,
            "grid_auto_columns": null,
            "grid_auto_flow": null,
            "grid_auto_rows": null,
            "grid_column": null,
            "grid_gap": null,
            "grid_row": null,
            "grid_template_areas": null,
            "grid_template_columns": null,
            "grid_template_rows": null,
            "height": null,
            "justify_content": null,
            "justify_items": null,
            "left": null,
            "margin": null,
            "max_height": null,
            "max_width": null,
            "min_height": null,
            "min_width": null,
            "object_fit": null,
            "object_position": null,
            "order": null,
            "overflow": null,
            "overflow_x": null,
            "overflow_y": null,
            "padding": null,
            "right": null,
            "top": null,
            "visibility": null,
            "width": null
          }
        },
        "8d90969e5b584004aa163c1ce85f4583": {
          "model_module": "@jupyter-widgets/controls",
          "model_name": "DescriptionStyleModel",
          "model_module_version": "1.5.0",
          "state": {
            "_model_module": "@jupyter-widgets/controls",
            "_model_module_version": "1.5.0",
            "_model_name": "DescriptionStyleModel",
            "_view_count": null,
            "_view_module": "@jupyter-widgets/base",
            "_view_module_version": "1.2.0",
            "_view_name": "StyleView",
            "description_width": ""
          }
        },
        "46bba9e237dd4241a4aa4dfdbd1dbcc5": {
          "model_module": "@jupyter-widgets/base",
          "model_name": "LayoutModel",
          "model_module_version": "1.2.0",
          "state": {
            "_model_module": "@jupyter-widgets/base",
            "_model_module_version": "1.2.0",
            "_model_name": "LayoutModel",
            "_view_count": null,
            "_view_module": "@jupyter-widgets/base",
            "_view_module_version": "1.2.0",
            "_view_name": "LayoutView",
            "align_content": null,
            "align_items": null,
            "align_self": null,
            "border": null,
            "bottom": null,
            "display": null,
            "flex": null,
            "flex_flow": null,
            "grid_area": null,
            "grid_auto_columns": null,
            "grid_auto_flow": null,
            "grid_auto_rows": null,
            "grid_column": null,
            "grid_gap": null,
            "grid_row": null,
            "grid_template_areas": null,
            "grid_template_columns": null,
            "grid_template_rows": null,
            "height": null,
            "justify_content": null,
            "justify_items": null,
            "left": null,
            "margin": null,
            "max_height": null,
            "max_width": null,
            "min_height": null,
            "min_width": null,
            "object_fit": null,
            "object_position": null,
            "order": null,
            "overflow": null,
            "overflow_x": null,
            "overflow_y": null,
            "padding": null,
            "right": null,
            "top": null,
            "visibility": null,
            "width": null
          }
        },
        "d346005056d949bdb85fd6d0d58f7175": {
          "model_module": "@jupyter-widgets/controls",
          "model_name": "ProgressStyleModel",
          "model_module_version": "1.5.0",
          "state": {
            "_model_module": "@jupyter-widgets/controls",
            "_model_module_version": "1.5.0",
            "_model_name": "ProgressStyleModel",
            "_view_count": null,
            "_view_module": "@jupyter-widgets/base",
            "_view_module_version": "1.2.0",
            "_view_name": "StyleView",
            "bar_color": null,
            "description_width": ""
          }
        },
        "ccd7f9fc83e74c23a08d2bb2fe275adb": {
          "model_module": "@jupyter-widgets/base",
          "model_name": "LayoutModel",
          "model_module_version": "1.2.0",
          "state": {
            "_model_module": "@jupyter-widgets/base",
            "_model_module_version": "1.2.0",
            "_model_name": "LayoutModel",
            "_view_count": null,
            "_view_module": "@jupyter-widgets/base",
            "_view_module_version": "1.2.0",
            "_view_name": "LayoutView",
            "align_content": null,
            "align_items": null,
            "align_self": null,
            "border": null,
            "bottom": null,
            "display": null,
            "flex": null,
            "flex_flow": null,
            "grid_area": null,
            "grid_auto_columns": null,
            "grid_auto_flow": null,
            "grid_auto_rows": null,
            "grid_column": null,
            "grid_gap": null,
            "grid_row": null,
            "grid_template_areas": null,
            "grid_template_columns": null,
            "grid_template_rows": null,
            "height": null,
            "justify_content": null,
            "justify_items": null,
            "left": null,
            "margin": null,
            "max_height": null,
            "max_width": null,
            "min_height": null,
            "min_width": null,
            "object_fit": null,
            "object_position": null,
            "order": null,
            "overflow": null,
            "overflow_x": null,
            "overflow_y": null,
            "padding": null,
            "right": null,
            "top": null,
            "visibility": null,
            "width": null
          }
        },
        "47b499364a144a0ebcdd40141159764e": {
          "model_module": "@jupyter-widgets/controls",
          "model_name": "DescriptionStyleModel",
          "model_module_version": "1.5.0",
          "state": {
            "_model_module": "@jupyter-widgets/controls",
            "_model_module_version": "1.5.0",
            "_model_name": "DescriptionStyleModel",
            "_view_count": null,
            "_view_module": "@jupyter-widgets/base",
            "_view_module_version": "1.2.0",
            "_view_name": "StyleView",
            "description_width": ""
          }
        },
        "c98c94f7aee5482a9f8ea68955f4bf00": {
          "model_module": "@jupyter-widgets/controls",
          "model_name": "HBoxModel",
          "model_module_version": "1.5.0",
          "state": {
            "_dom_classes": [],
            "_model_module": "@jupyter-widgets/controls",
            "_model_module_version": "1.5.0",
            "_model_name": "HBoxModel",
            "_view_count": null,
            "_view_module": "@jupyter-widgets/controls",
            "_view_module_version": "1.5.0",
            "_view_name": "HBoxView",
            "box_style": "",
            "children": [
              "IPY_MODEL_1485f4e3c1f647ab8307c7609180636d",
              "IPY_MODEL_68822a38ef164f609b012e91eb2e73c5",
              "IPY_MODEL_a06bc77fa0264b46ba6778ce9580f584"
            ],
            "layout": "IPY_MODEL_30b130d38bf041fab0571d21197e00f1"
          }
        },
        "1485f4e3c1f647ab8307c7609180636d": {
          "model_module": "@jupyter-widgets/controls",
          "model_name": "HTMLModel",
          "model_module_version": "1.5.0",
          "state": {
            "_dom_classes": [],
            "_model_module": "@jupyter-widgets/controls",
            "_model_module_version": "1.5.0",
            "_model_name": "HTMLModel",
            "_view_count": null,
            "_view_module": "@jupyter-widgets/controls",
            "_view_module_version": "1.5.0",
            "_view_name": "HTMLView",
            "description": "",
            "description_tooltip": null,
            "layout": "IPY_MODEL_a908915186b54b0199bc56e42630c596",
            "placeholder": "​",
            "style": "IPY_MODEL_edafeda850174c8ea757e7e1974ef900",
            "value": "100%"
          }
        },
        "68822a38ef164f609b012e91eb2e73c5": {
          "model_module": "@jupyter-widgets/controls",
          "model_name": "FloatProgressModel",
          "model_module_version": "1.5.0",
          "state": {
            "_dom_classes": [],
            "_model_module": "@jupyter-widgets/controls",
            "_model_module_version": "1.5.0",
            "_model_name": "FloatProgressModel",
            "_view_count": null,
            "_view_module": "@jupyter-widgets/controls",
            "_view_module_version": "1.5.0",
            "_view_name": "ProgressView",
            "bar_style": "success",
            "description": "",
            "description_tooltip": null,
            "layout": "IPY_MODEL_2029605a9a834ef1a03e9e3d1844370f",
            "max": 15000,
            "min": 0,
            "orientation": "horizontal",
            "style": "IPY_MODEL_12a50f2968cc40edb56474aac2dce85d",
            "value": 15000
          }
        },
        "a06bc77fa0264b46ba6778ce9580f584": {
          "model_module": "@jupyter-widgets/controls",
          "model_name": "HTMLModel",
          "model_module_version": "1.5.0",
          "state": {
            "_dom_classes": [],
            "_model_module": "@jupyter-widgets/controls",
            "_model_module_version": "1.5.0",
            "_model_name": "HTMLModel",
            "_view_count": null,
            "_view_module": "@jupyter-widgets/controls",
            "_view_module_version": "1.5.0",
            "_view_name": "HTMLView",
            "description": "",
            "description_tooltip": null,
            "layout": "IPY_MODEL_429412f49c06485fba9df061ab228ec3",
            "placeholder": "​",
            "style": "IPY_MODEL_61375db44b7b40d69a0f2a867ff8c9b1",
            "value": " 15000/15000 [01:05&lt;00:00, 239.37it/s]"
          }
        },
        "30b130d38bf041fab0571d21197e00f1": {
          "model_module": "@jupyter-widgets/base",
          "model_name": "LayoutModel",
          "model_module_version": "1.2.0",
          "state": {
            "_model_module": "@jupyter-widgets/base",
            "_model_module_version": "1.2.0",
            "_model_name": "LayoutModel",
            "_view_count": null,
            "_view_module": "@jupyter-widgets/base",
            "_view_module_version": "1.2.0",
            "_view_name": "LayoutView",
            "align_content": null,
            "align_items": null,
            "align_self": null,
            "border": null,
            "bottom": null,
            "display": null,
            "flex": null,
            "flex_flow": null,
            "grid_area": null,
            "grid_auto_columns": null,
            "grid_auto_flow": null,
            "grid_auto_rows": null,
            "grid_column": null,
            "grid_gap": null,
            "grid_row": null,
            "grid_template_areas": null,
            "grid_template_columns": null,
            "grid_template_rows": null,
            "height": null,
            "justify_content": null,
            "justify_items": null,
            "left": null,
            "margin": null,
            "max_height": null,
            "max_width": null,
            "min_height": null,
            "min_width": null,
            "object_fit": null,
            "object_position": null,
            "order": null,
            "overflow": null,
            "overflow_x": null,
            "overflow_y": null,
            "padding": null,
            "right": null,
            "top": null,
            "visibility": null,
            "width": null
          }
        },
        "a908915186b54b0199bc56e42630c596": {
          "model_module": "@jupyter-widgets/base",
          "model_name": "LayoutModel",
          "model_module_version": "1.2.0",
          "state": {
            "_model_module": "@jupyter-widgets/base",
            "_model_module_version": "1.2.0",
            "_model_name": "LayoutModel",
            "_view_count": null,
            "_view_module": "@jupyter-widgets/base",
            "_view_module_version": "1.2.0",
            "_view_name": "LayoutView",
            "align_content": null,
            "align_items": null,
            "align_self": null,
            "border": null,
            "bottom": null,
            "display": null,
            "flex": null,
            "flex_flow": null,
            "grid_area": null,
            "grid_auto_columns": null,
            "grid_auto_flow": null,
            "grid_auto_rows": null,
            "grid_column": null,
            "grid_gap": null,
            "grid_row": null,
            "grid_template_areas": null,
            "grid_template_columns": null,
            "grid_template_rows": null,
            "height": null,
            "justify_content": null,
            "justify_items": null,
            "left": null,
            "margin": null,
            "max_height": null,
            "max_width": null,
            "min_height": null,
            "min_width": null,
            "object_fit": null,
            "object_position": null,
            "order": null,
            "overflow": null,
            "overflow_x": null,
            "overflow_y": null,
            "padding": null,
            "right": null,
            "top": null,
            "visibility": null,
            "width": null
          }
        },
        "edafeda850174c8ea757e7e1974ef900": {
          "model_module": "@jupyter-widgets/controls",
          "model_name": "DescriptionStyleModel",
          "model_module_version": "1.5.0",
          "state": {
            "_model_module": "@jupyter-widgets/controls",
            "_model_module_version": "1.5.0",
            "_model_name": "DescriptionStyleModel",
            "_view_count": null,
            "_view_module": "@jupyter-widgets/base",
            "_view_module_version": "1.2.0",
            "_view_name": "StyleView",
            "description_width": ""
          }
        },
        "2029605a9a834ef1a03e9e3d1844370f": {
          "model_module": "@jupyter-widgets/base",
          "model_name": "LayoutModel",
          "model_module_version": "1.2.0",
          "state": {
            "_model_module": "@jupyter-widgets/base",
            "_model_module_version": "1.2.0",
            "_model_name": "LayoutModel",
            "_view_count": null,
            "_view_module": "@jupyter-widgets/base",
            "_view_module_version": "1.2.0",
            "_view_name": "LayoutView",
            "align_content": null,
            "align_items": null,
            "align_self": null,
            "border": null,
            "bottom": null,
            "display": null,
            "flex": null,
            "flex_flow": null,
            "grid_area": null,
            "grid_auto_columns": null,
            "grid_auto_flow": null,
            "grid_auto_rows": null,
            "grid_column": null,
            "grid_gap": null,
            "grid_row": null,
            "grid_template_areas": null,
            "grid_template_columns": null,
            "grid_template_rows": null,
            "height": null,
            "justify_content": null,
            "justify_items": null,
            "left": null,
            "margin": null,
            "max_height": null,
            "max_width": null,
            "min_height": null,
            "min_width": null,
            "object_fit": null,
            "object_position": null,
            "order": null,
            "overflow": null,
            "overflow_x": null,
            "overflow_y": null,
            "padding": null,
            "right": null,
            "top": null,
            "visibility": null,
            "width": null
          }
        },
        "12a50f2968cc40edb56474aac2dce85d": {
          "model_module": "@jupyter-widgets/controls",
          "model_name": "ProgressStyleModel",
          "model_module_version": "1.5.0",
          "state": {
            "_model_module": "@jupyter-widgets/controls",
            "_model_module_version": "1.5.0",
            "_model_name": "ProgressStyleModel",
            "_view_count": null,
            "_view_module": "@jupyter-widgets/base",
            "_view_module_version": "1.2.0",
            "_view_name": "StyleView",
            "bar_color": null,
            "description_width": ""
          }
        },
        "429412f49c06485fba9df061ab228ec3": {
          "model_module": "@jupyter-widgets/base",
          "model_name": "LayoutModel",
          "model_module_version": "1.2.0",
          "state": {
            "_model_module": "@jupyter-widgets/base",
            "_model_module_version": "1.2.0",
            "_model_name": "LayoutModel",
            "_view_count": null,
            "_view_module": "@jupyter-widgets/base",
            "_view_module_version": "1.2.0",
            "_view_name": "LayoutView",
            "align_content": null,
            "align_items": null,
            "align_self": null,
            "border": null,
            "bottom": null,
            "display": null,
            "flex": null,
            "flex_flow": null,
            "grid_area": null,
            "grid_auto_columns": null,
            "grid_auto_flow": null,
            "grid_auto_rows": null,
            "grid_column": null,
            "grid_gap": null,
            "grid_row": null,
            "grid_template_areas": null,
            "grid_template_columns": null,
            "grid_template_rows": null,
            "height": null,
            "justify_content": null,
            "justify_items": null,
            "left": null,
            "margin": null,
            "max_height": null,
            "max_width": null,
            "min_height": null,
            "min_width": null,
            "object_fit": null,
            "object_position": null,
            "order": null,
            "overflow": null,
            "overflow_x": null,
            "overflow_y": null,
            "padding": null,
            "right": null,
            "top": null,
            "visibility": null,
            "width": null
          }
        },
        "61375db44b7b40d69a0f2a867ff8c9b1": {
          "model_module": "@jupyter-widgets/controls",
          "model_name": "DescriptionStyleModel",
          "model_module_version": "1.5.0",
          "state": {
            "_model_module": "@jupyter-widgets/controls",
            "_model_module_version": "1.5.0",
            "_model_name": "DescriptionStyleModel",
            "_view_count": null,
            "_view_module": "@jupyter-widgets/base",
            "_view_module_version": "1.2.0",
            "_view_name": "StyleView",
            "description_width": ""
          }
        },
        "9bed04cfdf2d48b396356e916fff16a4": {
          "model_module": "@jupyter-widgets/controls",
          "model_name": "HBoxModel",
          "model_module_version": "1.5.0",
          "state": {
            "_dom_classes": [],
            "_model_module": "@jupyter-widgets/controls",
            "_model_module_version": "1.5.0",
            "_model_name": "HBoxModel",
            "_view_count": null,
            "_view_module": "@jupyter-widgets/controls",
            "_view_module_version": "1.5.0",
            "_view_name": "HBoxView",
            "box_style": "",
            "children": [
              "IPY_MODEL_a849b466aa8d4c77bb49290a98e1dd65",
              "IPY_MODEL_9fa9f99885314b5285800f29b08f2d6d",
              "IPY_MODEL_7bbbe58862474c7fa3290b5c6ff91d21"
            ],
            "layout": "IPY_MODEL_619fb8a8b5a84a32bc87d58250844eb8"
          }
        },
        "a849b466aa8d4c77bb49290a98e1dd65": {
          "model_module": "@jupyter-widgets/controls",
          "model_name": "HTMLModel",
          "model_module_version": "1.5.0",
          "state": {
            "_dom_classes": [],
            "_model_module": "@jupyter-widgets/controls",
            "_model_module_version": "1.5.0",
            "_model_name": "HTMLModel",
            "_view_count": null,
            "_view_module": "@jupyter-widgets/controls",
            "_view_module_version": "1.5.0",
            "_view_name": "HTMLView",
            "description": "",
            "description_tooltip": null,
            "layout": "IPY_MODEL_6345e5133ad9476d8b8c0fbc7da9679c",
            "placeholder": "​",
            "style": "IPY_MODEL_71261f5637164f08bb83a6ccc44e6ad6",
            "value": "100%"
          }
        },
        "9fa9f99885314b5285800f29b08f2d6d": {
          "model_module": "@jupyter-widgets/controls",
          "model_name": "FloatProgressModel",
          "model_module_version": "1.5.0",
          "state": {
            "_dom_classes": [],
            "_model_module": "@jupyter-widgets/controls",
            "_model_module_version": "1.5.0",
            "_model_name": "FloatProgressModel",
            "_view_count": null,
            "_view_module": "@jupyter-widgets/controls",
            "_view_module_version": "1.5.0",
            "_view_name": "ProgressView",
            "bar_style": "success",
            "description": "",
            "description_tooltip": null,
            "layout": "IPY_MODEL_ba771a8f025a431ea451fbcbdc402e74",
            "max": 2500,
            "min": 0,
            "orientation": "horizontal",
            "style": "IPY_MODEL_0720436d7e8644b7a7055731ed4138fe",
            "value": 2500
          }
        },
        "7bbbe58862474c7fa3290b5c6ff91d21": {
          "model_module": "@jupyter-widgets/controls",
          "model_name": "HTMLModel",
          "model_module_version": "1.5.0",
          "state": {
            "_dom_classes": [],
            "_model_module": "@jupyter-widgets/controls",
            "_model_module_version": "1.5.0",
            "_model_name": "HTMLModel",
            "_view_count": null,
            "_view_module": "@jupyter-widgets/controls",
            "_view_module_version": "1.5.0",
            "_view_name": "HTMLView",
            "description": "",
            "description_tooltip": null,
            "layout": "IPY_MODEL_40adfed39adf4e9cade2378e112206ca",
            "placeholder": "​",
            "style": "IPY_MODEL_ec1bf3705d7b4b2f9c3aac5b60597022",
            "value": " 2500/2500 [00:14&lt;00:00, 176.78it/s]"
          }
        },
        "619fb8a8b5a84a32bc87d58250844eb8": {
          "model_module": "@jupyter-widgets/base",
          "model_name": "LayoutModel",
          "model_module_version": "1.2.0",
          "state": {
            "_model_module": "@jupyter-widgets/base",
            "_model_module_version": "1.2.0",
            "_model_name": "LayoutModel",
            "_view_count": null,
            "_view_module": "@jupyter-widgets/base",
            "_view_module_version": "1.2.0",
            "_view_name": "LayoutView",
            "align_content": null,
            "align_items": null,
            "align_self": null,
            "border": null,
            "bottom": null,
            "display": null,
            "flex": null,
            "flex_flow": null,
            "grid_area": null,
            "grid_auto_columns": null,
            "grid_auto_flow": null,
            "grid_auto_rows": null,
            "grid_column": null,
            "grid_gap": null,
            "grid_row": null,
            "grid_template_areas": null,
            "grid_template_columns": null,
            "grid_template_rows": null,
            "height": null,
            "justify_content": null,
            "justify_items": null,
            "left": null,
            "margin": null,
            "max_height": null,
            "max_width": null,
            "min_height": null,
            "min_width": null,
            "object_fit": null,
            "object_position": null,
            "order": null,
            "overflow": null,
            "overflow_x": null,
            "overflow_y": null,
            "padding": null,
            "right": null,
            "top": null,
            "visibility": null,
            "width": null
          }
        },
        "6345e5133ad9476d8b8c0fbc7da9679c": {
          "model_module": "@jupyter-widgets/base",
          "model_name": "LayoutModel",
          "model_module_version": "1.2.0",
          "state": {
            "_model_module": "@jupyter-widgets/base",
            "_model_module_version": "1.2.0",
            "_model_name": "LayoutModel",
            "_view_count": null,
            "_view_module": "@jupyter-widgets/base",
            "_view_module_version": "1.2.0",
            "_view_name": "LayoutView",
            "align_content": null,
            "align_items": null,
            "align_self": null,
            "border": null,
            "bottom": null,
            "display": null,
            "flex": null,
            "flex_flow": null,
            "grid_area": null,
            "grid_auto_columns": null,
            "grid_auto_flow": null,
            "grid_auto_rows": null,
            "grid_column": null,
            "grid_gap": null,
            "grid_row": null,
            "grid_template_areas": null,
            "grid_template_columns": null,
            "grid_template_rows": null,
            "height": null,
            "justify_content": null,
            "justify_items": null,
            "left": null,
            "margin": null,
            "max_height": null,
            "max_width": null,
            "min_height": null,
            "min_width": null,
            "object_fit": null,
            "object_position": null,
            "order": null,
            "overflow": null,
            "overflow_x": null,
            "overflow_y": null,
            "padding": null,
            "right": null,
            "top": null,
            "visibility": null,
            "width": null
          }
        },
        "71261f5637164f08bb83a6ccc44e6ad6": {
          "model_module": "@jupyter-widgets/controls",
          "model_name": "DescriptionStyleModel",
          "model_module_version": "1.5.0",
          "state": {
            "_model_module": "@jupyter-widgets/controls",
            "_model_module_version": "1.5.0",
            "_model_name": "DescriptionStyleModel",
            "_view_count": null,
            "_view_module": "@jupyter-widgets/base",
            "_view_module_version": "1.2.0",
            "_view_name": "StyleView",
            "description_width": ""
          }
        },
        "ba771a8f025a431ea451fbcbdc402e74": {
          "model_module": "@jupyter-widgets/base",
          "model_name": "LayoutModel",
          "model_module_version": "1.2.0",
          "state": {
            "_model_module": "@jupyter-widgets/base",
            "_model_module_version": "1.2.0",
            "_model_name": "LayoutModel",
            "_view_count": null,
            "_view_module": "@jupyter-widgets/base",
            "_view_module_version": "1.2.0",
            "_view_name": "LayoutView",
            "align_content": null,
            "align_items": null,
            "align_self": null,
            "border": null,
            "bottom": null,
            "display": null,
            "flex": null,
            "flex_flow": null,
            "grid_area": null,
            "grid_auto_columns": null,
            "grid_auto_flow": null,
            "grid_auto_rows": null,
            "grid_column": null,
            "grid_gap": null,
            "grid_row": null,
            "grid_template_areas": null,
            "grid_template_columns": null,
            "grid_template_rows": null,
            "height": null,
            "justify_content": null,
            "justify_items": null,
            "left": null,
            "margin": null,
            "max_height": null,
            "max_width": null,
            "min_height": null,
            "min_width": null,
            "object_fit": null,
            "object_position": null,
            "order": null,
            "overflow": null,
            "overflow_x": null,
            "overflow_y": null,
            "padding": null,
            "right": null,
            "top": null,
            "visibility": null,
            "width": null
          }
        },
        "0720436d7e8644b7a7055731ed4138fe": {
          "model_module": "@jupyter-widgets/controls",
          "model_name": "ProgressStyleModel",
          "model_module_version": "1.5.0",
          "state": {
            "_model_module": "@jupyter-widgets/controls",
            "_model_module_version": "1.5.0",
            "_model_name": "ProgressStyleModel",
            "_view_count": null,
            "_view_module": "@jupyter-widgets/base",
            "_view_module_version": "1.2.0",
            "_view_name": "StyleView",
            "bar_color": null,
            "description_width": ""
          }
        },
        "40adfed39adf4e9cade2378e112206ca": {
          "model_module": "@jupyter-widgets/base",
          "model_name": "LayoutModel",
          "model_module_version": "1.2.0",
          "state": {
            "_model_module": "@jupyter-widgets/base",
            "_model_module_version": "1.2.0",
            "_model_name": "LayoutModel",
            "_view_count": null,
            "_view_module": "@jupyter-widgets/base",
            "_view_module_version": "1.2.0",
            "_view_name": "LayoutView",
            "align_content": null,
            "align_items": null,
            "align_self": null,
            "border": null,
            "bottom": null,
            "display": null,
            "flex": null,
            "flex_flow": null,
            "grid_area": null,
            "grid_auto_columns": null,
            "grid_auto_flow": null,
            "grid_auto_rows": null,
            "grid_column": null,
            "grid_gap": null,
            "grid_row": null,
            "grid_template_areas": null,
            "grid_template_columns": null,
            "grid_template_rows": null,
            "height": null,
            "justify_content": null,
            "justify_items": null,
            "left": null,
            "margin": null,
            "max_height": null,
            "max_width": null,
            "min_height": null,
            "min_width": null,
            "object_fit": null,
            "object_position": null,
            "order": null,
            "overflow": null,
            "overflow_x": null,
            "overflow_y": null,
            "padding": null,
            "right": null,
            "top": null,
            "visibility": null,
            "width": null
          }
        },
        "ec1bf3705d7b4b2f9c3aac5b60597022": {
          "model_module": "@jupyter-widgets/controls",
          "model_name": "DescriptionStyleModel",
          "model_module_version": "1.5.0",
          "state": {
            "_model_module": "@jupyter-widgets/controls",
            "_model_module_version": "1.5.0",
            "_model_name": "DescriptionStyleModel",
            "_view_count": null,
            "_view_module": "@jupyter-widgets/base",
            "_view_module_version": "1.2.0",
            "_view_name": "StyleView",
            "description_width": ""
          }
        },
        "2fd7885796814e6894d8081e0c9760b6": {
          "model_module": "@jupyter-widgets/controls",
          "model_name": "HBoxModel",
          "model_module_version": "1.5.0",
          "state": {
            "_dom_classes": [],
            "_model_module": "@jupyter-widgets/controls",
            "_model_module_version": "1.5.0",
            "_model_name": "HBoxModel",
            "_view_count": null,
            "_view_module": "@jupyter-widgets/controls",
            "_view_module_version": "1.5.0",
            "_view_name": "HBoxView",
            "box_style": "",
            "children": [
              "IPY_MODEL_a6c9a61a1c7a4e9b8d680d622130246b",
              "IPY_MODEL_d29be1ee3aa1476e93d79479fa1688e3",
              "IPY_MODEL_27f814f759de420ca29138a52f646a4c"
            ],
            "layout": "IPY_MODEL_3efd13fd5f5243c78f02761da4fe0e60"
          }
        },
        "a6c9a61a1c7a4e9b8d680d622130246b": {
          "model_module": "@jupyter-widgets/controls",
          "model_name": "HTMLModel",
          "model_module_version": "1.5.0",
          "state": {
            "_dom_classes": [],
            "_model_module": "@jupyter-widgets/controls",
            "_model_module_version": "1.5.0",
            "_model_name": "HTMLModel",
            "_view_count": null,
            "_view_module": "@jupyter-widgets/controls",
            "_view_module_version": "1.5.0",
            "_view_name": "HTMLView",
            "description": "",
            "description_tooltip": null,
            "layout": "IPY_MODEL_bf0192b04d074e6386e7390fe5a5b346",
            "placeholder": "​",
            "style": "IPY_MODEL_c55f191108fa47cbac29bc7f38a0d3e6",
            "value": "100%"
          }
        },
        "d29be1ee3aa1476e93d79479fa1688e3": {
          "model_module": "@jupyter-widgets/controls",
          "model_name": "FloatProgressModel",
          "model_module_version": "1.5.0",
          "state": {
            "_dom_classes": [],
            "_model_module": "@jupyter-widgets/controls",
            "_model_module_version": "1.5.0",
            "_model_name": "FloatProgressModel",
            "_view_count": null,
            "_view_module": "@jupyter-widgets/controls",
            "_view_module_version": "1.5.0",
            "_view_name": "ProgressView",
            "bar_style": "success",
            "description": "",
            "description_tooltip": null,
            "layout": "IPY_MODEL_6849f968a6f546a5b5dc41c3b6cf40a3",
            "max": 15000,
            "min": 0,
            "orientation": "horizontal",
            "style": "IPY_MODEL_1ba02dadeea84f6294145d2d1e584be6",
            "value": 15000
          }
        },
        "27f814f759de420ca29138a52f646a4c": {
          "model_module": "@jupyter-widgets/controls",
          "model_name": "HTMLModel",
          "model_module_version": "1.5.0",
          "state": {
            "_dom_classes": [],
            "_model_module": "@jupyter-widgets/controls",
            "_model_module_version": "1.5.0",
            "_model_name": "HTMLModel",
            "_view_count": null,
            "_view_module": "@jupyter-widgets/controls",
            "_view_module_version": "1.5.0",
            "_view_name": "HTMLView",
            "description": "",
            "description_tooltip": null,
            "layout": "IPY_MODEL_977664640226462fbdaddd7087e744b6",
            "placeholder": "​",
            "style": "IPY_MODEL_1e7d7e0ed8fa4087bd69de3522178413",
            "value": " 15000/15000 [01:11&lt;00:00, 246.46it/s]"
          }
        },
        "3efd13fd5f5243c78f02761da4fe0e60": {
          "model_module": "@jupyter-widgets/base",
          "model_name": "LayoutModel",
          "model_module_version": "1.2.0",
          "state": {
            "_model_module": "@jupyter-widgets/base",
            "_model_module_version": "1.2.0",
            "_model_name": "LayoutModel",
            "_view_count": null,
            "_view_module": "@jupyter-widgets/base",
            "_view_module_version": "1.2.0",
            "_view_name": "LayoutView",
            "align_content": null,
            "align_items": null,
            "align_self": null,
            "border": null,
            "bottom": null,
            "display": null,
            "flex": null,
            "flex_flow": null,
            "grid_area": null,
            "grid_auto_columns": null,
            "grid_auto_flow": null,
            "grid_auto_rows": null,
            "grid_column": null,
            "grid_gap": null,
            "grid_row": null,
            "grid_template_areas": null,
            "grid_template_columns": null,
            "grid_template_rows": null,
            "height": null,
            "justify_content": null,
            "justify_items": null,
            "left": null,
            "margin": null,
            "max_height": null,
            "max_width": null,
            "min_height": null,
            "min_width": null,
            "object_fit": null,
            "object_position": null,
            "order": null,
            "overflow": null,
            "overflow_x": null,
            "overflow_y": null,
            "padding": null,
            "right": null,
            "top": null,
            "visibility": null,
            "width": null
          }
        },
        "bf0192b04d074e6386e7390fe5a5b346": {
          "model_module": "@jupyter-widgets/base",
          "model_name": "LayoutModel",
          "model_module_version": "1.2.0",
          "state": {
            "_model_module": "@jupyter-widgets/base",
            "_model_module_version": "1.2.0",
            "_model_name": "LayoutModel",
            "_view_count": null,
            "_view_module": "@jupyter-widgets/base",
            "_view_module_version": "1.2.0",
            "_view_name": "LayoutView",
            "align_content": null,
            "align_items": null,
            "align_self": null,
            "border": null,
            "bottom": null,
            "display": null,
            "flex": null,
            "flex_flow": null,
            "grid_area": null,
            "grid_auto_columns": null,
            "grid_auto_flow": null,
            "grid_auto_rows": null,
            "grid_column": null,
            "grid_gap": null,
            "grid_row": null,
            "grid_template_areas": null,
            "grid_template_columns": null,
            "grid_template_rows": null,
            "height": null,
            "justify_content": null,
            "justify_items": null,
            "left": null,
            "margin": null,
            "max_height": null,
            "max_width": null,
            "min_height": null,
            "min_width": null,
            "object_fit": null,
            "object_position": null,
            "order": null,
            "overflow": null,
            "overflow_x": null,
            "overflow_y": null,
            "padding": null,
            "right": null,
            "top": null,
            "visibility": null,
            "width": null
          }
        },
        "c55f191108fa47cbac29bc7f38a0d3e6": {
          "model_module": "@jupyter-widgets/controls",
          "model_name": "DescriptionStyleModel",
          "model_module_version": "1.5.0",
          "state": {
            "_model_module": "@jupyter-widgets/controls",
            "_model_module_version": "1.5.0",
            "_model_name": "DescriptionStyleModel",
            "_view_count": null,
            "_view_module": "@jupyter-widgets/base",
            "_view_module_version": "1.2.0",
            "_view_name": "StyleView",
            "description_width": ""
          }
        },
        "6849f968a6f546a5b5dc41c3b6cf40a3": {
          "model_module": "@jupyter-widgets/base",
          "model_name": "LayoutModel",
          "model_module_version": "1.2.0",
          "state": {
            "_model_module": "@jupyter-widgets/base",
            "_model_module_version": "1.2.0",
            "_model_name": "LayoutModel",
            "_view_count": null,
            "_view_module": "@jupyter-widgets/base",
            "_view_module_version": "1.2.0",
            "_view_name": "LayoutView",
            "align_content": null,
            "align_items": null,
            "align_self": null,
            "border": null,
            "bottom": null,
            "display": null,
            "flex": null,
            "flex_flow": null,
            "grid_area": null,
            "grid_auto_columns": null,
            "grid_auto_flow": null,
            "grid_auto_rows": null,
            "grid_column": null,
            "grid_gap": null,
            "grid_row": null,
            "grid_template_areas": null,
            "grid_template_columns": null,
            "grid_template_rows": null,
            "height": null,
            "justify_content": null,
            "justify_items": null,
            "left": null,
            "margin": null,
            "max_height": null,
            "max_width": null,
            "min_height": null,
            "min_width": null,
            "object_fit": null,
            "object_position": null,
            "order": null,
            "overflow": null,
            "overflow_x": null,
            "overflow_y": null,
            "padding": null,
            "right": null,
            "top": null,
            "visibility": null,
            "width": null
          }
        },
        "1ba02dadeea84f6294145d2d1e584be6": {
          "model_module": "@jupyter-widgets/controls",
          "model_name": "ProgressStyleModel",
          "model_module_version": "1.5.0",
          "state": {
            "_model_module": "@jupyter-widgets/controls",
            "_model_module_version": "1.5.0",
            "_model_name": "ProgressStyleModel",
            "_view_count": null,
            "_view_module": "@jupyter-widgets/base",
            "_view_module_version": "1.2.0",
            "_view_name": "StyleView",
            "bar_color": null,
            "description_width": ""
          }
        },
        "977664640226462fbdaddd7087e744b6": {
          "model_module": "@jupyter-widgets/base",
          "model_name": "LayoutModel",
          "model_module_version": "1.2.0",
          "state": {
            "_model_module": "@jupyter-widgets/base",
            "_model_module_version": "1.2.0",
            "_model_name": "LayoutModel",
            "_view_count": null,
            "_view_module": "@jupyter-widgets/base",
            "_view_module_version": "1.2.0",
            "_view_name": "LayoutView",
            "align_content": null,
            "align_items": null,
            "align_self": null,
            "border": null,
            "bottom": null,
            "display": null,
            "flex": null,
            "flex_flow": null,
            "grid_area": null,
            "grid_auto_columns": null,
            "grid_auto_flow": null,
            "grid_auto_rows": null,
            "grid_column": null,
            "grid_gap": null,
            "grid_row": null,
            "grid_template_areas": null,
            "grid_template_columns": null,
            "grid_template_rows": null,
            "height": null,
            "justify_content": null,
            "justify_items": null,
            "left": null,
            "margin": null,
            "max_height": null,
            "max_width": null,
            "min_height": null,
            "min_width": null,
            "object_fit": null,
            "object_position": null,
            "order": null,
            "overflow": null,
            "overflow_x": null,
            "overflow_y": null,
            "padding": null,
            "right": null,
            "top": null,
            "visibility": null,
            "width": null
          }
        },
        "1e7d7e0ed8fa4087bd69de3522178413": {
          "model_module": "@jupyter-widgets/controls",
          "model_name": "DescriptionStyleModel",
          "model_module_version": "1.5.0",
          "state": {
            "_model_module": "@jupyter-widgets/controls",
            "_model_module_version": "1.5.0",
            "_model_name": "DescriptionStyleModel",
            "_view_count": null,
            "_view_module": "@jupyter-widgets/base",
            "_view_module_version": "1.2.0",
            "_view_name": "StyleView",
            "description_width": ""
          }
        },
        "df96fc67383047c0b2a9e1cf47bc0e69": {
          "model_module": "@jupyter-widgets/controls",
          "model_name": "HBoxModel",
          "model_module_version": "1.5.0",
          "state": {
            "_dom_classes": [],
            "_model_module": "@jupyter-widgets/controls",
            "_model_module_version": "1.5.0",
            "_model_name": "HBoxModel",
            "_view_count": null,
            "_view_module": "@jupyter-widgets/controls",
            "_view_module_version": "1.5.0",
            "_view_name": "HBoxView",
            "box_style": "",
            "children": [
              "IPY_MODEL_9918d3ce650546418d568f0e327d8ad9",
              "IPY_MODEL_3dab7b18ab914c5db34c2cb5181271e4",
              "IPY_MODEL_cc850ac2bd974c758bbd5b94a7b12f27"
            ],
            "layout": "IPY_MODEL_9256bfe1cad2457583486cdcdf042fe5"
          }
        },
        "9918d3ce650546418d568f0e327d8ad9": {
          "model_module": "@jupyter-widgets/controls",
          "model_name": "HTMLModel",
          "model_module_version": "1.5.0",
          "state": {
            "_dom_classes": [],
            "_model_module": "@jupyter-widgets/controls",
            "_model_module_version": "1.5.0",
            "_model_name": "HTMLModel",
            "_view_count": null,
            "_view_module": "@jupyter-widgets/controls",
            "_view_module_version": "1.5.0",
            "_view_name": "HTMLView",
            "description": "",
            "description_tooltip": null,
            "layout": "IPY_MODEL_f0100c86ea43451d9ae1ea739985ef46",
            "placeholder": "​",
            "style": "IPY_MODEL_47fbf44bf17c46b6a87be77c61e177cb",
            "value": "100%"
          }
        },
        "3dab7b18ab914c5db34c2cb5181271e4": {
          "model_module": "@jupyter-widgets/controls",
          "model_name": "FloatProgressModel",
          "model_module_version": "1.5.0",
          "state": {
            "_dom_classes": [],
            "_model_module": "@jupyter-widgets/controls",
            "_model_module_version": "1.5.0",
            "_model_name": "FloatProgressModel",
            "_view_count": null,
            "_view_module": "@jupyter-widgets/controls",
            "_view_module_version": "1.5.0",
            "_view_name": "ProgressView",
            "bar_style": "success",
            "description": "",
            "description_tooltip": null,
            "layout": "IPY_MODEL_86c5f00e2e6b438d937ec836946b678b",
            "max": 15000,
            "min": 0,
            "orientation": "horizontal",
            "style": "IPY_MODEL_92c67539a5914bcc93e1bd905a2e4264",
            "value": 15000
          }
        },
        "cc850ac2bd974c758bbd5b94a7b12f27": {
          "model_module": "@jupyter-widgets/controls",
          "model_name": "HTMLModel",
          "model_module_version": "1.5.0",
          "state": {
            "_dom_classes": [],
            "_model_module": "@jupyter-widgets/controls",
            "_model_module_version": "1.5.0",
            "_model_name": "HTMLModel",
            "_view_count": null,
            "_view_module": "@jupyter-widgets/controls",
            "_view_module_version": "1.5.0",
            "_view_name": "HTMLView",
            "description": "",
            "description_tooltip": null,
            "layout": "IPY_MODEL_b25133ff8dbf44439c409918b30ee74d",
            "placeholder": "​",
            "style": "IPY_MODEL_0375be7d9248427f96fadad920efab47",
            "value": " 15000/15000 [01:06&lt;00:00, 168.57it/s]"
          }
        },
        "9256bfe1cad2457583486cdcdf042fe5": {
          "model_module": "@jupyter-widgets/base",
          "model_name": "LayoutModel",
          "model_module_version": "1.2.0",
          "state": {
            "_model_module": "@jupyter-widgets/base",
            "_model_module_version": "1.2.0",
            "_model_name": "LayoutModel",
            "_view_count": null,
            "_view_module": "@jupyter-widgets/base",
            "_view_module_version": "1.2.0",
            "_view_name": "LayoutView",
            "align_content": null,
            "align_items": null,
            "align_self": null,
            "border": null,
            "bottom": null,
            "display": null,
            "flex": null,
            "flex_flow": null,
            "grid_area": null,
            "grid_auto_columns": null,
            "grid_auto_flow": null,
            "grid_auto_rows": null,
            "grid_column": null,
            "grid_gap": null,
            "grid_row": null,
            "grid_template_areas": null,
            "grid_template_columns": null,
            "grid_template_rows": null,
            "height": null,
            "justify_content": null,
            "justify_items": null,
            "left": null,
            "margin": null,
            "max_height": null,
            "max_width": null,
            "min_height": null,
            "min_width": null,
            "object_fit": null,
            "object_position": null,
            "order": null,
            "overflow": null,
            "overflow_x": null,
            "overflow_y": null,
            "padding": null,
            "right": null,
            "top": null,
            "visibility": null,
            "width": null
          }
        },
        "f0100c86ea43451d9ae1ea739985ef46": {
          "model_module": "@jupyter-widgets/base",
          "model_name": "LayoutModel",
          "model_module_version": "1.2.0",
          "state": {
            "_model_module": "@jupyter-widgets/base",
            "_model_module_version": "1.2.0",
            "_model_name": "LayoutModel",
            "_view_count": null,
            "_view_module": "@jupyter-widgets/base",
            "_view_module_version": "1.2.0",
            "_view_name": "LayoutView",
            "align_content": null,
            "align_items": null,
            "align_self": null,
            "border": null,
            "bottom": null,
            "display": null,
            "flex": null,
            "flex_flow": null,
            "grid_area": null,
            "grid_auto_columns": null,
            "grid_auto_flow": null,
            "grid_auto_rows": null,
            "grid_column": null,
            "grid_gap": null,
            "grid_row": null,
            "grid_template_areas": null,
            "grid_template_columns": null,
            "grid_template_rows": null,
            "height": null,
            "justify_content": null,
            "justify_items": null,
            "left": null,
            "margin": null,
            "max_height": null,
            "max_width": null,
            "min_height": null,
            "min_width": null,
            "object_fit": null,
            "object_position": null,
            "order": null,
            "overflow": null,
            "overflow_x": null,
            "overflow_y": null,
            "padding": null,
            "right": null,
            "top": null,
            "visibility": null,
            "width": null
          }
        },
        "47fbf44bf17c46b6a87be77c61e177cb": {
          "model_module": "@jupyter-widgets/controls",
          "model_name": "DescriptionStyleModel",
          "model_module_version": "1.5.0",
          "state": {
            "_model_module": "@jupyter-widgets/controls",
            "_model_module_version": "1.5.0",
            "_model_name": "DescriptionStyleModel",
            "_view_count": null,
            "_view_module": "@jupyter-widgets/base",
            "_view_module_version": "1.2.0",
            "_view_name": "StyleView",
            "description_width": ""
          }
        },
        "86c5f00e2e6b438d937ec836946b678b": {
          "model_module": "@jupyter-widgets/base",
          "model_name": "LayoutModel",
          "model_module_version": "1.2.0",
          "state": {
            "_model_module": "@jupyter-widgets/base",
            "_model_module_version": "1.2.0",
            "_model_name": "LayoutModel",
            "_view_count": null,
            "_view_module": "@jupyter-widgets/base",
            "_view_module_version": "1.2.0",
            "_view_name": "LayoutView",
            "align_content": null,
            "align_items": null,
            "align_self": null,
            "border": null,
            "bottom": null,
            "display": null,
            "flex": null,
            "flex_flow": null,
            "grid_area": null,
            "grid_auto_columns": null,
            "grid_auto_flow": null,
            "grid_auto_rows": null,
            "grid_column": null,
            "grid_gap": null,
            "grid_row": null,
            "grid_template_areas": null,
            "grid_template_columns": null,
            "grid_template_rows": null,
            "height": null,
            "justify_content": null,
            "justify_items": null,
            "left": null,
            "margin": null,
            "max_height": null,
            "max_width": null,
            "min_height": null,
            "min_width": null,
            "object_fit": null,
            "object_position": null,
            "order": null,
            "overflow": null,
            "overflow_x": null,
            "overflow_y": null,
            "padding": null,
            "right": null,
            "top": null,
            "visibility": null,
            "width": null
          }
        },
        "92c67539a5914bcc93e1bd905a2e4264": {
          "model_module": "@jupyter-widgets/controls",
          "model_name": "ProgressStyleModel",
          "model_module_version": "1.5.0",
          "state": {
            "_model_module": "@jupyter-widgets/controls",
            "_model_module_version": "1.5.0",
            "_model_name": "ProgressStyleModel",
            "_view_count": null,
            "_view_module": "@jupyter-widgets/base",
            "_view_module_version": "1.2.0",
            "_view_name": "StyleView",
            "bar_color": null,
            "description_width": ""
          }
        },
        "b25133ff8dbf44439c409918b30ee74d": {
          "model_module": "@jupyter-widgets/base",
          "model_name": "LayoutModel",
          "model_module_version": "1.2.0",
          "state": {
            "_model_module": "@jupyter-widgets/base",
            "_model_module_version": "1.2.0",
            "_model_name": "LayoutModel",
            "_view_count": null,
            "_view_module": "@jupyter-widgets/base",
            "_view_module_version": "1.2.0",
            "_view_name": "LayoutView",
            "align_content": null,
            "align_items": null,
            "align_self": null,
            "border": null,
            "bottom": null,
            "display": null,
            "flex": null,
            "flex_flow": null,
            "grid_area": null,
            "grid_auto_columns": null,
            "grid_auto_flow": null,
            "grid_auto_rows": null,
            "grid_column": null,
            "grid_gap": null,
            "grid_row": null,
            "grid_template_areas": null,
            "grid_template_columns": null,
            "grid_template_rows": null,
            "height": null,
            "justify_content": null,
            "justify_items": null,
            "left": null,
            "margin": null,
            "max_height": null,
            "max_width": null,
            "min_height": null,
            "min_width": null,
            "object_fit": null,
            "object_position": null,
            "order": null,
            "overflow": null,
            "overflow_x": null,
            "overflow_y": null,
            "padding": null,
            "right": null,
            "top": null,
            "visibility": null,
            "width": null
          }
        },
        "0375be7d9248427f96fadad920efab47": {
          "model_module": "@jupyter-widgets/controls",
          "model_name": "DescriptionStyleModel",
          "model_module_version": "1.5.0",
          "state": {
            "_model_module": "@jupyter-widgets/controls",
            "_model_module_version": "1.5.0",
            "_model_name": "DescriptionStyleModel",
            "_view_count": null,
            "_view_module": "@jupyter-widgets/base",
            "_view_module_version": "1.2.0",
            "_view_name": "StyleView",
            "description_width": ""
          }
        },
        "61acba45a5b94cccbd3096fe25c27eb7": {
          "model_module": "@jupyter-widgets/controls",
          "model_name": "HBoxModel",
          "model_module_version": "1.5.0",
          "state": {
            "_dom_classes": [],
            "_model_module": "@jupyter-widgets/controls",
            "_model_module_version": "1.5.0",
            "_model_name": "HBoxModel",
            "_view_count": null,
            "_view_module": "@jupyter-widgets/controls",
            "_view_module_version": "1.5.0",
            "_view_name": "HBoxView",
            "box_style": "",
            "children": [
              "IPY_MODEL_dca7c19c07424114b13dde0a94f8d891",
              "IPY_MODEL_3f506beb95d646b89776e80f340a0f02",
              "IPY_MODEL_533fef3f18aa4f6e8035d958b3bf8d60"
            ],
            "layout": "IPY_MODEL_a8830015a53040a18f235d30b2182857"
          }
        },
        "dca7c19c07424114b13dde0a94f8d891": {
          "model_module": "@jupyter-widgets/controls",
          "model_name": "HTMLModel",
          "model_module_version": "1.5.0",
          "state": {
            "_dom_classes": [],
            "_model_module": "@jupyter-widgets/controls",
            "_model_module_version": "1.5.0",
            "_model_name": "HTMLModel",
            "_view_count": null,
            "_view_module": "@jupyter-widgets/controls",
            "_view_module_version": "1.5.0",
            "_view_name": "HTMLView",
            "description": "",
            "description_tooltip": null,
            "layout": "IPY_MODEL_a0c2ae2694384788a94726cab816a696",
            "placeholder": "​",
            "style": "IPY_MODEL_5234c320a89e44298d605334d6f752bb",
            "value": "100%"
          }
        },
        "3f506beb95d646b89776e80f340a0f02": {
          "model_module": "@jupyter-widgets/controls",
          "model_name": "FloatProgressModel",
          "model_module_version": "1.5.0",
          "state": {
            "_dom_classes": [],
            "_model_module": "@jupyter-widgets/controls",
            "_model_module_version": "1.5.0",
            "_model_name": "FloatProgressModel",
            "_view_count": null,
            "_view_module": "@jupyter-widgets/controls",
            "_view_module_version": "1.5.0",
            "_view_name": "ProgressView",
            "bar_style": "success",
            "description": "",
            "description_tooltip": null,
            "layout": "IPY_MODEL_8ddbac9ed8194909af7047bca2150fef",
            "max": 2500,
            "min": 0,
            "orientation": "horizontal",
            "style": "IPY_MODEL_b4d87b7bac30486190b86a2a295e3824",
            "value": 2500
          }
        },
        "533fef3f18aa4f6e8035d958b3bf8d60": {
          "model_module": "@jupyter-widgets/controls",
          "model_name": "HTMLModel",
          "model_module_version": "1.5.0",
          "state": {
            "_dom_classes": [],
            "_model_module": "@jupyter-widgets/controls",
            "_model_module_version": "1.5.0",
            "_model_name": "HTMLModel",
            "_view_count": null,
            "_view_module": "@jupyter-widgets/controls",
            "_view_module_version": "1.5.0",
            "_view_name": "HTMLView",
            "description": "",
            "description_tooltip": null,
            "layout": "IPY_MODEL_6f5bef8efddc4aefa2e611978f060896",
            "placeholder": "​",
            "style": "IPY_MODEL_537446912aa446008da44c37ff5619cd",
            "value": " 2500/2500 [00:09&lt;00:00, 283.47it/s]"
          }
        },
        "a8830015a53040a18f235d30b2182857": {
          "model_module": "@jupyter-widgets/base",
          "model_name": "LayoutModel",
          "model_module_version": "1.2.0",
          "state": {
            "_model_module": "@jupyter-widgets/base",
            "_model_module_version": "1.2.0",
            "_model_name": "LayoutModel",
            "_view_count": null,
            "_view_module": "@jupyter-widgets/base",
            "_view_module_version": "1.2.0",
            "_view_name": "LayoutView",
            "align_content": null,
            "align_items": null,
            "align_self": null,
            "border": null,
            "bottom": null,
            "display": null,
            "flex": null,
            "flex_flow": null,
            "grid_area": null,
            "grid_auto_columns": null,
            "grid_auto_flow": null,
            "grid_auto_rows": null,
            "grid_column": null,
            "grid_gap": null,
            "grid_row": null,
            "grid_template_areas": null,
            "grid_template_columns": null,
            "grid_template_rows": null,
            "height": null,
            "justify_content": null,
            "justify_items": null,
            "left": null,
            "margin": null,
            "max_height": null,
            "max_width": null,
            "min_height": null,
            "min_width": null,
            "object_fit": null,
            "object_position": null,
            "order": null,
            "overflow": null,
            "overflow_x": null,
            "overflow_y": null,
            "padding": null,
            "right": null,
            "top": null,
            "visibility": null,
            "width": null
          }
        },
        "a0c2ae2694384788a94726cab816a696": {
          "model_module": "@jupyter-widgets/base",
          "model_name": "LayoutModel",
          "model_module_version": "1.2.0",
          "state": {
            "_model_module": "@jupyter-widgets/base",
            "_model_module_version": "1.2.0",
            "_model_name": "LayoutModel",
            "_view_count": null,
            "_view_module": "@jupyter-widgets/base",
            "_view_module_version": "1.2.0",
            "_view_name": "LayoutView",
            "align_content": null,
            "align_items": null,
            "align_self": null,
            "border": null,
            "bottom": null,
            "display": null,
            "flex": null,
            "flex_flow": null,
            "grid_area": null,
            "grid_auto_columns": null,
            "grid_auto_flow": null,
            "grid_auto_rows": null,
            "grid_column": null,
            "grid_gap": null,
            "grid_row": null,
            "grid_template_areas": null,
            "grid_template_columns": null,
            "grid_template_rows": null,
            "height": null,
            "justify_content": null,
            "justify_items": null,
            "left": null,
            "margin": null,
            "max_height": null,
            "max_width": null,
            "min_height": null,
            "min_width": null,
            "object_fit": null,
            "object_position": null,
            "order": null,
            "overflow": null,
            "overflow_x": null,
            "overflow_y": null,
            "padding": null,
            "right": null,
            "top": null,
            "visibility": null,
            "width": null
          }
        },
        "5234c320a89e44298d605334d6f752bb": {
          "model_module": "@jupyter-widgets/controls",
          "model_name": "DescriptionStyleModel",
          "model_module_version": "1.5.0",
          "state": {
            "_model_module": "@jupyter-widgets/controls",
            "_model_module_version": "1.5.0",
            "_model_name": "DescriptionStyleModel",
            "_view_count": null,
            "_view_module": "@jupyter-widgets/base",
            "_view_module_version": "1.2.0",
            "_view_name": "StyleView",
            "description_width": ""
          }
        },
        "8ddbac9ed8194909af7047bca2150fef": {
          "model_module": "@jupyter-widgets/base",
          "model_name": "LayoutModel",
          "model_module_version": "1.2.0",
          "state": {
            "_model_module": "@jupyter-widgets/base",
            "_model_module_version": "1.2.0",
            "_model_name": "LayoutModel",
            "_view_count": null,
            "_view_module": "@jupyter-widgets/base",
            "_view_module_version": "1.2.0",
            "_view_name": "LayoutView",
            "align_content": null,
            "align_items": null,
            "align_self": null,
            "border": null,
            "bottom": null,
            "display": null,
            "flex": null,
            "flex_flow": null,
            "grid_area": null,
            "grid_auto_columns": null,
            "grid_auto_flow": null,
            "grid_auto_rows": null,
            "grid_column": null,
            "grid_gap": null,
            "grid_row": null,
            "grid_template_areas": null,
            "grid_template_columns": null,
            "grid_template_rows": null,
            "height": null,
            "justify_content": null,
            "justify_items": null,
            "left": null,
            "margin": null,
            "max_height": null,
            "max_width": null,
            "min_height": null,
            "min_width": null,
            "object_fit": null,
            "object_position": null,
            "order": null,
            "overflow": null,
            "overflow_x": null,
            "overflow_y": null,
            "padding": null,
            "right": null,
            "top": null,
            "visibility": null,
            "width": null
          }
        },
        "b4d87b7bac30486190b86a2a295e3824": {
          "model_module": "@jupyter-widgets/controls",
          "model_name": "ProgressStyleModel",
          "model_module_version": "1.5.0",
          "state": {
            "_model_module": "@jupyter-widgets/controls",
            "_model_module_version": "1.5.0",
            "_model_name": "ProgressStyleModel",
            "_view_count": null,
            "_view_module": "@jupyter-widgets/base",
            "_view_module_version": "1.2.0",
            "_view_name": "StyleView",
            "bar_color": null,
            "description_width": ""
          }
        },
        "6f5bef8efddc4aefa2e611978f060896": {
          "model_module": "@jupyter-widgets/base",
          "model_name": "LayoutModel",
          "model_module_version": "1.2.0",
          "state": {
            "_model_module": "@jupyter-widgets/base",
            "_model_module_version": "1.2.0",
            "_model_name": "LayoutModel",
            "_view_count": null,
            "_view_module": "@jupyter-widgets/base",
            "_view_module_version": "1.2.0",
            "_view_name": "LayoutView",
            "align_content": null,
            "align_items": null,
            "align_self": null,
            "border": null,
            "bottom": null,
            "display": null,
            "flex": null,
            "flex_flow": null,
            "grid_area": null,
            "grid_auto_columns": null,
            "grid_auto_flow": null,
            "grid_auto_rows": null,
            "grid_column": null,
            "grid_gap": null,
            "grid_row": null,
            "grid_template_areas": null,
            "grid_template_columns": null,
            "grid_template_rows": null,
            "height": null,
            "justify_content": null,
            "justify_items": null,
            "left": null,
            "margin": null,
            "max_height": null,
            "max_width": null,
            "min_height": null,
            "min_width": null,
            "object_fit": null,
            "object_position": null,
            "order": null,
            "overflow": null,
            "overflow_x": null,
            "overflow_y": null,
            "padding": null,
            "right": null,
            "top": null,
            "visibility": null,
            "width": null
          }
        },
        "537446912aa446008da44c37ff5619cd": {
          "model_module": "@jupyter-widgets/controls",
          "model_name": "DescriptionStyleModel",
          "model_module_version": "1.5.0",
          "state": {
            "_model_module": "@jupyter-widgets/controls",
            "_model_module_version": "1.5.0",
            "_model_name": "DescriptionStyleModel",
            "_view_count": null,
            "_view_module": "@jupyter-widgets/base",
            "_view_module_version": "1.2.0",
            "_view_name": "StyleView",
            "description_width": ""
          }
        }
      }
    }
  },
  "nbformat": 4,
  "nbformat_minor": 0
}
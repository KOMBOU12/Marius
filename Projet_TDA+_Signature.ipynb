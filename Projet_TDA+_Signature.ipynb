{
  "nbformat": 4,
  "nbformat_minor": 0,
  "metadata": {
    "colab": {
      "provenance": [],
      "authorship_tag": "ABX9TyPaW16579pGrrK1wCflxQ7G",
      "include_colab_link": true
    },
    "kernelspec": {
      "name": "python3",
      "display_name": "Python 3"
    },
    "language_info": {
      "name": "python"
    }
  },
  "cells": [
    {
      "cell_type": "markdown",
      "metadata": {
        "id": "view-in-github",
        "colab_type": "text"
      },
      "source": [
        "<a href=\"https://colab.research.google.com/github/KOMBOU12/Marius/blob/main/Projet_TDA%2B_Signature.ipynb\" target=\"_parent\"><img src=\"https://colab.research.google.com/assets/colab-badge.svg\" alt=\"Open In Colab\"/></a>"
      ]
    },
    {
      "cell_type": "markdown",
      "source": [
        "# **📝Projet TDA + Signature**\n",
        "L’objectif de ce projet est d’appliquer les méthodes de TDA sur des données temporelles.\n",
        "Chaque fichier est composé de 10 colonnes :\n",
        "\n",
        "Temps - temps en ms ;\n",
        "2-9) Canal - huit canaux EMG du bracelet MYO Thalmic;\n",
        "\n",
        "Classe - le label des gestes :\n",
        "\n",
        "*   0 - données non marquées,\n",
        "*   1 - main au repos,\n",
        "*   2 - main serrée en poing,\n",
        "*   3 - flexion du poignet,\n",
        "*   4 - extension du poignet,\n",
        "*   5 - déviations radiales,\n",
        "*   6 - déviations ulnaires\n",
        "*   7 - paume étendue (le geste n'a pas été effectué par tous les sujets)\n",
        "\n",
        "\n",
        "\n",
        "\n"
      ],
      "metadata": {
        "id": "bZGOfwQnN_q6"
      }
    },
    {
      "cell_type": "markdown",
      "source": [
        "**1- Description des données**"
      ],
      "metadata": {
        "id": "7Fwmb3NYOl2T"
      }
    },
    {
      "cell_type": "code",
      "execution_count": 2,
      "metadata": {
        "colab": {
          "base_uri": "https://localhost:8080/",
          "height": 363
        },
        "id": "CLmx2g5INyDc",
        "outputId": "e9690c6f-e568-4b13-a538-2c003d8acfaa"
      },
      "outputs": [
        {
          "output_type": "execute_result",
          "data": {
            "text/plain": [
              "   time  channel1  channel2  channel3  channel4  channel5  channel6  channel7  \\\n",
              "0     1   0.00001  -0.00002  -0.00001  -0.00003   0.00000  -0.00001   0.00000   \n",
              "1     5   0.00001  -0.00002  -0.00001  -0.00003   0.00000  -0.00001   0.00000   \n",
              "2     6  -0.00001   0.00001   0.00002   0.00000   0.00001  -0.00002  -0.00001   \n",
              "3     7  -0.00001   0.00001   0.00002   0.00000   0.00001  -0.00002  -0.00001   \n",
              "4     8  -0.00001   0.00001   0.00002   0.00000   0.00001  -0.00002  -0.00001   \n",
              "5     9  -0.00001   0.00001   0.00002   0.00000   0.00001  -0.00002  -0.00001   \n",
              "6    10  -0.00001   0.00001   0.00002   0.00000   0.00001  -0.00002  -0.00001   \n",
              "7    11  -0.00001   0.00001   0.00002   0.00000   0.00001  -0.00002  -0.00001   \n",
              "8    12  -0.00001   0.00001   0.00002   0.00000   0.00001  -0.00002  -0.00001   \n",
              "9    13  -0.00001   0.00001   0.00002   0.00000   0.00001  -0.00002  -0.00001   \n",
              "\n",
              "   channel8  class  \n",
              "0  -0.00001      0  \n",
              "1  -0.00001      0  \n",
              "2   0.00001      0  \n",
              "3   0.00001      0  \n",
              "4   0.00001      0  \n",
              "5   0.00001      0  \n",
              "6   0.00001      0  \n",
              "7   0.00001      0  \n",
              "8   0.00001      0  \n",
              "9   0.00001      0  "
            ],
            "text/html": [
              "\n",
              "  <div id=\"df-3a743fe4-0578-48c5-b6f0-0f9c6575c86b\" class=\"colab-df-container\">\n",
              "    <div>\n",
              "<style scoped>\n",
              "    .dataframe tbody tr th:only-of-type {\n",
              "        vertical-align: middle;\n",
              "    }\n",
              "\n",
              "    .dataframe tbody tr th {\n",
              "        vertical-align: top;\n",
              "    }\n",
              "\n",
              "    .dataframe thead th {\n",
              "        text-align: right;\n",
              "    }\n",
              "</style>\n",
              "<table border=\"1\" class=\"dataframe\">\n",
              "  <thead>\n",
              "    <tr style=\"text-align: right;\">\n",
              "      <th></th>\n",
              "      <th>time</th>\n",
              "      <th>channel1</th>\n",
              "      <th>channel2</th>\n",
              "      <th>channel3</th>\n",
              "      <th>channel4</th>\n",
              "      <th>channel5</th>\n",
              "      <th>channel6</th>\n",
              "      <th>channel7</th>\n",
              "      <th>channel8</th>\n",
              "      <th>class</th>\n",
              "    </tr>\n",
              "  </thead>\n",
              "  <tbody>\n",
              "    <tr>\n",
              "      <th>0</th>\n",
              "      <td>1</td>\n",
              "      <td>0.00001</td>\n",
              "      <td>-0.00002</td>\n",
              "      <td>-0.00001</td>\n",
              "      <td>-0.00003</td>\n",
              "      <td>0.00000</td>\n",
              "      <td>-0.00001</td>\n",
              "      <td>0.00000</td>\n",
              "      <td>-0.00001</td>\n",
              "      <td>0</td>\n",
              "    </tr>\n",
              "    <tr>\n",
              "      <th>1</th>\n",
              "      <td>5</td>\n",
              "      <td>0.00001</td>\n",
              "      <td>-0.00002</td>\n",
              "      <td>-0.00001</td>\n",
              "      <td>-0.00003</td>\n",
              "      <td>0.00000</td>\n",
              "      <td>-0.00001</td>\n",
              "      <td>0.00000</td>\n",
              "      <td>-0.00001</td>\n",
              "      <td>0</td>\n",
              "    </tr>\n",
              "    <tr>\n",
              "      <th>2</th>\n",
              "      <td>6</td>\n",
              "      <td>-0.00001</td>\n",
              "      <td>0.00001</td>\n",
              "      <td>0.00002</td>\n",
              "      <td>0.00000</td>\n",
              "      <td>0.00001</td>\n",
              "      <td>-0.00002</td>\n",
              "      <td>-0.00001</td>\n",
              "      <td>0.00001</td>\n",
              "      <td>0</td>\n",
              "    </tr>\n",
              "    <tr>\n",
              "      <th>3</th>\n",
              "      <td>7</td>\n",
              "      <td>-0.00001</td>\n",
              "      <td>0.00001</td>\n",
              "      <td>0.00002</td>\n",
              "      <td>0.00000</td>\n",
              "      <td>0.00001</td>\n",
              "      <td>-0.00002</td>\n",
              "      <td>-0.00001</td>\n",
              "      <td>0.00001</td>\n",
              "      <td>0</td>\n",
              "    </tr>\n",
              "    <tr>\n",
              "      <th>4</th>\n",
              "      <td>8</td>\n",
              "      <td>-0.00001</td>\n",
              "      <td>0.00001</td>\n",
              "      <td>0.00002</td>\n",
              "      <td>0.00000</td>\n",
              "      <td>0.00001</td>\n",
              "      <td>-0.00002</td>\n",
              "      <td>-0.00001</td>\n",
              "      <td>0.00001</td>\n",
              "      <td>0</td>\n",
              "    </tr>\n",
              "    <tr>\n",
              "      <th>5</th>\n",
              "      <td>9</td>\n",
              "      <td>-0.00001</td>\n",
              "      <td>0.00001</td>\n",
              "      <td>0.00002</td>\n",
              "      <td>0.00000</td>\n",
              "      <td>0.00001</td>\n",
              "      <td>-0.00002</td>\n",
              "      <td>-0.00001</td>\n",
              "      <td>0.00001</td>\n",
              "      <td>0</td>\n",
              "    </tr>\n",
              "    <tr>\n",
              "      <th>6</th>\n",
              "      <td>10</td>\n",
              "      <td>-0.00001</td>\n",
              "      <td>0.00001</td>\n",
              "      <td>0.00002</td>\n",
              "      <td>0.00000</td>\n",
              "      <td>0.00001</td>\n",
              "      <td>-0.00002</td>\n",
              "      <td>-0.00001</td>\n",
              "      <td>0.00001</td>\n",
              "      <td>0</td>\n",
              "    </tr>\n",
              "    <tr>\n",
              "      <th>7</th>\n",
              "      <td>11</td>\n",
              "      <td>-0.00001</td>\n",
              "      <td>0.00001</td>\n",
              "      <td>0.00002</td>\n",
              "      <td>0.00000</td>\n",
              "      <td>0.00001</td>\n",
              "      <td>-0.00002</td>\n",
              "      <td>-0.00001</td>\n",
              "      <td>0.00001</td>\n",
              "      <td>0</td>\n",
              "    </tr>\n",
              "    <tr>\n",
              "      <th>8</th>\n",
              "      <td>12</td>\n",
              "      <td>-0.00001</td>\n",
              "      <td>0.00001</td>\n",
              "      <td>0.00002</td>\n",
              "      <td>0.00000</td>\n",
              "      <td>0.00001</td>\n",
              "      <td>-0.00002</td>\n",
              "      <td>-0.00001</td>\n",
              "      <td>0.00001</td>\n",
              "      <td>0</td>\n",
              "    </tr>\n",
              "    <tr>\n",
              "      <th>9</th>\n",
              "      <td>13</td>\n",
              "      <td>-0.00001</td>\n",
              "      <td>0.00001</td>\n",
              "      <td>0.00002</td>\n",
              "      <td>0.00000</td>\n",
              "      <td>0.00001</td>\n",
              "      <td>-0.00002</td>\n",
              "      <td>-0.00001</td>\n",
              "      <td>0.00001</td>\n",
              "      <td>0</td>\n",
              "    </tr>\n",
              "  </tbody>\n",
              "</table>\n",
              "</div>\n",
              "    <div class=\"colab-df-buttons\">\n",
              "\n",
              "  <div class=\"colab-df-container\">\n",
              "    <button class=\"colab-df-convert\" onclick=\"convertToInteractive('df-3a743fe4-0578-48c5-b6f0-0f9c6575c86b')\"\n",
              "            title=\"Convert this dataframe to an interactive table.\"\n",
              "            style=\"display:none;\">\n",
              "\n",
              "  <svg xmlns=\"http://www.w3.org/2000/svg\" height=\"24px\" viewBox=\"0 -960 960 960\">\n",
              "    <path d=\"M120-120v-720h720v720H120Zm60-500h600v-160H180v160Zm220 220h160v-160H400v160Zm0 220h160v-160H400v160ZM180-400h160v-160H180v160Zm440 0h160v-160H620v160ZM180-180h160v-160H180v160Zm440 0h160v-160H620v160Z\"/>\n",
              "  </svg>\n",
              "    </button>\n",
              "\n",
              "  <style>\n",
              "    .colab-df-container {\n",
              "      display:flex;\n",
              "      gap: 12px;\n",
              "    }\n",
              "\n",
              "    .colab-df-convert {\n",
              "      background-color: #E8F0FE;\n",
              "      border: none;\n",
              "      border-radius: 50%;\n",
              "      cursor: pointer;\n",
              "      display: none;\n",
              "      fill: #1967D2;\n",
              "      height: 32px;\n",
              "      padding: 0 0 0 0;\n",
              "      width: 32px;\n",
              "    }\n",
              "\n",
              "    .colab-df-convert:hover {\n",
              "      background-color: #E2EBFA;\n",
              "      box-shadow: 0px 1px 2px rgba(60, 64, 67, 0.3), 0px 1px 3px 1px rgba(60, 64, 67, 0.15);\n",
              "      fill: #174EA6;\n",
              "    }\n",
              "\n",
              "    .colab-df-buttons div {\n",
              "      margin-bottom: 4px;\n",
              "    }\n",
              "\n",
              "    [theme=dark] .colab-df-convert {\n",
              "      background-color: #3B4455;\n",
              "      fill: #D2E3FC;\n",
              "    }\n",
              "\n",
              "    [theme=dark] .colab-df-convert:hover {\n",
              "      background-color: #434B5C;\n",
              "      box-shadow: 0px 1px 3px 1px rgba(0, 0, 0, 0.15);\n",
              "      filter: drop-shadow(0px 1px 2px rgba(0, 0, 0, 0.3));\n",
              "      fill: #FFFFFF;\n",
              "    }\n",
              "  </style>\n",
              "\n",
              "    <script>\n",
              "      const buttonEl =\n",
              "        document.querySelector('#df-3a743fe4-0578-48c5-b6f0-0f9c6575c86b button.colab-df-convert');\n",
              "      buttonEl.style.display =\n",
              "        google.colab.kernel.accessAllowed ? 'block' : 'none';\n",
              "\n",
              "      async function convertToInteractive(key) {\n",
              "        const element = document.querySelector('#df-3a743fe4-0578-48c5-b6f0-0f9c6575c86b');\n",
              "        const dataTable =\n",
              "          await google.colab.kernel.invokeFunction('convertToInteractive',\n",
              "                                                    [key], {});\n",
              "        if (!dataTable) return;\n",
              "\n",
              "        const docLinkHtml = 'Like what you see? Visit the ' +\n",
              "          '<a target=\"_blank\" href=https://colab.research.google.com/notebooks/data_table.ipynb>data table notebook</a>'\n",
              "          + ' to learn more about interactive tables.';\n",
              "        element.innerHTML = '';\n",
              "        dataTable['output_type'] = 'display_data';\n",
              "        await google.colab.output.renderOutput(dataTable, element);\n",
              "        const docLink = document.createElement('div');\n",
              "        docLink.innerHTML = docLinkHtml;\n",
              "        element.appendChild(docLink);\n",
              "      }\n",
              "    </script>\n",
              "  </div>\n",
              "\n",
              "\n",
              "<div id=\"df-625878a7-074c-4eb5-872e-2e30dfb5a337\">\n",
              "  <button class=\"colab-df-quickchart\" onclick=\"quickchart('df-625878a7-074c-4eb5-872e-2e30dfb5a337')\"\n",
              "            title=\"Suggest charts\"\n",
              "            style=\"display:none;\">\n",
              "\n",
              "<svg xmlns=\"http://www.w3.org/2000/svg\" height=\"24px\"viewBox=\"0 0 24 24\"\n",
              "     width=\"24px\">\n",
              "    <g>\n",
              "        <path d=\"M19 3H5c-1.1 0-2 .9-2 2v14c0 1.1.9 2 2 2h14c1.1 0 2-.9 2-2V5c0-1.1-.9-2-2-2zM9 17H7v-7h2v7zm4 0h-2V7h2v10zm4 0h-2v-4h2v4z\"/>\n",
              "    </g>\n",
              "</svg>\n",
              "  </button>\n",
              "\n",
              "<style>\n",
              "  .colab-df-quickchart {\n",
              "      --bg-color: #E8F0FE;\n",
              "      --fill-color: #1967D2;\n",
              "      --hover-bg-color: #E2EBFA;\n",
              "      --hover-fill-color: #174EA6;\n",
              "      --disabled-fill-color: #AAA;\n",
              "      --disabled-bg-color: #DDD;\n",
              "  }\n",
              "\n",
              "  [theme=dark] .colab-df-quickchart {\n",
              "      --bg-color: #3B4455;\n",
              "      --fill-color: #D2E3FC;\n",
              "      --hover-bg-color: #434B5C;\n",
              "      --hover-fill-color: #FFFFFF;\n",
              "      --disabled-bg-color: #3B4455;\n",
              "      --disabled-fill-color: #666;\n",
              "  }\n",
              "\n",
              "  .colab-df-quickchart {\n",
              "    background-color: var(--bg-color);\n",
              "    border: none;\n",
              "    border-radius: 50%;\n",
              "    cursor: pointer;\n",
              "    display: none;\n",
              "    fill: var(--fill-color);\n",
              "    height: 32px;\n",
              "    padding: 0;\n",
              "    width: 32px;\n",
              "  }\n",
              "\n",
              "  .colab-df-quickchart:hover {\n",
              "    background-color: var(--hover-bg-color);\n",
              "    box-shadow: 0 1px 2px rgba(60, 64, 67, 0.3), 0 1px 3px 1px rgba(60, 64, 67, 0.15);\n",
              "    fill: var(--button-hover-fill-color);\n",
              "  }\n",
              "\n",
              "  .colab-df-quickchart-complete:disabled,\n",
              "  .colab-df-quickchart-complete:disabled:hover {\n",
              "    background-color: var(--disabled-bg-color);\n",
              "    fill: var(--disabled-fill-color);\n",
              "    box-shadow: none;\n",
              "  }\n",
              "\n",
              "  .colab-df-spinner {\n",
              "    border: 2px solid var(--fill-color);\n",
              "    border-color: transparent;\n",
              "    border-bottom-color: var(--fill-color);\n",
              "    animation:\n",
              "      spin 1s steps(1) infinite;\n",
              "  }\n",
              "\n",
              "  @keyframes spin {\n",
              "    0% {\n",
              "      border-color: transparent;\n",
              "      border-bottom-color: var(--fill-color);\n",
              "      border-left-color: var(--fill-color);\n",
              "    }\n",
              "    20% {\n",
              "      border-color: transparent;\n",
              "      border-left-color: var(--fill-color);\n",
              "      border-top-color: var(--fill-color);\n",
              "    }\n",
              "    30% {\n",
              "      border-color: transparent;\n",
              "      border-left-color: var(--fill-color);\n",
              "      border-top-color: var(--fill-color);\n",
              "      border-right-color: var(--fill-color);\n",
              "    }\n",
              "    40% {\n",
              "      border-color: transparent;\n",
              "      border-right-color: var(--fill-color);\n",
              "      border-top-color: var(--fill-color);\n",
              "    }\n",
              "    60% {\n",
              "      border-color: transparent;\n",
              "      border-right-color: var(--fill-color);\n",
              "    }\n",
              "    80% {\n",
              "      border-color: transparent;\n",
              "      border-right-color: var(--fill-color);\n",
              "      border-bottom-color: var(--fill-color);\n",
              "    }\n",
              "    90% {\n",
              "      border-color: transparent;\n",
              "      border-bottom-color: var(--fill-color);\n",
              "    }\n",
              "  }\n",
              "</style>\n",
              "\n",
              "  <script>\n",
              "    async function quickchart(key) {\n",
              "      const quickchartButtonEl =\n",
              "        document.querySelector('#' + key + ' button');\n",
              "      quickchartButtonEl.disabled = true;  // To prevent multiple clicks.\n",
              "      quickchartButtonEl.classList.add('colab-df-spinner');\n",
              "      try {\n",
              "        const charts = await google.colab.kernel.invokeFunction(\n",
              "            'suggestCharts', [key], {});\n",
              "      } catch (error) {\n",
              "        console.error('Error during call to suggestCharts:', error);\n",
              "      }\n",
              "      quickchartButtonEl.classList.remove('colab-df-spinner');\n",
              "      quickchartButtonEl.classList.add('colab-df-quickchart-complete');\n",
              "    }\n",
              "    (() => {\n",
              "      let quickchartButtonEl =\n",
              "        document.querySelector('#df-625878a7-074c-4eb5-872e-2e30dfb5a337 button');\n",
              "      quickchartButtonEl.style.display =\n",
              "        google.colab.kernel.accessAllowed ? 'block' : 'none';\n",
              "    })();\n",
              "  </script>\n",
              "</div>\n",
              "\n",
              "    </div>\n",
              "  </div>\n"
            ],
            "application/vnd.google.colaboratory.intrinsic+json": {
              "type": "dataframe",
              "variable_name": "data",
              "summary": "{\n  \"name\": \"data\",\n  \"rows\": 63196,\n  \"fields\": [\n    {\n      \"column\": \"time\",\n      \"properties\": {\n        \"dtype\": \"number\",\n        \"std\": 18943,\n        \"min\": 1,\n        \"max\": 65661,\n        \"num_unique_values\": 63196,\n        \"samples\": [\n          48659,\n          50891,\n          41495\n        ],\n        \"semantic_type\": \"\",\n        \"description\": \"\"\n      }\n    },\n    {\n      \"column\": \"channel1\",\n      \"properties\": {\n        \"dtype\": \"number\",\n        \"std\": 0.00014405751489978132,\n        \"min\": -0.00111,\n        \"max\": 0.00127,\n        \"num_unique_values\": 158,\n        \"samples\": [\n          -0.00067,\n          -0.00011,\n          -0.00069\n        ],\n        \"semantic_type\": \"\",\n        \"description\": \"\"\n      }\n    },\n    {\n      \"column\": \"channel2\",\n      \"properties\": {\n        \"dtype\": \"number\",\n        \"std\": 0.00013351358689533954,\n        \"min\": -0.00102,\n        \"max\": 0.00127,\n        \"num_unique_values\": 144,\n        \"samples\": [\n          0.00072,\n          -0.00011,\n          -0.00075\n        ],\n        \"semantic_type\": \"\",\n        \"description\": \"\"\n      }\n    },\n    {\n      \"column\": \"channel3\",\n      \"properties\": {\n        \"dtype\": \"number\",\n        \"std\": 0.0001241623278019596,\n        \"min\": -0.00091,\n        \"max\": 0.00127,\n        \"num_unique_values\": 134,\n        \"samples\": [\n          -0.00069,\n          0.00033,\n          -0.00057\n        ],\n        \"semantic_type\": \"\",\n        \"description\": \"\"\n      }\n    },\n    {\n      \"column\": \"channel4\",\n      \"properties\": {\n        \"dtype\": \"number\",\n        \"std\": 0.0001546073233978194,\n        \"min\": -0.00104,\n        \"max\": 0.00127,\n        \"num_unique_values\": 167,\n        \"samples\": [\n          -0.00067,\n          0.00106,\n          -0.00015\n        ],\n        \"semantic_type\": \"\",\n        \"description\": \"\"\n      }\n    },\n    {\n      \"column\": \"channel5\",\n      \"properties\": {\n        \"dtype\": \"number\",\n        \"std\": 0.00019807129271123106,\n        \"min\": -0.00128,\n        \"max\": 0.00127,\n        \"num_unique_values\": 199,\n        \"samples\": [\n          0.00038,\n          0.00013,\n          -0.00102\n        ],\n        \"semantic_type\": \"\",\n        \"description\": \"\"\n      }\n    },\n    {\n      \"column\": \"channel6\",\n      \"properties\": {\n        \"dtype\": \"number\",\n        \"std\": 0.00016024797167747034,\n        \"min\": -0.00112,\n        \"max\": 0.00127,\n        \"num_unique_values\": 166,\n        \"samples\": [\n          0.00011,\n          0.00059,\n          -0.00019\n        ],\n        \"semantic_type\": \"\",\n        \"description\": \"\"\n      }\n    },\n    {\n      \"column\": \"channel7\",\n      \"properties\": {\n        \"dtype\": \"number\",\n        \"std\": 0.00013341914101330058,\n        \"min\": -0.00109,\n        \"max\": 0.00127,\n        \"num_unique_values\": 148,\n        \"samples\": [\n          -0.00043,\n          0.00029,\n          -0.00049\n        ],\n        \"semantic_type\": \"\",\n        \"description\": \"\"\n      }\n    },\n    {\n      \"column\": \"channel8\",\n      \"properties\": {\n        \"dtype\": \"number\",\n        \"std\": 0.00014220085246091264,\n        \"min\": -0.00098,\n        \"max\": 0.00127,\n        \"num_unique_values\": 152,\n        \"samples\": [\n          -0.00028,\n          -0.00098,\n          0.00028\n        ],\n        \"semantic_type\": \"\",\n        \"description\": \"\"\n      }\n    },\n    {\n      \"column\": \"class\",\n      \"properties\": {\n        \"dtype\": \"number\",\n        \"std\": 1,\n        \"min\": 0,\n        \"max\": 6,\n        \"num_unique_values\": 7,\n        \"samples\": [\n          0,\n          1,\n          5\n        ],\n        \"semantic_type\": \"\",\n        \"description\": \"\"\n      }\n    }\n  ]\n}"
            }
          },
          "metadata": {},
          "execution_count": 2
        }
      ],
      "source": [
        "import pandas as pd\n",
        "# URL du fichier de données\n",
        "url = \"https://remivaucher.github.io/files/1_raw_data_13-12_22.03.16.txt\"\n",
        "\n",
        "# Charger les données dans un DataFrame\n",
        "data = pd.read_csv(url, sep=\"\\t\")\n",
        "\n",
        "# Afficher les premières lignes du DataFrame pour vérifier\n",
        "data.head(10)"
      ]
    },
    {
      "cell_type": "markdown",
      "source": [
        "**🧮 Nombre de classes du jeu de données**"
      ],
      "metadata": {
        "id": "IcxbdnVImbfb"
      }
    },
    {
      "cell_type": "code",
      "source": [
        "# Calculer le nombre de classes uniques dans la colonne 'Class'\n",
        "nombre_classes = data['class'].nunique()\n",
        "\n",
        "# Afficher le nombre de classes\n",
        "print(\"Nombre de classes uniques :\", nombre_classes)\n",
        "\n",
        "# Pour voir la liste des classes uniques\n",
        "classes_uniques = data['class'].unique()\n",
        "print(\"Classes uniques :\", classes_uniques)"
      ],
      "metadata": {
        "colab": {
          "base_uri": "https://localhost:8080/"
        },
        "id": "RopCSSBOmhnK",
        "outputId": "91480292-7b0d-49a2-b003-bc8790957301"
      },
      "execution_count": 3,
      "outputs": [
        {
          "output_type": "stream",
          "name": "stdout",
          "text": [
            "Nombre de classes uniques : 7\n",
            "Classes uniques : [0 1 2 3 4 5 6]\n"
          ]
        }
      ]
    },
    {
      "cell_type": "code",
      "source": [
        "sumarize = data.describe()\n",
        "print(sumarize)"
      ],
      "metadata": {
        "colab": {
          "base_uri": "https://localhost:8080/"
        },
        "id": "vjyd4vyyPMht",
        "outputId": "5ac701f4-af97-493e-88e4-3ac4e496b0bf"
      },
      "execution_count": 4,
      "outputs": [
        {
          "output_type": "stream",
          "name": "stdout",
          "text": [
            "               time      channel1      channel2      channel3      channel4  \\\n",
            "count  63196.000000  63196.000000  63196.000000  63196.000000  63196.000000   \n",
            "mean   32777.490094     -0.000008     -0.000009     -0.000009     -0.000010   \n",
            "std    18943.835626      0.000144      0.000134      0.000124      0.000155   \n",
            "min        1.000000     -0.001110     -0.001020     -0.000910     -0.001040   \n",
            "25%    16340.750000     -0.000030     -0.000040     -0.000050     -0.000040   \n",
            "50%    32781.500000     -0.000010     -0.000010     -0.000010     -0.000010   \n",
            "75%    49199.250000      0.000010      0.000020      0.000030      0.000020   \n",
            "max    65661.000000      0.001270      0.001270      0.001270      0.001270   \n",
            "\n",
            "           channel5     channel6      channel7      channel8         class  \n",
            "count  63196.000000  63196.00000  63196.000000  63196.000000  63196.000000  \n",
            "mean      -0.000012     -0.00001     -0.000008     -0.000008      1.212086  \n",
            "std        0.000198      0.00016      0.000133      0.000142      1.947578  \n",
            "min       -0.001280     -0.00112     -0.001090     -0.000980      0.000000  \n",
            "25%       -0.000040     -0.00004     -0.000030     -0.000030      0.000000  \n",
            "50%       -0.000010     -0.00001     -0.000010     -0.000010      0.000000  \n",
            "75%        0.000010      0.00001      0.000010      0.000010      2.000000  \n",
            "max        0.001270      0.00127      0.001270      0.001270      6.000000  \n"
          ]
        }
      ]
    },
    {
      "cell_type": "markdown",
      "source": [
        "**Qualité des données**"
      ],
      "metadata": {
        "id": "J36_1WU-q59R"
      }
    },
    {
      "cell_type": "code",
      "source": [
        "# Qualité des données\n",
        "print(\"\\nValeurs manquantes par colonne:\")\n",
        "print(data.isnull().sum())\n",
        "print(\"\\nNombre de doublons:\")\n",
        "print(data.duplicated().sum())"
      ],
      "metadata": {
        "colab": {
          "base_uri": "https://localhost:8080/"
        },
        "id": "MFz0CWveq9se",
        "outputId": "50a64462-ec65-48ea-dd6f-58d75ec22c04"
      },
      "execution_count": 5,
      "outputs": [
        {
          "output_type": "stream",
          "name": "stdout",
          "text": [
            "\n",
            "Valeurs manquantes par colonne:\n",
            "time        0\n",
            "channel1    0\n",
            "channel2    0\n",
            "channel3    0\n",
            "channel4    0\n",
            "channel5    0\n",
            "channel6    0\n",
            "channel7    0\n",
            "channel8    0\n",
            "class       0\n",
            "dtype: int64\n",
            "\n",
            "Nombre de doublons:\n",
            "0\n"
          ]
        }
      ]
    },
    {
      "cell_type": "markdown",
      "source": [
        "Il n'y a pas de valeurs manquantes, pas de doublons."
      ],
      "metadata": {
        "id": "yRrQWxaHyw16"
      }
    },
    {
      "cell_type": "code",
      "source": [
        "distribution_classes = data['class'].value_counts()\n",
        "print(distribution_classes)"
      ],
      "metadata": {
        "colab": {
          "base_uri": "https://localhost:8080/"
        },
        "id": "M2AgRb704tSL",
        "outputId": "e888de3d-fbd6-4d92-cf9a-2e99cf178001"
      },
      "execution_count": 6,
      "outputs": [
        {
          "output_type": "stream",
          "name": "stdout",
          "text": [
            "class\n",
            "0    41272\n",
            "3     3816\n",
            "1     3780\n",
            "6     3747\n",
            "5     3615\n",
            "2     3525\n",
            "4     3441\n",
            "Name: count, dtype: int64\n"
          ]
        }
      ]
    },
    {
      "cell_type": "markdown",
      "source": [
        "⚖️  La distribution montre un **déséquilibre** important entre les classes. Par exemple, la classe 0 contient 41 272 occurrences, alors que les autres classes en contiennent entre 3 441 et 3 816 occurrences. Cela pourrait poser des problèmes pour l'entraînement de modèles de Machine Learning, car les classes minoritaires risquent d'être sous-représentées dans les prédictions."
      ],
      "metadata": {
        "id": "OI6D2LBRTxBr"
      }
    },
    {
      "cell_type": "markdown",
      "source": [
        "**📊 Histogramme pour les variables numérique**s"
      ],
      "metadata": {
        "id": "RH-HC23jrJS5"
      }
    },
    {
      "cell_type": "code",
      "source": [
        "# Histogramme pour les variables numériques\n",
        "import matplotlib.pyplot as plt\n",
        "data.hist(bins=30, figsize=(10, 10))\n",
        "plt.show()"
      ],
      "metadata": {
        "colab": {
          "base_uri": "https://localhost:8080/",
          "height": 853
        },
        "id": "-A9wuMIErM5M",
        "outputId": "d616a6d9-9541-4c3b-aabf-7d6d5d38d635"
      },
      "execution_count": 7,
      "outputs": [
        {
          "output_type": "display_data",
          "data": {
            "text/plain": [
              "<Figure size 1000x1000 with 12 Axes>"
            ],
            "image/png": "[encoded data removed]"
          },
          "metadata": {}
        }
      ]
    },
    {
      "cell_type": "markdown",
      "source": [
        "La classe 0 représente des **\"données non marquées\"** ou une situation de \"repos\" ou \"absence de geste\", il est **normal qu'elle soit plus fréquente**, surtout dans les contextes où les gestes spécifiques ne sont exécutés que brièvement et/ou moins fréquemment. Ensuite la classe 3 est la plus fréquente. D'accord que ce n'est pas très visible sur mon histogramme."
      ],
      "metadata": {
        "id": "qHzq3rCFvutp"
      }
    },
    {
      "cell_type": "markdown",
      "source": [
        "**Heatmap**"
      ],
      "metadata": {
        "id": "taCKtVQRzZGw"
      }
    },
    {
      "cell_type": "code",
      "source": [
        "# heatmap\n",
        "import seaborn as sns\n",
        "import matplotlib.pyplot as plt\n",
        "\n",
        "sns.heatmap(data.corr())\n",
        "plt.show()"
      ],
      "metadata": {
        "colab": {
          "base_uri": "https://localhost:8080/",
          "height": 485
        },
        "id": "GfkwHa3clTx6",
        "outputId": "cda7bc1b-236c-4f2c-b0ac-88667f24cd2b"
      },
      "execution_count": 8,
      "outputs": [
        {
          "output_type": "display_data",
          "data": {
            "text/plain": [
              "<Figure size 640x480 with 2 Axes>"
            ],
            "image/png": "[encoded data removed]"
          },
          "metadata": {}
        }
      ]
    },
    {
      "cell_type": "markdown",
      "source": [
        "💡 On observe pas une corrélation entre un channel et class. Il n'y a pas un channel qui a plus d'impact que d'autres sur la classe. On observe une corrélation entre le \"channel 4\" et le \"channel 5\", entre \"channel 6\" et le \"channel 5\", \"channel 1\" et le \"channel 2\"."
      ],
      "metadata": {
        "id": "NEQ5smw5yOXA"
      }
    },
    {
      "cell_type": "markdown",
      "source": [
        "**2. Découper la série temporelle de manière à récupérer plusieurs séries à label unique**"
      ],
      "metadata": {
        "id": "fIEq1VgcykZd"
      }
    },
    {
      "cell_type": "code",
      "source": [
        "# Identifier où les changements de label se produisent\n",
        "changes = data['class'].diff().ne(0)  # diff() calcule la différence entre chaque élément et son précédent\n",
        "change_indices = changes[changes].index.tolist()  # récupérer les indices des changements\n",
        "\n",
        "# Ajouter le premier index de la série et le dernier index de la série pour compléter les sous-séries\n",
        "if 0 not in change_indices:\n",
        "    change_indices.insert(0, 0)\n",
        "change_indices.append(len(data))\n",
        "\n",
        "# Créer les sous-séries\n",
        "sub_series = []\n",
        "for i in range(len(change_indices) - 1):\n",
        "    sub_series.append(data.iloc[change_indices[i]:change_indices[i + 1]])\n",
        "\n",
        "# Afficher le résultat\n",
        "for index, series in enumerate(sub_series):\n",
        "    print(f\"Sous-série {index + 1} avec label unique:\")\n",
        "    print(series.head())  # afficher les premières lignes de chaque sous-série\n",
        "    print(\"\\n\")\n"
      ],
      "metadata": {
        "id": "htICPw0XyoI2",
        "outputId": "3b2ebcf6-ed85-4a0b-818f-b25a4e617ba7",
        "colab": {
          "base_uri": "https://localhost:8080/"
        }
      },
      "execution_count": 9,
      "outputs": [
        {
          "output_type": "stream",
          "name": "stdout",
          "text": [
            "Sous-série 1 avec label unique:\n",
            "   time  channel1  channel2  channel3  channel4  channel5  channel6  channel7  \\\n",
            "0     1   0.00001  -0.00002  -0.00001  -0.00003   0.00000  -0.00001   0.00000   \n",
            "1     5   0.00001  -0.00002  -0.00001  -0.00003   0.00000  -0.00001   0.00000   \n",
            "2     6  -0.00001   0.00001   0.00002   0.00000   0.00001  -0.00002  -0.00001   \n",
            "3     7  -0.00001   0.00001   0.00002   0.00000   0.00001  -0.00002  -0.00001   \n",
            "4     8  -0.00001   0.00001   0.00002   0.00000   0.00001  -0.00002  -0.00001   \n",
            "\n",
            "   channel8  class  \n",
            "0  -0.00001      0  \n",
            "1  -0.00001      0  \n",
            "2   0.00001      0  \n",
            "3   0.00001      0  \n",
            "4   0.00001      0  \n",
            "\n",
            "\n",
            "Sous-série 2 avec label unique:\n",
            "      time  channel1  channel2  channel3  channel4  channel5  channel6  \\\n",
            "2287  2400  -0.00001   0.00000  -0.00001   0.00000   0.00000  -0.00001   \n",
            "2288  2401  -0.00001  -0.00002   0.00000  -0.00001  -0.00001  -0.00001   \n",
            "2289  2402  -0.00001  -0.00002   0.00000  -0.00001  -0.00001  -0.00001   \n",
            "2290  2403  -0.00001  -0.00002   0.00000  -0.00001  -0.00001  -0.00001   \n",
            "2291  2404  -0.00001  -0.00002   0.00000  -0.00001  -0.00001  -0.00001   \n",
            "\n",
            "      channel7  channel8  class  \n",
            "2287  -0.00001   0.00001      1  \n",
            "2288  -0.00003  -0.00002      1  \n",
            "2289  -0.00003  -0.00002      1  \n",
            "2290  -0.00003  -0.00002      1  \n",
            "2291  -0.00003  -0.00002      1  \n",
            "\n",
            "\n",
            "Sous-série 3 avec label unique:\n",
            "      time  channel1  channel2  channel3  channel4  channel5  channel6  \\\n",
            "4402  4581  -0.00002   0.00002       0.0       0.0       0.0   0.00001   \n",
            "4403  4582  -0.00002   0.00002       0.0       0.0       0.0   0.00001   \n",
            "4404  4583  -0.00002   0.00002       0.0       0.0       0.0   0.00001   \n",
            "4405  4584  -0.00002   0.00002       0.0       0.0       0.0   0.00001   \n",
            "4406  4585  -0.00002   0.00002       0.0       0.0       0.0   0.00001   \n",
            "\n",
            "      channel7  channel8  class  \n",
            "4402   0.00001       0.0      0  \n",
            "4403   0.00001       0.0      0  \n",
            "4404   0.00001       0.0      0  \n",
            "4405   0.00001       0.0      0  \n",
            "4406   0.00001       0.0      0  \n",
            "\n",
            "\n",
            "Sous-série 4 avec label unique:\n",
            "      time  channel1  channel2  channel3  channel4  channel5  channel6  \\\n",
            "6424  6662  -0.00011  -0.00002  -0.00007  -0.00008  -0.00016  -0.00018   \n",
            "6425  6663   0.00014   0.00001   0.00021   0.00016   0.00012  -0.00025   \n",
            "6426  6664   0.00014   0.00001   0.00021   0.00016   0.00012  -0.00025   \n",
            "6427  6665   0.00014   0.00001   0.00021   0.00016   0.00012  -0.00025   \n",
            "6428  6666   0.00014   0.00001   0.00021   0.00016   0.00012  -0.00025   \n",
            "\n",
            "      channel7  channel8  class  \n",
            "6424  -0.00036  -0.00001      2  \n",
            "6425  -0.00021   0.00006      2  \n",
            "6426  -0.00021   0.00006      2  \n",
            "6427  -0.00021   0.00006      2  \n",
            "6428  -0.00021   0.00006      2  \n",
            "\n",
            "\n",
            "Sous-série 5 avec label unique:\n",
            "      time  channel1  channel2  channel3  channel4  channel5  channel6  \\\n",
            "8218  8509   0.00015   0.00003   0.00015   0.00012   0.00011   0.00001   \n",
            "8219  8510   0.00015   0.00003   0.00015   0.00012   0.00011   0.00001   \n",
            "8220  8511   0.00015   0.00003   0.00015   0.00012   0.00011   0.00001   \n",
            "8221  8512   0.00015   0.00003   0.00015   0.00012   0.00011   0.00001   \n",
            "8222  8513   0.00015   0.00003   0.00015   0.00012   0.00011   0.00001   \n",
            "\n",
            "      channel7  channel8  class  \n",
            "8218   0.00014   0.00015      0  \n",
            "8219   0.00014   0.00015      0  \n",
            "8220   0.00014   0.00015      0  \n",
            "8221   0.00014   0.00015      0  \n",
            "8222   0.00014   0.00015      0  \n",
            "\n",
            "\n",
            "Sous-série 6 avec label unique:\n",
            "        time  channel1  channel2  channel3  channel4  channel5  channel6  \\\n",
            "12534  12967  -0.00012  -0.00014   0.00008   0.00005   0.00012   0.00008   \n",
            "12535  12968  -0.00012  -0.00014   0.00008   0.00005   0.00012   0.00008   \n",
            "12536  12970  -0.00012  -0.00014   0.00008   0.00005   0.00012   0.00008   \n",
            "12537  12971  -0.00012  -0.00014   0.00008   0.00005   0.00012   0.00008   \n",
            "12538  12972  -0.00012  -0.00014   0.00008   0.00005   0.00012   0.00008   \n",
            "\n",
            "       channel7  channel8  class  \n",
            "12534   0.00006  -0.00007      3  \n",
            "12535   0.00006  -0.00007      3  \n",
            "12536   0.00006  -0.00007      3  \n",
            "12537   0.00006  -0.00007      3  \n",
            "12538   0.00006  -0.00007      3  \n",
            "\n",
            "\n",
            "Sous-série 7 avec label unique:\n",
            "        time  channel1  channel2  channel3  channel4  channel5  channel6  \\\n",
            "14522  15022  -0.00001   0.00004       0.0   0.00008   0.00023   0.00001   \n",
            "14523  15023  -0.00001   0.00004       0.0   0.00008   0.00023   0.00001   \n",
            "14524  15024  -0.00001   0.00004       0.0   0.00008   0.00023   0.00001   \n",
            "14525  15025  -0.00001   0.00004       0.0   0.00008   0.00023   0.00001   \n",
            "14526  15026  -0.00001   0.00004       0.0   0.00008   0.00023   0.00001   \n",
            "\n",
            "       channel7  channel8  class  \n",
            "14522  -0.00002  -0.00018      0  \n",
            "14523  -0.00002  -0.00018      0  \n",
            "14524  -0.00002  -0.00018      0  \n",
            "14525  -0.00002  -0.00018      0  \n",
            "14526  -0.00002  -0.00018      0  \n",
            "\n",
            "\n",
            "Sous-série 8 avec label unique:\n",
            "        time  channel1  channel2  channel3  channel4  channel5  channel6  \\\n",
            "17995  18614  -0.00014  -0.00029  -0.00036  -0.00047  -0.00075  -0.00066   \n",
            "17996  18615  -0.00014  -0.00029  -0.00036  -0.00047  -0.00075  -0.00066   \n",
            "17997  18616  -0.00014  -0.00029  -0.00036  -0.00047  -0.00075  -0.00066   \n",
            "17998  18617  -0.00014  -0.00029  -0.00036  -0.00047  -0.00075  -0.00066   \n",
            "17999  18618  -0.00014  -0.00029  -0.00036  -0.00047  -0.00075  -0.00066   \n",
            "\n",
            "       channel7  channel8  class  \n",
            "17995   -0.0001   -0.0001      4  \n",
            "17996   -0.0001   -0.0001      4  \n",
            "17997   -0.0001   -0.0001      4  \n",
            "17998   -0.0001   -0.0001      4  \n",
            "17999   -0.0001   -0.0001      4  \n",
            "\n",
            "\n",
            "Sous-série 9 avec label unique:\n",
            "        time  channel1  channel2  channel3  channel4  channel5  channel6  \\\n",
            "19730  20406  -0.00002  -0.00005  -0.00004  -0.00024  -0.00041  -0.00029   \n",
            "19731  20407  -0.00002  -0.00005  -0.00004  -0.00024  -0.00041  -0.00029   \n",
            "19732  20408  -0.00002  -0.00005  -0.00004  -0.00024  -0.00041  -0.00029   \n",
            "19733  20409  -0.00002  -0.00005  -0.00004  -0.00024  -0.00041  -0.00029   \n",
            "19734  20410  -0.00007  -0.00007   0.00002   0.00016   0.00037   0.00007   \n",
            "\n",
            "       channel7  channel8  class  \n",
            "19730  -0.00011  -0.00005      0  \n",
            "19731  -0.00011  -0.00005      0  \n",
            "19732  -0.00011  -0.00005      0  \n",
            "19733  -0.00011  -0.00005      0  \n",
            "19734  -0.00001  -0.00002      0  \n",
            "\n",
            "\n",
            "Sous-série 10 avec label unique:\n",
            "        time  channel1  channel2  channel3  channel4  channel5  channel6  \\\n",
            "23545  24358  -0.00001       0.0   0.00007  -0.00031  -0.00042  -0.00018   \n",
            "23546  24359  -0.00001       0.0   0.00007  -0.00031  -0.00042  -0.00018   \n",
            "23547  24360  -0.00001       0.0   0.00007  -0.00031  -0.00042  -0.00018   \n",
            "23548  24361  -0.00001       0.0   0.00007  -0.00031  -0.00042  -0.00018   \n",
            "23549  24362  -0.00001       0.0   0.00007  -0.00031  -0.00042  -0.00018   \n",
            "\n",
            "       channel7  channel8  class  \n",
            "23545   0.00004  -0.00001      5  \n",
            "23546   0.00004  -0.00001      5  \n",
            "23547   0.00004  -0.00001      5  \n",
            "23548   0.00004  -0.00001      5  \n",
            "23549   0.00004  -0.00001      5  \n",
            "\n",
            "\n",
            "Sous-série 11 avec label unique:\n",
            "        time  channel1  channel2  channel3  channel4  channel5  channel6  \\\n",
            "25403  26286  -0.00003  -0.00017  -0.00013  -0.00019  -0.00011  -0.00004   \n",
            "25404  26287  -0.00003  -0.00017  -0.00013  -0.00019  -0.00011  -0.00004   \n",
            "25405  26288  -0.00003  -0.00017  -0.00013  -0.00019  -0.00011  -0.00004   \n",
            "25406  26289  -0.00003  -0.00017  -0.00013  -0.00019  -0.00011  -0.00004   \n",
            "25407  26290   0.00001   0.00004  -0.00006   0.00011  -0.00013  -0.00015   \n",
            "\n",
            "       channel7  channel8  class  \n",
            "25403   0.00002  -0.00001      0  \n",
            "25404   0.00002  -0.00001      0  \n",
            "25405   0.00002  -0.00001      0  \n",
            "25406   0.00002  -0.00001      0  \n",
            "25407  -0.00012  -0.00006      0  \n",
            "\n",
            "\n",
            "Sous-série 12 avec label unique:\n",
            "        time  channel1  channel2  channel3  channel4  channel5  channel6  \\\n",
            "28883  29926   0.00005  -0.00013   0.00004  -0.00005   0.00005   0.00009   \n",
            "28884  29927   0.00009  -0.00014  -0.00019  -0.00029  -0.00050  -0.00038   \n",
            "28885  29929  -0.00032  -0.00025  -0.00006   0.00013   0.00028   0.00011   \n",
            "28886  29930   0.00026   0.00003  -0.00004  -0.00006  -0.00011  -0.00013   \n",
            "28887  29931   0.00026   0.00003  -0.00004  -0.00006  -0.00011  -0.00013   \n",
            "\n",
            "       channel7  channel8  class  \n",
            "28883   0.00011   0.00040      6  \n",
            "28884   0.00003   0.00014      6  \n",
            "28885  -0.00020   0.00009      6  \n",
            "28886  -0.00015   0.00006      6  \n",
            "28887  -0.00015   0.00006      6  \n",
            "\n",
            "\n",
            "Sous-série 13 avec label unique:\n",
            "        time  channel1  channel2  channel3  channel4  channel5  channel6  \\\n",
            "30841  31982   0.00001   0.00008   0.00001   0.00001   0.00001   0.00007   \n",
            "30842  31983   0.00001   0.00008   0.00001   0.00001   0.00001   0.00007   \n",
            "30843  31984   0.00001   0.00008   0.00001   0.00001   0.00001   0.00007   \n",
            "30844  31985   0.00001   0.00008   0.00001   0.00001   0.00001   0.00007   \n",
            "30845  31986   0.00001   0.00008   0.00001   0.00001   0.00001   0.00007   \n",
            "\n",
            "       channel7  channel8  class  \n",
            "30841   0.00003   0.00005      0  \n",
            "30842   0.00003   0.00005      0  \n",
            "30843   0.00003   0.00005      0  \n",
            "30844   0.00003   0.00005      0  \n",
            "30845   0.00003   0.00005      0  \n",
            "\n",
            "\n",
            "Sous-série 14 avec label unique:\n",
            "        time  channel1  channel2  channel3  channel4  channel5  channel6  \\\n",
            "33733  35007  -0.00002   0.00002   0.00008  -0.00002       0.0  -0.00001   \n",
            "33734  35008  -0.00002   0.00002   0.00008  -0.00002       0.0  -0.00001   \n",
            "33735  35009  -0.00002   0.00002   0.00008  -0.00002       0.0  -0.00001   \n",
            "33736  35010  -0.00002   0.00002   0.00008  -0.00002       0.0  -0.00001   \n",
            "33737  35011  -0.00002   0.00002   0.00008  -0.00002       0.0  -0.00001   \n",
            "\n",
            "       channel7  channel8  class  \n",
            "33733  -0.00001  -0.00002      1  \n",
            "33734  -0.00001  -0.00002      1  \n",
            "33735  -0.00001  -0.00002      1  \n",
            "33736  -0.00001  -0.00002      1  \n",
            "33737  -0.00001  -0.00002      1  \n",
            "\n",
            "\n",
            "Sous-série 15 avec label unique:\n",
            "        time  channel1  channel2  channel3  channel4  channel5  channel6  \\\n",
            "35398  36743  -0.00002  -0.00006   0.00000   0.00000   0.00001   0.00002   \n",
            "35399  36744  -0.00002  -0.00006   0.00000   0.00000   0.00001   0.00002   \n",
            "35400  36745  -0.00002  -0.00005  -0.00007  -0.00004  -0.00002  -0.00003   \n",
            "35401  36746   0.00001   0.00005   0.00003  -0.00001  -0.00002   0.00001   \n",
            "35402  36747   0.00001   0.00005   0.00003  -0.00001  -0.00002   0.00001   \n",
            "\n",
            "       channel7  channel8  class  \n",
            "35398   0.00000   0.00000      0  \n",
            "35399   0.00000   0.00000      0  \n",
            "35400   0.00001   0.00000      0  \n",
            "35401   0.00000   0.00002      0  \n",
            "35402   0.00000   0.00002      0  \n",
            "\n",
            "\n",
            "Sous-série 16 avec label unique:\n",
            "        time  channel1  channel2  channel3  channel4  channel5  channel6  \\\n",
            "37022  38446   0.00006   0.00010  -0.00009  -0.00023  -0.00009   0.00005   \n",
            "37023  38447  -0.00033  -0.00008  -0.00012  -0.00013  -0.00004  -0.00041   \n",
            "37024  38448  -0.00033  -0.00008  -0.00012  -0.00013  -0.00004  -0.00041   \n",
            "37025  38449  -0.00033  -0.00008  -0.00012  -0.00013  -0.00004  -0.00041   \n",
            "37026  38450  -0.00033  -0.00008  -0.00012  -0.00013  -0.00004  -0.00041   \n",
            "\n",
            "       channel7  channel8  class  \n",
            "37022   0.00030  -0.00006      2  \n",
            "37023  -0.00028  -0.00028      2  \n",
            "37024  -0.00028  -0.00028      2  \n",
            "37025  -0.00028  -0.00028      2  \n",
            "37026  -0.00028  -0.00028      2  \n",
            "\n",
            "\n",
            "Sous-série 17 avec label unique:\n",
            "        time  channel1  channel2  channel3  channel4  channel5  channel6  \\\n",
            "38753  40246  -0.00003   0.00006   0.00002   0.00002  -0.00001       0.0   \n",
            "38754  40247  -0.00003   0.00006   0.00002   0.00002  -0.00001       0.0   \n",
            "38755  40248  -0.00003   0.00006   0.00002   0.00002  -0.00001       0.0   \n",
            "38756  40249  -0.00003   0.00006   0.00002   0.00002  -0.00001       0.0   \n",
            "38757  40250  -0.00003   0.00006   0.00002   0.00002  -0.00001       0.0   \n",
            "\n",
            "       channel7  channel8  class  \n",
            "38753  -0.00021  -0.00002      0  \n",
            "38754  -0.00021  -0.00002      0  \n",
            "38755  -0.00021  -0.00002      0  \n",
            "38756  -0.00021  -0.00002      0  \n",
            "38757  -0.00021  -0.00002      0  \n",
            "\n",
            "\n",
            "Sous-série 18 avec label unique:\n",
            "        time  channel1  channel2  channel3  channel4  channel5  channel6  \\\n",
            "42749  44406   0.00018   0.00041   0.00009  -0.00003   0.00000  -0.00004   \n",
            "42750  44407   0.00018   0.00041   0.00009  -0.00003   0.00000  -0.00004   \n",
            "42751  44408   0.00018   0.00041   0.00009  -0.00003   0.00000  -0.00004   \n",
            "42752  44409   0.00018   0.00041   0.00009  -0.00003   0.00000  -0.00004   \n",
            "42753  44410  -0.00013   0.00001   0.00003   0.00006   0.00016   0.00001   \n",
            "\n",
            "       channel7  channel8  class  \n",
            "42749  -0.00007   0.00007      3  \n",
            "42750  -0.00007   0.00007      3  \n",
            "42751  -0.00007   0.00007      3  \n",
            "42752  -0.00007   0.00007      3  \n",
            "42753   0.00009   0.00007      3  \n",
            "\n",
            "\n",
            "Sous-série 19 avec label unique:\n",
            "        time  channel1  channel2  channel3  channel4  channel5  channel6  \\\n",
            "44577  46286   0.00001   0.00019   0.00003  -0.00006  -0.00016  -0.00005   \n",
            "44578  46287   0.00001   0.00019   0.00003  -0.00006  -0.00016  -0.00005   \n",
            "44579  46288   0.00001   0.00019   0.00003  -0.00006  -0.00016  -0.00005   \n",
            "44580  46289   0.00001   0.00019   0.00003  -0.00006  -0.00016  -0.00005   \n",
            "44581  46290   0.00001   0.00019   0.00003  -0.00006  -0.00016  -0.00005   \n",
            "\n",
            "       channel7  channel8  class  \n",
            "44577   0.00011   0.00023      0  \n",
            "44578   0.00011   0.00023      0  \n",
            "44579   0.00011   0.00023      0  \n",
            "44580   0.00011   0.00023      0  \n",
            "44581   0.00011   0.00023      0  \n",
            "\n",
            "\n",
            "Sous-série 20 avec label unique:\n",
            "        time  channel1  channel2  channel3  channel4  channel5  channel6  \\\n",
            "48325  50159  -0.00005  -0.00021  -0.00008   0.00004  -0.00016   0.00014   \n",
            "48326  50160  -0.00005  -0.00021  -0.00008   0.00004  -0.00016   0.00014   \n",
            "48327  50161  -0.00005  -0.00021  -0.00008   0.00004  -0.00016   0.00014   \n",
            "48328  50162  -0.00005  -0.00021  -0.00008   0.00004  -0.00016   0.00014   \n",
            "48329  50163   0.00002   0.00003  -0.00005  -0.00021   0.00006   0.00021   \n",
            "\n",
            "       channel7  channel8  class  \n",
            "48325   0.00016   0.00004      4  \n",
            "48326   0.00016   0.00004      4  \n",
            "48327   0.00016   0.00004      4  \n",
            "48328   0.00016   0.00004      4  \n",
            "48329   0.00013   0.00003      4  \n",
            "\n",
            "\n",
            "Sous-série 21 avec label unique:\n",
            "        time  channel1  channel2  channel3  channel4  channel5  channel6  \\\n",
            "50031  51910  -0.00003   -0.0001  -0.00017  -0.00011   0.00003   0.00003   \n",
            "50032  51911  -0.00003   -0.0001  -0.00017  -0.00011   0.00003   0.00003   \n",
            "50033  51912  -0.00003   -0.0001  -0.00017  -0.00011   0.00003   0.00003   \n",
            "50034  51913  -0.00003   -0.0001  -0.00017  -0.00011   0.00003   0.00003   \n",
            "50035  51914  -0.00003   -0.0001  -0.00017  -0.00011   0.00003   0.00003   \n",
            "\n",
            "       channel7  channel8  class  \n",
            "50031  -0.00004  -0.00004      0  \n",
            "50032  -0.00004  -0.00004      0  \n",
            "50033  -0.00004  -0.00004      0  \n",
            "50034  -0.00004  -0.00004      0  \n",
            "50035  -0.00004  -0.00004      0  \n",
            "\n",
            "\n",
            "Sous-série 22 avec label unique:\n",
            "        time  channel1  channel2  channel3  channel4  channel5  channel6  \\\n",
            "53861  55863  -0.00002  -0.00004  -0.00015  -0.00001  -0.00011       0.0   \n",
            "53862  55864  -0.00002  -0.00004  -0.00015  -0.00001  -0.00011       0.0   \n",
            "53863  55865  -0.00002  -0.00004  -0.00015  -0.00001  -0.00011       0.0   \n",
            "53864  55866  -0.00002  -0.00004  -0.00015  -0.00001  -0.00011       0.0   \n",
            "53865  55867  -0.00002  -0.00004  -0.00015  -0.00001  -0.00011       0.0   \n",
            "\n",
            "       channel7  channel8  class  \n",
            "53861  -0.00002  -0.00003      5  \n",
            "53862  -0.00002  -0.00003      5  \n",
            "53863  -0.00002  -0.00003      5  \n",
            "53864  -0.00002  -0.00003      5  \n",
            "53865  -0.00002  -0.00003      5  \n",
            "\n",
            "\n",
            "Sous-série 23 avec label unique:\n",
            "        time  channel1  channel2  channel3  channel4  channel5  channel6  \\\n",
            "55618  57702   0.00002   0.00013   0.00016   0.00026   0.00023   0.00043   \n",
            "55619  57703   0.00002   0.00013   0.00016   0.00026   0.00023   0.00043   \n",
            "55620  57704  -0.00001  -0.00002  -0.00002  -0.00010  -0.00017  -0.00005   \n",
            "55621  57705  -0.00001  -0.00002  -0.00002  -0.00010  -0.00017  -0.00005   \n",
            "55622  57706  -0.00001  -0.00002  -0.00002  -0.00010  -0.00017  -0.00005   \n",
            "\n",
            "       channel7  channel8  class  \n",
            "55618   0.00006   0.00004      0  \n",
            "55619   0.00006   0.00004      0  \n",
            "55620  -0.00001   0.00001      0  \n",
            "55621  -0.00001   0.00001      0  \n",
            "55622  -0.00001   0.00001      0  \n",
            "\n",
            "\n",
            "Sous-série 24 avec label unique:\n",
            "        time  channel1  channel2  channel3  channel4  channel5  channel6  \\\n",
            "59790  62062   0.00020   0.00013  -0.00004   0.00002   0.00030  -0.00008   \n",
            "59791  62063   0.00020   0.00013  -0.00004   0.00002   0.00030  -0.00008   \n",
            "59792  62064   0.00020   0.00013  -0.00004   0.00002   0.00030  -0.00008   \n",
            "59793  62065   0.00019   0.00026   0.00020   0.00021   0.00036   0.00027   \n",
            "59794  62066   0.00019   0.00026   0.00020   0.00021   0.00036   0.00027   \n",
            "\n",
            "       channel7  channel8  class  \n",
            "59790   0.00004   0.00011      6  \n",
            "59791   0.00004   0.00011      6  \n",
            "59792   0.00004   0.00011      6  \n",
            "59793  -0.00021  -0.00018      6  \n",
            "59794  -0.00021  -0.00018      6  \n",
            "\n",
            "\n",
            "Sous-série 25 avec label unique:\n",
            "        time  channel1  channel2  channel3  channel4  channel5  channel6  \\\n",
            "61579  63918  -0.00008   0.00000  -0.00005   0.00002   0.00002  -0.00006   \n",
            "61580  63919  -0.00008   0.00000  -0.00005   0.00002   0.00002  -0.00006   \n",
            "61581  63920  -0.00017   0.00002  -0.00005  -0.00006  -0.00001  -0.00006   \n",
            "61582  63921  -0.00017   0.00002  -0.00005  -0.00006  -0.00001  -0.00006   \n",
            "61583  63922  -0.00017   0.00002  -0.00005  -0.00006  -0.00001  -0.00006   \n",
            "\n",
            "       channel7  channel8  class  \n",
            "61579   0.00003  -0.00005      0  \n",
            "61580   0.00003  -0.00005      0  \n",
            "61581   0.00002  -0.00026      0  \n",
            "61582   0.00002  -0.00026      0  \n",
            "61583   0.00002  -0.00026      0  \n",
            "\n",
            "\n"
          ]
        }
      ]
    },
    {
      "cell_type": "markdown",
      "source": [
        "**3. Utiliser la TDA pour créer un modèle de classification. Que peut on dire?**"
      ],
      "metadata": {
        "id": "r2w4FMhrAaad"
      }
    },
    {
      "cell_type": "markdown",
      "source": [
        "Installation des bibliothèques Python"
      ],
      "metadata": {
        "id": "xHruViSKBN5F"
      }
    },
    {
      "cell_type": "code",
      "source": [
        "!pip install gudhi\n",
        "!pip install giotto-tda"
      ],
      "metadata": {
        "collapsed": true,
        "colab": {
          "base_uri": "https://localhost:8080/"
        },
        "id": "IXRdF0dM1dqd",
        "outputId": "3449451c-4996-4eef-b0b8-e3fdfe1a0eab"
      },
      "execution_count": 10,
      "outputs": [
        {
          "output_type": "stream",
          "name": "stdout",
          "text": [
            "Collecting gudhi\n",
            "  Downloading gudhi-3.10.1-cp311-cp311-manylinux_2_17_x86_64.manylinux2014_x86_64.whl.metadata (1.6 kB)\n",
            "Requirement already satisfied: numpy>=1.15.0 in /usr/local/lib/python3.11/dist-packages (from gudhi) (1.26.4)\n",
            "Downloading gudhi-3.10.1-cp311-cp311-manylinux_2_17_x86_64.manylinux2014_x86_64.whl (3.3 MB)\n",
            "\u001b[2K   \u001b[90m━━━━━━━━━━━━━━━━━━━━━━━━━━━━━━━━━━━━━━━━\u001b[0m \u001b[32m3.3/3.3 MB\u001b[0m \u001b[31m27.4 MB/s\u001b[0m eta \u001b[36m0:00:00\u001b[0m\n",
            "\u001b[?25hInstalling collected packages: gudhi\n",
            "Successfully installed gudhi-3.10.1\n",
            "Collecting giotto-tda\n",
            "  Downloading giotto_tda-0.6.2-cp311-cp311-manylinux_2_17_x86_64.manylinux2014_x86_64.whl.metadata (8.7 kB)\n",
            "Requirement already satisfied: numpy>=1.19.1 in /usr/local/lib/python3.11/dist-packages (from giotto-tda) (1.26.4)\n",
            "Requirement already satisfied: scipy>=1.5.0 in /usr/local/lib/python3.11/dist-packages (from giotto-tda) (1.13.1)\n",
            "Requirement already satisfied: joblib>=0.16.0 in /usr/local/lib/python3.11/dist-packages (from giotto-tda) (1.4.2)\n",
            "Collecting scikit-learn==1.3.2 (from giotto-tda)\n",
            "  Downloading scikit_learn-1.3.2-cp311-cp311-manylinux_2_17_x86_64.manylinux2014_x86_64.whl.metadata (11 kB)\n",
            "Collecting giotto-ph>=0.2.1 (from giotto-tda)\n",
            "  Downloading giotto_ph-0.2.4-cp311-cp311-manylinux_2_17_x86_64.manylinux2014_x86_64.whl.metadata (10 kB)\n",
            "Collecting pyflagser>=0.4.3 (from giotto-tda)\n",
            "  Downloading pyflagser-0.4.7-cp311-cp311-manylinux_2_17_x86_64.manylinux2014_x86_64.whl.metadata (5.0 kB)\n",
            "Collecting igraph>=0.9.8 (from giotto-tda)\n",
            "  Downloading igraph-0.11.8-cp39-abi3-manylinux_2_17_x86_64.manylinux2014_x86_64.whl.metadata (3.8 kB)\n",
            "Requirement already satisfied: plotly>=4.8.2 in /usr/local/lib/python3.11/dist-packages (from giotto-tda) (5.24.1)\n",
            "Requirement already satisfied: ipywidgets>=7.5.1 in /usr/local/lib/python3.11/dist-packages (from giotto-tda) (7.7.1)\n",
            "Requirement already satisfied: threadpoolctl>=2.0.0 in /usr/local/lib/python3.11/dist-packages (from scikit-learn==1.3.2->giotto-tda) (3.5.0)\n",
            "Collecting texttable>=1.6.2 (from igraph>=0.9.8->giotto-tda)\n",
            "  Downloading texttable-1.7.0-py2.py3-none-any.whl.metadata (9.8 kB)\n",
            "Requirement already satisfied: ipykernel>=4.5.1 in /usr/local/lib/python3.11/dist-packages (from ipywidgets>=7.5.1->giotto-tda) (5.5.6)\n",
            "Requirement already satisfied: ipython-genutils~=0.2.0 in /usr/local/lib/python3.11/dist-packages (from ipywidgets>=7.5.1->giotto-tda) (0.2.0)\n",
            "Requirement already satisfied: traitlets>=4.3.1 in /usr/local/lib/python3.11/dist-packages (from ipywidgets>=7.5.1->giotto-tda) (5.7.1)\n",
            "Requirement already satisfied: widgetsnbextension~=3.6.0 in /usr/local/lib/python3.11/dist-packages (from ipywidgets>=7.5.1->giotto-tda) (3.6.10)\n",
            "Requirement already satisfied: ipython>=4.0.0 in /usr/local/lib/python3.11/dist-packages (from ipywidgets>=7.5.1->giotto-tda) (7.34.0)\n",
            "Requirement already satisfied: jupyterlab-widgets>=1.0.0 in /usr/local/lib/python3.11/dist-packages (from ipywidgets>=7.5.1->giotto-tda) (3.0.13)\n",
            "Requirement already satisfied: tenacity>=6.2.0 in /usr/local/lib/python3.11/dist-packages (from plotly>=4.8.2->giotto-tda) (9.0.0)\n",
            "Requirement already satisfied: packaging in /usr/local/lib/python3.11/dist-packages (from plotly>=4.8.2->giotto-tda) (24.2)\n",
            "Requirement already satisfied: jupyter-client in /usr/local/lib/python3.11/dist-packages (from ipykernel>=4.5.1->ipywidgets>=7.5.1->giotto-tda) (6.1.12)\n",
            "Requirement already satisfied: tornado>=4.2 in /usr/local/lib/python3.11/dist-packages (from ipykernel>=4.5.1->ipywidgets>=7.5.1->giotto-tda) (6.3.3)\n",
            "Requirement already satisfied: setuptools>=18.5 in /usr/local/lib/python3.11/dist-packages (from ipython>=4.0.0->ipywidgets>=7.5.1->giotto-tda) (75.1.0)\n",
            "Collecting jedi>=0.16 (from ipython>=4.0.0->ipywidgets>=7.5.1->giotto-tda)\n",
            "  Downloading jedi-0.19.2-py2.py3-none-any.whl.metadata (22 kB)\n",
            "Requirement already satisfied: decorator in /usr/local/lib/python3.11/dist-packages (from ipython>=4.0.0->ipywidgets>=7.5.1->giotto-tda) (4.4.2)\n",
            "Requirement already satisfied: pickleshare in /usr/local/lib/python3.11/dist-packages (from ipython>=4.0.0->ipywidgets>=7.5.1->giotto-tda) (0.7.5)\n",
            "Requirement already satisfied: prompt-toolkit!=3.0.0,!=3.0.1,<3.1.0,>=2.0.0 in /usr/local/lib/python3.11/dist-packages (from ipython>=4.0.0->ipywidgets>=7.5.1->giotto-tda) (3.0.48)\n",
            "Requirement already satisfied: pygments in /usr/local/lib/python3.11/dist-packages (from ipython>=4.0.0->ipywidgets>=7.5.1->giotto-tda) (2.18.0)\n",
            "Requirement already satisfied: backcall in /usr/local/lib/python3.11/dist-packages (from ipython>=4.0.0->ipywidgets>=7.5.1->giotto-tda) (0.2.0)\n",
            "Requirement already satisfied: matplotlib-inline in /usr/local/lib/python3.11/dist-packages (from ipython>=4.0.0->ipywidgets>=7.5.1->giotto-tda) (0.1.7)\n",
            "Requirement already satisfied: pexpect>4.3 in /usr/local/lib/python3.11/dist-packages (from ipython>=4.0.0->ipywidgets>=7.5.1->giotto-tda) (4.9.0)\n",
            "Requirement already satisfied: notebook>=4.4.1 in /usr/local/lib/python3.11/dist-packages (from widgetsnbextension~=3.6.0->ipywidgets>=7.5.1->giotto-tda) (6.5.5)\n",
            "Requirement already satisfied: parso<0.9.0,>=0.8.4 in /usr/local/lib/python3.11/dist-packages (from jedi>=0.16->ipython>=4.0.0->ipywidgets>=7.5.1->giotto-tda) (0.8.4)\n",
            "Requirement already satisfied: jinja2 in /usr/local/lib/python3.11/dist-packages (from notebook>=4.4.1->widgetsnbextension~=3.6.0->ipywidgets>=7.5.1->giotto-tda) (3.1.5)\n",
            "Requirement already satisfied: pyzmq<25,>=17 in /usr/local/lib/python3.11/dist-packages (from notebook>=4.4.1->widgetsnbextension~=3.6.0->ipywidgets>=7.5.1->giotto-tda) (24.0.1)\n",
            "Requirement already satisfied: argon2-cffi in /usr/local/lib/python3.11/dist-packages (from notebook>=4.4.1->widgetsnbextension~=3.6.0->ipywidgets>=7.5.1->giotto-tda) (23.1.0)\n",
            "Requirement already satisfied: jupyter-core>=4.6.1 in /usr/local/lib/python3.11/dist-packages (from notebook>=4.4.1->widgetsnbextension~=3.6.0->ipywidgets>=7.5.1->giotto-tda) (5.7.2)\n",
            "Requirement already satisfied: nbformat in /usr/local/lib/python3.11/dist-packages (from notebook>=4.4.1->widgetsnbextension~=3.6.0->ipywidgets>=7.5.1->giotto-tda) (5.10.4)\n",
            "Requirement already satisfied: nbconvert>=5 in /usr/local/lib/python3.11/dist-packages (from notebook>=4.4.1->widgetsnbextension~=3.6.0->ipywidgets>=7.5.1->giotto-tda) (7.16.5)\n",
            "Requirement already satisfied: nest-asyncio>=1.5 in /usr/local/lib/python3.11/dist-packages (from notebook>=4.4.1->widgetsnbextension~=3.6.0->ipywidgets>=7.5.1->giotto-tda) (1.6.0)\n",
            "Requirement already satisfied: Send2Trash>=1.8.0 in /usr/local/lib/python3.11/dist-packages (from notebook>=4.4.1->widgetsnbextension~=3.6.0->ipywidgets>=7.5.1->giotto-tda) (1.8.3)\n",
            "Requirement already satisfied: terminado>=0.8.3 in /usr/local/lib/python3.11/dist-packages (from notebook>=4.4.1->widgetsnbextension~=3.6.0->ipywidgets>=7.5.1->giotto-tda) (0.18.1)\n",
            "Requirement already satisfied: prometheus-client in /usr/local/lib/python3.11/dist-packages (from notebook>=4.4.1->widgetsnbextension~=3.6.0->ipywidgets>=7.5.1->giotto-tda) (0.21.1)\n",
            "Requirement already satisfied: nbclassic>=0.4.7 in /usr/local/lib/python3.11/dist-packages (from notebook>=4.4.1->widgetsnbextension~=3.6.0->ipywidgets>=7.5.1->giotto-tda) (1.1.0)\n",
            "Requirement already satisfied: python-dateutil>=2.1 in /usr/local/lib/python3.11/dist-packages (from jupyter-client->ipykernel>=4.5.1->ipywidgets>=7.5.1->giotto-tda) (2.8.2)\n",
            "Requirement already satisfied: ptyprocess>=0.5 in /usr/local/lib/python3.11/dist-packages (from pexpect>4.3->ipython>=4.0.0->ipywidgets>=7.5.1->giotto-tda) (0.7.0)\n",
            "Requirement already satisfied: wcwidth in /usr/local/lib/python3.11/dist-packages (from prompt-toolkit!=3.0.0,!=3.0.1,<3.1.0,>=2.0.0->ipython>=4.0.0->ipywidgets>=7.5.1->giotto-tda) (0.2.13)\n",
            "Requirement already satisfied: platformdirs>=2.5 in /usr/local/lib/python3.11/dist-packages (from jupyter-core>=4.6.1->notebook>=4.4.1->widgetsnbextension~=3.6.0->ipywidgets>=7.5.1->giotto-tda) (4.3.6)\n",
            "Requirement already satisfied: notebook-shim>=0.2.3 in /usr/local/lib/python3.11/dist-packages (from nbclassic>=0.4.7->notebook>=4.4.1->widgetsnbextension~=3.6.0->ipywidgets>=7.5.1->giotto-tda) (0.2.4)\n",
            "Requirement already satisfied: beautifulsoup4 in /usr/local/lib/python3.11/dist-packages (from nbconvert>=5->notebook>=4.4.1->widgetsnbextension~=3.6.0->ipywidgets>=7.5.1->giotto-tda) (4.12.3)\n",
            "Requirement already satisfied: bleach!=5.0.0 in /usr/local/lib/python3.11/dist-packages (from bleach[css]!=5.0.0->nbconvert>=5->notebook>=4.4.1->widgetsnbextension~=3.6.0->ipywidgets>=7.5.1->giotto-tda) (6.2.0)\n",
            "Requirement already satisfied: defusedxml in /usr/local/lib/python3.11/dist-packages (from nbconvert>=5->notebook>=4.4.1->widgetsnbextension~=3.6.0->ipywidgets>=7.5.1->giotto-tda) (0.7.1)\n",
            "Requirement already satisfied: jupyterlab-pygments in /usr/local/lib/python3.11/dist-packages (from nbconvert>=5->notebook>=4.4.1->widgetsnbextension~=3.6.0->ipywidgets>=7.5.1->giotto-tda) (0.3.0)\n",
            "Requirement already satisfied: markupsafe>=2.0 in /usr/local/lib/python3.11/dist-packages (from nbconvert>=5->notebook>=4.4.1->widgetsnbextension~=3.6.0->ipywidgets>=7.5.1->giotto-tda) (3.0.2)\n",
            "Requirement already satisfied: mistune<4,>=2.0.3 in /usr/local/lib/python3.11/dist-packages (from nbconvert>=5->notebook>=4.4.1->widgetsnbextension~=3.6.0->ipywidgets>=7.5.1->giotto-tda) (3.1.0)\n",
            "Requirement already satisfied: nbclient>=0.5.0 in /usr/local/lib/python3.11/dist-packages (from nbconvert>=5->notebook>=4.4.1->widgetsnbextension~=3.6.0->ipywidgets>=7.5.1->giotto-tda) (0.10.2)\n",
            "Requirement already satisfied: pandocfilters>=1.4.1 in /usr/local/lib/python3.11/dist-packages (from nbconvert>=5->notebook>=4.4.1->widgetsnbextension~=3.6.0->ipywidgets>=7.5.1->giotto-tda) (1.5.1)\n",
            "Requirement already satisfied: fastjsonschema>=2.15 in /usr/local/lib/python3.11/dist-packages (from nbformat->notebook>=4.4.1->widgetsnbextension~=3.6.0->ipywidgets>=7.5.1->giotto-tda) (2.21.1)\n",
            "Requirement already satisfied: jsonschema>=2.6 in /usr/local/lib/python3.11/dist-packages (from nbformat->notebook>=4.4.1->widgetsnbextension~=3.6.0->ipywidgets>=7.5.1->giotto-tda) (4.23.0)\n",
            "Requirement already satisfied: six>=1.5 in /usr/local/lib/python3.11/dist-packages (from python-dateutil>=2.1->jupyter-client->ipykernel>=4.5.1->ipywidgets>=7.5.1->giotto-tda) (1.17.0)\n",
            "Requirement already satisfied: argon2-cffi-bindings in /usr/local/lib/python3.11/dist-packages (from argon2-cffi->notebook>=4.4.1->widgetsnbextension~=3.6.0->ipywidgets>=7.5.1->giotto-tda) (21.2.0)\n",
            "Requirement already satisfied: webencodings in /usr/local/lib/python3.11/dist-packages (from bleach!=5.0.0->bleach[css]!=5.0.0->nbconvert>=5->notebook>=4.4.1->widgetsnbextension~=3.6.0->ipywidgets>=7.5.1->giotto-tda) (0.5.1)\n",
            "Requirement already satisfied: tinycss2<1.5,>=1.1.0 in /usr/local/lib/python3.11/dist-packages (from bleach[css]!=5.0.0->nbconvert>=5->notebook>=4.4.1->widgetsnbextension~=3.6.0->ipywidgets>=7.5.1->giotto-tda) (1.4.0)\n",
            "Requirement already satisfied: attrs>=22.2.0 in /usr/local/lib/python3.11/dist-packages (from jsonschema>=2.6->nbformat->notebook>=4.4.1->widgetsnbextension~=3.6.0->ipywidgets>=7.5.1->giotto-tda) (24.3.0)\n",
            "Requirement already satisfied: jsonschema-specifications>=2023.03.6 in /usr/local/lib/python3.11/dist-packages (from jsonschema>=2.6->nbformat->notebook>=4.4.1->widgetsnbextension~=3.6.0->ipywidgets>=7.5.1->giotto-tda) (2024.10.1)\n",
            "Requirement already satisfied: referencing>=0.28.4 in /usr/local/lib/python3.11/dist-packages (from jsonschema>=2.6->nbformat->notebook>=4.4.1->widgetsnbextension~=3.6.0->ipywidgets>=7.5.1->giotto-tda) (0.35.1)\n",
            "Requirement already satisfied: rpds-py>=0.7.1 in /usr/local/lib/python3.11/dist-packages (from jsonschema>=2.6->nbformat->notebook>=4.4.1->widgetsnbextension~=3.6.0->ipywidgets>=7.5.1->giotto-tda) (0.22.3)\n",
            "Requirement already satisfied: jupyter-server<3,>=1.8 in /usr/local/lib/python3.11/dist-packages (from notebook-shim>=0.2.3->nbclassic>=0.4.7->notebook>=4.4.1->widgetsnbextension~=3.6.0->ipywidgets>=7.5.1->giotto-tda) (1.24.0)\n",
            "Requirement already satisfied: cffi>=1.0.1 in /usr/local/lib/python3.11/dist-packages (from argon2-cffi-bindings->argon2-cffi->notebook>=4.4.1->widgetsnbextension~=3.6.0->ipywidgets>=7.5.1->giotto-tda) (1.17.1)\n",
            "Requirement already satisfied: soupsieve>1.2 in /usr/local/lib/python3.11/dist-packages (from beautifulsoup4->nbconvert>=5->notebook>=4.4.1->widgetsnbextension~=3.6.0->ipywidgets>=7.5.1->giotto-tda) (2.6)\n",
            "Requirement already satisfied: pycparser in /usr/local/lib/python3.11/dist-packages (from cffi>=1.0.1->argon2-cffi-bindings->argon2-cffi->notebook>=4.4.1->widgetsnbextension~=3.6.0->ipywidgets>=7.5.1->giotto-tda) (2.22)\n",
            "Requirement already satisfied: anyio<4,>=3.1.0 in /usr/local/lib/python3.11/dist-packages (from jupyter-server<3,>=1.8->notebook-shim>=0.2.3->nbclassic>=0.4.7->notebook>=4.4.1->widgetsnbextension~=3.6.0->ipywidgets>=7.5.1->giotto-tda) (3.7.1)\n",
            "Requirement already satisfied: websocket-client in /usr/local/lib/python3.11/dist-packages (from jupyter-server<3,>=1.8->notebook-shim>=0.2.3->nbclassic>=0.4.7->notebook>=4.4.1->widgetsnbextension~=3.6.0->ipywidgets>=7.5.1->giotto-tda) (1.8.0)\n",
            "Requirement already satisfied: idna>=2.8 in /usr/local/lib/python3.11/dist-packages (from anyio<4,>=3.1.0->jupyter-server<3,>=1.8->notebook-shim>=0.2.3->nbclassic>=0.4.7->notebook>=4.4.1->widgetsnbextension~=3.6.0->ipywidgets>=7.5.1->giotto-tda) (3.10)\n",
            "Requirement already satisfied: sniffio>=1.1 in /usr/local/lib/python3.11/dist-packages (from anyio<4,>=3.1.0->jupyter-server<3,>=1.8->notebook-shim>=0.2.3->nbclassic>=0.4.7->notebook>=4.4.1->widgetsnbextension~=3.6.0->ipywidgets>=7.5.1->giotto-tda) (1.3.1)\n",
            "Downloading giotto_tda-0.6.2-cp311-cp311-manylinux_2_17_x86_64.manylinux2014_x86_64.whl (1.4 MB)\n",
            "\u001b[2K   \u001b[90m━━━━━━━━━━━━━━━━━━━━━━━━━━━━━━━━━━━━━━━━\u001b[0m \u001b[32m1.4/1.4 MB\u001b[0m \u001b[31m15.8 MB/s\u001b[0m eta \u001b[36m0:00:00\u001b[0m\n",
            "\u001b[?25hDownloading scikit_learn-1.3.2-cp311-cp311-manylinux_2_17_x86_64.manylinux2014_x86_64.whl (10.9 MB)\n",
            "\u001b[2K   \u001b[90m━━━━━━━━━━━━━━━━━━━━━━━━━━━━━━━━━━━━━━━━\u001b[0m \u001b[32m10.9/10.9 MB\u001b[0m \u001b[31m84.2 MB/s\u001b[0m eta \u001b[36m0:00:00\u001b[0m\n",
            "\u001b[?25hDownloading giotto_ph-0.2.4-cp311-cp311-manylinux_2_17_x86_64.manylinux2014_x86_64.whl (558 kB)\n",
            "\u001b[2K   \u001b[90m━━━━━━━━━━━━━━━━━━━━━━━━━━━━━━━━━━━━━━━━\u001b[0m \u001b[32m558.8/558.8 kB\u001b[0m \u001b[31m27.7 MB/s\u001b[0m eta \u001b[36m0:00:00\u001b[0m\n",
            "\u001b[?25hDownloading igraph-0.11.8-cp39-abi3-manylinux_2_17_x86_64.manylinux2014_x86_64.whl (3.1 MB)\n",
            "\u001b[2K   \u001b[90m━━━━━━━━━━━━━━━━━━━━━━━━━━━━━━━━━━━━━━━━\u001b[0m \u001b[32m3.1/3.1 MB\u001b[0m \u001b[31m73.0 MB/s\u001b[0m eta \u001b[36m0:00:00\u001b[0m\n",
            "\u001b[?25hDownloading pyflagser-0.4.7-cp311-cp311-manylinux_2_17_x86_64.manylinux2014_x86_64.whl (460 kB)\n",
            "\u001b[2K   \u001b[90m━━━━━━━━━━━━━━━━━━━━━━━━━━━━━━━━━━━━━━━━\u001b[0m \u001b[32m460.6/460.6 kB\u001b[0m \u001b[31m26.1 MB/s\u001b[0m eta \u001b[36m0:00:00\u001b[0m\n",
            "\u001b[?25hDownloading texttable-1.7.0-py2.py3-none-any.whl (10 kB)\n",
            "Downloading jedi-0.19.2-py2.py3-none-any.whl (1.6 MB)\n",
            "\u001b[2K   \u001b[90m━━━━━━━━━━━━━━━━━━━━━━━━━━━━━━━━━━━━━━━━\u001b[0m \u001b[32m1.6/1.6 MB\u001b[0m \u001b[31m53.0 MB/s\u001b[0m eta \u001b[36m0:00:00\u001b[0m\n",
            "\u001b[?25hInstalling collected packages: texttable, jedi, igraph, scikit-learn, pyflagser, giotto-ph, giotto-tda\n",
            "  Attempting uninstall: scikit-learn\n",
            "    Found existing installation: scikit-learn 1.6.0\n",
            "    Uninstalling scikit-learn-1.6.0:\n",
            "      Successfully uninstalled scikit-learn-1.6.0\n",
            "Successfully installed giotto-ph-0.2.4 giotto-tda-0.6.2 igraph-0.11.8 jedi-0.19.2 pyflagser-0.4.7 scikit-learn-1.3.2 texttable-1.7.0\n"
          ]
        }
      ]
    },
    {
      "cell_type": "markdown",
      "source": [
        " Importation des bibliothèques nécessaires pour effectuer une analyse de données"
      ],
      "metadata": {
        "id": "RNt2BGv0SJfN"
      }
    },
    {
      "cell_type": "code",
      "source": [
        "import pandas as pd\n",
        "import numpy as np\n",
        "from sklearn.model_selection import train_test_split\n",
        "from sklearn.ensemble import RandomForestClassifier\n",
        "from sklearn.metrics import classification_report, accuracy_score\n",
        "from gtda.homology import VietorisRipsPersistence\n",
        "from gtda.diagrams import PersistenceEntropy"
      ],
      "metadata": {
        "id": "Hnam5Dfz05wr"
      },
      "execution_count": 13,
      "outputs": []
    },
    {
      "cell_type": "markdown",
      "source": [
        "**Préparation pour la TDA**\n",
        "\n",
        "Créez des ensembles d'entraînement et de test à partir des sous-séries."
      ],
      "metadata": {
        "id": "t3yCGlrAyCrr"
      }
    },
    {
      "cell_type": "code",
      "source": [
        "# Collecter les données et les labels\n",
        "X_tda = []\n",
        "y_tda = []\n",
        "\n",
        "for series in sub_series:\n",
        "    X_tda.append(series.drop(columns=['class']).values)  # Les colonnes des caractéristiques\n",
        "    y_tda.append(series['class'].iloc[0])  # Le label unique de la sous-série\n",
        "\n",
        "# Convertir en tableau numpy\n",
        "X_tda = np.array(X_tda, dtype=object)\n",
        "y_tda = np.array(y_tda)\n",
        "\n",
        "# Diviser en ensembles d'entraînement et de test\n",
        "X_train, X_test, y_train, y_test = train_test_split(X_tda, y_tda, test_size=0.3, random_state=42)\n"
      ],
      "metadata": {
        "id": "eUH-3JwFyHcY"
      },
      "execution_count": 14,
      "outputs": []
    },
    {
      "cell_type": "markdown",
      "source": [
        "**Extraction de caractéristiques TDA**\n",
        "\n",
        "Appliquez Vietoris-Rips Persistence sur chaque sous-série."
      ],
      "metadata": {
        "id": "1P99VOQHygj0"
      }
    },
    {
      "cell_type": "code",
      "source": [
        "# Ajouter une troisième dimension à chaque série (reshape en 3D)\n",
        "X_train_reshaped = [series[:, :, np.newaxis] for series in X_train]\n",
        "X_test_reshaped = [series[:, :, np.newaxis] for series in X_test]"
      ],
      "metadata": {
        "id": "1upiyeXn1BCj"
      },
      "execution_count": 15,
      "outputs": []
    },
    {
      "cell_type": "code",
      "source": [
        "# Appliquer VietorisRipsPersistence\n",
        "tda = VietorisRipsPersistence(metric='euclidean', homology_dimensions=(0, 1))\n",
        "\n",
        "X_train_tda = [tda.fit_transform(series) for series in X_train_reshaped]\n",
        "X_test_tda = [tda.transform(series) for series in X_test_reshaped]\n"
      ],
      "metadata": {
        "id": "BW1FBSVY6IQl"
      },
      "execution_count": 16,
      "outputs": []
    },
    {
      "cell_type": "code",
      "source": [
        "print(\"Shapes des séries reshaped pour le train :\")\n",
        "for idx, series in enumerate(X_train_reshaped):\n",
        "    print(f\"Série {idx}: {series.shape}\")\n",
        "\n",
        "print(\"Shapes des séries reshaped pour le test :\")\n",
        "for idx, series in enumerate(X_test_reshaped):\n",
        "    print(f\"Série {idx}: {series.shape}\")\n"
      ],
      "metadata": {
        "id": "MFHWP_x76wRJ"
      },
      "execution_count": 17,
      "outputs": []
    },
    {
      "cell_type": "code",
      "source": [
        "fixed_length = 10  # Longueur fixe pour tous les vecteurs"
      ],
      "metadata": {
        "id": "51jxltBf65VN"
      },
      "execution_count": 18,
      "outputs": []
    },
    {
      "cell_type": "markdown",
      "source": [
        " **Uniformisations les vecteurs**\n",
        "\n",
        "On ajoute une fonction pour tronquer ou compléter les vecteurs"
      ],
      "metadata": {
        "id": "SxW3MLpL_tOU"
      }
    },
    {
      "cell_type": "code",
      "source": [
        "def pad_or_truncate(vector, length):\n",
        "    if len(vector) > length:\n",
        "        # Tronquer si le vecteur est trop long\n",
        "        return vector[:length]\n",
        "    else:\n",
        "        # Compléter avec des zéros si le vecteur est trop court\n",
        "        return np.pad(vector, (0, length - len(vector)), mode='constant')\n"
      ],
      "metadata": {
        "id": "eK3444v58ycL"
      },
      "execution_count": 19,
      "outputs": []
    },
    {
      "cell_type": "markdown",
      "source": [
        "**Calcul et uniformisation des caractéristiques**\n",
        "\n",
        "On applique *PersistenceEntropy*, puis on uniformise la longueur des vecteurs avec la fonction *pad_or_truncate*"
      ],
      "metadata": {
        "id": "evb4tBSf_gZj"
      }
    },
    {
      "cell_type": "code",
      "source": [
        "pip install --upgrade gudhi\n"
      ],
      "metadata": {
        "id": "rg8yiSq9mztb",
        "outputId": "5221ad00-4ba1-4323-80c6-c25b74fec2b2",
        "colab": {
          "base_uri": "https://localhost:8080/"
        }
      },
      "execution_count": 22,
      "outputs": [
        {
          "output_type": "stream",
          "name": "stdout",
          "text": [
            "Requirement already satisfied: gudhi in /usr/local/lib/python3.11/dist-packages (3.10.1)\n",
            "Requirement already satisfied: numpy>=1.15.0 in /usr/local/lib/python3.11/dist-packages (from gudhi) (1.26.4)\n"
          ]
        }
      ]
    },
    {
      "cell_type": "code",
      "source": [
        "from gtda.diagrams import PersistenceEntropy\n",
        "#from gudhi.representations import PersistenceEntropy\n",
        "pe = PersistenceEntropy()\n",
        "\n",
        "X_train_features = []\n",
        "for diagram in X_train_tda:\n",
        "    if diagram.shape[0] > 0:  # Vérifie que le diagramme n'est pas vide\n",
        "        vector = pe.fit_transform(diagram)\n",
        "    else:\n",
        "        vector = np.zeros(fixed_length)  # Remplace les diagrammes vides par un vecteur nul\n",
        "    X_train_features.append(pad_or_truncate(vector, fixed_length))\n",
        "\n",
        "X_test_features = []\n",
        "for diagram in X_test_tda:\n",
        "    if diagram.shape[0] > 0:\n",
        "        vector = pe.transform(diagram)\n",
        "    else:\n",
        "        vector = np.zeros(fixed_length)\n",
        "    X_test_features.append(pad_or_truncate(vector, fixed_length))\n",
        "\n",
        "# Convertir en tableaux numpy\n",
        "X_train_features = np.array(X_train_features)\n",
        "X_test_features = np.array(X_test_features)\n"
      ],
      "metadata": {
        "id": "9Wb8Voqj82Mh"
      },
      "execution_count": 25,
      "outputs": []
    },
    {
      "cell_type": "markdown",
      "source": [
        "**Vérification**\n",
        "\n",
        "On vérifie que toutes les caractéristiques ont une forme uniforme"
      ],
      "metadata": {
        "id": "DbFCGida_Tp_"
      }
    },
    {
      "cell_type": "code",
      "source": [
        "print(\"Shape des caractéristiques d'entraînement :\", X_train_features.shape)\n",
        "print(\"Shape des caractéristiques de test :\", X_test_features.shape)"
      ],
      "metadata": {
        "colab": {
          "base_uri": "https://localhost:8080/"
        },
        "id": "cL5Kx1eP87Eu",
        "outputId": "b5d91f64-94fd-4d77-8028-c02736bfec87"
      },
      "execution_count": 26,
      "outputs": [
        {
          "output_type": "stream",
          "name": "stdout",
          "text": [
            "Shape des caractéristiques d'entraînement : (17, 10, 2)\n",
            "Shape des caractéristiques de test : (8, 10, 2)\n"
          ]
        }
      ]
    },
    {
      "cell_type": "markdown",
      "source": [
        "**Aplatir les caractéristiques**\n",
        "\n",
        "On applique un flattening aux tableaux de caractéristiques :"
      ],
      "metadata": {
        "id": "WU-bc1tJ_EfA"
      }
    },
    {
      "cell_type": "code",
      "source": [
        "# Aplatir les caractéristiques en 2D\n",
        "X_train_features_flat = X_train_features.reshape(X_train_features.shape[0], -1)\n",
        "X_test_features_flat = X_test_features.reshape(X_test_features.shape[0], -1)\n"
      ],
      "metadata": {
        "id": "Xhr82ukl-CmN"
      },
      "execution_count": 27,
      "outputs": []
    },
    {
      "cell_type": "markdown",
      "source": [
        "\n",
        "\n",
        "**Entraînement du modèle**\n",
        "\n",
        "On entraîne le modèle sur les caractéristiques aplaties"
      ],
      "metadata": {
        "id": "MYlDmNts-nsk"
      }
    },
    {
      "cell_type": "code",
      "source": [
        "# Entraîner le modèle\n",
        "clf = RandomForestClassifier(random_state=42)\n",
        "clf.fit(X_train_features_flat, y_train)\n",
        "\n",
        "# Prédictions\n",
        "y_pred = clf.predict(X_test_features_flat)\n",
        "\n",
        "# Évaluation\n",
        "print(\"Accuracy:\", accuracy_score(y_test, y_pred))\n",
        "print(\"Classification Report:\\n\", classification_report(y_test, y_pred))\n",
        "\n"
      ],
      "metadata": {
        "colab": {
          "base_uri": "https://localhost:8080/"
        },
        "id": "5-B6q7A18_yj",
        "outputId": "f50900a5-1ef0-4f87-f39c-4ac76b878bb2"
      },
      "execution_count": 28,
      "outputs": [
        {
          "output_type": "stream",
          "name": "stdout",
          "text": [
            "Accuracy: 0.25\n",
            "Classification Report:\n",
            "               precision    recall  f1-score   support\n",
            "\n",
            "           0       0.29      0.67      0.40         3\n",
            "           1       0.00      0.00      0.00         2\n",
            "           2       0.00      0.00      0.00         0\n",
            "           5       0.00      0.00      0.00         1\n",
            "           6       0.00      0.00      0.00         2\n",
            "\n",
            "    accuracy                           0.25         8\n",
            "   macro avg       0.06      0.13      0.08         8\n",
            "weighted avg       0.11      0.25      0.15         8\n",
            "\n"
          ]
        },
        {
          "output_type": "stream",
          "name": "stderr",
          "text": [
            "/usr/local/lib/python3.11/dist-packages/sklearn/metrics/_classification.py:1471: UndefinedMetricWarning: Precision and F-score are ill-defined and being set to 0.0 in labels with no predicted samples. Use `zero_division` parameter to control this behavior.\n",
            "  _warn_prf(average, modifier, msg_start, len(result))\n",
            "/usr/local/lib/python3.11/dist-packages/sklearn/metrics/_classification.py:1471: UndefinedMetricWarning: Recall and F-score are ill-defined and being set to 0.0 in labels with no true samples. Use `zero_division` parameter to control this behavior.\n",
            "  _warn_prf(average, modifier, msg_start, len(result))\n",
            "/usr/local/lib/python3.11/dist-packages/sklearn/metrics/_classification.py:1471: UndefinedMetricWarning: Precision and F-score are ill-defined and being set to 0.0 in labels with no predicted samples. Use `zero_division` parameter to control this behavior.\n",
            "  _warn_prf(average, modifier, msg_start, len(result))\n",
            "/usr/local/lib/python3.11/dist-packages/sklearn/metrics/_classification.py:1471: UndefinedMetricWarning: Recall and F-score are ill-defined and being set to 0.0 in labels with no true samples. Use `zero_division` parameter to control this behavior.\n",
            "  _warn_prf(average, modifier, msg_start, len(result))\n",
            "/usr/local/lib/python3.11/dist-packages/sklearn/metrics/_classification.py:1471: UndefinedMetricWarning: Precision and F-score are ill-defined and being set to 0.0 in labels with no predicted samples. Use `zero_division` parameter to control this behavior.\n",
            "  _warn_prf(average, modifier, msg_start, len(result))\n",
            "/usr/local/lib/python3.11/dist-packages/sklearn/metrics/_classification.py:1471: UndefinedMetricWarning: Recall and F-score are ill-defined and being set to 0.0 in labels with no true samples. Use `zero_division` parameter to control this behavior.\n",
            "  _warn_prf(average, modifier, msg_start, len(result))\n"
          ]
        }
      ]
    },
    {
      "cell_type": "markdown",
      "source": [
        "\n",
        "\n",
        "*   L'évaluation de notre modèle donne une **précision globale de 25%**, ce qui signifie qu'il a correctement prédit le label dans 2 cas sur 8.\n",
        "*   Le jeu de données est déséquilibré : certaines classes ont très peu d'exemples **(2, 5)**, ce qui rend difficile l'apprentissage de ces classes pour le modèle.\n",
        "*   Le modèle a tendance à privilégier la classe 0 (majoritaire dans le jeu de test).\n",
        "*   Avec seulement **17 séries** pour l'entraînement et **8 séries** pour le test, le jeu de données est très petit, ce qui limite la capacité du modèle à généraliser."
      ],
      "metadata": {
        "id": "BYZZTXc9y_Kf"
      }
    },
    {
      "cell_type": "markdown",
      "source": [
        "**4. Faire de même en enlevant les classes 0. Que peut on dire?**"
      ],
      "metadata": {
        "id": "50LXao1Wg9ru"
      }
    },
    {
      "cell_type": "code",
      "source": [
        "# Supprimer les échantillons de la classe 0\n",
        "data_no_class_0 = data[data['class'] != 0]\n",
        "\n",
        "# Recréer les sous-séries après suppression de la classe 0\n",
        "changes = data_no_class_0['class'].diff().ne(0)\n",
        "change_indices = changes[changes].index.tolist()\n",
        "\n",
        "if 0 not in change_indices:\n",
        "    change_indices.insert(0, 0)\n",
        "change_indices.append(len(data_no_class_0))\n",
        "\n",
        "sub_series_no_class_0 = [\n",
        "    data_no_class_0.iloc[change_indices[i]:change_indices[i + 1]]\n",
        "    for i in range(len(change_indices) - 1)\n",
        "]\n",
        "\n",
        "# Création des données TDA (X_tda, y_tda)\n",
        "X_tda = []\n",
        "y_tda = []\n",
        "\n",
        "for series in sub_series_no_class_0:\n",
        "    X_tda.append(series.drop(columns=['class']).values)\n",
        "    y_tda.append(series['class'].iloc[0])\n",
        "\n",
        "# Convertir en tableaux numpy\n",
        "X_tda = np.array(X_tda, dtype=object)\n",
        "y_tda = np.array(y_tda)\n",
        "\n",
        "# Diviser en ensembles d'entraînement et de test\n",
        "X_train, X_test, y_train, y_test = train_test_split(X_tda, y_tda, test_size=0.3, random_state=42)\n",
        "\n",
        "# Ajouter une troisième dimension (reshape en 3D)\n",
        "X_train_reshaped = [series[:, :, np.newaxis] for series in X_train]\n",
        "X_test_reshaped = [series[:, :, np.newaxis] for series in X_test]\n",
        "\n",
        "# Appliquer VietorisRipsPersistence\n",
        "tda = VietorisRipsPersistence(metric='euclidean', homology_dimensions=(0, 1))\n",
        "X_train_tda = [tda.fit_transform(series) for series in X_train_reshaped]\n",
        "X_test_tda = [tda.transform(series) for series in X_test_reshaped]\n",
        "\n",
        "# Ajouter une étape pour calculer PersistenceEntropy\n",
        "pe = PersistenceEntropy()\n",
        "\n",
        "fixed_length = 10  # Longueur fixe pour les vecteurs\n",
        "\n",
        "def pad_or_truncate(vector, length):\n",
        "    if len(vector) > length:\n",
        "        return vector[:length]\n",
        "    else:\n",
        "        return np.pad(vector, (0, length - len(vector)), mode='constant')\n",
        "\n",
        "X_train_features = []\n",
        "for diagram in X_train_tda:\n",
        "    if diagram.shape[0] > 0:\n",
        "        vector = pe.fit_transform(diagram)\n",
        "    else:\n",
        "        vector = np.zeros(fixed_length)\n",
        "    X_train_features.append(pad_or_truncate(vector, fixed_length))\n",
        "\n",
        "X_test_features = []\n",
        "for diagram in X_test_tda:\n",
        "    if diagram.shape[0] > 0:\n",
        "        vector = pe.transform(diagram)\n",
        "    else:\n",
        "        vector = np.zeros(fixed_length)\n",
        "    X_test_features.append(pad_or_truncate(vector, fixed_length))\n",
        "\n",
        "# Convertir en tableaux numpy\n",
        "X_train_features = np.array(X_train_features)\n",
        "X_test_features = np.array(X_test_features)\n",
        "\n",
        "# Aplatir les caractéristiques en 2D\n",
        "X_train_features_flat = X_train_features.reshape(X_train_features.shape[0], -1)\n",
        "X_test_features_flat = X_test_features.reshape(X_test_features.shape[0], -1)\n",
        "\n",
        "# Entraîner le modèle\n",
        "clf = RandomForestClassifier(random_state=42)\n",
        "clf.fit(X_train_features_flat, y_train)\n",
        "\n",
        "# Prédictions\n",
        "y_pred = clf.predict(X_test_features_flat)\n",
        "\n",
        "# Évaluation\n",
        "print(\"Accuracy:\", accuracy_score(y_test, y_pred))\n",
        "print(\"Classification Report:\\n\", classification_report(y_test, y_pred))\n"
      ],
      "metadata": {
        "id": "hhl7saunQFXe",
        "outputId": "8b0afaa8-852a-43a8-c41f-6ef68ad99325",
        "colab": {
          "base_uri": "https://localhost:8080/",
          "height": 356
        }
      },
      "execution_count": 29,
      "outputs": [
        {
          "output_type": "error",
          "ename": "IndexError",
          "evalue": "single positional indexer is out-of-bounds",
          "traceback": [
            "\u001b[0;31m---------------------------------------------------------------------------\u001b[0m",
            "\u001b[0;31mIndexError\u001b[0m                                Traceback (most recent call last)",
            "\u001b[0;32m<ipython-input-29-d1d98320ead2>\u001b[0m in \u001b[0;36m<cell line: 0>\u001b[0;34m()\u001b[0m\n\u001b[1;32m     21\u001b[0m \u001b[0;32mfor\u001b[0m \u001b[0mseries\u001b[0m \u001b[0;32min\u001b[0m \u001b[0msub_series_no_class_0\u001b[0m\u001b[0;34m:\u001b[0m\u001b[0;34m\u001b[0m\u001b[0;34m\u001b[0m\u001b[0m\n\u001b[1;32m     22\u001b[0m     \u001b[0mX_tda\u001b[0m\u001b[0;34m.\u001b[0m\u001b[0mappend\u001b[0m\u001b[0;34m(\u001b[0m\u001b[0mseries\u001b[0m\u001b[0;34m.\u001b[0m\u001b[0mdrop\u001b[0m\u001b[0;34m(\u001b[0m\u001b[0mcolumns\u001b[0m\u001b[0;34m=\u001b[0m\u001b[0;34m[\u001b[0m\u001b[0;34m'class'\u001b[0m\u001b[0;34m]\u001b[0m\u001b[0;34m)\u001b[0m\u001b[0;34m.\u001b[0m\u001b[0mvalues\u001b[0m\u001b[0;34m)\u001b[0m\u001b[0;34m\u001b[0m\u001b[0;34m\u001b[0m\u001b[0m\n\u001b[0;32m---> 23\u001b[0;31m     \u001b[0my_tda\u001b[0m\u001b[0;34m.\u001b[0m\u001b[0mappend\u001b[0m\u001b[0;34m(\u001b[0m\u001b[0mseries\u001b[0m\u001b[0;34m[\u001b[0m\u001b[0;34m'class'\u001b[0m\u001b[0;34m]\u001b[0m\u001b[0;34m.\u001b[0m\u001b[0miloc\u001b[0m\u001b[0;34m[\u001b[0m\u001b[0;36m0\u001b[0m\u001b[0;34m]\u001b[0m\u001b[0;34m)\u001b[0m\u001b[0;34m\u001b[0m\u001b[0;34m\u001b[0m\u001b[0m\n\u001b[0m\u001b[1;32m     24\u001b[0m \u001b[0;34m\u001b[0m\u001b[0m\n\u001b[1;32m     25\u001b[0m \u001b[0;31m# Convertir en tableaux numpy\u001b[0m\u001b[0;34m\u001b[0m\u001b[0;34m\u001b[0m\u001b[0m\n",
            "\u001b[0;32m/usr/local/lib/python3.11/dist-packages/pandas/core/indexing.py\u001b[0m in \u001b[0;36m__getitem__\u001b[0;34m(self, key)\u001b[0m\n\u001b[1;32m   1189\u001b[0m             \u001b[0mmaybe_callable\u001b[0m \u001b[0;34m=\u001b[0m \u001b[0mcom\u001b[0m\u001b[0;34m.\u001b[0m\u001b[0mapply_if_callable\u001b[0m\u001b[0;34m(\u001b[0m\u001b[0mkey\u001b[0m\u001b[0;34m,\u001b[0m \u001b[0mself\u001b[0m\u001b[0;34m.\u001b[0m\u001b[0mobj\u001b[0m\u001b[0;34m)\u001b[0m\u001b[0;34m\u001b[0m\u001b[0;34m\u001b[0m\u001b[0m\n\u001b[1;32m   1190\u001b[0m             \u001b[0mmaybe_callable\u001b[0m \u001b[0;34m=\u001b[0m \u001b[0mself\u001b[0m\u001b[0;34m.\u001b[0m\u001b[0m_check_deprecated_callable_usage\u001b[0m\u001b[0;34m(\u001b[0m\u001b[0mkey\u001b[0m\u001b[0;34m,\u001b[0m \u001b[0mmaybe_callable\u001b[0m\u001b[0;34m)\u001b[0m\u001b[0;34m\u001b[0m\u001b[0;34m\u001b[0m\u001b[0m\n\u001b[0;32m-> 1191\u001b[0;31m             \u001b[0;32mreturn\u001b[0m \u001b[0mself\u001b[0m\u001b[0;34m.\u001b[0m\u001b[0m_getitem_axis\u001b[0m\u001b[0;34m(\u001b[0m\u001b[0mmaybe_callable\u001b[0m\u001b[0;34m,\u001b[0m \u001b[0maxis\u001b[0m\u001b[0;34m=\u001b[0m\u001b[0maxis\u001b[0m\u001b[0;34m)\u001b[0m\u001b[0;34m\u001b[0m\u001b[0;34m\u001b[0m\u001b[0m\n\u001b[0m\u001b[1;32m   1192\u001b[0m \u001b[0;34m\u001b[0m\u001b[0m\n\u001b[1;32m   1193\u001b[0m     \u001b[0;32mdef\u001b[0m \u001b[0m_is_scalar_access\u001b[0m\u001b[0;34m(\u001b[0m\u001b[0mself\u001b[0m\u001b[0;34m,\u001b[0m \u001b[0mkey\u001b[0m\u001b[0;34m:\u001b[0m \u001b[0mtuple\u001b[0m\u001b[0;34m)\u001b[0m\u001b[0;34m:\u001b[0m\u001b[0;34m\u001b[0m\u001b[0;34m\u001b[0m\u001b[0m\n",
            "\u001b[0;32m/usr/local/lib/python3.11/dist-packages/pandas/core/indexing.py\u001b[0m in \u001b[0;36m_getitem_axis\u001b[0;34m(self, key, axis)\u001b[0m\n\u001b[1;32m   1750\u001b[0m \u001b[0;34m\u001b[0m\u001b[0m\n\u001b[1;32m   1751\u001b[0m             \u001b[0;31m# validate the location\u001b[0m\u001b[0;34m\u001b[0m\u001b[0;34m\u001b[0m\u001b[0m\n\u001b[0;32m-> 1752\u001b[0;31m             \u001b[0mself\u001b[0m\u001b[0;34m.\u001b[0m\u001b[0m_validate_integer\u001b[0m\u001b[0;34m(\u001b[0m\u001b[0mkey\u001b[0m\u001b[0;34m,\u001b[0m \u001b[0maxis\u001b[0m\u001b[0;34m)\u001b[0m\u001b[0;34m\u001b[0m\u001b[0;34m\u001b[0m\u001b[0m\n\u001b[0m\u001b[1;32m   1753\u001b[0m \u001b[0;34m\u001b[0m\u001b[0m\n\u001b[1;32m   1754\u001b[0m             \u001b[0;32mreturn\u001b[0m \u001b[0mself\u001b[0m\u001b[0;34m.\u001b[0m\u001b[0mobj\u001b[0m\u001b[0;34m.\u001b[0m\u001b[0m_ixs\u001b[0m\u001b[0;34m(\u001b[0m\u001b[0mkey\u001b[0m\u001b[0;34m,\u001b[0m \u001b[0maxis\u001b[0m\u001b[0;34m=\u001b[0m\u001b[0maxis\u001b[0m\u001b[0;34m)\u001b[0m\u001b[0;34m\u001b[0m\u001b[0;34m\u001b[0m\u001b[0m\n",
            "\u001b[0;32m/usr/local/lib/python3.11/dist-packages/pandas/core/indexing.py\u001b[0m in \u001b[0;36m_validate_integer\u001b[0;34m(self, key, axis)\u001b[0m\n\u001b[1;32m   1683\u001b[0m         \u001b[0mlen_axis\u001b[0m \u001b[0;34m=\u001b[0m \u001b[0mlen\u001b[0m\u001b[0;34m(\u001b[0m\u001b[0mself\u001b[0m\u001b[0;34m.\u001b[0m\u001b[0mobj\u001b[0m\u001b[0;34m.\u001b[0m\u001b[0m_get_axis\u001b[0m\u001b[0;34m(\u001b[0m\u001b[0maxis\u001b[0m\u001b[0;34m)\u001b[0m\u001b[0;34m)\u001b[0m\u001b[0;34m\u001b[0m\u001b[0;34m\u001b[0m\u001b[0m\n\u001b[1;32m   1684\u001b[0m         \u001b[0;32mif\u001b[0m \u001b[0mkey\u001b[0m \u001b[0;34m>=\u001b[0m \u001b[0mlen_axis\u001b[0m \u001b[0;32mor\u001b[0m \u001b[0mkey\u001b[0m \u001b[0;34m<\u001b[0m \u001b[0;34m-\u001b[0m\u001b[0mlen_axis\u001b[0m\u001b[0;34m:\u001b[0m\u001b[0;34m\u001b[0m\u001b[0;34m\u001b[0m\u001b[0m\n\u001b[0;32m-> 1685\u001b[0;31m             \u001b[0;32mraise\u001b[0m \u001b[0mIndexError\u001b[0m\u001b[0;34m(\u001b[0m\u001b[0;34m\"single positional indexer is out-of-bounds\"\u001b[0m\u001b[0;34m)\u001b[0m\u001b[0;34m\u001b[0m\u001b[0;34m\u001b[0m\u001b[0m\n\u001b[0m\u001b[1;32m   1686\u001b[0m \u001b[0;34m\u001b[0m\u001b[0m\n\u001b[1;32m   1687\u001b[0m     \u001b[0;31m# -------------------------------------------------------------------\u001b[0m\u001b[0;34m\u001b[0m\u001b[0;34m\u001b[0m\u001b[0m\n",
            "\u001b[0;31mIndexError\u001b[0m: single positional indexer is out-of-bounds"
          ]
        }
      ]
    }
  ]
}
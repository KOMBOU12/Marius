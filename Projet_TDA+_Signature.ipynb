{
  "nbformat": 4,
  "nbformat_minor": 0,
  "metadata": {
    "colab": {
      "provenance": [],
      "authorship_tag": "ABX9TyPDFQpjq7MrfLKT/NMo+nFt",
      "include_colab_link": true
    },
    "kernelspec": {
      "name": "python3",
      "display_name": "Python 3"
    },
    "language_info": {
      "name": "python"
    }
  },
  "cells": [
    {
      "cell_type": "markdown",
      "metadata": {
        "id": "view-in-github",
        "colab_type": "text"
      },
      "source": [
        "<a href=\"https://colab.research.google.com/github/KOMBOU12/Marius/blob/main/Projet_TDA%2B_Signature.ipynb\" target=\"_parent\"><img src=\"https://colab.research.google.com/assets/colab-badge.svg\" alt=\"Open In Colab\"/></a>"
      ]
    },
    {
      "cell_type": "markdown",
      "source": [
        "# **Projet TDA + Signature**\n",
        "L’objectif de ce projet est d’appliquer les méthodes de TDA sur des données temporelles.\n",
        "Chaque fichier est composé de 10 colonnes :\n",
        "\n",
        "Temps - temps en ms ;\n",
        "2-9) Canal - huit canaux EMG du bracelet MYO Thalmic;\n",
        "\n",
        "Classe - le label des gestes :\n",
        "\n",
        "*   0 - données non marquées,\n",
        "*   1 - main au repos,\n",
        "*   2 - main serrée en poing,\n",
        "*   3 - flexion du poignet,\n",
        "*   4 - extension du poignet,\n",
        "*   5 - déviations radiales,\n",
        "*   6 - déviations ulnaires\n",
        "*   7 - paume étendue (le geste n'a pas été effectué par tous les sujets)\n",
        "\n",
        "\n",
        "\n",
        "\n"
      ],
      "metadata": {
        "id": "bZGOfwQnN_q6"
      }
    },
    {
      "cell_type": "markdown",
      "source": [
        "**1- Description des données**"
      ],
      "metadata": {
        "id": "7Fwmb3NYOl2T"
      }
    },
    {
      "cell_type": "code",
      "execution_count": null,
      "metadata": {
        "colab": {
          "base_uri": "https://localhost:8080/"
        },
        "id": "CLmx2g5INyDc",
        "outputId": "66de9fef-567a-4e4a-8e5a-be8848b273a2"
      },
      "outputs": [
        {
          "output_type": "stream",
          "name": "stdout",
          "text": [
            "   time  channel1  channel2  channel3  channel4  channel5  channel6  channel7  \\\n",
            "0     1   0.00001  -0.00002  -0.00001  -0.00003   0.00000  -0.00001   0.00000   \n",
            "1     5   0.00001  -0.00002  -0.00001  -0.00003   0.00000  -0.00001   0.00000   \n",
            "2     6  -0.00001   0.00001   0.00002   0.00000   0.00001  -0.00002  -0.00001   \n",
            "3     7  -0.00001   0.00001   0.00002   0.00000   0.00001  -0.00002  -0.00001   \n",
            "4     8  -0.00001   0.00001   0.00002   0.00000   0.00001  -0.00002  -0.00001   \n",
            "\n",
            "   channel8  class  \n",
            "0  -0.00001      0  \n",
            "1  -0.00001      0  \n",
            "2   0.00001      0  \n",
            "3   0.00001      0  \n",
            "4   0.00001      0  \n"
          ]
        }
      ],
      "source": [
        "import pandas as pd\n",
        "# URL du fichier de données\n",
        "url = \"https://remivaucher.github.io/files/1_raw_data_13-12_22.03.16.txt\"\n",
        "\n",
        "# Charger les données dans un DataFrame\n",
        "data = pd.read_csv(url, sep=\"\\t\")\n",
        "\n",
        "# Afficher les premières lignes du DataFrame pour vérifier\n",
        "print(data.head())"
      ]
    },
    {
      "cell_type": "markdown",
      "source": [
        "**Nombre de classes du jeu de données**"
      ],
      "metadata": {
        "id": "IcxbdnVImbfb"
      }
    },
    {
      "cell_type": "code",
      "source": [
        "# Calculer le nombre de classes uniques dans la colonne 'Class'\n",
        "nombre_classes = data['class'].nunique()\n",
        "\n",
        "# Afficher le nombre de classes\n",
        "print(\"Nombre de classes uniques :\", nombre_classes)\n",
        "\n",
        "# Pour voir la liste des classes uniques\n",
        "classes_uniques = data['class'].unique()\n",
        "print(\"Classes uniques :\", classes_uniques)"
      ],
      "metadata": {
        "colab": {
          "base_uri": "https://localhost:8080/"
        },
        "id": "RopCSSBOmhnK",
        "outputId": "0530ae42-e766-49f2-a95b-7c0e5c8661fb"
      },
      "execution_count": null,
      "outputs": [
        {
          "output_type": "stream",
          "name": "stdout",
          "text": [
            "Nombre de classes uniques : 7\n",
            "Classes uniques : [0 1 2 3 4 5 6]\n"
          ]
        }
      ]
    },
    {
      "cell_type": "code",
      "source": [
        "sumarize = data.describe()\n",
        "print(sumarize)"
      ],
      "metadata": {
        "colab": {
          "base_uri": "https://localhost:8080/"
        },
        "id": "vjyd4vyyPMht",
        "outputId": "29a2c4ed-0d9c-4fbe-ece4-695c4eadcf13"
      },
      "execution_count": null,
      "outputs": [
        {
          "output_type": "stream",
          "name": "stdout",
          "text": [
            "               time      channel1      channel2      channel3      channel4  \\\n",
            "count  63196.000000  63196.000000  63196.000000  63196.000000  63196.000000   \n",
            "mean   32777.490094     -0.000008     -0.000009     -0.000009     -0.000010   \n",
            "std    18943.835626      0.000144      0.000134      0.000124      0.000155   \n",
            "min        1.000000     -0.001110     -0.001020     -0.000910     -0.001040   \n",
            "25%    16340.750000     -0.000030     -0.000040     -0.000050     -0.000040   \n",
            "50%    32781.500000     -0.000010     -0.000010     -0.000010     -0.000010   \n",
            "75%    49199.250000      0.000010      0.000020      0.000030      0.000020   \n",
            "max    65661.000000      0.001270      0.001270      0.001270      0.001270   \n",
            "\n",
            "           channel5     channel6      channel7      channel8         class  \n",
            "count  63196.000000  63196.00000  63196.000000  63196.000000  63196.000000  \n",
            "mean      -0.000012     -0.00001     -0.000008     -0.000008      1.212086  \n",
            "std        0.000198      0.00016      0.000133      0.000142      1.947578  \n",
            "min       -0.001280     -0.00112     -0.001090     -0.000980      0.000000  \n",
            "25%       -0.000040     -0.00004     -0.000030     -0.000030      0.000000  \n",
            "50%       -0.000010     -0.00001     -0.000010     -0.000010      0.000000  \n",
            "75%        0.000010      0.00001      0.000010      0.000010      2.000000  \n",
            "max        0.001270      0.00127      0.001270      0.001270      6.000000  \n"
          ]
        }
      ]
    },
    {
      "cell_type": "markdown",
      "source": [
        "**Qualité des données**"
      ],
      "metadata": {
        "id": "J36_1WU-q59R"
      }
    },
    {
      "cell_type": "code",
      "source": [
        "# Qualité des données\n",
        "print(\"\\nValeurs manquantes par colonne:\")\n",
        "print(data.isnull().sum())\n",
        "print(\"\\nNombre de doublons:\")\n",
        "print(data.duplicated().sum())"
      ],
      "metadata": {
        "colab": {
          "base_uri": "https://localhost:8080/"
        },
        "id": "MFz0CWveq9se",
        "outputId": "fd0387df-b473-4436-d508-91d0e8322cef"
      },
      "execution_count": null,
      "outputs": [
        {
          "output_type": "stream",
          "name": "stdout",
          "text": [
            "\n",
            "Valeurs manquantes par colonne:\n",
            "time        0\n",
            "channel1    0\n",
            "channel2    0\n",
            "channel3    0\n",
            "channel4    0\n",
            "channel5    0\n",
            "channel6    0\n",
            "channel7    0\n",
            "channel8    0\n",
            "class       0\n",
            "dtype: int64\n",
            "\n",
            "Nombre de doublons:\n",
            "0\n"
          ]
        }
      ]
    },
    {
      "cell_type": "markdown",
      "source": [
        "Il n'y a pas de valeurs manquantes, pas de doublons."
      ],
      "metadata": {
        "id": "yRrQWxaHyw16"
      }
    },
    {
      "cell_type": "code",
      "source": [
        "distribution_classes = data['class'].value_counts()\n",
        "print(distribution_classes)"
      ],
      "metadata": {
        "colab": {
          "base_uri": "https://localhost:8080/"
        },
        "id": "M2AgRb704tSL",
        "outputId": "edb12489-8b47-456e-c76d-249fae27e439"
      },
      "execution_count": null,
      "outputs": [
        {
          "output_type": "stream",
          "name": "stdout",
          "text": [
            "class\n",
            "0    41272\n",
            "3     3816\n",
            "1     3780\n",
            "6     3747\n",
            "5     3615\n",
            "2     3525\n",
            "4     3441\n",
            "Name: count, dtype: int64\n"
          ]
        }
      ]
    },
    {
      "cell_type": "markdown",
      "source": [
        "**Histogramme pour les variables numérique**s"
      ],
      "metadata": {
        "id": "RH-HC23jrJS5"
      }
    },
    {
      "cell_type": "code",
      "source": [
        "# Histogramme pour les variables numériques\n",
        "import matplotlib.pyplot as plt\n",
        "data.hist(bins=30, figsize=(10, 10))\n",
        "plt.show()"
      ],
      "metadata": {
        "colab": {
          "base_uri": "https://localhost:8080/",
          "height": 853
        },
        "id": "-A9wuMIErM5M",
        "outputId": "77c84bcc-b32b-42b0-832a-3b392c3f972e"
      },
      "execution_count": null,
      "outputs": [
        {
          "output_type": "display_data",
          "data": {
            "text/plain": [
              "<Figure size 1000x1000 with 12 Axes>"
            ],
            "image/png": "[encoded data removed]"
          },
          "metadata": {}
        }
      ]
    },
    {
      "cell_type": "markdown",
      "source": [
        "La classe 0 représente des **\"données non marquées\"** ou une situation de \"repos\" ou \"absence de geste\", il est **normal qu'elle soit plus fréquente**, surtout dans les contextes où les gestes spécifiques ne sont exécutés que brièvement et/ou moins fréquemment. Ensuite la classe 3 est la plus fréquente. D'accord que ce 'nest pas très visible sur mon histogramme."
      ],
      "metadata": {
        "id": "qHzq3rCFvutp"
      }
    },
    {
      "cell_type": "markdown",
      "source": [
        "**Heatmap**"
      ],
      "metadata": {
        "id": "taCKtVQRzZGw"
      }
    },
    {
      "cell_type": "code",
      "source": [
        "# heatmap\n",
        "import seaborn as sns\n",
        "import matplotlib.pyplot as plt\n",
        "\n",
        "sns.heatmap(data.corr())\n",
        "plt.show()"
      ],
      "metadata": {
        "colab": {
          "base_uri": "https://localhost:8080/",
          "height": 485
        },
        "id": "GfkwHa3clTx6",
        "outputId": "31c26356-94be-4a9a-89ee-485e0488adc1"
      },
      "execution_count": null,
      "outputs": [
        {
          "output_type": "display_data",
          "data": {
            "text/plain": [
              "<Figure size 640x480 with 2 Axes>"
            ],
            "image/png": "[encoded data removed]"
          },
          "metadata": {}
        }
      ]
    },
    {
      "cell_type": "markdown",
      "source": [
        "On observe pas une corrélation entre un channel et class. Il n'y a pas un channel qui a plus d'impact que d'autres sur la classe."
      ],
      "metadata": {
        "id": "NEQ5smw5yOXA"
      }
    },
    {
      "cell_type": "markdown",
      "source": [
        "**2. Découper la série temporelle de manière à récupérer plusieurs séries à label unique**"
      ],
      "metadata": {
        "id": "fIEq1VgcykZd"
      }
    },
    {
      "cell_type": "code",
      "source": [
        "# Identifier où les changements de label se produisent\n",
        "changes = data['class'].diff().ne(0)  # diff() calcule la différence entre chaque élément et son précédent\n",
        "change_indices = changes[changes].index.tolist()  # récupérer les indices des changements\n",
        "\n",
        "# Ajouter le premier index de la série et le dernier index de la série pour compléter les sous-séries\n",
        "if 0 not in change_indices:\n",
        "    change_indices.insert(0, 0)\n",
        "change_indices.append(len(data))\n",
        "\n",
        "# Créer les sous-séries\n",
        "sub_series = []\n",
        "for i in range(len(change_indices) - 1):\n",
        "    sub_series.append(data.iloc[change_indices[i]:change_indices[i + 1]])\n",
        "\n",
        "# Afficher le résultat\n",
        "# for index, series in enumerate(sub_series):\n",
        "#     print(f\"Sous-série {index + 1} avec label unique:\")\n",
        "#     print(series.head())  # afficher les premières lignes de chaque sous-série\n",
        "#     print(\"\\n\")\n"
      ],
      "metadata": {
        "id": "htICPw0XyoI2"
      },
      "execution_count": null,
      "outputs": []
    },
    {
      "cell_type": "markdown",
      "source": [
        "**3. Utiliser la TDA pour créer un modèle de classification. Que peut on dire?**"
      ],
      "metadata": {
        "id": "r2w4FMhrAaad"
      }
    },
    {
      "cell_type": "markdown",
      "source": [
        "3.1 Étape 1: Fonction pour calculer le diagramme de persistance"
      ],
      "metadata": {
        "id": "xHruViSKBN5F"
      }
    },
    {
      "cell_type": "code",
      "source": [
        "!pip install gudhi\n",
        "!pip install giotto-tda"
      ],
      "metadata": {
        "collapsed": true,
        "colab": {
          "base_uri": "https://localhost:8080/",
          "height": 1000
        },
        "id": "IXRdF0dM1dqd",
        "outputId": "4e2f7fed-75ac-4fa9-b8b9-1094bba62c60"
      },
      "execution_count": null,
      "outputs": [
        {
          "output_type": "stream",
          "name": "stdout",
          "text": [
            "Collecting gudhi\n",
            "  Downloading gudhi-3.10.1-cp310-cp310-manylinux_2_17_x86_64.manylinux2014_x86_64.whl.metadata (1.6 kB)\n",
            "Requirement already satisfied: numpy>=1.15.0 in /usr/local/lib/python3.10/dist-packages (from gudhi) (1.26.4)\n",
            "Downloading gudhi-3.10.1-cp310-cp310-manylinux_2_17_x86_64.manylinux2014_x86_64.whl (3.3 MB)\n",
            "\u001b[?25l   \u001b[90m━━━━━━━━━━━━━━━━━━━━━━━━━━━━━━━━━━━━━━━━\u001b[0m \u001b[32m0.0/3.3 MB\u001b[0m \u001b[31m?\u001b[0m eta \u001b[36m-:--:--\u001b[0m\r\u001b[2K   \u001b[91m━━━━\u001b[0m\u001b[90m╺\u001b[0m\u001b[90m━━━━━━━━━━━━━━━━━━━━━━━━━━━━━━━━━━━\u001b[0m \u001b[32m0.4/3.3 MB\u001b[0m \u001b[31m11.9 MB/s\u001b[0m eta \u001b[36m0:00:01\u001b[0m\r\u001b[2K   \u001b[91m━━━━━━━━━━━━━━━━━━━━━━━━━━━━━━━━━━━━━━━\u001b[0m\u001b[91m╸\u001b[0m \u001b[32m3.3/3.3 MB\u001b[0m \u001b[31m47.7 MB/s\u001b[0m eta \u001b[36m0:00:01\u001b[0m\r\u001b[2K   \u001b[90m━━━━━━━━━━━━━━━━━━━━━━━━━━━━━━━━━━━━━━━━\u001b[0m \u001b[32m3.3/3.3 MB\u001b[0m \u001b[31m33.1 MB/s\u001b[0m eta \u001b[36m0:00:00\u001b[0m\n",
            "\u001b[?25hInstalling collected packages: gudhi\n",
            "Successfully installed gudhi-3.10.1\n",
            "Collecting giotto-tda\n",
            "  Downloading giotto_tda-0.6.2-cp310-cp310-manylinux_2_17_x86_64.manylinux2014_x86_64.whl.metadata (8.7 kB)\n",
            "Requirement already satisfied: numpy>=1.19.1 in /usr/local/lib/python3.10/dist-packages (from giotto-tda) (1.26.4)\n",
            "Requirement already satisfied: scipy>=1.5.0 in /usr/local/lib/python3.10/dist-packages (from giotto-tda) (1.13.1)\n",
            "Requirement already satisfied: joblib>=0.16.0 in /usr/local/lib/python3.10/dist-packages (from giotto-tda) (1.4.2)\n",
            "Collecting scikit-learn==1.3.2 (from giotto-tda)\n",
            "  Downloading scikit_learn-1.3.2-cp310-cp310-manylinux_2_17_x86_64.manylinux2014_x86_64.whl.metadata (11 kB)\n",
            "Collecting giotto-ph>=0.2.1 (from giotto-tda)\n",
            "  Downloading giotto_ph-0.2.4-cp310-cp310-manylinux_2_17_x86_64.manylinux2014_x86_64.whl.metadata (10 kB)\n",
            "Collecting pyflagser>=0.4.3 (from giotto-tda)\n",
            "  Downloading pyflagser-0.4.7-cp310-cp310-manylinux_2_17_x86_64.manylinux2014_x86_64.whl.metadata (5.0 kB)\n",
            "Collecting igraph>=0.9.8 (from giotto-tda)\n",
            "  Downloading igraph-0.11.8-cp39-abi3-manylinux_2_17_x86_64.manylinux2014_x86_64.whl.metadata (3.8 kB)\n",
            "Requirement already satisfied: plotly>=4.8.2 in /usr/local/lib/python3.10/dist-packages (from giotto-tda) (5.24.1)\n",
            "Requirement already satisfied: ipywidgets>=7.5.1 in /usr/local/lib/python3.10/dist-packages (from giotto-tda) (7.7.1)\n",
            "Requirement already satisfied: threadpoolctl>=2.0.0 in /usr/local/lib/python3.10/dist-packages (from scikit-learn==1.3.2->giotto-tda) (3.5.0)\n",
            "Collecting texttable>=1.6.2 (from igraph>=0.9.8->giotto-tda)\n",
            "  Downloading texttable-1.7.0-py2.py3-none-any.whl.metadata (9.8 kB)\n",
            "Requirement already satisfied: ipykernel>=4.5.1 in /usr/local/lib/python3.10/dist-packages (from ipywidgets>=7.5.1->giotto-tda) (5.5.6)\n",
            "Requirement already satisfied: ipython-genutils~=0.2.0 in /usr/local/lib/python3.10/dist-packages (from ipywidgets>=7.5.1->giotto-tda) (0.2.0)\n",
            "Requirement already satisfied: traitlets>=4.3.1 in /usr/local/lib/python3.10/dist-packages (from ipywidgets>=7.5.1->giotto-tda) (5.7.1)\n",
            "Requirement already satisfied: widgetsnbextension~=3.6.0 in /usr/local/lib/python3.10/dist-packages (from ipywidgets>=7.5.1->giotto-tda) (3.6.10)\n",
            "Requirement already satisfied: ipython>=4.0.0 in /usr/local/lib/python3.10/dist-packages (from ipywidgets>=7.5.1->giotto-tda) (7.34.0)\n",
            "Requirement already satisfied: jupyterlab-widgets>=1.0.0 in /usr/local/lib/python3.10/dist-packages (from ipywidgets>=7.5.1->giotto-tda) (3.0.13)\n",
            "Requirement already satisfied: tenacity>=6.2.0 in /usr/local/lib/python3.10/dist-packages (from plotly>=4.8.2->giotto-tda) (9.0.0)\n",
            "Requirement already satisfied: packaging in /usr/local/lib/python3.10/dist-packages (from plotly>=4.8.2->giotto-tda) (24.2)\n",
            "Requirement already satisfied: jupyter-client in /usr/local/lib/python3.10/dist-packages (from ipykernel>=4.5.1->ipywidgets>=7.5.1->giotto-tda) (6.1.12)\n",
            "Requirement already satisfied: tornado>=4.2 in /usr/local/lib/python3.10/dist-packages (from ipykernel>=4.5.1->ipywidgets>=7.5.1->giotto-tda) (6.3.3)\n",
            "Requirement already satisfied: setuptools>=18.5 in /usr/local/lib/python3.10/dist-packages (from ipython>=4.0.0->ipywidgets>=7.5.1->giotto-tda) (75.1.0)\n",
            "Collecting jedi>=0.16 (from ipython>=4.0.0->ipywidgets>=7.5.1->giotto-tda)\n",
            "  Downloading jedi-0.19.2-py2.py3-none-any.whl.metadata (22 kB)\n",
            "Requirement already satisfied: decorator in /usr/local/lib/python3.10/dist-packages (from ipython>=4.0.0->ipywidgets>=7.5.1->giotto-tda) (4.4.2)\n",
            "Requirement already satisfied: pickleshare in /usr/local/lib/python3.10/dist-packages (from ipython>=4.0.0->ipywidgets>=7.5.1->giotto-tda) (0.7.5)\n",
            "Requirement already satisfied: prompt-toolkit!=3.0.0,!=3.0.1,<3.1.0,>=2.0.0 in /usr/local/lib/python3.10/dist-packages (from ipython>=4.0.0->ipywidgets>=7.5.1->giotto-tda) (3.0.48)\n",
            "Requirement already satisfied: pygments in /usr/local/lib/python3.10/dist-packages (from ipython>=4.0.0->ipywidgets>=7.5.1->giotto-tda) (2.18.0)\n",
            "Requirement already satisfied: backcall in /usr/local/lib/python3.10/dist-packages (from ipython>=4.0.0->ipywidgets>=7.5.1->giotto-tda) (0.2.0)\n",
            "Requirement already satisfied: matplotlib-inline in /usr/local/lib/python3.10/dist-packages (from ipython>=4.0.0->ipywidgets>=7.5.1->giotto-tda) (0.1.7)\n",
            "Requirement already satisfied: pexpect>4.3 in /usr/local/lib/python3.10/dist-packages (from ipython>=4.0.0->ipywidgets>=7.5.1->giotto-tda) (4.9.0)\n",
            "Requirement already satisfied: notebook>=4.4.1 in /usr/local/lib/python3.10/dist-packages (from widgetsnbextension~=3.6.0->ipywidgets>=7.5.1->giotto-tda) (6.5.5)\n",
            "Requirement already satisfied: parso<0.9.0,>=0.8.4 in /usr/local/lib/python3.10/dist-packages (from jedi>=0.16->ipython>=4.0.0->ipywidgets>=7.5.1->giotto-tda) (0.8.4)\n",
            "Requirement already satisfied: jinja2 in /usr/local/lib/python3.10/dist-packages (from notebook>=4.4.1->widgetsnbextension~=3.6.0->ipywidgets>=7.5.1->giotto-tda) (3.1.4)\n",
            "Requirement already satisfied: pyzmq<25,>=17 in /usr/local/lib/python3.10/dist-packages (from notebook>=4.4.1->widgetsnbextension~=3.6.0->ipywidgets>=7.5.1->giotto-tda) (24.0.1)\n",
            "Requirement already satisfied: argon2-cffi in /usr/local/lib/python3.10/dist-packages (from notebook>=4.4.1->widgetsnbextension~=3.6.0->ipywidgets>=7.5.1->giotto-tda) (23.1.0)\n",
            "Requirement already satisfied: jupyter-core>=4.6.1 in /usr/local/lib/python3.10/dist-packages (from notebook>=4.4.1->widgetsnbextension~=3.6.0->ipywidgets>=7.5.1->giotto-tda) (5.7.2)\n",
            "Requirement already satisfied: nbformat in /usr/local/lib/python3.10/dist-packages (from notebook>=4.4.1->widgetsnbextension~=3.6.0->ipywidgets>=7.5.1->giotto-tda) (5.10.4)\n",
            "Requirement already satisfied: nbconvert>=5 in /usr/local/lib/python3.10/dist-packages (from notebook>=4.4.1->widgetsnbextension~=3.6.0->ipywidgets>=7.5.1->giotto-tda) (7.16.4)\n",
            "Requirement already satisfied: nest-asyncio>=1.5 in /usr/local/lib/python3.10/dist-packages (from notebook>=4.4.1->widgetsnbextension~=3.6.0->ipywidgets>=7.5.1->giotto-tda) (1.6.0)\n",
            "Requirement already satisfied: Send2Trash>=1.8.0 in /usr/local/lib/python3.10/dist-packages (from notebook>=4.4.1->widgetsnbextension~=3.6.0->ipywidgets>=7.5.1->giotto-tda) (1.8.3)\n",
            "Requirement already satisfied: terminado>=0.8.3 in /usr/local/lib/python3.10/dist-packages (from notebook>=4.4.1->widgetsnbextension~=3.6.0->ipywidgets>=7.5.1->giotto-tda) (0.18.1)\n",
            "Requirement already satisfied: prometheus-client in /usr/local/lib/python3.10/dist-packages (from notebook>=4.4.1->widgetsnbextension~=3.6.0->ipywidgets>=7.5.1->giotto-tda) (0.21.1)\n",
            "Requirement already satisfied: nbclassic>=0.4.7 in /usr/local/lib/python3.10/dist-packages (from notebook>=4.4.1->widgetsnbextension~=3.6.0->ipywidgets>=7.5.1->giotto-tda) (1.1.0)\n",
            "Requirement already satisfied: python-dateutil>=2.1 in /usr/local/lib/python3.10/dist-packages (from jupyter-client->ipykernel>=4.5.1->ipywidgets>=7.5.1->giotto-tda) (2.8.2)\n",
            "Requirement already satisfied: ptyprocess>=0.5 in /usr/local/lib/python3.10/dist-packages (from pexpect>4.3->ipython>=4.0.0->ipywidgets>=7.5.1->giotto-tda) (0.7.0)\n",
            "Requirement already satisfied: wcwidth in /usr/local/lib/python3.10/dist-packages (from prompt-toolkit!=3.0.0,!=3.0.1,<3.1.0,>=2.0.0->ipython>=4.0.0->ipywidgets>=7.5.1->giotto-tda) (0.2.13)\n",
            "Requirement already satisfied: platformdirs>=2.5 in /usr/local/lib/python3.10/dist-packages (from jupyter-core>=4.6.1->notebook>=4.4.1->widgetsnbextension~=3.6.0->ipywidgets>=7.5.1->giotto-tda) (4.3.6)\n",
            "Requirement already satisfied: notebook-shim>=0.2.3 in /usr/local/lib/python3.10/dist-packages (from nbclassic>=0.4.7->notebook>=4.4.1->widgetsnbextension~=3.6.0->ipywidgets>=7.5.1->giotto-tda) (0.2.4)\n",
            "Requirement already satisfied: beautifulsoup4 in /usr/local/lib/python3.10/dist-packages (from nbconvert>=5->notebook>=4.4.1->widgetsnbextension~=3.6.0->ipywidgets>=7.5.1->giotto-tda) (4.12.3)\n",
            "Requirement already satisfied: bleach!=5.0.0 in /usr/local/lib/python3.10/dist-packages (from nbconvert>=5->notebook>=4.4.1->widgetsnbextension~=3.6.0->ipywidgets>=7.5.1->giotto-tda) (6.2.0)\n",
            "Requirement already satisfied: defusedxml in /usr/local/lib/python3.10/dist-packages (from nbconvert>=5->notebook>=4.4.1->widgetsnbextension~=3.6.0->ipywidgets>=7.5.1->giotto-tda) (0.7.1)\n",
            "Requirement already satisfied: jupyterlab-pygments in /usr/local/lib/python3.10/dist-packages (from nbconvert>=5->notebook>=4.4.1->widgetsnbextension~=3.6.0->ipywidgets>=7.5.1->giotto-tda) (0.3.0)\n",
            "Requirement already satisfied: markupsafe>=2.0 in /usr/local/lib/python3.10/dist-packages (from nbconvert>=5->notebook>=4.4.1->widgetsnbextension~=3.6.0->ipywidgets>=7.5.1->giotto-tda) (3.0.2)\n",
            "Requirement already satisfied: mistune<4,>=2.0.3 in /usr/local/lib/python3.10/dist-packages (from nbconvert>=5->notebook>=4.4.1->widgetsnbextension~=3.6.0->ipywidgets>=7.5.1->giotto-tda) (3.0.2)\n",
            "Requirement already satisfied: nbclient>=0.5.0 in /usr/local/lib/python3.10/dist-packages (from nbconvert>=5->notebook>=4.4.1->widgetsnbextension~=3.6.0->ipywidgets>=7.5.1->giotto-tda) (0.10.1)\n",
            "Requirement already satisfied: pandocfilters>=1.4.1 in /usr/local/lib/python3.10/dist-packages (from nbconvert>=5->notebook>=4.4.1->widgetsnbextension~=3.6.0->ipywidgets>=7.5.1->giotto-tda) (1.5.1)\n",
            "Requirement already satisfied: tinycss2 in /usr/local/lib/python3.10/dist-packages (from nbconvert>=5->notebook>=4.4.1->widgetsnbextension~=3.6.0->ipywidgets>=7.5.1->giotto-tda) (1.4.0)\n",
            "Requirement already satisfied: fastjsonschema>=2.15 in /usr/local/lib/python3.10/dist-packages (from nbformat->notebook>=4.4.1->widgetsnbextension~=3.6.0->ipywidgets>=7.5.1->giotto-tda) (2.21.1)\n",
            "Requirement already satisfied: jsonschema>=2.6 in /usr/local/lib/python3.10/dist-packages (from nbformat->notebook>=4.4.1->widgetsnbextension~=3.6.0->ipywidgets>=7.5.1->giotto-tda) (4.23.0)\n",
            "Requirement already satisfied: six>=1.5 in /usr/local/lib/python3.10/dist-packages (from python-dateutil>=2.1->jupyter-client->ipykernel>=4.5.1->ipywidgets>=7.5.1->giotto-tda) (1.17.0)\n",
            "Requirement already satisfied: argon2-cffi-bindings in /usr/local/lib/python3.10/dist-packages (from argon2-cffi->notebook>=4.4.1->widgetsnbextension~=3.6.0->ipywidgets>=7.5.1->giotto-tda) (21.2.0)\n",
            "Requirement already satisfied: webencodings in /usr/local/lib/python3.10/dist-packages (from bleach!=5.0.0->nbconvert>=5->notebook>=4.4.1->widgetsnbextension~=3.6.0->ipywidgets>=7.5.1->giotto-tda) (0.5.1)\n",
            "Requirement already satisfied: attrs>=22.2.0 in /usr/local/lib/python3.10/dist-packages (from jsonschema>=2.6->nbformat->notebook>=4.4.1->widgetsnbextension~=3.6.0->ipywidgets>=7.5.1->giotto-tda) (24.3.0)\n",
            "Requirement already satisfied: jsonschema-specifications>=2023.03.6 in /usr/local/lib/python3.10/dist-packages (from jsonschema>=2.6->nbformat->notebook>=4.4.1->widgetsnbextension~=3.6.0->ipywidgets>=7.5.1->giotto-tda) (2024.10.1)\n",
            "Requirement already satisfied: referencing>=0.28.4 in /usr/local/lib/python3.10/dist-packages (from jsonschema>=2.6->nbformat->notebook>=4.4.1->widgetsnbextension~=3.6.0->ipywidgets>=7.5.1->giotto-tda) (0.35.1)\n",
            "Requirement already satisfied: rpds-py>=0.7.1 in /usr/local/lib/python3.10/dist-packages (from jsonschema>=2.6->nbformat->notebook>=4.4.1->widgetsnbextension~=3.6.0->ipywidgets>=7.5.1->giotto-tda) (0.22.3)\n",
            "Requirement already satisfied: jupyter-server<3,>=1.8 in /usr/local/lib/python3.10/dist-packages (from notebook-shim>=0.2.3->nbclassic>=0.4.7->notebook>=4.4.1->widgetsnbextension~=3.6.0->ipywidgets>=7.5.1->giotto-tda) (1.24.0)\n",
            "Requirement already satisfied: cffi>=1.0.1 in /usr/local/lib/python3.10/dist-packages (from argon2-cffi-bindings->argon2-cffi->notebook>=4.4.1->widgetsnbextension~=3.6.0->ipywidgets>=7.5.1->giotto-tda) (1.17.1)\n",
            "Requirement already satisfied: soupsieve>1.2 in /usr/local/lib/python3.10/dist-packages (from beautifulsoup4->nbconvert>=5->notebook>=4.4.1->widgetsnbextension~=3.6.0->ipywidgets>=7.5.1->giotto-tda) (2.6)\n",
            "Requirement already satisfied: pycparser in /usr/local/lib/python3.10/dist-packages (from cffi>=1.0.1->argon2-cffi-bindings->argon2-cffi->notebook>=4.4.1->widgetsnbextension~=3.6.0->ipywidgets>=7.5.1->giotto-tda) (2.22)\n",
            "Requirement already satisfied: anyio<4,>=3.1.0 in /usr/local/lib/python3.10/dist-packages (from jupyter-server<3,>=1.8->notebook-shim>=0.2.3->nbclassic>=0.4.7->notebook>=4.4.1->widgetsnbextension~=3.6.0->ipywidgets>=7.5.1->giotto-tda) (3.7.1)\n",
            "Requirement already satisfied: websocket-client in /usr/local/lib/python3.10/dist-packages (from jupyter-server<3,>=1.8->notebook-shim>=0.2.3->nbclassic>=0.4.7->notebook>=4.4.1->widgetsnbextension~=3.6.0->ipywidgets>=7.5.1->giotto-tda) (1.8.0)\n",
            "Requirement already satisfied: idna>=2.8 in /usr/local/lib/python3.10/dist-packages (from anyio<4,>=3.1.0->jupyter-server<3,>=1.8->notebook-shim>=0.2.3->nbclassic>=0.4.7->notebook>=4.4.1->widgetsnbextension~=3.6.0->ipywidgets>=7.5.1->giotto-tda) (3.10)\n",
            "Requirement already satisfied: sniffio>=1.1 in /usr/local/lib/python3.10/dist-packages (from anyio<4,>=3.1.0->jupyter-server<3,>=1.8->notebook-shim>=0.2.3->nbclassic>=0.4.7->notebook>=4.4.1->widgetsnbextension~=3.6.0->ipywidgets>=7.5.1->giotto-tda) (1.3.1)\n",
            "Requirement already satisfied: exceptiongroup in /usr/local/lib/python3.10/dist-packages (from anyio<4,>=3.1.0->jupyter-server<3,>=1.8->notebook-shim>=0.2.3->nbclassic>=0.4.7->notebook>=4.4.1->widgetsnbextension~=3.6.0->ipywidgets>=7.5.1->giotto-tda) (1.2.2)\n",
            "Downloading giotto_tda-0.6.2-cp310-cp310-manylinux_2_17_x86_64.manylinux2014_x86_64.whl (1.4 MB)\n",
            "\u001b[2K   \u001b[90m━━━━━━━━━━━━━━━━━━━━━━━━━━━━━━━━━━━━━━━━\u001b[0m \u001b[32m1.4/1.4 MB\u001b[0m \u001b[31m25.4 MB/s\u001b[0m eta \u001b[36m0:00:00\u001b[0m\n",
            "\u001b[?25hDownloading scikit_learn-1.3.2-cp310-cp310-manylinux_2_17_x86_64.manylinux2014_x86_64.whl (10.8 MB)\n",
            "\u001b[2K   \u001b[90m━━━━━━━━━━━━━━━━━━━━━━━━━━━━━━━━━━━━━━━━\u001b[0m \u001b[32m10.8/10.8 MB\u001b[0m \u001b[31m83.9 MB/s\u001b[0m eta \u001b[36m0:00:00\u001b[0m\n",
            "\u001b[?25hDownloading giotto_ph-0.2.4-cp310-cp310-manylinux_2_17_x86_64.manylinux2014_x86_64.whl (554 kB)\n",
            "\u001b[2K   \u001b[90m━━━━━━━━━━━━━━━━━━━━━━━━━━━━━━━━━━━━━━━━\u001b[0m \u001b[32m554.6/554.6 kB\u001b[0m \u001b[31m36.7 MB/s\u001b[0m eta \u001b[36m0:00:00\u001b[0m\n",
            "\u001b[?25hDownloading igraph-0.11.8-cp39-abi3-manylinux_2_17_x86_64.manylinux2014_x86_64.whl (3.1 MB)\n",
            "\u001b[2K   \u001b[90m━━━━━━━━━━━━━━━━━━━━━━━━━━━━━━━━━━━━━━━━\u001b[0m \u001b[32m3.1/3.1 MB\u001b[0m \u001b[31m68.4 MB/s\u001b[0m eta \u001b[36m0:00:00\u001b[0m\n",
            "\u001b[?25hDownloading pyflagser-0.4.7-cp310-cp310-manylinux_2_17_x86_64.manylinux2014_x86_64.whl (455 kB)\n",
            "\u001b[2K   \u001b[90m━━━━━━━━━━━━━━━━━━━━━━━━━━━━━━━━━━━━━━━━\u001b[0m \u001b[32m455.8/455.8 kB\u001b[0m \u001b[31m33.1 MB/s\u001b[0m eta \u001b[36m0:00:00\u001b[0m\n",
            "\u001b[?25hDownloading texttable-1.7.0-py2.py3-none-any.whl (10 kB)\n",
            "Downloading jedi-0.19.2-py2.py3-none-any.whl (1.6 MB)\n",
            "\u001b[2K   \u001b[90m━━━━━━━━━━━━━━━━━━━━━━━━━━━━━━━━━━━━━━━━\u001b[0m \u001b[32m1.6/1.6 MB\u001b[0m \u001b[31m66.0 MB/s\u001b[0m eta \u001b[36m0:00:00\u001b[0m\n",
            "\u001b[?25hInstalling collected packages: texttable, jedi, igraph, scikit-learn, pyflagser, giotto-ph, giotto-tda\n",
            "  Attempting uninstall: scikit-learn\n",
            "    Found existing installation: scikit-learn 1.6.0\n",
            "    Uninstalling scikit-learn-1.6.0:\n",
            "      Successfully uninstalled scikit-learn-1.6.0\n",
            "Successfully installed giotto-ph-0.2.4 giotto-tda-0.6.2 igraph-0.11.8 jedi-0.19.2 pyflagser-0.4.7 scikit-learn-1.3.2 texttable-1.7.0\n"
          ]
        },
        {
          "output_type": "display_data",
          "data": {
            "application/vnd.colab-display-data+json": {
              "pip_warning": {
                "packages": [
                  "sklearn"
                ]
              },
              "id": "73c936213df74a7c911f0aa5645cc84c"
            }
          },
          "metadata": {}
        }
      ]
    },
    {
      "cell_type": "code",
      "source": [
        "import pandas as pd\n",
        "from sklearn.model_selection import train_test_split\n",
        "from sklearn.ensemble import RandomForestClassifier\n",
        "from sklearn.metrics import classification_report, accuracy_score\n",
        "from gtda.homology import VietorisRipsPersistence\n",
        "from gtda.diagrams import PersistenceEntropy"
      ],
      "metadata": {
        "id": "Hnam5Dfz05wr"
      },
      "execution_count": null,
      "outputs": []
    },
    {
      "cell_type": "code",
      "source": [
        "# Étape 1 : Charger les données\n",
        "url = \"https://remivaucher.github.io/files/1_raw_data_13-12_22.03.16.txt\"\n",
        "data = pd.read_csv(url, sep=\"\\t\")\n",
        "\n",
        "# Inspecter les premières lignes\n",
        "print(data.head())\n",
        "\n",
        "# Étape 2 : Séparer les caractéristiques (X) et les labels (y)\n",
        "# Supposez que 'label' est la colonne cible (à adapter en fonction de vos données)\n",
        "X = data.drop(columns=['class'])  # Remplacez 'label' par le nom réel de la colonne cible\n",
        "y = data['class']\n",
        "\n",
        "# Diviser les données en ensembles d'entraînement et de test\n",
        "X_train, X_test, y_train, y_test = train_test_split(X, y, test_size=0.3, random_state=42)"
      ],
      "metadata": {
        "colab": {
          "base_uri": "https://localhost:8080/"
        },
        "id": "1upiyeXn1BCj",
        "outputId": "39700f42-8967-4cd6-caaf-1e46cbf14db5"
      },
      "execution_count": null,
      "outputs": [
        {
          "output_type": "stream",
          "name": "stdout",
          "text": [
            "   time  channel1  channel2  channel3  channel4  channel5  channel6  channel7  \\\n",
            "0     1   0.00001  -0.00002  -0.00001  -0.00003   0.00000  -0.00001   0.00000   \n",
            "1     5   0.00001  -0.00002  -0.00001  -0.00003   0.00000  -0.00001   0.00000   \n",
            "2     6  -0.00001   0.00001   0.00002   0.00000   0.00001  -0.00002  -0.00001   \n",
            "3     7  -0.00001   0.00001   0.00002   0.00000   0.00001  -0.00002  -0.00001   \n",
            "4     8  -0.00001   0.00001   0.00002   0.00000   0.00001  -0.00002  -0.00001   \n",
            "\n",
            "   channel8  class  \n",
            "0  -0.00001      0  \n",
            "1  -0.00001      0  \n",
            "2   0.00001      0  \n",
            "3   0.00001      0  \n",
            "4   0.00001      0  \n"
          ]
        }
      ]
    },
    {
      "cell_type": "code",
      "source": [
        "from gtda.homology import VietorisRipsPersistence\n",
        "from gtda.diagrams import PersistenceEntropy\n",
        "import numpy as np\n",
        "\n",
        "# Reshape les données pour qu'elles soient dans le format attendu\n",
        "X_train_reshaped = X_train.values.reshape((X_train.shape[0], X_train.shape[1], 1))\n",
        "X_test_reshaped = X_test.values.reshape((X_test.shape[0], X_test.shape[1], 1))\n",
        "\n",
        "# Étape 3 : Extraction des caractéristiques topologiques\n",
        "# Appliquer Vietoris-Rips Persistence\n",
        "tda = VietorisRipsPersistence(metric='euclidean', homology_dimensions=(0, 1, 2))\n",
        "X_train_tda = tda.fit_transform(X_train_reshaped)\n",
        "X_test_tda = tda.transform(X_test_reshaped)\n",
        "\n",
        "# Calcul de l'entropie de persistance pour réduire la dimensionnalité\n",
        "pe = PersistenceEntropy()\n",
        "X_train_features = pe.fit_transform(X_train_tda)\n",
        "X_test_features = pe.transform(X_test_tda)\n"
      ],
      "metadata": {
        "id": "bSQ62BRe23ND"
      },
      "execution_count": null,
      "outputs": []
    },
    {
      "cell_type": "code",
      "source": [
        "# Étape 4 : Entraîner un modèle de classification\n",
        "clf = RandomForestClassifier(random_state=42)\n",
        "clf.fit(X_train_features, y_train)\n",
        "\n",
        "# Prédictions\n",
        "y_pred = clf.predict(X_test_features)\n",
        "\n",
        "# Étape 5 : Évaluation du modèle\n",
        "print(\"Accuracy:\", accuracy_score(y_test, y_pred))\n",
        "print(\"Classification Report:\\n\", classification_report(y_test, y_pred))"
      ],
      "metadata": {
        "id": "EnUQl3pdBp1M",
        "outputId": "829a9ed8-4344-458b-9027-5143e14871bd",
        "colab": {
          "base_uri": "https://localhost:8080/"
        }
      },
      "execution_count": null,
      "outputs": [
        {
          "output_type": "stream",
          "name": "stdout",
          "text": [
            "Accuracy: 0.64903212194736\n",
            "Classification Report:\n",
            "               precision    recall  f1-score   support\n",
            "\n",
            "           0       0.65      1.00      0.79     12305\n",
            "           1       0.00      0.00      0.00      1160\n",
            "           2       0.00      0.00      0.00      1061\n",
            "           3       0.00      0.00      0.00      1159\n",
            "           4       0.00      0.00      0.00      1039\n",
            "           5       0.00      0.00      0.00      1086\n",
            "           6       0.00      0.00      0.00      1149\n",
            "\n",
            "    accuracy                           0.65     18959\n",
            "   macro avg       0.09      0.14      0.11     18959\n",
            "weighted avg       0.42      0.65      0.51     18959\n",
            "\n"
          ]
        },
        {
          "output_type": "stream",
          "name": "stderr",
          "text": [
            "/usr/local/lib/python3.10/dist-packages/sklearn/metrics/_classification.py:1471: UndefinedMetricWarning: Precision and F-score are ill-defined and being set to 0.0 in labels with no predicted samples. Use `zero_division` parameter to control this behavior.\n",
            "  _warn_prf(average, modifier, msg_start, len(result))\n",
            "/usr/local/lib/python3.10/dist-packages/sklearn/metrics/_classification.py:1471: UndefinedMetricWarning: Precision and F-score are ill-defined and being set to 0.0 in labels with no predicted samples. Use `zero_division` parameter to control this behavior.\n",
            "  _warn_prf(average, modifier, msg_start, len(result))\n",
            "/usr/local/lib/python3.10/dist-packages/sklearn/metrics/_classification.py:1471: UndefinedMetricWarning: Precision and F-score are ill-defined and being set to 0.0 in labels with no predicted samples. Use `zero_division` parameter to control this behavior.\n",
            "  _warn_prf(average, modifier, msg_start, len(result))\n"
          ]
        }
      ]
    },
    {
      "cell_type": "code",
      "source": [
        "from gtda.homology import VietorisRipsPersistence\n",
        "from gtda.diagrams import PersistenceEntropy\n",
        "from sklearn.ensemble import RandomForestClassifier\n",
        "from sklearn.metrics import classification_report, accuracy_score\n",
        "import pandas as pd\n",
        "\n",
        "# Charger les données\n",
        "url = \"https://remivaucher.github.io/files/1_raw_data_13-12_22.03.16.txt\"\n",
        "data = pd.read_csv(url, sep=\"\\t\")\n",
        "\n",
        "# Étape 1 : Identifier les changements de labels et créer les sous-séries\n",
        "changes = data['class'].diff().ne(0)  # Identifier les changements de labels\n",
        "change_indices = changes[changes].index.tolist()\n",
        "\n",
        "if 0 not in change_indices:\n",
        "    change_indices.insert(0, 0)\n",
        "change_indices.append(len(data))\n",
        "\n",
        "sub_series = [data.iloc[change_indices[i]:change_indices[i + 1]] for i in range(len(change_indices) - 1)]\n",
        "\n",
        "# Étape 2 : Extraire les caractéristiques TDA pour chaque sous-série\n",
        "tda = VietorisRipsPersistence(metric='euclidean', homology_dimensions=(0, 1))\n",
        "pe = PersistenceEntropy()\n",
        "\n",
        "features = []\n",
        "labels = []\n",
        "\n",
        "for series in sub_series:\n",
        "    # Retirer la colonne de classe pour ne garder que les caractéristiques\n",
        "    X = series.drop(columns=['class']).values\n",
        "    # Reshape pour s'assurer que les données sont compatibles avec la TDA\n",
        "    X_reshaped = X.reshape((1, X.shape[0], X.shape[1]))\n",
        "    # Calculer les diagrammes de persistance\n",
        "    persistence = tda.fit_transform(X_reshaped)\n",
        "    # Calculer l'entropie de persistance\n",
        "    feature_vector = pe.fit_transform(persistence)\n",
        "    features.append(feature_vector[0])  # Ajouter les caractéristiques extraites\n",
        "    labels.append(series['class'].iloc[0])  # Le label est le même pour toute la sous-série\n",
        "\n",
        "# Étape 3 : Entraîner un modèle de classification\n",
        "from sklearn.model_selection import train_test_split\n",
        "\n",
        "X_train, X_test, y_train, y_test = train_test_split(features, labels, test_size=0.3, random_state=42)\n",
        "\n",
        "clf = RandomForestClassifier(random_state=42)\n",
        "clf.fit(X_train, y_train)\n",
        "\n",
        "# Prédictions\n",
        "y_pred = clf.predict(X_test)\n",
        "\n",
        "# Évaluation\n",
        "print(\"Accuracy:\", accuracy_score(y_test, y_pred))\n",
        "print(\"Classification Report:\\n\", classification_report(y_test, y_pred))\n"
      ],
      "metadata": {
        "id": "HEfSfOKu6NyL"
      },
      "execution_count": null,
      "outputs": []
    },
    {
      "cell_type": "markdown",
      "source": [
        "Je n'arrive pas à expliquer le diagramme de persistence"
      ],
      "metadata": {
        "id": "kBuG_qdahoak"
      }
    }
  ]
}
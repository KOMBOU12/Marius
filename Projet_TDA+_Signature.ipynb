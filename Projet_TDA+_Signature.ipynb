{
  "nbformat": 4,
  "nbformat_minor": 0,
  "metadata": {
    "colab": {
      "provenance": [],
      "authorship_tag": "ABX9TyNhJETUzipw43GIpWwexMLb",
      "include_colab_link": true
    },
    "kernelspec": {
      "name": "python3",
      "display_name": "Python 3"
    },
    "language_info": {
      "name": "python"
    }
  },
  "cells": [
    {
      "cell_type": "markdown",
      "metadata": {
        "id": "view-in-github",
        "colab_type": "text"
      },
      "source": [
        "<a href=\"https://colab.research.google.com/github/KOMBOU12/Marius/blob/main/Projet_TDA%2B_Signature.ipynb\" target=\"_parent\"><img src=\"https://colab.research.google.com/assets/colab-badge.svg\" alt=\"Open In Colab\"/></a>"
      ]
    },
    {
      "cell_type": "markdown",
      "source": [
        "# **Projet TDA + Signature**\n",
        "L’objectif de ce projet est d’appliquer les méthodes de TDA sur des données temporelles.\n",
        "\n",
        "\n"
      ],
      "metadata": {
        "id": "bZGOfwQnN_q6"
      }
    },
    {
      "cell_type": "markdown",
      "source": [
        "**1- Description des données**"
      ],
      "metadata": {
        "id": "7Fwmb3NYOl2T"
      }
    },
    {
      "cell_type": "code",
      "execution_count": 1,
      "metadata": {
        "colab": {
          "base_uri": "https://localhost:8080/"
        },
        "id": "CLmx2g5INyDc",
        "outputId": "78659ee0-6013-470a-9e6b-447e60e8a4e4"
      },
      "outputs": [
        {
          "output_type": "stream",
          "name": "stdout",
          "text": [
            "   time  channel1  channel2  channel3  channel4  channel5  channel6  channel7  \\\n",
            "0     1   0.00001  -0.00002  -0.00001  -0.00003   0.00000  -0.00001   0.00000   \n",
            "1     5   0.00001  -0.00002  -0.00001  -0.00003   0.00000  -0.00001   0.00000   \n",
            "2     6  -0.00001   0.00001   0.00002   0.00000   0.00001  -0.00002  -0.00001   \n",
            "3     7  -0.00001   0.00001   0.00002   0.00000   0.00001  -0.00002  -0.00001   \n",
            "4     8  -0.00001   0.00001   0.00002   0.00000   0.00001  -0.00002  -0.00001   \n",
            "\n",
            "   channel8  class  \n",
            "0  -0.00001      0  \n",
            "1  -0.00001      0  \n",
            "2   0.00001      0  \n",
            "3   0.00001      0  \n",
            "4   0.00001      0  \n"
          ]
        }
      ],
      "source": [
        "import pandas as pd\n",
        "\n",
        "# URL du fichier de données\n",
        "url = \"https://remivaucher.github.io/files/1_raw_data_13-12_22.03.16.txt\"\n",
        "\n",
        "# Charger les données dans un DataFrame\n",
        "data = pd.read_csv(url, sep=\"\\t\")\n",
        "\n",
        "# Afficher les premières lignes du DataFrame pour vérifier\n",
        "print(data.head())\n"
      ]
    },
    {
      "cell_type": "code",
      "source": [],
      "metadata": {
        "id": "vjyd4vyyPMht"
      },
      "execution_count": null,
      "outputs": []
    }
  ]
}
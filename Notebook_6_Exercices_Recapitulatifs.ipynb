{
  "cells": [
    {
      "cell_type": "markdown",
      "metadata": {
        "id": "view-in-github",
        "colab_type": "text"
      },
      "source": [
        "<a href=\"https://colab.research.google.com/github/KOMBOU12/Marius/blob/main/Notebook_6_Exercices_Recapitulatifs.ipynb\" target=\"_parent\"><img src=\"https://colab.research.google.com/assets/colab-badge.svg\" alt=\"Open In Colab\"/></a>"
      ]
    },
    {
      "cell_type": "markdown",
      "id": "ebb889b9",
      "metadata": {
        "id": "ebb889b9"
      },
      "source": [
        "## Exercice 1\n",
        "\n",
        "\n",
        "# Exercice 1 : Conversion de devises\n",
        "Écrivez un programme qui convertit un montant en euros vers une autre devise (dollars, yen ou livres).\n",
        "Demandez à l'utilisateur de saisir le montant en euros et la devise cible.\n",
        "Affichez le résultat avec la conversion correspondante.\n",
        "\n",
        "Taux de conversion :\n",
        "- 1 EUR = 1.1 USD\n",
        "- 1 EUR = 130 JPY\n",
        "- 1 EUR = 0.9 GBP\n",
        "\n",
        "**Exemple attendu** : pour 100 EUR vers USD, affichez \"100 EUR = 110 USD\"\n"
      ]
    },
    {
      "cell_type": "code",
      "source": [
        "euros = input('Veuillez saisir le montant en euros : ')\n",
        "euros = int(euros)\n",
        "\n",
        "devise = input('Quelle est la devise cible, USD, JPY, ou GBP : ')\n",
        "\n",
        "if devise == 'USD' :\n",
        "  print(f'vos {euros} euros valent {euros * 1.1} dollards')\n",
        "elif devise == 'JPY':\n",
        "  print(f'vos {euros} euros valent {euros *130} JPY')\n",
        "else :\n",
        "  print(f'vos {euros} euros valent {euros *0.9} GPB')\n",
        "\n",
        "\n"
      ],
      "metadata": {
        "colab": {
          "base_uri": "https://localhost:8080/"
        },
        "id": "z8MuoE0Ys2Wu",
        "outputId": "c1178f30-5680-4b2d-bd72-6ff5a3bccd9e"
      },
      "id": "z8MuoE0Ys2Wu",
      "execution_count": 22,
      "outputs": [
        {
          "output_type": "stream",
          "name": "stdout",
          "text": [
            "Veuillez saisir le montant en euros : 50\n",
            "Quelle est la devise cible, USD, JPY, ou GBP : USD\n",
            "vos 50 euros valent 55.00000000000001 dollards\n"
          ]
        }
      ]
    },
    {
      "cell_type": "markdown",
      "id": "783be864",
      "metadata": {
        "id": "783be864"
      },
      "source": [
        "## Exercice 2\n",
        "\n",
        "\n",
        "# Exercice 2 : Vérification de la parité\n",
        "Demandez à l'utilisateur d'entrer un nombre entier, puis affichez s'il est pair ou impair.\n",
        "\n",
        "**Exemple attendu** : pour le nombre 7, affichez \"Le nombre 7 est impair\"\n"
      ]
    },
    {
      "cell_type": "code",
      "source": [
        "nombre = input(\"Entrer un nombre : \")\n",
        "nombre = int(nombre)\n",
        "if nombre % 2 == 0 :\n",
        "  print(f'{nombre} est pair')\n",
        "else :\n",
        "  print(f'{nombre} est impair')"
      ],
      "metadata": {
        "colab": {
          "base_uri": "https://localhost:8080/"
        },
        "id": "J4F3X-zNtaAo",
        "outputId": "7d4a0681-90f8-4121-c66f-04baf1ee3411"
      },
      "id": "J4F3X-zNtaAo",
      "execution_count": 7,
      "outputs": [
        {
          "output_type": "stream",
          "name": "stdout",
          "text": [
            "Entrer un nombre : 4\n",
            "4 est pair\n"
          ]
        }
      ]
    },
    {
      "cell_type": "markdown",
      "id": "ec325676",
      "metadata": {
        "id": "ec325676"
      },
      "source": [
        "## Exercice 3\n",
        "\n",
        "\n",
        "# Exercice 3 : Somme des entiers\n",
        "Écrivez un programme qui calcule la somme des entiers de 1 à un nombre donné `n`, saisi par l'utilisateur.\n",
        "\n",
        "**Exemple attendu** : pour n=5, affichez \"La somme des entiers de 1 à 5 est 15\"\n"
      ]
    },
    {
      "cell_type": "code",
      "source": [
        "n = input(\"Entrer un entier : \")\n",
        "n = int(n)\n",
        "m = n\n",
        "sum = 0\n",
        "while  n > 0 :\n",
        "  sum = sum + n\n",
        "  n = n-1\n",
        "\n",
        "print(f'la somme des entiers de 1 à {m} est {sum}')"
      ],
      "metadata": {
        "colab": {
          "base_uri": "https://localhost:8080/"
        },
        "id": "kfTMVtPgyDNh",
        "outputId": "640089d9-2acd-4c94-95ce-7b00d796bf27"
      },
      "id": "kfTMVtPgyDNh",
      "execution_count": 9,
      "outputs": [
        {
          "output_type": "stream",
          "name": "stdout",
          "text": [
            "Entrer un entier : 4\n",
            "la somme des entiers de 1 à 4 est 10\n"
          ]
        }
      ]
    },
    {
      "cell_type": "markdown",
      "id": "e57938a3",
      "metadata": {
        "id": "e57938a3"
      },
      "source": [
        "## Exercice 4\n",
        "\n",
        "\n",
        "# Exercice 4 : Compter les voyelles\n",
        "Demandez à l'utilisateur de saisir une phrase et affichez le nombre de voyelles (a, e, i, o, u) présentes dans la phrase.\n",
        "\n",
        "**Exemple attendu** : pour \"Bonjour tout le monde\", affichez \"Nombre de voyelles : 8\"\n"
      ]
    },
    {
      "cell_type": "code",
      "source": [
        "phrase = input('Entrer une phrase : ')\n",
        "\n",
        "increment = 0\n",
        "\n",
        "for i in range(len(phrase)) :\n",
        "  if phrase[i] in ('a', 'e', 'i', 'o', 'u') :\n",
        "    increment = increment + 1\n",
        "\n",
        "print(f'Le nombre de voyelles est {increment}')\n",
        "\n",
        ""
      ],
      "metadata": {
        "colab": {
          "base_uri": "https://localhost:8080/"
        },
        "id": "y2B08s7U0boW",
        "outputId": "04ae9273-c47f-4662-fc3e-b6b9fe140055"
      },
      "id": "y2B08s7U0boW",
      "execution_count": 12,
      "outputs": [
        {
          "output_type": "stream",
          "name": "stdout",
          "text": [
            "Entrer une phrase : bonjour\n",
            "Le nombre de voyelles est 3\n"
          ]
        }
      ]
    },
    {
      "cell_type": "markdown",
      "id": "84e61df3",
      "metadata": {
        "id": "84e61df3"
      },
      "source": [
        "## Exercice 5\n",
        "\n",
        "\n",
        "# Exercice 5 : Inverser une liste\n",
        "Créez un programme qui prend une liste de nombres en entrée et affiche cette liste inversée.\n",
        "\n",
        "**Exemple attendu** : pour la liste [1, 2, 3, 4, 5], affichez \"[5, 4, 3, 2, 1]\"\n"
      ]
    },
    {
      "cell_type": "code",
      "source": [
        "liste = [1, 2, 4, 3, 10]\n",
        "inverse = []\n",
        "l = len(liste) - 1\n",
        "\n",
        "for i in range(-1, l):\n",
        "  inverse.append(liste[l])\n",
        "  l = l - 1\n",
        "\n",
        "print(inverse)\n",
        "\n",
        "\n",
        "\n"
      ],
      "metadata": {
        "colab": {
          "base_uri": "https://localhost:8080/"
        },
        "id": "J4eYmeng9koU",
        "outputId": "9989c270-8ae1-428f-dafe-b28357ab86e9"
      },
      "id": "J4eYmeng9koU",
      "execution_count": 19,
      "outputs": [
        {
          "output_type": "stream",
          "name": "stdout",
          "text": [
            "[10, 3, 4, 2, 1]\n"
          ]
        }
      ]
    },
    {
      "cell_type": "markdown",
      "id": "fda25342",
      "metadata": {
        "id": "fda25342"
      },
      "source": [
        "## Exercice 6\n",
        "\n",
        "\n",
        "# Exercice 6 : Calcul de la moyenne des notes\n",
        "Demandez à l'utilisateur de saisir des notes séparées par des espaces. Calculez la moyenne de ces notes et affichez-la.\n",
        "\n",
        "**Exemple attendu** : pour \"15 12 18 20\", affichez \"La moyenne est 16.25\"\n"
      ]
    },
    {
      "cell_type": "markdown",
      "id": "5fa2adee",
      "metadata": {
        "id": "5fa2adee"
      },
      "source": [
        "## Exercice 7\n",
        "\n",
        "\n",
        "# Exercice 7 : Compter les mots d'une phrase\n",
        "Demandez à l'utilisateur de saisir une phrase. Comptez et affichez le nombre de mots dans cette phrase.\n",
        "\n",
        "**Exemple attendu** : pour \"Je suis en train d'apprendre Python\", affichez \"Nombre de mots : 5\"\n"
      ]
    },
    {
      "cell_type": "markdown",
      "id": "b308e6a3",
      "metadata": {
        "id": "b308e6a3"
      },
      "source": [
        "## Exercice 8\n",
        "\n",
        "\n",
        "# Exercice 8 : Filtrer les nombres pairs\n",
        "Créez un programme qui génère une liste de nombres de 1 à 20, puis affiche seulement les nombres pairs.\n",
        "\n",
        "**Exemple attendu** : pour la liste générée [1, 2, 3, ..., 20], affichez \"[2, 4, 6, 8, 10, 12, 14, 16, 18, 20]\"\n"
      ]
    },
    {
      "cell_type": "markdown",
      "id": "947516c1",
      "metadata": {
        "id": "947516c1"
      },
      "source": [
        "## Exercice 9\n",
        "\n",
        "\n",
        "# Exercice 9 : Trouver le maximum d'une liste\n",
        "Demandez à l'utilisateur de saisir une liste de nombres séparés par des espaces. Identifiez et affichez le nombre maximum.\n",
        "\n",
        "**Exemple attendu** : pour \"5 12 7 3 9\", affichez \"Le nombre maximum est 12\"\n"
      ]
    },
    {
      "cell_type": "markdown",
      "id": "f379a91e",
      "metadata": {
        "id": "f379a91e"
      },
      "source": [
        "## Exercice 10\n",
        "\n",
        "\n",
        "# Exercice 10 : Tri des prénoms\n",
        "Demandez à l'utilisateur de saisir plusieurs prénoms séparés par des virgules. Affichez les prénoms triés par ordre alphabétique.\n",
        "\n",
        "**Exemple attendu** : pour \"Paul, Alice, Sophie, Bob\", affichez \"Alice, Bob, Paul, Sophie\"\n"
      ]
    }
  ],
  "metadata": {
    "kernelspec": {
      "display_name": "Python 3 (ipykernel)",
      "language": "python",
      "name": "python3"
    },
    "language_info": {
      "codemirror_mode": {
        "name": "ipython",
        "version": 3
      },
      "file_extension": ".py",
      "mimetype": "text/x-python",
      "name": "python",
      "nbconvert_exporter": "python",
      "pygments_lexer": "ipython3",
      "version": "3.12.7"
    },
    "colab": {
      "provenance": [],
      "include_colab_link": true
    }
  },
  "nbformat": 4,
  "nbformat_minor": 5
}
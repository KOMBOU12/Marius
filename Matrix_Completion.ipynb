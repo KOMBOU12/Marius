{
  "nbformat": 4,
  "nbformat_minor": 0,
  "metadata": {
    "colab": {
      "provenance": [],
      "include_colab_link": true
    },
    "kernelspec": {
      "name": "python3",
      "display_name": "Python 3"
    },
    "language_info": {
      "name": "python"
    }
  },
  "cells": [
    {
      "cell_type": "markdown",
      "metadata": {
        "id": "view-in-github",
        "colab_type": "text"
      },
      "source": [
        "<a href=\"https://colab.research.google.com/github/KOMBOU12/Marius/blob/main/Matrix_Completion.ipynb\" target=\"_parent\"><img src=\"https://colab.research.google.com/assets/colab-badge.svg\" alt=\"Open In Colab\"/></a>"
      ]
    },
    {
      "cell_type": "code",
      "execution_count": 1,
      "metadata": {
        "colab": {
          "base_uri": "https://localhost:8080/"
        },
        "id": "BzyKXElE71zE",
        "outputId": "513a24ef-768c-410e-c6f7-84c2c37d9a25"
      },
      "outputs": [
        {
          "output_type": "stream",
          "name": "stdout",
          "text": [
            "Collecting matrix-completion\n",
            "  Downloading matrix_completion-0.0.2-py3-none-any.whl.metadata (2.6 kB)\n",
            "Downloading matrix_completion-0.0.2-py3-none-any.whl (12 kB)\n",
            "Installing collected packages: matrix-completion\n",
            "Successfully installed matrix-completion-0.0.2\n"
          ]
        }
      ],
      "source": [
        "pip install matrix-completion"
      ]
    },
    {
      "cell_type": "code",
      "source": [
        "import numpy as np\n",
        "from matrix_completion import svt_solve, calc_unobserved_rmse\n",
        "\n",
        "U = np.random.randn(20, 5)\n",
        "V = np.random.randn(15, 5)\n",
        "R = np.random.randn(20, 15) + np.dot(U, V.T)\n",
        "\n",
        "mask = np.round(np.random.rand(20, 15))\n",
        "R_hat = svt_solve(R, mask)\n",
        "\n",
        "print(\"RMSE:\", calc_unobserved_rmse(U, V, R_hat, mask))"
      ],
      "metadata": {
        "colab": {
          "base_uri": "https://localhost:8080/"
        },
        "id": "KgDMzXBJ78lV",
        "outputId": "7ff8e733-4798-410f-fd5f-c9d71a9157c3"
      },
      "execution_count": 2,
      "outputs": [
        {
          "output_type": "stream",
          "name": "stdout",
          "text": [
            "RMSE: 2.3708963533613394\n"
          ]
        }
      ]
    },
    {
      "cell_type": "markdown",
      "source": [
        "Le code génère une matrice de rang faible R avec des valeurs manquantes, utilise l'algorithme SVT pour imputer les valeurs manquantes, et évalue la qualité de l'imputation en calculant la RMSE sur les valeurs non observées."
      ],
      "metadata": {
        "id": "BNqUyKMKz8uw"
      }
    },
    {
      "cell_type": "code",
      "source": [
        "import numpy as np\n",
        "from matrix_completion import svt_solve, calc_unobserved_rmse\n",
        "\n",
        "# Generation de nouvelles matrices U, V, et R\n",
        "U_new = np.random.randn(25, 7)  # U est maintenant 25x7\n",
        "V_new = np.random.randn(18, 7)  # V est maintenant 18x7\n",
        "R_new = np.random.randn(25, 18) + np.dot(U_new, V_new.T)  # R est maintenant 25x18 avec une faible structure de rang\n",
        "\n",
        "# Creation d'un nouveau masque pour les valeurs manquantes\n",
        "mask_new = np.round(np.random.rand(25, 18))\n",
        "\n",
        "# Application de la SVT pour compléter la matrice\n",
        "R_hat_new = svt_solve(R_new, mask_new)\n",
        "\n",
        "# Calcul du RMSE pour les valeurs pas observées\n",
        "rmse_new = calc_unobserved_rmse(U_new, V_new, R_hat_new, mask_new)\n",
        "\n",
        "# le nouveau résultat du RMSE\n",
        "print(\"New RMSE:\", rmse_new)\n"
      ],
      "metadata": {
        "id": "AB3DGFtDz5zk",
        "outputId": "fcaa5fec-2c79-4b68-aa5c-9bb215412797",
        "colab": {
          "base_uri": "https://localhost:8080/"
        }
      },
      "execution_count": 5,
      "outputs": [
        {
          "output_type": "stream",
          "name": "stdout",
          "text": [
            "New RMSE: 1.930425374949002\n"
          ]
        }
      ]
    }
  ]
}
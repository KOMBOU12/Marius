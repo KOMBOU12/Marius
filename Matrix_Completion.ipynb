{
  "nbformat": 4,
  "nbformat_minor": 0,
  "metadata": {
    "colab": {
      "provenance": [],
      "include_colab_link": true
    },
    "kernelspec": {
      "name": "python3",
      "display_name": "Python 3"
    },
    "language_info": {
      "name": "python"
    }
  },
  "cells": [
    {
      "cell_type": "markdown",
      "metadata": {
        "id": "view-in-github",
        "colab_type": "text"
      },
      "source": [
        "<a href=\"https://colab.research.google.com/github/KOMBOU12/Marius/blob/main/Matrix_Completion.ipynb\" target=\"_parent\"><img src=\"https://colab.research.google.com/assets/colab-badge.svg\" alt=\"Open In Colab\"/></a>"
      ]
    },
    {
      "cell_type": "markdown",
      "source": [
        "Le but est d'implémenter le code présent dans ce lien avec un jeu de donnée de mon choix : https://colab.research.google.com/drive/1-KStBJ_gHRjRrAwaMj6cBZLymqiEjpnm?usp=sharing"
      ],
      "metadata": {
        "id": "Eqc7z4bOD_Cm"
      }
    },
    {
      "cell_type": "code",
      "execution_count": 17,
      "metadata": {
        "colab": {
          "base_uri": "https://localhost:8080/"
        },
        "id": "BzyKXElE71zE",
        "outputId": "4ab547e2-f591-442d-9ad0-d64f34fe5e81"
      },
      "outputs": [
        {
          "output_type": "stream",
          "name": "stdout",
          "text": [
            "Requirement already satisfied: matrix-completion in /usr/local/lib/python3.10/dist-packages (0.0.2)\n"
          ]
        }
      ],
      "source": [
        "pip install matrix-completion"
      ]
    },
    {
      "cell_type": "code",
      "source": [
        "import numpy as np\n",
        "from matrix_completion import svt_solve, calc_unobserved_rmse\n",
        "\n",
        "U = np.random.randn(20, 5)\n",
        "V = np.random.randn(15, 5)\n",
        "R = np.random.randn(20, 15) + np.dot(U, V.T)\n",
        "\n",
        "mask = np.round(np.random.rand(20, 15))\n",
        "R_hat = svt_solve(R, mask)\n",
        "\n",
        "print(\"RMSE:\", calc_unobserved_rmse(U, V, R_hat, mask))"
      ],
      "metadata": {
        "colab": {
          "base_uri": "https://localhost:8080/"
        },
        "id": "KgDMzXBJ78lV",
        "outputId": "23620f91-4a5e-46fb-db7e-ef32a1a82d59"
      },
      "execution_count": 18,
      "outputs": [
        {
          "output_type": "stream",
          "name": "stdout",
          "text": [
            "RMSE: 2.1877459684965315\n"
          ]
        }
      ]
    },
    {
      "cell_type": "markdown",
      "source": [
        "Le code génère une matrice de rang faible R avec des valeurs manquantes, utilise l'algorithme **SVT pour imputer les valeurs manquantes**, et évalue la qualité de l'imputation en calculant la RMSE sur les valeurs non observées."
      ],
      "metadata": {
        "id": "BNqUyKMKz8uw"
      }
    },
    {
      "cell_type": "markdown",
      "source": [
        "**On refait le code avec de nouvelles données**\n",
        "\n",
        "On commence par générer des matrices aléatoires $U_{new}$ et $V_{new}$. Puis on crée une matrice de rotation R en ajoutant du bruit gaussien à $U_{new}.V_{new}^{T}$. J'ai choisis dans mon cas de fixer la graine dans un souci de reproductibilité."
      ],
      "metadata": {
        "id": "JeURey5tj3C9"
      }
    },
    {
      "cell_type": "code",
      "source": [
        "import numpy as np\n",
        "from matrix_completion import svt_solve, calc_unobserved_rmse\n",
        "\n",
        "np.random.seed(42)  # Fixe la graine pour la reproductibilité\n",
        "\n",
        "# Generation de nouvelles matrices U, V, et R\n",
        "U_new = np.random.randn(25, 7)  # U est maintenant 25x7\n",
        "V_new = np.random.randn(18, 7)  # V est maintenant 18x7\n",
        "R_new = np.random.randn(25, 18) + np.dot(U_new, V_new.T)  # R est maintenant 25x18 avec une faible structure de rang\n",
        "R_new"
      ],
      "metadata": {
        "id": "AB3DGFtDz5zk",
        "outputId": "c50fda7e-ffd7-45a4-9a93-17015a5c08c8",
        "colab": {
          "base_uri": "https://localhost:8080/"
        }
      },
      "execution_count": 22,
      "outputs": [
        {
          "output_type": "execute_result",
          "data": {
            "text/plain": [
              "array([[-1.74981085e+00, -3.39658520e-01,  1.66005616e+00,\n",
              "        -6.88966652e-01,  6.85163036e+00,  1.68987357e+00,\n",
              "         6.65954957e-01, -2.58271741e+00,  3.36245870e+00,\n",
              "        -3.56878786e+00,  4.91387005e+00,  5.85112200e-01,\n",
              "        -5.32017393e+00,  4.06376063e+00,  2.79974728e-01,\n",
              "        -4.93297473e-01,  8.17948262e-01,  1.07919692e-03],\n",
              "       [ 1.93434501e+00, -2.13440096e-02, -1.07468339e-01,\n",
              "        -3.11056326e+00, -4.68562915e+00,  9.23825249e-01,\n",
              "         1.92496967e+00,  2.71399261e+00, -1.55267062e+00,\n",
              "         1.61002299e+00, -2.82782627e+00, -1.07871167e+00,\n",
              "         4.40549612e+00, -1.54347617e+00,  9.83596985e-01,\n",
              "         1.01017717e+00, -1.60741090e+00,  1.47934323e+00],\n",
              "       [-7.92077535e+00,  8.71590828e-01,  2.95153995e+00,\n",
              "         6.68287501e-01,  4.76513581e+00, -4.05814506e+00,\n",
              "        -8.18447151e-01, -2.05382756e+00,  3.72452117e+00,\n",
              "        -3.45969848e+00,  3.41136183e+00, -3.07329393e+00,\n",
              "        -2.52863659e+00,  1.21001059e+00,  1.48581153e+00,\n",
              "        -1.10817217e+00,  1.75778901e+00, -3.90213989e+00],\n",
              "       [-3.85569846e+00,  3.71780200e-03, -1.50624368e+00,\n",
              "         8.73061440e-01,  8.09239687e-01, -2.44557083e+00,\n",
              "        -1.42617607e+00, -5.69504721e-01,  2.58845074e+00,\n",
              "         6.97312852e-01,  1.45300649e+00,  3.36480285e+00,\n",
              "         1.33268995e+00,  2.43785730e+00, -1.90002635e+00,\n",
              "         8.84180682e-01,  2.32749719e+00, -1.07123057e+00],\n",
              "       [-2.30971966e+00,  3.48677299e+00,  3.04613773e-01,\n",
              "        -5.00883331e-01,  4.08786782e+00,  7.13997013e-01,\n",
              "         1.68645576e+00, -4.21878495e+00,  5.90738038e+00,\n",
              "        -3.62054184e+00,  5.56009012e+00, -1.22119534e+00,\n",
              "        -6.75780078e+00,  2.74140381e+00,  1.86432072e+00,\n",
              "        -6.46889390e-01,  3.05816382e-01, -2.24164790e+00],\n",
              "       [-2.16151974e+00, -5.28215287e-01,  1.57365603e+00,\n",
              "         4.36476248e+00,  2.52042897e-01, -4.54165041e+00,\n",
              "        -1.83030769e+00,  2.23041824e+00, -1.92631606e+00,\n",
              "         1.63007395e+00, -2.04884505e+00,  1.05355607e+00,\n",
              "         2.72732181e+00, -2.63027069e+00, -8.97246602e-01,\n",
              "        -3.57958403e+00,  3.08092777e-01, -2.14844053e+00],\n",
              "       [-2.42985235e+00, -7.93414185e-02, -1.34601282e+00,\n",
              "         5.86761778e-02,  4.21814519e+00, -1.27305272e+00,\n",
              "        -1.33076342e+00,  2.75555912e+00, -2.87174238e+00,\n",
              "         2.52366107e+00, -1.25974419e+00,  2.92026306e+00,\n",
              "         4.14219114e+00, -1.23273007e+00,  6.57272981e-01,\n",
              "        -4.11935796e+00,  2.18248010e+00, -2.34255904e+00],\n",
              "       [ 3.62001623e-01,  2.13132096e+00,  6.79788898e-02,\n",
              "         2.98176679e+00,  1.02149877e-01, -1.84626393e+00,\n",
              "        -2.55712531e+00,  2.97505408e+00, -3.01965108e+00,\n",
              "         3.53815471e+00, -2.08524028e+00, -3.73869960e+00,\n",
              "        -1.55368156e+00, -2.39202418e+00, -1.33553042e+00,\n",
              "        -2.67506432e+00, -7.72583081e-01, -2.33857186e+00],\n",
              "       [-2.76508836e-01,  2.46223378e+00,  1.10050945e+00,\n",
              "        -2.38916329e+00, -5.93004506e+00,  9.23739106e-01,\n",
              "         6.14067984e+00, -9.31872767e-01,  2.04990945e+00,\n",
              "         3.12296304e-01,  1.65136481e-01, -4.14963491e+00,\n",
              "        -2.66221367e+00, -3.21049645e+00,  1.45233653e-01,\n",
              "         4.90818024e-01, -1.54894926e+00,  2.23453495e-01],\n",
              "       [ 4.73447364e+00,  2.20107283e+00,  9.38273927e-01,\n",
              "         1.82075238e+00, -4.71506512e+00,  1.41287323e+00,\n",
              "        -1.32783331e+00,  1.33817464e+00, -3.77842550e+00,\n",
              "         4.96674761e-01, -2.73799765e-01, -1.35127395e+00,\n",
              "        -2.09051485e+00, -2.96766588e+00, -2.14623929e-01,\n",
              "         7.25378707e+00, -1.44137727e+00,  1.65818727e+00],\n",
              "       [-7.78929602e+00, -1.49957094e+00,  2.71294388e+00,\n",
              "        -3.01188976e+00, -2.90817519e+00,  3.67375459e+00,\n",
              "         7.02045815e+00,  3.87174415e+00,  1.09886516e+00,\n",
              "         1.96951639e-01,  1.39691124e+00, -2.13293161e+00,\n",
              "        -4.70885140e+00, -4.72086927e+00,  9.24159499e-01,\n",
              "        -9.17704320e+00,  1.03221583e+00, -3.04788919e+00],\n",
              "       [-2.11948613e+00,  2.07818982e+00,  1.83588095e-01,\n",
              "        -5.89559893e-01,  8.20221133e-01, -1.34675747e+00,\n",
              "         5.11704534e-02,  8.85086180e-01, -2.96359486e+00,\n",
              "         4.00692418e+00, -2.05832627e+00,  2.03343248e+00,\n",
              "         3.71009008e-01, -2.22257164e+00, -1.87436608e+00,\n",
              "        -5.47494089e+00,  4.01241945e-01,  1.25514619e-01],\n",
              "       [-1.61240291e+00,  3.82940426e-01,  3.84074289e+00,\n",
              "        -1.15098233e+00,  5.96422570e-02, -1.24975007e-01,\n",
              "         3.02637320e+00, -5.66708992e-01, -3.25157010e+00,\n",
              "        -2.22308169e+00, -2.33439787e-01, -4.51539879e+00,\n",
              "        -1.89365622e+00, -1.71104810e+00, -3.72470100e-01,\n",
              "        -1.59185086e+00, -2.42494960e+00,  1.43781289e-01],\n",
              "       [-3.55247738e+00, -3.37841081e+00,  7.20439551e-02,\n",
              "         3.96489480e-01,  1.92276400e+00,  5.07846220e-01,\n",
              "         5.62205515e-01,  7.67133275e-01, -4.86667758e-01,\n",
              "        -4.20249843e+00, -1.99210651e+00,  6.47717537e-01,\n",
              "         3.58716167e+00,  8.18466688e-01,  6.64039494e-01,\n",
              "        -4.04202653e+00,  1.27134805e+00,  3.65199662e-01],\n",
              "       [-2.98631530e+00,  2.67705904e-01, -1.39120828e+00,\n",
              "        -8.76993821e-01, -2.03946658e-01, -1.86949933e+00,\n",
              "        -1.04839200e+00,  2.11992937e-01,  3.46363329e+00,\n",
              "         1.16369328e+00,  6.90502488e-01,  3.38600156e+00,\n",
              "         2.01595784e+00, -6.56041232e-01, -1.30371796e+00,\n",
              "        -2.89008436e+00,  1.05923795e+00, -1.86975132e+00],\n",
              "       [ 8.40486314e-01,  1.07610767e+00, -1.71850857e+00,\n",
              "        -6.53343042e-01, -5.54362092e+00,  1.53015768e+00,\n",
              "        -7.64879506e-01, -1.11303549e+00,  5.58923895e+00,\n",
              "        -1.55914072e-01,  1.25922059e+00,  4.29947142e+00,\n",
              "         5.84105290e-01,  7.17735296e-01, -1.54604598e+00,\n",
              "         4.38432957e+00,  9.00588907e-01, -1.34282088e+00],\n",
              "       [-2.93885016e+00,  5.54754452e-01, -1.48775120e+00,\n",
              "         1.01849000e+00,  1.12253817e+00,  2.12276111e+00,\n",
              "        -3.61786784e+00,  4.42612283e-01,  2.47619068e+00,\n",
              "        -6.67595726e-01,  2.35375452e+00,  4.86453442e+00,\n",
              "        -5.21997425e+00,  5.26535270e-01, -1.59139074e+00,\n",
              "         3.40676985e+00,  4.33824089e+00, -4.25091642e+00],\n",
              "       [-7.62912844e+00, -3.55851141e+00,  2.21729753e+00,\n",
              "         6.54990489e-01,  9.24360366e+00,  8.48247122e-01,\n",
              "         9.72817504e-01,  1.18371617e+00,  2.25939263e+00,\n",
              "        -1.98320391e+00,  3.87209888e+00,  2.37670194e+00,\n",
              "        -5.86497063e+00, -4.25962715e-01, -3.99866879e-01,\n",
              "        -5.15582607e+00,  4.49064784e+00, -1.65936834e+00],\n",
              "       [-4.32444633e+00, -4.23093705e-01,  3.13940629e+00,\n",
              "        -2.41466151e-01, -4.37639678e+00, -1.77202395e+00,\n",
              "         5.53751861e+00,  2.17347309e+00, -3.13137087e+00,\n",
              "        -3.09147897e-01, -3.69801741e+00, -4.25573591e+00,\n",
              "         4.35358917e+00, -5.77572345e+00,  5.41278927e-01,\n",
              "        -3.32214807e+00,  7.91412991e-01, -6.22568357e-01],\n",
              "       [ 2.02480033e+00, -1.27147340e+00,  6.47882016e-01,\n",
              "        -3.26346928e+00, -4.63419019e+00,  1.63401774e+00,\n",
              "         2.48893463e+00,  3.25024062e+00, -3.58315998e+00,\n",
              "        -4.85469276e-01, -5.50962558e+00, -8.76528636e-01,\n",
              "         5.38509361e+00, -1.74648351e+00,  2.16782068e+00,\n",
              "         9.82613683e-01, -2.29264619e+00,  2.65692581e+00],\n",
              "       [-4.70760982e-01,  1.95885236e+00, -3.47373623e+00,\n",
              "        -1.82581189e+00, -4.08149035e+00,  1.41334408e+00,\n",
              "         3.15755370e+00, -3.88361286e-01,  9.94399770e-01,\n",
              "         5.75539912e+00, -3.41000889e+00,  3.06954662e+00,\n",
              "        -8.29872774e-01, -4.36090316e+00, -2.38933067e+00,\n",
              "        -3.78139151e+00,  1.57612092e+00,  4.50732610e-01],\n",
              "       [ 8.69314892e-01,  2.51685537e+00,  4.86289925e-01,\n",
              "         4.47941967e-01, -1.04812905e+00, -1.74160611e+00,\n",
              "        -1.11647299e-01, -1.79257756e-01,  1.34674004e+00,\n",
              "         1.07307723e+00,  2.09718316e+00, -2.17359105e+00,\n",
              "        -1.64988374e+00, -2.33508136e+00, -6.76679016e-02,\n",
              "         2.98095971e+00, -7.49491257e-01, -5.01890757e-01],\n",
              "       [-4.25720271e-01,  4.00677416e-01,  2.61159187e+00,\n",
              "        -2.43822209e+00, -3.19284507e+00,  2.36752238e+00,\n",
              "         4.36530470e+00, -8.53360617e-01, -1.82951256e+00,\n",
              "        -2.47962011e+00, -5.91313011e-01, -7.66825595e+00,\n",
              "         3.20947776e+00, -2.84144757e+00,  2.70035731e+00,\n",
              "        -2.28681051e+00, -1.51733072e+00,  2.63906265e+00],\n",
              "       [ 3.32894936e-01, -7.69140617e-01, -1.69690473e+00,\n",
              "         6.32951682e-01,  8.38546850e+00,  9.45296418e-01,\n",
              "        -3.56182302e+00, -2.67095724e+00,  2.51716197e+00,\n",
              "        -1.79079430e-01,  2.11107894e+00,  4.44842407e+00,\n",
              "        -6.18762176e+00,  1.19606562e+00, -3.01612951e+00,\n",
              "        -2.45392620e+00,  1.04430168e+00, -1.27509369e+00],\n",
              "       [-3.22584396e+00,  2.48934260e-01,  5.06181871e-01,\n",
              "         1.70111615e+00,  3.37864866e+00, -6.41144190e-01,\n",
              "        -5.90967184e-01, -1.63888041e+00, -3.22465364e+00,\n",
              "        -3.82064335e-01, -6.00386689e-01,  7.48942251e-01,\n",
              "         2.12760690e+00,  8.69772985e-01, -6.28059954e-01,\n",
              "        -2.41182434e+00, -9.67107052e-01, -1.61672399e+00]])"
            ]
          },
          "metadata": {},
          "execution_count": 22
        }
      ]
    },
    {
      "cell_type": "markdown",
      "source": [
        "Un masque binaire est appliqué sur R pour simuler des valeurs observées et non observées. La fonction np.round(np.random.rand(20, 15)) crée une matrice de la même taille que $R$ avec des valeurs aléatoires de 0 ou 1, où 1 indique une donnée observée et 0 une donnée manquante.\n"
      ],
      "metadata": {
        "id": "7k0Zauxqlijy"
      }
    },
    {
      "cell_type": "code",
      "source": [
        "# Creation d'un nouveau masque pour les valeurs manquantes\n",
        "mask_new = np.round(np.random.rand(25, 18))"
      ],
      "metadata": {
        "id": "O4SwiOqqlksJ"
      },
      "execution_count": 23,
      "outputs": []
    },
    {
      "cell_type": "code",
      "source": [
        "# Application de la SVT pour compléter la matrice\n",
        "R_hat_new = svt_solve(R_new, mask_new)\n",
        "\n",
        "# Calcul du RMSE pour les valeurs pas observées\n",
        "rmse_new = calc_unobserved_rmse(U_new, V_new, R_hat_new, mask_new)\n",
        "\n",
        "# le nouveau résultat du RMSE\n",
        "print(\"New RMSE:\", rmse_new)"
      ],
      "metadata": {
        "colab": {
          "base_uri": "https://localhost:8080/"
        },
        "id": "7nOG265Gmi6u",
        "outputId": "cab2b74d-8d8c-404c-a7ff-d513e2574a9f"
      },
      "execution_count": 24,
      "outputs": [
        {
          "output_type": "stream",
          "name": "stdout",
          "text": [
            "New RMSE: 2.3857216349273314\n"
          ]
        }
      ]
    },
    {
      "cell_type": "markdown",
      "source": [
        "\n",
        "$R_{new}$ est de taille 25x18 avec des valeurs fluctuant autour de -10 à 10. La valeur RMSE évalue la différence moyenne au carré entre les valeurs estimées (ou prédites) et les valeurs réelles. Dans ce contexte, une RMSE de 2.38 peut être considérée comme **légèrement bonne** , car cela signifierait que l'erreur représente une petite fraction de la variabilité totale des données.\n",
        "\n",
        "Pour **améliorer la précision du modèle**, on peut envisager, d'utiliser plus de données d'entraînement, ou d'améliorer la qualité des données utilisées."
      ],
      "metadata": {
        "id": "5HTCCsP7lrOZ"
      }
    }
  ]
}
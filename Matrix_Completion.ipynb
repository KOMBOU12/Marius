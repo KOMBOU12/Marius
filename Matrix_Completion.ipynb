{
  "nbformat": 4,
  "nbformat_minor": 0,
  "metadata": {
    "colab": {
      "provenance": [],
      "include_colab_link": true
    },
    "kernelspec": {
      "name": "python3",
      "display_name": "Python 3"
    },
    "language_info": {
      "name": "python"
    }
  },
  "cells": [
    {
      "cell_type": "markdown",
      "metadata": {
        "id": "view-in-github",
        "colab_type": "text"
      },
      "source": [
        "<a href=\"https://colab.research.google.com/github/KOMBOU12/Marius/blob/main/Matrix_Completion.ipynb\" target=\"_parent\"><img src=\"https://colab.research.google.com/assets/colab-badge.svg\" alt=\"Open In Colab\"/></a>"
      ]
    },
    {
      "cell_type": "markdown",
      "source": [
        "Le but est d'implémenter le code présent dans ce lien avec un jeu de donnée de mon choix : https://colab.research.google.com/drive/1-KStBJ_gHRjRrAwaMj6cBZLymqiEjpnm?usp=sharing"
      ],
      "metadata": {
        "id": "Eqc7z4bOD_Cm"
      }
    },
    {
      "cell_type": "code",
      "execution_count": 17,
      "metadata": {
        "colab": {
          "base_uri": "https://localhost:8080/"
        },
        "id": "BzyKXElE71zE",
        "outputId": "4ab547e2-f591-442d-9ad0-d64f34fe5e81"
      },
      "outputs": [
        {
          "output_type": "stream",
          "name": "stdout",
          "text": [
            "Requirement already satisfied: matrix-completion in /usr/local/lib/python3.10/dist-packages (0.0.2)\n"
          ]
        }
      ],
      "source": [
        "pip install matrix-completion"
      ]
    },
    {
      "cell_type": "code",
      "source": [
        "import numpy as np\n",
        "from matrix_completion import svt_solve, calc_unobserved_rmse\n",
        "\n",
        "U = np.random.randn(20, 5)\n",
        "V = np.random.randn(15, 5)\n",
        "R = np.random.randn(20, 15) + np.dot(U, V.T)\n",
        "\n",
        "mask = np.round(np.random.rand(20, 15))\n",
        "R_hat = svt_solve(R, mask)\n",
        "\n",
        "print(\"RMSE:\", calc_unobserved_rmse(U, V, R_hat, mask))"
      ],
      "metadata": {
        "colab": {
          "base_uri": "https://localhost:8080/"
        },
        "id": "KgDMzXBJ78lV",
        "outputId": "23620f91-4a5e-46fb-db7e-ef32a1a82d59"
      },
      "execution_count": 18,
      "outputs": [
        {
          "output_type": "stream",
          "name": "stdout",
          "text": [
            "RMSE: 2.1877459684965315\n"
          ]
        }
      ]
    },
    {
      "cell_type": "markdown",
      "source": [
        "Le code génère une matrice de rang faible R avec des valeurs manquantes, utilise l'algorithme **SVT pour imputer les valeurs manquantes**, et évalue la qualité de l'imputation en calculant la RMSE sur les valeurs non observées."
      ],
      "metadata": {
        "id": "BNqUyKMKz8uw"
      }
    },
    {
      "cell_type": "markdown",
      "source": [
        "**On refait le code avec de nouvelles données**\n",
        "\n",
        "On commence par générer des matrices aléatoires $U_{new}$ et $V_{new}$. Puis on crée une matrice de rotation R en ajoutant du bruit gaussien à $U_{new}.V_{new}^{T}$"
      ],
      "metadata": {
        "id": "JeURey5tj3C9"
      }
    },
    {
      "cell_type": "code",
      "source": [
        "import numpy as np\n",
        "from matrix_completion import svt_solve, calc_unobserved_rmse\n",
        "\n",
        "# Generation de nouvelles matrices U, V, et R\n",
        "U_new = np.random.randn(25, 7)  # U est maintenant 25x7\n",
        "V_new = np.random.randn(18, 7)  # V est maintenant 18x7\n",
        "R_new = np.random.randn(25, 18) + np.dot(U_new, V_new.T)  # R est maintenant 25x18 avec une faible structure de rang\n",
        "R_new"
      ],
      "metadata": {
        "id": "AB3DGFtDz5zk",
        "outputId": "44e4ef26-744a-43e6-fb17-2f4320836215",
        "colab": {
          "base_uri": "https://localhost:8080/"
        }
      },
      "execution_count": 19,
      "outputs": [
        {
          "output_type": "execute_result",
          "data": {
            "text/plain": [
              "array([[ 4.02900220e+00, -3.16163809e+00, -4.87931625e+00,\n",
              "        -7.88485137e+00,  3.13425929e+00, -3.49392450e-01,\n",
              "         1.25236547e+00, -1.60823649e+00, -1.75660303e+00,\n",
              "        -1.19160523e+00,  8.48964151e-01,  3.27467245e-01,\n",
              "         4.05301311e+00, -2.75124425e+00,  1.39794066e+00,\n",
              "        -6.31872311e-01,  7.27535345e-01,  1.39518917e+00],\n",
              "       [ 4.89266722e+00, -2.18406268e-01,  1.99281178e+00,\n",
              "        -6.45341911e+00, -3.72950557e+00,  1.99492879e+00,\n",
              "         3.07791433e+00, -5.12286232e+00,  3.67817184e+00,\n",
              "        -2.15015807e+00,  2.82154216e+00,  2.50056540e+00,\n",
              "        -3.72382712e+00,  4.55368143e-01,  2.88077663e-01,\n",
              "        -1.20399323e+00, -3.96261736e-03,  2.57338654e+00],\n",
              "       [-4.28220933e+00,  9.52012872e-01, -3.18321006e-01,\n",
              "         6.41913939e+00,  8.17016798e-01, -8.20706808e-01,\n",
              "        -5.64079467e-01,  2.28740999e+00, -2.30403484e+00,\n",
              "         1.79012916e+00,  3.21477656e-02,  1.54034036e+00,\n",
              "         2.33466666e-01, -3.18889334e+00, -2.50442996e+00,\n",
              "         8.12822645e-01, -1.09110292e+00,  4.04891957e-01],\n",
              "       [-2.24012313e+00,  1.07034481e+00,  4.41910024e+00,\n",
              "         5.00711615e+00, -1.33240499e+00,  1.46207489e+00,\n",
              "         1.48195810e+00, -3.49631003e+00, -5.62538246e-01,\n",
              "        -1.86302424e-01,  4.61377217e+00,  3.79427220e+00,\n",
              "         3.05203714e+00, -7.02646275e-02, -1.14551184e-01,\n",
              "         1.56392062e+00, -2.81054201e+00, -1.14836521e+00],\n",
              "       [ 1.30621216e+00, -1.72236947e+00, -4.52707961e+00,\n",
              "         3.47606140e+00,  2.21944947e+00, -4.98927725e-01,\n",
              "        -2.28567111e+00, -6.71035636e-01, -4.33215949e+00,\n",
              "         5.24376396e-01,  1.14356834e+00,  1.38146456e+00,\n",
              "         2.30007696e+00,  2.66884014e+00,  1.68423503e+00,\n",
              "         2.71933801e+00,  1.66841368e+00, -2.06922472e+00],\n",
              "       [ 6.21066322e-01, -1.84454424e+00,  1.10496527e+00,\n",
              "        -1.48420588e+00,  2.66513982e+00,  6.70428977e-01,\n",
              "         1.60513701e-01,  2.28163692e+00,  5.13640300e-01,\n",
              "         3.19510718e+00, -1.54542744e-03,  6.26022209e-02,\n",
              "        -8.57604872e-01, -2.52369333e+00, -1.07947921e+00,\n",
              "         4.99743255e-01, -9.24302597e-02,  7.53989695e-01],\n",
              "       [-5.86487964e+00,  1.48644503e+00,  4.84889516e+00,\n",
              "         9.17848252e+00, -8.82230550e-01,  4.80455211e+00,\n",
              "        -7.17059783e-01, -7.77254078e+00, -3.67606605e+00,\n",
              "         1.54603388e+00,  5.30094541e+00,  5.89795188e+00,\n",
              "         2.52546763e+00, -3.89128538e-01, -2.83811441e+00,\n",
              "         1.45374350e+00, -4.45623693e+00, -1.90576262e+00],\n",
              "       [ 2.05445429e-01, -1.05083844e+00, -9.54850989e-01,\n",
              "         2.66556130e-01,  1.92713992e+00,  8.10920253e-02,\n",
              "        -9.39566857e-01,  6.13984677e-01, -5.55922393e-01,\n",
              "        -7.23399837e-01, -2.09655944e+00, -9.32142196e-01,\n",
              "         3.92017092e-01,  2.42773088e+00, -1.28360739e+00,\n",
              "         2.23328415e+00,  1.86051946e+00,  3.06302105e-01],\n",
              "       [ 2.52074833e+00, -1.51917493e-01, -4.62632049e+00,\n",
              "        -4.54946895e+00, -5.09282508e-01, -1.32943810e+00,\n",
              "         1.78823557e-02, -3.45199555e+00, -1.15578809e+00,\n",
              "        -9.80804776e-01, -2.95234836e-01, -2.54203461e+00,\n",
              "        -1.08343484e+00,  1.73738796e+00,  9.71309800e-01,\n",
              "        -1.84235262e+00,  3.36124878e+00, -3.88362485e-01],\n",
              "       [-1.37792702e+00, -2.03499306e+00, -2.03751122e+00,\n",
              "         3.81426588e+00,  1.47407891e+00,  7.48492589e-01,\n",
              "        -1.25497461e+00,  3.84210075e-01, -4.05956908e+00,\n",
              "         1.18270377e+00, -4.53140227e-01,  1.55058825e+00,\n",
              "         1.30395731e+00, -2.12033298e+00, -1.90041498e+00,\n",
              "        -3.46338702e+00, -8.87464281e-01,  1.58588316e+00],\n",
              "       [ 9.62441645e-01, -3.25676768e+00, -1.80359735e+00,\n",
              "        -4.18222804e-01,  1.45372581e+00,  1.68363094e+00,\n",
              "        -2.64893846e+00, -6.17091408e-01, -2.70346541e+00,\n",
              "         5.00437883e-01,  2.54230282e+00, -5.98480548e-02,\n",
              "         1.72960145e+00,  1.05948471e+00,  6.51192078e-01,\n",
              "         9.17601628e-01,  5.64732693e-03,  1.42375696e-01],\n",
              "       [ 2.55496285e+00,  1.16531073e+00, -1.72089245e+00,\n",
              "        -1.21669332e+00,  3.41471015e-02,  2.31623259e+00,\n",
              "         1.16677618e+00,  2.12446991e+00,  4.14728421e+00,\n",
              "        -1.31092875e+00, -7.63974306e-01, -5.28392393e-01,\n",
              "        -2.79070903e+00,  1.85339838e+00, -2.19660536e+00,\n",
              "        -5.80837576e-01,  5.02952740e+00,  2.69690094e+00],\n",
              "       [ 1.11097349e-01, -6.55880434e-01, -2.16998982e+00,\n",
              "        -4.51516200e+00, -5.64857628e-02,  3.18572929e-01,\n",
              "         1.55864059e+00,  4.36421028e+00,  8.95289469e-01,\n",
              "         9.77732610e-01,  1.40630598e+00, -3.17214519e-01,\n",
              "         1.17874816e+00, -1.09053360e+00,  1.47323971e+00,\n",
              "         1.80445808e+00,  4.51497053e-01,  6.22334455e-01],\n",
              "       [-2.30516925e+00,  1.67708817e+00, -1.52983240e-01,\n",
              "         2.24915284e+00, -3.01771650e+00, -1.96202962e+00,\n",
              "         1.18453035e+00,  2.98201395e+00,  3.11355038e+00,\n",
              "        -2.44822766e-01, -4.19328066e+00, -3.00723781e+00,\n",
              "        -4.88716914e+00, -3.35304677e+00, -4.82855772e-01,\n",
              "        -2.05758540e+00,  1.46819039e-01,  1.77585803e+00],\n",
              "       [ 3.01691338e+00, -2.49326763e-01, -2.41058562e+00,\n",
              "         1.71945436e+00, -3.17228814e-01,  1.11165738e+00,\n",
              "        -1.09780694e+00,  1.89088996e+00, -3.49456105e+00,\n",
              "        -1.10762082e+00, -3.44048471e-01, -1.01897418e+00,\n",
              "         1.35475494e+00,  4.57628696e+00,  2.65647377e-02,\n",
              "         1.13729305e+00,  2.07656450e+00, -1.91520979e+00],\n",
              "       [ 2.95158265e+00, -3.59575257e+00, -3.23417879e+00,\n",
              "        -9.18487701e-01,  1.24840800e+00, -1.95167749e+00,\n",
              "        -3.29692356e+00,  3.72166865e+00, -2.46779273e+00,\n",
              "         1.52650211e+00, -3.66236002e+00, -6.47165226e-01,\n",
              "         4.47497546e-01,  1.85563933e+00,  4.31325481e+00,\n",
              "         2.33858357e+00,  3.61206716e+00, -3.74148168e+00],\n",
              "       [-4.52873416e+00,  1.77188627e+00,  1.15889928e+00,\n",
              "         8.86744777e+00,  1.67980142e-02,  3.58572992e+00,\n",
              "        -2.55352584e+00, -2.09087439e+00, -4.26491684e+00,\n",
              "         1.28454014e+00,  2.57738551e+00,  2.92958936e+00,\n",
              "         3.57486433e+00,  1.37580898e+00, -3.57485098e+00,\n",
              "         3.32557235e-02, -4.23747610e-01, -1.15623505e+00],\n",
              "       [-1.50818112e+00,  1.64091329e+00,  1.11962461e+00,\n",
              "        -1.53656326e+00, -5.01953635e+00, -1.54140888e+00,\n",
              "         3.65831833e+00, -4.81493564e+00,  1.65672489e+00,\n",
              "        -2.77731542e+00,  1.06236673e+00, -2.15224658e+00,\n",
              "        -2.24798580e+00, -6.71680390e-01, -1.05378022e+00,\n",
              "        -2.81512680e+00, -3.73337457e+00,  3.50473233e-01],\n",
              "       [-2.39742372e-01,  2.13102458e+00,  1.06794073e+00,\n",
              "         5.47585955e+00,  1.42636391e+00,  4.61522774e-01,\n",
              "        -3.15097254e-01,  1.17538544e+00,  3.37460953e+00,\n",
              "         1.95549370e+00,  8.57595562e-01, -2.57890414e-01,\n",
              "        -7.64401124e-01, -3.64474478e-01,  1.11242393e+00,\n",
              "         2.15951759e+00, -2.10014802e-03, -3.29492875e-02],\n",
              "       [ 1.79572856e+00,  5.10141973e-01,  8.42037362e-01,\n",
              "        -5.90411085e+00, -3.91132795e+00,  3.20977883e+00,\n",
              "         3.66589930e+00, -2.07051216e+00,  4.82407331e+00,\n",
              "        -2.31235623e+00,  5.18919173e+00,  1.39511879e+00,\n",
              "        -4.16588722e-01, -1.62316908e+00,  2.76596138e+00,\n",
              "         2.18553427e+00,  6.50556446e-01, -2.16747542e-01],\n",
              "       [-3.72071520e+00,  1.79547117e+00,  2.42158994e+00,\n",
              "         2.51502212e+00,  7.57670279e-01,  1.36592853e+00,\n",
              "         3.19474877e-01, -1.89828902e+00,  1.03440496e+00,\n",
              "        -2.18624314e-01,  3.73742298e+00,  2.79457977e+00,\n",
              "         1.99481223e+00, -3.11965801e+00, -2.31088850e+00,\n",
              "        -1.44631817e+00, -1.40638319e+00,  1.36226662e+00],\n",
              "       [-2.38378607e+00, -4.81288155e-01, -1.49840177e+00,\n",
              "         4.04405366e-02,  8.95213593e-01,  3.14090749e+00,\n",
              "        -3.28931170e+00,  1.72023012e+00, -2.36437597e+00,\n",
              "         7.63236929e-01,  1.68329036e-01,  1.51669283e+00,\n",
              "         1.67918626e+00, -1.56976839e-02, -1.44474440e+00,\n",
              "         1.08667496e+00,  2.63371051e+00,  1.75065863e+00],\n",
              "       [ 1.14633418e+00,  6.48072063e-02,  1.64974771e-01,\n",
              "         6.61916099e-02,  3.45230998e-01, -2.52458890e+00,\n",
              "        -3.20662295e-01,  7.26043715e+00,  5.23487139e+00,\n",
              "         2.31752031e+00, -6.17907093e+00, -3.72825593e+00,\n",
              "        -2.76613084e+00, -3.72578963e+00, -1.65686220e+00,\n",
              "         2.77641863e-01,  1.87986581e+00, -1.20878595e+00],\n",
              "       [ 1.78638351e+00, -2.24583413e+00, -1.88662286e+00,\n",
              "        -6.91981276e+00,  1.92071735e+00,  1.87081264e+00,\n",
              "        -2.33794924e+00,  9.52452797e+00,  6.07863941e+00,\n",
              "         1.84726997e+00, -1.08433904e+00, -6.83329070e-01,\n",
              "        -3.60693334e-01, -3.53861404e+00,  2.16162671e+00,\n",
              "         2.93639382e+00,  2.49818149e+00,  9.58405191e-01],\n",
              "       [-8.65094555e-02, -5.18338007e-01,  1.74549349e+00,\n",
              "        -2.77785331e+00,  1.95635049e+00, -8.31317302e-01,\n",
              "         4.45395920e-01, -2.01976257e+00,  2.59782479e+00,\n",
              "        -9.87450349e-01,  3.28571728e-01, -1.79646790e+00,\n",
              "        -3.91955469e-01, -2.71228178e+00, -2.37545814e+00,\n",
              "        -3.58358830e+00, -3.65699196e-01, -5.27875462e-01]])"
            ]
          },
          "metadata": {},
          "execution_count": 19
        }
      ]
    },
    {
      "cell_type": "markdown",
      "source": [
        "Un masque binaire est appliqué sur R pour simuler des valeurs observées et non observées. La fonction np.round(np.random.rand(20, 15)) crée une matrice de la même taille que $R$ avec des valeurs aléatoires de 0 ou 1, où 1 indique une donnée observée et 0 une donnée manquante.\n"
      ],
      "metadata": {
        "id": "7k0Zauxqlijy"
      }
    },
    {
      "cell_type": "code",
      "source": [
        "# Creation d'un nouveau masque pour les valeurs manquantes\n",
        "mask_new = np.round(np.random.rand(25, 18))"
      ],
      "metadata": {
        "id": "O4SwiOqqlksJ"
      },
      "execution_count": 20,
      "outputs": []
    },
    {
      "cell_type": "code",
      "source": [
        "# Application de la SVT pour compléter la matrice\n",
        "R_hat_new = svt_solve(R_new, mask_new)\n",
        "\n",
        "# Calcul du RMSE pour les valeurs pas observées\n",
        "rmse_new = calc_unobserved_rmse(U_new, V_new, R_hat_new, mask_new)\n",
        "\n",
        "# le nouveau résultat du RMSE\n",
        "print(\"New RMSE:\", rmse_new)"
      ],
      "metadata": {
        "id": "7nOG265Gmi6u",
        "outputId": "3fdc64b3-3cf3-47e0-f7b5-8d8c4ed040e8",
        "colab": {
          "base_uri": "https://localhost:8080/"
        }
      },
      "execution_count": 21,
      "outputs": [
        {
          "output_type": "stream",
          "name": "stdout",
          "text": [
            "New RMSE: 1.8703451944299176\n"
          ]
        }
      ]
    },
    {
      "cell_type": "markdown",
      "source": [
        "\n",
        "$R_{new}$ est de taille 25x18 avec des valeurs fluctuant autour de -10 à 10. La valeur RMSE évalue la différence moyenne au carré entre les valeurs estimées (ou prédites) et les valeurs réelles. Dans ce contexte, une RMSE de 1.87 peut être considérée comme **raisonnablement bonne** , car cela signifierait que l'erreur représente une petite fraction de la variabilité totale des données.\n",
        "\n",
        "Pour **améliorer la précision du modèle**, on peut envisager, d'utiliser plus de données d'entraînement, ou d'améliorer la qualité des données utilisées."
      ],
      "metadata": {
        "id": "5HTCCsP7lrOZ"
      }
    }
  ]
}
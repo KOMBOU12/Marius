{
  "cells": [
    {
      "cell_type": "markdown",
      "metadata": {
        "id": "view-in-github",
        "colab_type": "text"
      },
      "source": [
        "<a href=\"https://colab.research.google.com/github/KOMBOU12/Marius/blob/main/Notebook_5_Fonctions_Integr%C3%A9es.ipynb\" target=\"_parent\"><img src=\"https://colab.research.google.com/assets/colab-badge.svg\" alt=\"Open In Colab\"/></a>"
      ]
    },
    {
      "cell_type": "markdown",
      "id": "1cfc1258",
      "metadata": {
        "id": "1cfc1258"
      },
      "source": [
        "\n",
        "# Notebook 5 : Fonctions Intégrées (Built-in Functions) en Python\n",
        "\n",
        "## Introduction\n",
        "Dans ce notebook, nous allons explorer certaines des fonctions intégrées les plus couramment utilisées en Python.\n",
        "Les fonctions intégrées permettent de réaliser des tâches courantes sans avoir à écrire de code supplémentaire.\n",
        "\n",
        "Voici quelques-unes des fonctions que nous allons couvrir :\n",
        "- `print()`, `len()`, `type()`, `input()`\n",
        "- `int()`, `float()`, `str()`, `bool()`\n",
        "- `max()`, `min()`, `sum()`, `abs()`\n",
        "- `round()`, `sorted()`, `reversed()`\n",
        "- `range()`, `enumerate()`, `zip()`\n",
        "\n",
        "Ces fonctions couvrent divers cas d'utilisation en programmation et vous aideront dans la manipulation de données.\n"
      ]
    },
    {
      "cell_type": "code",
      "execution_count": 1,
      "id": "2b69de21",
      "metadata": {
        "colab": {
          "base_uri": "https://localhost:8080/"
        },
        "id": "2b69de21",
        "outputId": "d5259848-1c36-42a9-8434-afbf692bd587"
      },
      "outputs": [
        {
          "output_type": "stream",
          "name": "stdout",
          "text": [
            "Hello, World!\n",
            "6\n",
            "<class 'int'>\n",
            "Entrez votre nom : m\n",
            "Bonjour, m\n"
          ]
        }
      ],
      "source": [
        "\n",
        "# Section 1 : Fonctions de base\n",
        "\n",
        "# Afficher un message à l'écran\n",
        "print(\"Hello, World!\")  # Affiche \"Hello, World!\"\n",
        "\n",
        "# Obtenir la longueur d'une séquence\n",
        "texte = \"Python\"\n",
        "print(len(texte))  # Affiche 6\n",
        "\n",
        "# Obtenir le type d'une variable\n",
        "nombre = 10\n",
        "print(type(nombre))  # Affiche <class 'int'>\n",
        "\n",
        "# Saisir une entrée utilisateur (décommenter pour essayer dans un environnement interactif)\n",
        "utilisateur = input(\"Entrez votre nom : \")\n",
        "print(\"Bonjour,\", utilisateur)\n"
      ]
    },
    {
      "cell_type": "code",
      "execution_count": 5,
      "id": "33e64b1c",
      "metadata": {
        "colab": {
          "base_uri": "https://localhost:8080/"
        },
        "id": "33e64b1c",
        "outputId": "c76fdab5-cee8-4850-9636-0731b1194e0e"
      },
      "outputs": [
        {
          "output_type": "stream",
          "name": "stdout",
          "text": [
            "123\n",
            "3.14\n",
            "123\n",
            "False\n",
            "True\n"
          ]
        }
      ],
      "source": [
        "\n",
        "# Section 2 : Conversion de type\n",
        "\n",
        "# Conversion en entier\n",
        "print(int(\"123\"))  # Affiche 123\n",
        "\n",
        "# Conversion en flottant\n",
        "print(float(\"3.14\"))  # Affiche 3.14\n",
        "\n",
        "# Conversion en chaîne\n",
        "print(str(123))  # Affiche \"123\"\n",
        "\n",
        "# Conversion en booléen\n",
        "print(bool(0))  # Affiche False\n",
        "print(bool(1))  # Affiche True\n"
      ]
    },
    {
      "cell_type": "code",
      "execution_count": 6,
      "id": "03aa20ac",
      "metadata": {
        "colab": {
          "base_uri": "https://localhost:8080/"
        },
        "id": "03aa20ac",
        "outputId": "edd7a6e4-f54d-463c-91d4-caa75a9868a3"
      },
      "outputs": [
        {
          "output_type": "stream",
          "name": "stdout",
          "text": [
            "5\n",
            "10\n",
            "3\n",
            "26\n",
            "3.14\n"
          ]
        }
      ],
      "source": [
        "\n",
        "# Section 3 : Fonctions mathématiques\n",
        "\n",
        "# Valeur absolue\n",
        "print(abs(-5))  # Affiche 5\n",
        "\n",
        "# Valeur maximale et minimale\n",
        "nombres = [5, 10, 3, 8]\n",
        "print(max(nombres))  # Affiche 10\n",
        "print(min(nombres))  # Affiche 3\n",
        "\n",
        "# Somme des éléments\n",
        "print(sum(nombres))  # Affiche 26\n",
        "\n",
        "# Arrondi\n",
        "print(round(3.14159, 2))  # Affiche 3.14\n"
      ]
    },
    {
      "cell_type": "code",
      "execution_count": 7,
      "id": "f7096435",
      "metadata": {
        "colab": {
          "base_uri": "https://localhost:8080/"
        },
        "id": "f7096435",
        "outputId": "aa868fb8-8b39-4173-ef52-e2cf4c323c39"
      },
      "outputs": [
        {
          "output_type": "stream",
          "name": "stdout",
          "text": [
            "[1, 3, 5, 8]\n",
            "[1, 8, 3, 5]\n",
            "[0, 1, 2, 3, 4]\n",
            "0 chat\n",
            "1 chien\n",
            "2 oiseau\n",
            "Alice 85\n",
            "Bob 90\n",
            "Charlie 78\n"
          ]
        }
      ],
      "source": [
        "\n",
        "# Section 4 : Fonctions de manipulation de séquences\n",
        "\n",
        "# Trier une liste\n",
        "nombres = [5, 3, 8, 1]\n",
        "print(sorted(nombres))  # Affiche [1, 3, 5, 8]\n",
        "\n",
        "# Inverser une liste\n",
        "print(list(reversed(nombres)))  # Affiche [1, 8, 3, 5]\n",
        "\n",
        "# Générer une séquence de nombres\n",
        "print(list(range(5)))  # Affiche [0, 1, 2, 3, 4]\n",
        "\n",
        "# Énumérer les éléments avec leur index\n",
        "animaux = [\"chat\", \"chien\", \"oiseau\"]\n",
        "for index, animal in enumerate(animaux):\n",
        "    print(index, animal)\n",
        "\n",
        "# Combiner deux listes avec zip\n",
        "noms = [\"Alice\", \"Bob\", \"Charlie\"]\n",
        "notes = [85, 90, 78]\n",
        "for nom, note in zip(noms, notes):\n",
        "    print(nom, note)\n"
      ]
    },
    {
      "cell_type": "markdown",
      "id": "74fec8c6",
      "metadata": {
        "id": "74fec8c6"
      },
      "source": [
        "\n",
        "# Exercices pratiques\n",
        "Appliquons les fonctions intégrées dans divers contextes.\n"
      ]
    },
    {
      "cell_type": "code",
      "execution_count": 8,
      "id": "41c34a91",
      "metadata": {
        "colab": {
          "base_uri": "https://localhost:8080/"
        },
        "id": "41c34a91",
        "outputId": "27df37b2-73f6-4cf8-f232-fe82919227c5"
      },
      "outputs": [
        {
          "output_type": "stream",
          "name": "stdout",
          "text": [
            "5\n"
          ]
        }
      ],
      "source": [
        "\n",
        "# Exercice 1\n",
        "# Créez une liste de nombres et utilisez len() pour afficher le nombre d'éléments dans la liste.\n",
        "# Résultat attendu pour une liste de 5 éléments : 5\n",
        "\n",
        "liste = [4, 5, 3, 23, -3]\n",
        "print(len(liste))\n"
      ]
    },
    {
      "cell_type": "code",
      "execution_count": 10,
      "id": "11c3d384",
      "metadata": {
        "colab": {
          "base_uri": "https://localhost:8080/"
        },
        "id": "11c3d384",
        "outputId": "f1ea27c4-8b9c-4a25-e07c-e1be565a77f2"
      },
      "outputs": [
        {
          "output_type": "stream",
          "name": "stdout",
          "text": [
            "Entrer le prénom de l'utilisateur :Marius\n",
            "Bienvenue, Marius\n"
          ]
        }
      ],
      "source": [
        "\n",
        "# Exercice 2\n",
        "# Utilisez input() pour demander le prénom de l'utilisateur, puis affichez un message de bienvenue.\n",
        "# Exemple attendu : \"Bienvenue, Alice !\"\n",
        "\n",
        "utilisateur = input(\"Entrer le prénom de l'utilisateur :\")\n",
        "print(f\"Bienvenue, {utilisateur}\")\n"
      ]
    },
    {
      "cell_type": "code",
      "execution_count": 11,
      "id": "b4ba36ca",
      "metadata": {
        "colab": {
          "base_uri": "https://localhost:8080/"
        },
        "id": "b4ba36ca",
        "outputId": "fabfbd48-245e-41a7-b42c-cd5dfef28d5b"
      },
      "outputs": [
        {
          "output_type": "stream",
          "name": "stdout",
          "text": [
            "20\n"
          ]
        }
      ],
      "source": [
        "\n",
        "# Exercice 3\n",
        "# Utilisez max() pour afficher la plus grande valeur dans une liste de nombres.\n",
        "# Résultat attendu pour [7, 15, 3, 20] : 20\n",
        "\n",
        "print(max([7, 15, 3, 20]))\n"
      ]
    },
    {
      "cell_type": "code",
      "execution_count": 12,
      "id": "2defb964",
      "metadata": {
        "colab": {
          "base_uri": "https://localhost:8080/"
        },
        "id": "2defb964",
        "outputId": "32ac59e9-0fd7-4edf-abfa-8caae04f341a"
      },
      "outputs": [
        {
          "output_type": "stream",
          "name": "stdout",
          "text": [
            "la somme est : 245\n",
            "La moyenne est : 81.66666666666667\n"
          ]
        }
      ],
      "source": [
        "\n",
        "# Exercice 4\n",
        "# Utilisez sum() et len() pour calculer la moyenne d'une liste de notes.\n",
        "# Résultat attendu pour [70, 85, 90] : 81.66666666666667\n",
        "\n",
        "print(f'la somme est : {sum([70, 85, 90])}')\n",
        "print(f'La moyenne est : {sum([70, 85, 90])/len([70, 85, 90])}')\n"
      ]
    },
    {
      "cell_type": "code",
      "execution_count": 17,
      "id": "b4c86e56",
      "metadata": {
        "colab": {
          "base_uri": "https://localhost:8080/"
        },
        "id": "b4c86e56",
        "outputId": "8916f6e3-2813-4094-af03-5d17751dd458"
      },
      "outputs": [
        {
          "output_type": "stream",
          "name": "stdout",
          "text": [
            "[('Alice', 25), ('Bob', 30), ('Charlie', 35)]\n"
          ]
        }
      ],
      "source": [
        "\n",
        "# Exercice 5\n",
        "# Utilisez zip() pour associer les prénoms aux âges, puis affichez chaque paire.\n",
        "# Résultat attendu : Alice - 25, Bob - 30, Charlie - 35\n",
        "\n",
        "prénoms = [\"Alice\", \"Bob\", \"Charlie\"]\n",
        "âges = [25, 30, 35]\n",
        "resultats = zip(prénoms, âges)\n",
        "print(list(resultats))"
      ]
    }
  ],
  "metadata": {
    "kernelspec": {
      "display_name": "Python 3 (ipykernel)",
      "language": "python",
      "name": "python3"
    },
    "language_info": {
      "codemirror_mode": {
        "name": "ipython",
        "version": 3
      },
      "file_extension": ".py",
      "mimetype": "text/x-python",
      "name": "python",
      "nbconvert_exporter": "python",
      "pygments_lexer": "ipython3",
      "version": "3.12.7"
    },
    "colab": {
      "provenance": [],
      "include_colab_link": true
    }
  },
  "nbformat": 4,
  "nbformat_minor": 5
}
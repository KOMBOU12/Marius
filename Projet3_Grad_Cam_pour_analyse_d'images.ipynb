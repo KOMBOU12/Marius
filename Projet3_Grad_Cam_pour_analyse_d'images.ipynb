{
  "nbformat": 4,
  "nbformat_minor": 0,
  "metadata": {
    "colab": {
      "provenance": [],
      "include_colab_link": true
    },
    "kernelspec": {
      "name": "python3",
      "display_name": "Python 3"
    }
  },
  "cells": [
    {
      "cell_type": "markdown",
      "metadata": {
        "id": "view-in-github",
        "colab_type": "text"
      },
      "source": [
        "<a href=\"https://colab.research.google.com/github/KOMBOU12/Marius/blob/main/Projet3_Grad_Cam_pour_analyse_d'images.ipynb\" target=\"_parent\"><img src=\"https://colab.research.google.com/assets/colab-badge.svg\" alt=\"Open In Colab\"/></a>"
      ]
    },
    {
      "cell_type": "markdown",
      "metadata": {
        "id": "OXQ3x0D7JyAI"
      },
      "source": [
        "# Grad-CAM: Comment visualiser les cartes d'activation de classe pour apporter de l'interprétabilité au Deep Learning"
      ]
    },
    {
      "cell_type": "markdown",
      "metadata": {
        "id": "6j6zC6gkKGmi"
      },
      "source": [
        "  🌟 Ce tutoriel, permet d'apprendre à visualiser les cartes d'activation de classe en utilisant un algorithme appelé Grad-CAM (article original ici : https://arxiv.org/pdf/1611.07450.pdf). L'implémentation se fera avec Keras, en s'inspirant du code proposé par F. Chollet (https://github.com/keras-team/keras-io/blob/master/examples/vision/grad_cam.py).\n",
        "\n",
        "Les modèles de Deep Learning sont souvent considérés comme des modèles de type \"boîte noire\", car nous ne savons pas pourquoi une certaine sortie est associée à une certaine entrée.\n",
        "\n",
        "Comme expliqué dans l'article original, \"Grad-CAM utilise le gradient de tout concept cible (par exemple, les logits pour 'chien' ou même une légende prédite pour une image d'entrée), en le faisant passer dans la dernière couche de convolution pour produire une carte de localisation grossière qui met en évidence les régions importantes de l'image pour prédire le concept.\"\n",
        "\n",
        "Pour simplifier, la méthode Grad-CAM permet de comprendre quelle partie de l'image a été utilisée par le modèle pour prendre sa décision, ou plus précisément, quelle partie de l'image a le plus contribué à sa prédiction.\n",
        "\n",
        "🚀 Pourquoi vouloir visualiser les cartes d'activation de classe dans les réseaux neuronaux convolutifs ?\n",
        "En réalité, nous voulons nous assurer que le modèle prend une décision pour les bonnes raisons et qu'il n'est pas biaisé. Concrètement, prenons un exemple : nous souhaitons que le modèle détecte un lapin parce qu'il ressemble à un lapin, et non parce qu'il y a une carotte et une cuisine en arrière-plan. Cela garantit que le modèle peut détecter un lapin dans n'importe quel contexte.\n",
        "\n",
        "Le concept est simple et direct :\n",
        "\n",
        "\n",
        "1.   Trouver et isoler la dernière couche de convolution dans un réseau neuronal profond pré-entraîné.\n",
        "2.   Calculer le gradient qui traverse cette couche et colorier ses valeurs sous forme de carte thermique.\n",
        "\n",
        "\n"
      ]
    },
    {
      "cell_type": "markdown",
      "metadata": {
        "id": "ZJJbdsFgNmmN"
      },
      "source": [
        "## ➡️ Configuration\n",
        "\n",
        "🟢 Chargement des bibliothèques"
      ]
    },
    {
      "cell_type": "code",
      "metadata": {
        "id": "zXHcx6uu8Pvg"
      },
      "source": [
        "# Usual Imports for Deep Learning\n",
        "import numpy as np\n",
        "import tensorflow as tf\n",
        "from tensorflow import keras\n",
        "\n",
        "# Display\n",
        "from IPython.display import Image\n",
        "import matplotlib.pyplot as plt\n",
        "import matplotlib.cm as cm\n"
      ],
      "execution_count": null,
      "outputs": []
    },
    {
      "cell_type": "markdown",
      "metadata": {
        "id": "bqgLAJrJNxXL"
      },
      "source": [
        "Nous allons utiliser le modèle Xception (documentation ici : https://keras.io/api/applications/xception/).\n",
        "\n",
        "🔧 Nous utilisons model.summary() pour afficher les noms de toutes les couches du modèle et identifier le nom de la dernière couche convolutionnelle."
      ]
    },
    {
      "cell_type": "code",
      "metadata": {
        "id": "BvJWfPgrJk1g"
      },
      "source": [
        "# Prepare the model. model_builder() is used to load Xception with Keras\n",
        "# You can check the documentation of those functions on https://www.tensorflow.org\n",
        "model_builder = keras.applications.xception.Xception\n",
        "img_size = (299, 299)\n",
        "preprocess_input = keras.applications.xception.preprocess_input\n",
        "decode_predictions = keras.applications.xception.decode_predictions\n",
        "\n",
        "\n",
        "# Create the model, by using pretrained weights on ImageNet\n",
        "model = model_builder(weights=\"imagenet\")\n",
        "#print(model.summary())"
      ],
      "execution_count": null,
      "outputs": []
    },
    {
      "cell_type": "markdown",
      "source": [
        "🔧 A cette étape nous préparons :\n",
        "\n",
        "\n",
        "\n",
        "*   Les couches à analyser\n",
        "*   L'image d'entrée\n",
        "*   L'affichage visuel de l'image pour un aperçu rapide.\n",
        "\n",
        "\n",
        "\n",
        "\n",
        "\n"
      ],
      "metadata": {
        "id": "SDvDzzJ5g3Fp"
      }
    },
    {
      "cell_type": "code",
      "source": [
        "# Isolate the last convolutional layer\n",
        "last_conv_layer_name = \"block14_sepconv2_act\"\n",
        "classifier_layer_names = [\n",
        "    \"avg_pool\",\n",
        "    \"predictions\",\n",
        "]\n",
        "\n",
        "# The local path to our target image\n",
        "# img_path = keras.utils.get_file(\n",
        "#     \"rabbit.jpg\", \"https://i.imgur.com/vH1MxgA.png\"\n",
        "# )\n",
        "\n",
        "img_path = \"animaux.jpg\"\n",
        "# Visualize the image\n",
        "display(Image(img_path))"
      ],
      "metadata": {
        "colab": {
          "base_uri": "https://localhost:8080/",
          "height": 179
        },
        "id": "aANpMmpVgGz6",
        "outputId": "20ec401d-6322-4929-e452-ea1f5d76d19f"
      },
      "execution_count": null,
      "outputs": [
        {
          "output_type": "display_data",
          "data": {
            "image/jpeg": "[encoded data removed]",
            "text/plain": [
              "<IPython.core.display.Image object>"
            ]
          },
          "metadata": {}
        }
      ]
    },
    {
      "cell_type": "markdown",
      "metadata": {
        "id": "lKf8wg1cOcTt"
      },
      "source": [
        "## ➡️ L'algorithme Grad-CAM (Gradient-weighted Class Activation Mapping)\n",
        "\n",
        "Cette partie implémente une méthode pour générer une carte thermique Grad-CAM (Gradient-weighted Class Activation Mapping) qui met en évidence les zones de l'image ayant la plus grande influence sur les prédictions d'un modèle."
      ]
    },
    {
      "cell_type": "markdown",
      "source": [
        "La fonction get_img_array prépare une image en entrée pour le modèle."
      ],
      "metadata": {
        "id": "u5pVi87wm7CK"
      }
    },
    {
      "cell_type": "code",
      "source": [
        "def get_img_array(img_path, size):\n",
        "    # `img` is a PIL image of size 299x299\n",
        "    img = keras.preprocessing.image.load_img(img_path, target_size=size)\n",
        "    # `array` is a float32 Numpy array of shape (299, 299, 3)\n",
        "    array = keras.preprocessing.image.img_to_array(img)\n",
        "    # We add a dimension to transform our array into a \"batch\"\n",
        "    # of size (1, 299, 299, 3). We do this because this dimension is needed for most built-in functions\n",
        "    array = np.expand_dims(array, axis=0)\n",
        "    return array"
      ],
      "metadata": {
        "id": "SybU4I9BmeS7"
      },
      "execution_count": null,
      "outputs": []
    },
    {
      "cell_type": "markdown",
      "source": [
        "La fonction *make_gradcam_heatmap* génère une carte thermique Grad-CAM pour une classe prédite spécifique."
      ],
      "metadata": {
        "id": "1Qqkrq_qmf8A"
      }
    },
    {
      "cell_type": "code",
      "metadata": {
        "id": "McUVIyGgJlGp"
      },
      "source": [
        "def make_gradcam_heatmap(\n",
        "    img_array, model, last_conv_layer_name, classifier_layer_names, prediction_rank=1):\n",
        "    # The variable \"prediction_rank\" is used to apply gradcam on the top class\n",
        "    # You can modify it to prediction_rank=n for a heatmap on the nth top class\n",
        "\n",
        "    # First, we create a model that maps the input image to the activations of the last conv layer\n",
        "    last_conv_layer = model.get_layer(last_conv_layer_name)\n",
        "    last_conv_layer_model = keras.Model(model.inputs, last_conv_layer.output)\n",
        "\n",
        "    # Second, we create a model that maps the activations of the last conv layer to the final class predictions\n",
        "    classifier_input = keras.Input(shape=last_conv_layer.output.shape[1:])\n",
        "    x = classifier_input\n",
        "    for layer_name in classifier_layer_names:\n",
        "        x = model.get_layer(layer_name)(x)\n",
        "    classifier_model = keras.Model(classifier_input, x)\n",
        "\n",
        "    # Then, we compute the gradient of the top predicted class for our input image\n",
        "    # with respect to the activations of the last conv layer\n",
        "    with tf.GradientTape() as tape:\n",
        "        # GradientTape() is a built-in Tensorflow tool to record operations for automatic differentiation.\n",
        "        # https://www.tensorflow.org/api_docs/python/tf/GradientTape\n",
        "        # We compute activations of the last conv layer and make the tape watch it\n",
        "        last_conv_layer_output = last_conv_layer_model(img_array)\n",
        "        tape.watch(last_conv_layer_output)\n",
        "        # Compute class predictions\n",
        "        # We pass the activations of the last conv in our classifier_model to obtain the predictions of the model\n",
        "        preds = classifier_model(last_conv_layer_output)\n",
        "        # This prediction has a shape=(1, 1000) because there is 1000 classes in ImageNet.\n",
        "        # We find the index of the top prediction and we call it pred_index, because it's the index of the prediction\n",
        "        pred_index = tf.argsort(preds)[0][-prediction_rank]\n",
        "        # We only keep the value of the prediction at the position of the pred_index\n",
        "        top_class_channel = preds[:, pred_index]\n",
        "\n",
        "\n",
        "    # This is the gradient of the top predicted class with respect to\n",
        "    # the output feature map of the last conv layer\n",
        "    grads = tape.gradient(top_class_channel, last_conv_layer_output)\n",
        "\n",
        "    # This is a vector where each entry is the mean intensity of the gradient\n",
        "    # over a specific feature map channel\n",
        "    pooled_grads = tf.reduce_mean(grads, axis=(0, 1, 2))\n",
        "\n",
        "    # We multiply each channel in the feature map array\n",
        "    # by \"how important this channel is\" with respect to the top predicted class\n",
        "    last_conv_layer_output = last_conv_layer_output.numpy()[0]\n",
        "    pooled_grads = pooled_grads.numpy()\n",
        "    for i in range(pooled_grads.shape[-1]):\n",
        "        last_conv_layer_output[:, :, i] *= pooled_grads[i]\n",
        "\n",
        "    # The channel-wise mean of the resulting feature map\n",
        "    # is our heatmap of activation for the top class\n",
        "    heatmap = np.mean(last_conv_layer_output, axis=-1)\n",
        "\n",
        "    # For visualization purpose, we will also normalize the heatmap between 0 & 1\n",
        "    heatmap = np.maximum(heatmap, 0) / np.max(heatmap)\n",
        "    return heatmap"
      ],
      "execution_count": null,
      "outputs": []
    },
    {
      "cell_type": "markdown",
      "metadata": {
        "id": "dNlewqMbUlh6"
      },
      "source": [
        "## ➡️ Utilisons-le.\n",
        "\n",
        "\n",
        "Cette partie exécute plusieurs étapes pour prédire la classe d'une image donnée à l'aide d'un modèle pré-entraîné et pour générer une carte thermique (Grad-CAM) permettant de visualiser quelles parties de l'image ont influencé le plus la prédiction."
      ]
    },
    {
      "cell_type": "code",
      "metadata": {
        "colab": {
          "base_uri": "https://localhost:8080/",
          "height": 509
        },
        "id": "gSx4Fef2JlN-",
        "outputId": "e8f6b7d7-4181-484d-d0a5-f82e0fd27815"
      },
      "source": [
        "# Prepare image\n",
        "img_array = preprocess_input(get_img_array(img_path, size=img_size))\n",
        "\n",
        "# Print what the top predicted class is (Angora stands for Angora Rabbit in ImageNet labels)\n",
        "# According to https://www.tensorflow.org/api_docs/python/tf/keras/applications/xception/decode_predictions\n",
        "# decode_predictions() returns a list of lists of top class prediction tuples (class_name, class_description, score)\n",
        "# class_name is the internal name of the class, class_description the name in natural language and score is the probability of this prediction.\n",
        "# top=1 is used to have the top class and [0] to have the first element of the list.\n",
        "preds = model.predict(img_array)\n",
        "print(\"Top 1 Prediction:\", decode_predictions(preds, top=1)[0])\n",
        "\n",
        "# In order to check the 2nd and 3rd predicted class, we also print the predictions with top=3\n",
        "print(\"Top 3 Predictions:\", decode_predictions(preds, top=3)[0])\n",
        "\n",
        "# Generate class activation heatmap\n",
        "heatmap = make_gradcam_heatmap(\n",
        "    img_array, model, last_conv_layer_name, classifier_layer_names\n",
        ")\n",
        "\n",
        "# Display heatmap. This heatmap is normalized for visualisation purpose, as explained in make_gradcam_heatmap()\n",
        "# Thanks to that, we can know what part of the image was the most important to predict the top class\n",
        "plt.matshow(heatmap)\n",
        "plt.show()"
      ],
      "execution_count": null,
      "outputs": [
        {
          "output_type": "stream",
          "name": "stdout",
          "text": [
            "\u001b[1m1/1\u001b[0m \u001b[32m━━━━━━━━━━━━━━━━━━━━\u001b[0m\u001b[37m\u001b[0m \u001b[1m0s\u001b[0m 354ms/step\n",
            "Top 1 Prediction: [('n02422106', 'hartebeest', 0.19020745)]\n",
            "Top 3 Predictions: [('n02422106', 'hartebeest', 0.19020745), ('n02437312', 'Arabian_camel', 0.05619249), ('n02504458', 'African_elephant', 0.05411093)]\n"
          ]
        },
        {
          "output_type": "display_data",
          "data": {
            "text/plain": [
              "<Figure size 480x480 with 1 Axes>"
            ],
            "image/png": "[encoded data removed]"
          },
          "metadata": {}
        }
      ]
    },
    {
      "cell_type": "markdown",
      "metadata": {
        "id": "_ohlPk_1VA24"
      },
      "source": [
        "## ➡️ On crée une visualisation superposée\n",
        "\n",
        "La carte thermique (heatmap) générée précédemment est utilisée pour créer une visualisation superposée sur une image originale."
      ]
    },
    {
      "cell_type": "code",
      "metadata": {
        "colab": {
          "base_uri": "https://localhost:8080/",
          "height": 234
        },
        "id": "6a4fEP1tUuHw",
        "outputId": "8ceafd50-11fa-4942-82fa-6c5b10955856"
      },
      "source": [
        "# We load the original image\n",
        "img = keras.preprocessing.image.load_img(img_path)\n",
        "img = keras.preprocessing.image.img_to_array(img)\n",
        "\n",
        "# We rescale heatmap to a range 0-255 (because earlier, for visualization purpose, we normalized the heatmap between 0 & 1)\n",
        "# We rescale it on this range to have it in RGB, so that we can superimpose it on the rabbit picture.\n",
        "heatmap = np.uint8(255 * heatmap)\n",
        "\n",
        "# We use jet colormap to colorize heatmap\n",
        "jet = cm.get_cmap(\"jet\")\n",
        "\n",
        "# We use RGB values of the colormap\n",
        "jet_colors = jet(np.arange(256))[:, :3]\n",
        "jet_heatmap = jet_colors[heatmap]\n",
        "\n",
        "# We create an image with RGB colorized heatmap\n",
        "jet_heatmap = keras.preprocessing.image.array_to_img(jet_heatmap)\n",
        "jet_heatmap = jet_heatmap.resize((img.shape[1], img.shape[0]))\n",
        "jet_heatmap = keras.preprocessing.image.img_to_array(jet_heatmap)\n",
        "\n",
        "# Superimpose the heatmap on original image\n",
        "superimposed_img = jet_heatmap * 0.4 + img #0.4 good value\n",
        "superimposed_img = keras.preprocessing.image.array_to_img(superimposed_img)\n",
        "\n",
        "# Save the superimposed image\n",
        "save_path = \"rabbit_cam.jpg\"\n",
        "superimposed_img.save(save_path)\n",
        "\n",
        "# Display Grad CAM\n",
        "display(Image(save_path))"
      ],
      "execution_count": null,
      "outputs": [
        {
          "output_type": "stream",
          "name": "stderr",
          "text": [
            "<ipython-input-29-5ca61a271316>:10: MatplotlibDeprecationWarning: The get_cmap function was deprecated in Matplotlib 3.7 and will be removed in 3.11. Use ``matplotlib.colormaps[name]`` or ``matplotlib.colormaps.get_cmap()`` or ``pyplot.get_cmap()`` instead.\n",
            "  jet = cm.get_cmap(\"jet\")\n"
          ]
        },
        {
          "output_type": "display_data",
          "data": {
            "image/jpeg": "[encoded data removed]",
            "text/plain": [
              "<IPython.core.display.Image object>"
            ]
          },
          "metadata": {}
        }
      ]
    },
    {
      "cell_type": "markdown",
      "metadata": {
        "id": "KSOOs8zEVQsr"
      },
      "source": [
        "## 🚀 Perfect!!!!!\n",
        "\n",
        "Après avoir testé plusieurs images (une girafe, une grenouille, une image plein d'animaux) on observe que les régions importantes de l'image diffère selon l'image qui est mise. Il ne s'agit donc pas d'un modèle qui cible toujours une même partie quelque soit la photo mise."
      ]
    }
  ]
}
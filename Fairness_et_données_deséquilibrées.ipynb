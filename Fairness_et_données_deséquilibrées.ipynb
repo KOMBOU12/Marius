{
  "nbformat": 4,
  "nbformat_minor": 0,
  "metadata": {
    "colab": {
      "provenance": [],
      "authorship_tag": "ABX9TyOO8sPDZdd/FQ2NaJmze/Cj",
      "include_colab_link": true
    },
    "kernelspec": {
      "name": "python3",
      "display_name": "Python 3"
    },
    "language_info": {
      "name": "python"
    }
  },
  "cells": [
    {
      "cell_type": "markdown",
      "metadata": {
        "id": "view-in-github",
        "colab_type": "text"
      },
      "source": [
        "<a href=\"https://colab.research.google.com/github/KOMBOU12/Marius/blob/main/Fairness_et_donn%C3%A9es_des%C3%A9quilibr%C3%A9es.ipynb\" target=\"_parent\"><img src=\"https://colab.research.google.com/assets/colab-badge.svg\" alt=\"Open In Colab\"/></a>"
      ]
    },
    {
      "cell_type": "code",
      "execution_count": null,
      "metadata": {
        "colab": {
          "base_uri": "https://localhost:8080/"
        },
        "id": "UDYYZy4sUhHU",
        "outputId": "e8ebe83b-5fd4-46c5-b985-982de8a909c4"
      },
      "outputs": [
        {
          "output_type": "stream",
          "name": "stdout",
          "text": [
            "Requirement already satisfied: imbalanced-learn in /usr/local/lib/python3.10/dist-packages (0.12.4)\n",
            "Requirement already satisfied: numpy>=1.17.3 in /usr/local/lib/python3.10/dist-packages (from imbalanced-learn) (1.26.4)\n",
            "Requirement already satisfied: scipy>=1.5.0 in /usr/local/lib/python3.10/dist-packages (from imbalanced-learn) (1.13.1)\n",
            "Requirement already satisfied: scikit-learn>=1.0.2 in /usr/local/lib/python3.10/dist-packages (from imbalanced-learn) (1.5.2)\n",
            "Requirement already satisfied: joblib>=1.1.1 in /usr/local/lib/python3.10/dist-packages (from imbalanced-learn) (1.4.2)\n",
            "Requirement already satisfied: threadpoolctl>=2.0.0 in /usr/local/lib/python3.10/dist-packages (from imbalanced-learn) (3.5.0)\n"
          ]
        }
      ],
      "source": [
        "pip install imbalanced-learn"
      ]
    },
    {
      "cell_type": "code",
      "source": [
        "# Re-importation des librairies et exécution du code après la réinitialisation\n",
        "from collections import Counter\n",
        "from sklearn.datasets import make_classification\n",
        "from imblearn.over_sampling import RandomOverSampler\n",
        "from sklearn.model_selection import train_test_split\n",
        "from sklearn.ensemble import RandomForestClassifier\n",
        "from sklearn.metrics import classification_report, accuracy_score\n",
        "\n",
        "# Génération d'un jeu de données différent avec un déséquilibre\n",
        "X, y = make_classification(n_classes=2, class_sep=1.5, weights=[0.2, 0.8],\n",
        "                           n_informative=4, n_redundant=0, n_features=15,\n",
        "                           n_clusters_per_class=2, n_samples=1500, random_state=42)\n",
        "\n",
        "# Affichage de la distribution initiale des classes\n",
        "original_distribution = Counter(y)\n",
        "\n",
        "# Application de RandomOverSampler pour équilibrer les classes\n",
        "ros = RandomOverSampler(random_state=42)\n",
        "X_resampled, y_resampled = ros.fit_resample(X, y)\n",
        "\n",
        "# Affichage de la distribution après suréchantillonnage\n",
        "resampled_distribution = Counter(y_resampled)\n",
        "\n",
        "# Séparer les données en ensembles d'entraînement et de test\n",
        "X_train, X_test, y_train, y_test = train_test_split(X_resampled, y_resampled, test_size=0.3, random_state=42)\n",
        "\n",
        "# Entraînement d'un modèle de classification (RandomForest)\n",
        "model = RandomForestClassifier(random_state=42)\n",
        "model.fit(X_train, y_train)\n",
        "\n",
        "# Prédiction sur l'ensemble de test\n",
        "y_pred = model.predict(X_test)\n",
        "\n",
        "# Evaluation des performances\n",
        "accuracy = accuracy_score(y_test, y_pred)\n",
        "report = classification_report(y_test, y_pred)\n",
        "\n",
        "(original_distribution, resampled_distribution, accuracy)\n"
      ],
      "metadata": {
        "colab": {
          "base_uri": "https://localhost:8080/"
        },
        "id": "JV2jfKa8eiej",
        "outputId": "fbbe4686-37fe-4798-bd43-36b689e5557b"
      },
      "execution_count": null,
      "outputs": [
        {
          "output_type": "execute_result",
          "data": {
            "text/plain": [
              "(Counter({1: 1200, 0: 300}), Counter({1: 1200, 0: 1200}), 0.9555555555555556)"
            ]
          },
          "metadata": {},
          "execution_count": 7
        }
      ]
    },
    {
      "cell_type": "code",
      "source": [
        "report"
      ],
      "metadata": {
        "colab": {
          "base_uri": "https://localhost:8080/",
          "height": 70
        },
        "id": "IAxcLQ1C5qkH",
        "outputId": "f5effde5-c894-46f1-ffa8-7cd8a7722032"
      },
      "execution_count": null,
      "outputs": [
        {
          "output_type": "execute_result",
          "data": {
            "text/plain": [
              "'              precision    recall  f1-score   support\\n\\n           0       0.93      0.98      0.96       346\\n           1       0.98      0.93      0.96       374\\n\\n    accuracy                           0.96       720\\n   macro avg       0.96      0.96      0.96       720\\nweighted avg       0.96      0.96      0.96       720\\n'"
            ],
            "application/vnd.google.colaboratory.intrinsic+json": {
              "type": "string"
            }
          },
          "metadata": {},
          "execution_count": 6
        }
      ]
    },
    {
      "cell_type": "code",
      "source": [
        "# Importation des bibliothèques nécessaires\n",
        "import numpy as np\n",
        "import pandas as pd\n",
        "from sklearn.datasets import make_classification\n",
        "from sklearn.model_selection import train_test_split\n",
        "from sklearn.linear_model import LogisticRegression\n",
        "from sklearn.metrics import classification_report, accuracy_score\n",
        "from imblearn.under_sampling import RandomUnderSampler\n",
        "from sklearn.preprocessing import StandardScaler\n",
        "\n",
        "# Chargement du jeu de données de détection de fraude par carte de crédit\n",
        "# Vous pouvez télécharger le dataset ici : https://www.kaggle.com/mlg-ulb/creditcardfraud\n",
        "data = pd.read_csv('creditcard.csv')\n",
        "\n",
        "# Séparation des caractéristiques (X) et des étiquettes (y)\n",
        "X = data.drop('Class', axis=1)\n",
        "y = data['Class']\n",
        "\n",
        "# Division des données en ensembles d'entraînement et de test\n",
        "X_train, X_test, y_train, y_test = train_test_split(X, y, test_size=0.2, random_state=42, stratify=y)\n",
        "\n",
        "# Standardisation des données pour améliorer les performances de la régression logistique\n",
        "scaler = StandardScaler()\n",
        "X_train = scaler.fit_transform(X_train)\n",
        "X_test = scaler.transform(X_test)\n",
        "\n",
        "# Entraînement du modèle avant sous-échantillonnage\n",
        "model = LogisticRegression(random_state=42)\n",
        "model.fit(X_train, y_train)\n",
        "\n",
        "# Prédiction et évaluation du modèle avant sous-échantillonnage\n",
        "y_pred = model.predict(X_test)\n",
        "print(\"Rapport de classification avant sous-échantillonnage :\")\n",
        "print(classification_report(y_test, y_pred))\n",
        "print(f\"Précision : {accuracy_score(y_test, y_pred) * 100:.2f}%\")\n",
        "\n",
        "# Application du RandomUnderSampler\n",
        "rus = RandomUnderSampler(random_state=42)\n",
        "X_train_res, y_train_res = rus.fit_resample(X_train, y_train)\n",
        "\n",
        "# Entraînement du modèle après sous-échantillonnage\n",
        "model.fit(X_train_res, y_train_res)\n",
        "\n",
        "# Prédiction et évaluation du modèle après sous-échantillonnage\n",
        "y_pred_res = model.predict(X_test)\n",
        "print(\"Rapport de classification après sous-échantillonnage :\")\n",
        "print(classification_report(y_test, y_pred_res))\n",
        "print(f\"Précision : {accuracy_score(y_test, y_pred_res) * 100:.2f}%\")\n"
      ],
      "metadata": {
        "id": "TFcrWsE49M9G",
        "colab": {
          "base_uri": "https://localhost:8080/"
        },
        "outputId": "965c3f4d-b840-434b-c821-7ed95c7891aa"
      },
      "execution_count": null,
      "outputs": [
        {
          "output_type": "stream",
          "name": "stdout",
          "text": [
            "Rapport de classification avant sous-échantillonnage :\n",
            "              precision    recall  f1-score   support\n",
            "\n",
            "           0       1.00      1.00      1.00     56864\n",
            "           1       0.83      0.63      0.72        98\n",
            "\n",
            "    accuracy                           1.00     56962\n",
            "   macro avg       0.91      0.82      0.86     56962\n",
            "weighted avg       1.00      1.00      1.00     56962\n",
            "\n",
            "Précision : 99.91%\n",
            "Rapport de classification après sous-échantillonnage :\n",
            "              precision    recall  f1-score   support\n",
            "\n",
            "           0       1.00      0.96      0.98     56864\n",
            "           1       0.04      0.92      0.07        98\n",
            "\n",
            "    accuracy                           0.96     56962\n",
            "   macro avg       0.52      0.94      0.53     56962\n",
            "weighted avg       1.00      0.96      0.98     56962\n",
            "\n",
            "Précision : 96.02%\n"
          ]
        }
      ]
    },
    {
      "cell_type": "code",
      "source": [],
      "metadata": {
        "id": "hYtnzXCc8ONz"
      },
      "execution_count": null,
      "outputs": []
    }
  ]
}
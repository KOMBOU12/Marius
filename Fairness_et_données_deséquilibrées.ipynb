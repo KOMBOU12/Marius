{
  "nbformat": 4,
  "nbformat_minor": 0,
  "metadata": {
    "colab": {
      "provenance": [],
      "authorship_tag": "ABX9TyMjAXj1CuTd8VQswIQuBmIh",
      "include_colab_link": true
    },
    "kernelspec": {
      "name": "python3",
      "display_name": "Python 3"
    },
    "language_info": {
      "name": "python"
    }
  },
  "cells": [
    {
      "cell_type": "markdown",
      "metadata": {
        "id": "view-in-github",
        "colab_type": "text"
      },
      "source": [
        "<a href=\"https://colab.research.google.com/github/KOMBOU12/Marius/blob/main/Fairness_et_donn%C3%A9es_des%C3%A9quilibr%C3%A9es.ipynb\" target=\"_parent\"><img src=\"https://colab.research.google.com/assets/colab-badge.svg\" alt=\"Open In Colab\"/></a>"
      ]
    },
    {
      "cell_type": "markdown",
      "source": [
        "**1- Algorihme 1: random over-sampling**"
      ],
      "metadata": {
        "id": "JAMskAXfS0o7"
      }
    },
    {
      "cell_type": "code",
      "execution_count": 4,
      "metadata": {
        "colab": {
          "base_uri": "https://localhost:8080/"
        },
        "id": "UDYYZy4sUhHU",
        "outputId": "05c0d472-2c75-4f78-95d3-68276f233ca5"
      },
      "outputs": [
        {
          "output_type": "stream",
          "name": "stdout",
          "text": [
            "Requirement already satisfied: imbalanced-learn in /usr/local/lib/python3.10/dist-packages (0.12.4)\n",
            "Requirement already satisfied: numpy>=1.17.3 in /usr/local/lib/python3.10/dist-packages (from imbalanced-learn) (1.26.4)\n",
            "Requirement already satisfied: scipy>=1.5.0 in /usr/local/lib/python3.10/dist-packages (from imbalanced-learn) (1.13.1)\n",
            "Requirement already satisfied: scikit-learn>=1.0.2 in /usr/local/lib/python3.10/dist-packages (from imbalanced-learn) (1.5.2)\n",
            "Requirement already satisfied: joblib>=1.1.1 in /usr/local/lib/python3.10/dist-packages (from imbalanced-learn) (1.4.2)\n",
            "Requirement already satisfied: threadpoolctl>=2.0.0 in /usr/local/lib/python3.10/dist-packages (from imbalanced-learn) (3.5.0)\n"
          ]
        }
      ],
      "source": [
        "pip install imbalanced-learn"
      ]
    },
    {
      "cell_type": "code",
      "source": [
        "from collections import Counter\n",
        "from sklearn.datasets import load_iris\n",
        "from imblearn.over_sampling import RandomOverSampler\n",
        "from sklearn.model_selection import train_test_split\n",
        "from sklearn.ensemble import RandomForestClassifier\n",
        "from sklearn.metrics import classification_report, accuracy_score\n",
        "import numpy as np\n",
        "\n",
        "# Chargement du jeu de données Iris\n",
        "data = load_iris()\n",
        "X, y = data.data, data.target\n",
        "\n",
        "# Division en ensembles d'entraînement et de test\n",
        "X_train, X_test, y_train, y_test = train_test_split(X, y, test_size=0.3, random_state=42)\n",
        "\n",
        "# Entraînement d'un modèle RandomForest sur les données originales\n",
        "model = RandomForestClassifier(random_state=42)\n",
        "model.fit(X_train, y_train)\n",
        "\n",
        "# Évaluation du modèle sur les données non rééquilibrées\n",
        "y_pred = model.predict(X_test)\n",
        "accuracy_original = accuracy_score(y_test, y_pred)\n",
        "report_original = classification_report(y_test, y_pred)\n",
        "\n",
        "print(\"Distribution originale des classes:\", Counter(y_train))\n",
        "print(\"Précision du modèle sans rééquilibrage:\", accuracy_original)\n",
        "print(\"Rapport de classification sans rééquilibrage:\\n\", report_original)\n",
        "\n",
        "# Application de RandomOverSampler pour rééquilibrer les classes\n",
        "ros = RandomOverSampler(random_state=42)\n",
        "X_resampled, y_resampled = ros.fit_resample(X_train, y_train)\n",
        "\n",
        "# Entraînement du modèle sur les données rééquilibrées\n",
        "model.fit(X_resampled, y_resampled)\n",
        "\n",
        "# Évaluation du modèle sur les données rééquilibrées\n",
        "y_pred_resampled = model.predict(X_test)\n",
        "accuracy_resampled = accuracy_score(y_test, y_pred_resampled)\n",
        "report_resampled = classification_report(y_test, y_pred_resampled)\n",
        "\n",
        "print(\"Distribution après rééquilibrage:\", Counter(y_resampled))\n",
        "print(\"Précision du modèle avec rééquilibrage:\", accuracy_resampled)\n",
        "print(\"Rapport de classification avec rééquilibrage:\\n\", report_resampled)"
      ],
      "metadata": {
        "colab": {
          "base_uri": "https://localhost:8080/"
        },
        "id": "-ifEnyjkrv0L",
        "outputId": "15314db4-a2e6-4688-9297-d643f00507cb"
      },
      "execution_count": 1,
      "outputs": [
        {
          "output_type": "stream",
          "name": "stdout",
          "text": [
            "Distribution originale des classes: Counter({1: 37, 2: 37, 0: 31})\n",
            "Précision du modèle sans rééquilibrage: 1.0\n",
            "Rapport de classification sans rééquilibrage:\n",
            "               precision    recall  f1-score   support\n",
            "\n",
            "           0       1.00      1.00      1.00        19\n",
            "           1       1.00      1.00      1.00        13\n",
            "           2       1.00      1.00      1.00        13\n",
            "\n",
            "    accuracy                           1.00        45\n",
            "   macro avg       1.00      1.00      1.00        45\n",
            "weighted avg       1.00      1.00      1.00        45\n",
            "\n",
            "Distribution après rééquilibrage: Counter({1: 37, 2: 37, 0: 37})\n",
            "Précision du modèle avec rééquilibrage: 1.0\n",
            "Rapport de classification avec rééquilibrage:\n",
            "               precision    recall  f1-score   support\n",
            "\n",
            "           0       1.00      1.00      1.00        19\n",
            "           1       1.00      1.00      1.00        13\n",
            "           2       1.00      1.00      1.00        13\n",
            "\n",
            "    accuracy                           1.00        45\n",
            "   macro avg       1.00      1.00      1.00        45\n",
            "weighted avg       1.00      1.00      1.00        45\n",
            "\n"
          ]
        }
      ]
    },
    {
      "cell_type": "markdown",
      "source": [
        "**Algorihme 2: random under-sampling**"
      ],
      "metadata": {
        "id": "p-ecqvN6TIWy"
      }
    },
    {
      "cell_type": "code",
      "source": [
        "# Importation des bibliothèques nécessaires\n",
        "import numpy as np\n",
        "import pandas as pd\n",
        "from sklearn.datasets import make_classification\n",
        "from sklearn.model_selection import train_test_split\n",
        "from sklearn.linear_model import LogisticRegression\n",
        "from sklearn.metrics import classification_report, accuracy_score\n",
        "from imblearn.under_sampling import RandomUnderSampler\n",
        "from sklearn.preprocessing import StandardScaler\n",
        "\n",
        "# Chargement du jeu de données de détection de fraude par carte de crédit\n",
        "\n",
        "data = pd.read_csv('creditcard.csv')\n",
        "data = data.dropna()\n",
        "\n",
        "# Séparation des caractéristiques (X) et des étiquettes (y)\n",
        "X = data.drop('Class', axis=1)\n",
        "y = data['Class']\n",
        "\n",
        "# Division des données en ensembles d'entraînement et de test\n",
        "X_train, X_test, y_train, y_test = train_test_split(X, y, test_size=0.2, random_state=42, stratify=y)\n",
        "\n",
        "# Standardisation des données pour améliorer les performances de la régression logistique\n",
        "scaler = StandardScaler()\n",
        "X_train = scaler.fit_transform(X_train)\n",
        "X_test = scaler.transform(X_test)\n",
        "\n",
        "# Entraînement du modèle avant sous-échantillonnage\n",
        "model = LogisticRegression(random_state=42)\n",
        "model.fit(X_train, y_train)\n",
        "\n",
        "# Prédiction et évaluation du modèle avant sous-échantillonnage\n",
        "y_pred = model.predict(X_test)\n",
        "print(\"Rapport de classification avant sous-échantillonnage :\")\n",
        "print(classification_report(y_test, y_pred))\n",
        "print(f\"Précision : {accuracy_score(y_test, y_pred) * 100:.2f}%\")\n",
        "\n",
        "# Application du RandomUnderSampler\n",
        "rus = RandomUnderSampler(random_state=42)\n",
        "X_train_res, y_train_res = rus.fit_resample(X_train, y_train)\n",
        "\n",
        "# Entraînement du modèle après sous-échantillonnage\n",
        "model.fit(X_train_res, y_train_res)\n",
        "\n",
        "# Prédiction et évaluation du modèle après sous-échantillonnage\n",
        "y_pred_res = model.predict(X_test)\n",
        "print(\"Rapport de classification après sous-échantillonnage :\")\n",
        "print(classification_report(y_test, y_pred_res))\n",
        "print(f\"Précision : {accuracy_score(y_test, y_pred_res) * 100:.2f}%\")"
      ],
      "metadata": {
        "id": "TFcrWsE49M9G",
        "colab": {
          "base_uri": "https://localhost:8080/"
        },
        "outputId": "49cfa0b6-5198-4c18-f67c-166ee86e2ffd"
      },
      "execution_count": 11,
      "outputs": [
        {
          "output_type": "stream",
          "name": "stdout",
          "text": [
            "Rapport de classification avant sous-échantillonnage :\n",
            "              precision    recall  f1-score   support\n",
            "\n",
            "         0.0       1.00      1.00      1.00     16616\n",
            "         1.0       0.74      0.57      0.65        40\n",
            "\n",
            "    accuracy                           1.00     16656\n",
            "   macro avg       0.87      0.79      0.82     16656\n",
            "weighted avg       1.00      1.00      1.00     16656\n",
            "\n",
            "Précision : 99.85%\n",
            "Rapport de classification après sous-échantillonnage :\n",
            "              precision    recall  f1-score   support\n",
            "\n",
            "         0.0       1.00      0.97      0.98     16616\n",
            "         1.0       0.06      0.93      0.12        40\n",
            "\n",
            "    accuracy                           0.97     16656\n",
            "   macro avg       0.53      0.95      0.55     16656\n",
            "weighted avg       1.00      0.97      0.98     16656\n",
            "\n",
            "Précision : 96.69%\n"
          ]
        }
      ]
    }
  ]
}
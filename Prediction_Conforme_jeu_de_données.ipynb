{
  "nbformat": 4,
  "nbformat_minor": 0,
  "metadata": {
    "colab": {
      "provenance": [],
      "authorship_tag": "ABX9TyNDoTvOmBhBZzpYxAb/KXQL",
      "include_colab_link": true
    },
    "kernelspec": {
      "name": "python3",
      "display_name": "Python 3"
    },
    "language_info": {
      "name": "python"
    }
  },
  "cells": [
    {
      "cell_type": "markdown",
      "metadata": {
        "id": "view-in-github",
        "colab_type": "text"
      },
      "source": [
        "<a href=\"https://colab.research.google.com/github/KOMBOU12/Marius/blob/main/Prediction_Conforme_jeu_de_donn%C3%A9es.ipynb\" target=\"_parent\"><img src=\"https://colab.research.google.com/assets/colab-badge.svg\" alt=\"Open In Colab\"/></a>"
      ]
    },
    {
      "cell_type": "code",
      "execution_count": null,
      "metadata": {
        "colab": {
          "base_uri": "https://localhost:8080/"
        },
        "id": "LyHe98Oy66Ai",
        "outputId": "4e55bd27-dacd-4e18-a4b6-928d1a19be83"
      },
      "outputs": [
        {
          "output_type": "stream",
          "name": "stdout",
          "text": [
            "Collecting ucimlrepo\n",
            "  Downloading ucimlrepo-0.0.7-py3-none-any.whl.metadata (5.5 kB)\n",
            "Requirement already satisfied: pandas>=1.0.0 in /usr/local/lib/python3.10/dist-packages (from ucimlrepo) (2.2.2)\n",
            "Requirement already satisfied: certifi>=2020.12.5 in /usr/local/lib/python3.10/dist-packages (from ucimlrepo) (2024.8.30)\n",
            "Requirement already satisfied: numpy>=1.22.4 in /usr/local/lib/python3.10/dist-packages (from pandas>=1.0.0->ucimlrepo) (1.26.4)\n",
            "Requirement already satisfied: python-dateutil>=2.8.2 in /usr/local/lib/python3.10/dist-packages (from pandas>=1.0.0->ucimlrepo) (2.8.2)\n",
            "Requirement already satisfied: pytz>=2020.1 in /usr/local/lib/python3.10/dist-packages (from pandas>=1.0.0->ucimlrepo) (2024.2)\n",
            "Requirement already satisfied: tzdata>=2022.7 in /usr/local/lib/python3.10/dist-packages (from pandas>=1.0.0->ucimlrepo) (2024.2)\n",
            "Requirement already satisfied: six>=1.5 in /usr/local/lib/python3.10/dist-packages (from python-dateutil>=2.8.2->pandas>=1.0.0->ucimlrepo) (1.16.0)\n",
            "Downloading ucimlrepo-0.0.7-py3-none-any.whl (8.0 kB)\n",
            "Installing collected packages: ucimlrepo\n",
            "Successfully installed ucimlrepo-0.0.7\n"
          ]
        }
      ],
      "source": [
        "pip install ucimlrepo"
      ]
    },
    {
      "cell_type": "code",
      "source": [
        "from ucimlrepo import fetch_ucirepo\n",
        "\n",
        "# fetch dataset\n",
        "concrete_compressive_strength = fetch_ucirepo(id=165)\n",
        "\n",
        "# data (as pandas dataframes)\n",
        "X = concrete_compressive_strength.data.features\n",
        "y = concrete_compressive_strength.data.targets\n",
        "\n",
        "# metadata\n",
        "#print(concrete_compressive_strength.metadata)\n",
        "\n",
        "# variable information\n",
        "#print(concrete_compressive_strength.variables)\n",
        "print(X)"
      ],
      "metadata": {
        "colab": {
          "base_uri": "https://localhost:8080/"
        },
        "id": "Za8MQidO7Pg7",
        "outputId": "d3a3001b-87c7-4935-bd8f-02fe900a5599"
      },
      "execution_count": null,
      "outputs": [
        {
          "output_type": "stream",
          "name": "stdout",
          "text": [
            "      Cement  Blast Furnace Slag  Fly Ash  Water  Superplasticizer  \\\n",
            "0      540.0                 0.0      0.0  162.0               2.5   \n",
            "1      540.0                 0.0      0.0  162.0               2.5   \n",
            "2      332.5               142.5      0.0  228.0               0.0   \n",
            "3      332.5               142.5      0.0  228.0               0.0   \n",
            "4      198.6               132.4      0.0  192.0               0.0   \n",
            "...      ...                 ...      ...    ...               ...   \n",
            "1025   276.4               116.0     90.3  179.6               8.9   \n",
            "1026   322.2                 0.0    115.6  196.0              10.4   \n",
            "1027   148.5               139.4    108.6  192.7               6.1   \n",
            "1028   159.1               186.7      0.0  175.6              11.3   \n",
            "1029   260.9               100.5     78.3  200.6               8.6   \n",
            "\n",
            "      Coarse Aggregate  Fine Aggregate  Age  \n",
            "0               1040.0           676.0   28  \n",
            "1               1055.0           676.0   28  \n",
            "2                932.0           594.0  270  \n",
            "3                932.0           594.0  365  \n",
            "4                978.4           825.5  360  \n",
            "...                ...             ...  ...  \n",
            "1025             870.1           768.3   28  \n",
            "1026             817.9           813.4   28  \n",
            "1027             892.4           780.0   28  \n",
            "1028             989.6           788.9   28  \n",
            "1029             864.5           761.5   28  \n",
            "\n",
            "[1030 rows x 8 columns]\n"
          ]
        }
      ]
    }
  ]
}
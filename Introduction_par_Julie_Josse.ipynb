{
  "nbformat": 4,
  "nbformat_minor": 0,
  "metadata": {
    "colab": {
      "provenance": [],
      "authorship_tag": "ABX9TyNrtx87Ea9YUIO6iJZaEcKb",
      "include_colab_link": true
    },
    "kernelspec": {
      "name": "ir",
      "display_name": "R"
    },
    "language_info": {
      "name": "R"
    }
  },
  "cells": [
    {
      "cell_type": "markdown",
      "metadata": {
        "id": "view-in-github",
        "colab_type": "text"
      },
      "source": [
        "<a href=\"https://colab.research.google.com/github/KOMBOU12/Marius/blob/main/Introduction_par_Julie_Josse.ipynb\" target=\"_parent\"><img src=\"https://colab.research.google.com/assets/colab-badge.svg\" alt=\"Open In Colab\"/></a>"
      ]
    },
    {
      "cell_type": "markdown",
      "source": [
        "## Le but de ce projet est de faire tourner les codes présentés par Julie JOSSE avec d'autres jeux de données"
      ],
      "metadata": {
        "id": "52887xM8Qy8Y"
      }
    },
    {
      "cell_type": "markdown",
      "source": [
        "**1-1 La méthode EM pour des données gaussiennes bivariées.**\n",
        "\n",
        "L'objectif de ce problème est d'utiliser l'algorithme EM pour estimer la moyenne d'un ensemble de données normales bivariées comportant des valeurs manquantes dans l'une des deux variables. Nous générons  des données synthétiques différentes de Julie Josse, puis nous mettons en œuvre l'algorithme EM pour calculer l'estimateur de la moyenne."
      ],
      "metadata": {
        "id": "80HOu39KRU4G"
      }
    },
    {
      "cell_type": "code",
      "source": [
        "install.packages(\"norm\")"
      ],
      "metadata": {
        "colab": {
          "base_uri": "https://localhost:8080/"
        },
        "id": "UMNhXHuPSPNE",
        "outputId": "b49cf785-7130-4d85-ab73-407b8115ff8f"
      },
      "execution_count": null,
      "outputs": [
        {
          "output_type": "stream",
          "name": "stderr",
          "text": [
            "Installing package into ‘/usr/local/lib/R/site-library’\n",
            "(as ‘lib’ is unspecified)\n",
            "\n"
          ]
        }
      ]
    },
    {
      "cell_type": "code",
      "execution_count": null,
      "metadata": {
        "colab": {
          "base_uri": "https://localhost:8080/"
        },
        "id": "Vn7m1ja6Biof",
        "outputId": "0362534c-8ca7-486a-fdf9-cdffae768d11"
      },
      "outputs": [
        {
          "output_type": "stream",
          "name": "stderr",
          "text": [
            "This package has some major limitations\n",
            "(for example, it does not work reliably when\n",
            "the number of variables exceeds 30),\n",
            "and has been superseded by the norm2 package.\n",
            "\n"
          ]
        },
        {
          "output_type": "stream",
          "name": "stdout",
          "text": [
            "Iterations of EM: \n",
            "1...2...3...4...5...6...7...8...9...10...11...12...13...14...15...16...17...\n"
          ]
        }
      ],
      "source": [
        "library(norm)\n",
        "data(mdata)\n",
        "pre <- prelim.norm(as.matrix(mdata))\n",
        "thetahat <- em.norm(pre)"
      ]
    },
    {
      "cell_type": "code",
      "source": [
        "install.packages(\"mvtnorm\")\n",
        "library(mvtnorm)"
      ],
      "metadata": {
        "id": "n9zbsw24FHrL",
        "colab": {
          "base_uri": "https://localhost:8080/"
        },
        "outputId": "deb82d2c-01b3-4d5a-cc3d-82a022c8f735"
      },
      "execution_count": null,
      "outputs": [
        {
          "output_type": "stream",
          "name": "stderr",
          "text": [
            "Installing package into ‘/usr/local/lib/R/site-library’\n",
            "(as ‘lib’ is unspecified)\n",
            "\n"
          ]
        }
      ]
    },
    {
      "cell_type": "markdown",
      "source": [
        "Ce code génère des données bivariées normalement distribuées avec des valeurs manquantes à 30%.  \n",
        "\n",
        "Le jeu de données comporte $ n $ échantillons contenant des valeurs manquantes uniquement dans la variable $ y_2$. En d'autres termes, pour un indice donné d'échantillons $ r \\leq n $, pour $ i = 1, \\ldots, r $, $ (y_{i1}, y_{i2}) $ sont complètement observés ; tandis que pour $ i = r + 1, \\ldots, n $, nous n'observons que $ y_{i1} $. L'objectif est d'estimer la moyenne $ \\mu $.\n",
        "\n",
        "Nous comparerons deux stratégies :\n",
        "1. Calcul direct de l'estimateur du maximum de vraisemblance.\n",
        "2. Estimation avec l'algorithme EM."
      ],
      "metadata": {
        "id": "0AM0TCR9DMIv"
      }
    },
    {
      "cell_type": "code",
      "source": [
        "set.seed(100)\n",
        "\n",
        "n <- 100\n",
        "r <- floor(n*0.3)\n",
        "mu <- c(2.22, -6.06)\n",
        "# Sigma doit être symétrique\n",
        "Sigma <- matrix(c(2.5, 0.4, 0.4, 0.9), nrow=2)  #\n",
        "\n",
        "Y <- rmvnorm(n, mean=mu, sigma=Sigma)\n",
        "missing_idx <- sample(100, r, replace = FALSE)\n",
        "Y[missing_idx, 2] <- NA"
      ],
      "metadata": {
        "id": "iQjgezsiGamW"
      },
      "execution_count": null,
      "outputs": []
    },
    {
      "cell_type": "markdown",
      "source": [
        "On calcule les estimations du maximum de vraisemblance de $\\mu_1$ et $\\mu_2$"
      ],
      "metadata": {
        "id": "IDfuQhF5HPsQ"
      }
    },
    {
      "cell_type": "code",
      "source": [
        "hat_mu1_ML <- (1/n)*sum(Y[,1])\n",
        "bar_y1 <- mean(Y[setdiff(1:n,missing_idx), 1]) # mean(Y[!((1:n)%in%missing_idx), 1])\n",
        "bar_y2 <-mean(Y[setdiff(1:n,missing_idx), 2])\n",
        "s_11 <- mean((Y[setdiff(1:n,missing_idx),1]-bar_y1)^2)\n",
        "s_22 <- mean((Y[setdiff(1:n,missing_idx),2]-bar_y2)^2)\n",
        "s_12 <- mean((Y[setdiff(1:n,missing_idx),1]-bar_y1)*(Y[setdiff(1:n,missing_idx),2]-bar_y2))\n",
        "hat_beta_21.1 <- s_12/s_11\n",
        "hat_beta_20.1 <- bar_y2-hat_beta_21.1*bar_y1\n",
        "hat_mu2_ML <- hat_beta_20.1+hat_beta_21.1*hat_mu1_ML\n",
        "resML <- c(hat_mu1_ML=hat_mu1_ML,hat_mu2_ML=hat_mu2_ML)"
      ],
      "metadata": {
        "id": "8tmBcnI2G93f"
      },
      "execution_count": null,
      "outputs": []
    },
    {
      "cell_type": "code",
      "source": [
        "Estep=function(Y, mu, Sigma, missing_idx)\n",
        "{\n",
        "n=nrow(Y)\n",
        "sigma_22.1=Sigma[2,2]-Sigma[1,2]^2/Sigma[1,1]\n",
        "beta_21.1=Sigma[1,2]/Sigma[1,1]\n",
        "beta_20.1=mu[2]-beta_21.1*mu[1]\n",
        "\n",
        "E_y2=rep(0, n)\n",
        "E_y2[missing_idx]=rep(beta_20.1, length(missing_idx))+beta_21.1*Y[missing_idx,1]\n",
        "E_y2[setdiff(1:n, missing_idx)]=Y[setdiff(1:n, missing_idx),2]\n",
        "E_y1=Y[,1]\n",
        "E_y2_y2=rep(0, n)\n",
        "E_y2_y2[missing_idx]=E_y2[missing_idx]^2+rep(sigma_22.1, length(missing_idx))\n",
        "E_y2_y2[setdiff(1:n, missing_idx)]=E_y2[setdiff(1:n, missing_idx)]^2\n",
        "E_y1_y1=Y[,1]^2\n",
        "E_y1_y2=rep(0, n)\n",
        "E_y1_y2=E_y2*E_y1\n",
        "return(structure(list(s1=sum(E_y1), s2=sum(E_y2), s11=sum(E_y1_y1), s22=sum(E_y2_y2), s12=sum(E_y1_y2))))\n",
        "}\n",
        "\n",
        "Mstep=function(Y, s1, s2, s11, s22, s12)\n",
        "{\n",
        "n=nrow(Y)\n",
        "mu1=s1/n\n",
        "mu2=s2/n\n",
        "sigma1=s11/n-mu1^2\n",
        "sigma2=s22/n-mu2^2\n",
        "sigma12=s12/n-mu1*mu2\n",
        "mu=c(mu1,mu2)\n",
        "Sigma=matrix(c(sigma1, sigma12,sigma12,sigma2), nrow=2)\n",
        "return(structure(list(mu=mu, Sigma=Sigma)))\n",
        "}"
      ],
      "metadata": {
        "id": "GGErrpNjVJ1N"
      },
      "execution_count": null,
      "outputs": []
    },
    {
      "cell_type": "markdown",
      "source": [
        "On implémente une fonction  initEM"
      ],
      "metadata": {
        "id": "_XWN4vGTIAKE"
      }
    },
    {
      "cell_type": "code",
      "source": [
        "initEM=function(Y, missing_idx)\n",
        "{\n",
        "n=nrow(Y)\n",
        "r=n-length(missing_idx)\n",
        "mu1=mean(Y[,1])\n",
        "mu2=mean(Y[,2], na.rm=T)\n",
        "sigma1=mean(Y[,1]^2)-mu1^2\n",
        "sigma2=mean(Y[,2]^2, na.rm=T)-mu2^2\n",
        "sigma12=mean(Y[,1]*Y[,2], na.rm=T)-mu1*mu2\n",
        "mu=c(mu1,mu2)\n",
        "Sigma=matrix(c(sigma1, sigma12,sigma12,sigma2), nrow=2)\n",
        "return(structure(list(mu=mu, Sigma=Sigma)))\n",
        "}"
      ],
      "metadata": {
        "id": "065sKhzTVgRJ"
      },
      "execution_count": null,
      "outputs": []
    },
    {
      "cell_type": "code",
      "source": [
        "init=initEM(Y, missing_idx)\n",
        "hat_mu=init$mu\n",
        "hat_Sigma=init$Sigma\n",
        "error_mu=rep(0,50)\n",
        "for(i in 1:50)\n",
        "{\n",
        "error_mu[i]=sqrt(sum((hat_mu-mu)^2))\n",
        "# E step\n",
        "E=Estep(Y, hat_mu, hat_Sigma, missing_idx)\n",
        "s1=E$s1\n",
        "s11=E$s11\n",
        "s2=E$s2\n",
        "s22=E$s22\n",
        "s12=E$s12\n",
        "M=Mstep(Y, s1, s2, s11, s22, s12)\n",
        "hat_mu=M$mu\n",
        "print(hat_mu)\n",
        "hat_Sigma=M$Sigma\n",
        "}\n",
        "plot(error_mu)"
      ],
      "metadata": {
        "colab": {
          "base_uri": "https://localhost:8080/",
          "height": 1305
        },
        "id": "nQAcT0X-V1q3",
        "outputId": "4ae116d9-16ea-4a7c-a77c-e7cd109b712f"
      },
      "execution_count": null,
      "outputs": [
        {
          "output_type": "stream",
          "name": "stdout",
          "text": [
            "[1]  1.990499 -5.844650\n",
            "[1]  1.990499 -5.846090\n",
            "[1]  1.990499 -5.846753\n",
            "[1]  1.990499 -5.847009\n",
            "[1]  1.990499 -5.847101\n",
            "[1]  1.990499 -5.847132\n",
            "[1]  1.990499 -5.847142\n",
            "[1]  1.990499 -5.847145\n",
            "[1]  1.990499 -5.847147\n",
            "[1]  1.990499 -5.847147\n",
            "[1]  1.990499 -5.847147\n",
            "[1]  1.990499 -5.847147\n",
            "[1]  1.990499 -5.847147\n",
            "[1]  1.990499 -5.847147\n",
            "[1]  1.990499 -5.847147\n",
            "[1]  1.990499 -5.847147\n",
            "[1]  1.990499 -5.847147\n",
            "[1]  1.990499 -5.847147\n",
            "[1]  1.990499 -5.847147\n",
            "[1]  1.990499 -5.847147\n",
            "[1]  1.990499 -5.847147\n",
            "[1]  1.990499 -5.847147\n",
            "[1]  1.990499 -5.847147\n",
            "[1]  1.990499 -5.847147\n",
            "[1]  1.990499 -5.847147\n",
            "[1]  1.990499 -5.847147\n",
            "[1]  1.990499 -5.847147\n",
            "[1]  1.990499 -5.847147\n",
            "[1]  1.990499 -5.847147\n",
            "[1]  1.990499 -5.847147\n",
            "[1]  1.990499 -5.847147\n",
            "[1]  1.990499 -5.847147\n",
            "[1]  1.990499 -5.847147\n",
            "[1]  1.990499 -5.847147\n",
            "[1]  1.990499 -5.847147\n",
            "[1]  1.990499 -5.847147\n",
            "[1]  1.990499 -5.847147\n",
            "[1]  1.990499 -5.847147\n",
            "[1]  1.990499 -5.847147\n",
            "[1]  1.990499 -5.847147\n",
            "[1]  1.990499 -5.847147\n",
            "[1]  1.990499 -5.847147\n",
            "[1]  1.990499 -5.847147\n",
            "[1]  1.990499 -5.847147\n",
            "[1]  1.990499 -5.847147\n",
            "[1]  1.990499 -5.847147\n",
            "[1]  1.990499 -5.847147\n",
            "[1]  1.990499 -5.847147\n",
            "[1]  1.990499 -5.847147\n",
            "[1]  1.990499 -5.847147\n"
          ]
        },
        {
          "output_type": "display_data",
          "data": {
            "text/plain": [
              "plot without title"
            ],
            "image/png": "[encoded data removed]"
          },
          "metadata": {
            "image/png": {
              "width": 420,
              "height": 420
            }
          }
        }
      ]
    },
    {
      "cell_type": "markdown",
      "source": [
        "On observe que l'erreur diminue rapidement lors des premières itérations, indiquant que l'algorithme converge vers une estimation précise de\n",
        "μ. Après environ 10 itérations, l'erreur devient stable, suggérant que l'algorithme a atteint une convergence et que les estimations de\n",
        "μ ne s'améliorent plus de manière significative. Cela montre une convergence rapide vers le maximum de vraisemblance pour les paramètres."
      ],
      "metadata": {
        "id": "PD3SPXeXJhLz"
      }
    },
    {
      "cell_type": "markdown",
      "source": [
        "On vérifie que l'estimateur EM\n",
        "μ est égal à l'estimateur du maximum de vraisemblance."
      ],
      "metadata": {
        "id": "M6FG_FGTKa3I"
      }
    },
    {
      "cell_type": "code",
      "source": [
        "resEM <- hat_mu\n",
        "resEM\n",
        "resML"
      ],
      "metadata": {
        "colab": {
          "base_uri": "https://localhost:8080/",
          "height": 52
        },
        "id": "iAeqVEcLWhpY",
        "outputId": "67d1c4d8-eb7c-4091-da47-d3fb961c370e"
      },
      "execution_count": null,
      "outputs": [
        {
          "output_type": "display_data",
          "data": {
            "text/html": [
              "<style>\n",
              ".list-inline {list-style: none; margin:0; padding: 0}\n",
              ".list-inline>li {display: inline-block}\n",
              ".list-inline>li:not(:last-child)::after {content: \"\\00b7\"; padding: 0 .5ex}\n",
              "</style>\n",
              "<ol class=list-inline><li>1.99049869623694</li><li>-5.84714700294876</li></ol>\n"
            ],
            "text/markdown": "1. 1.99049869623694\n2. -5.84714700294876\n\n\n",
            "text/latex": "\\begin{enumerate*}\n\\item 1.99049869623694\n\\item -5.84714700294876\n\\end{enumerate*}\n",
            "text/plain": [
              "[1]  1.990499 -5.847147"
            ]
          },
          "metadata": {}
        },
        {
          "output_type": "display_data",
          "data": {
            "text/html": [
              "<style>\n",
              ".dl-inline {width: auto; margin:0; padding: 0}\n",
              ".dl-inline>dt, .dl-inline>dd {float: none; width: auto; display: inline-block}\n",
              ".dl-inline>dt::after {content: \":\\0020\"; padding-right: .5ex}\n",
              ".dl-inline>dt:not(:first-of-type) {padding-left: .5ex}\n",
              "</style><dl class=dl-inline><dt>hat_mu1_ML</dt><dd>1.99049869623694</dd><dt>hat_mu2_ML</dt><dd>-5.84714700294876</dd></dl>\n"
            ],
            "text/markdown": "hat_mu1_ML\n:   1.99049869623694hat_mu2_ML\n:   -5.84714700294876\n\n",
            "text/latex": "\\begin{description*}\n\\item[hat\\textbackslash{}\\_mu1\\textbackslash{}\\_ML] 1.99049869623694\n\\item[hat\\textbackslash{}\\_mu2\\textbackslash{}\\_ML] -5.84714700294876\n\\end{description*}\n",
            "text/plain": [
              "hat_mu1_ML hat_mu2_ML \n",
              "  1.990499  -5.847147 "
            ]
          },
          "metadata": {}
        }
      ]
    },
    {
      "cell_type": "code",
      "source": [
        "init=initEM(Y, missing_idx)\n",
        "hat_mu=init$mu\n",
        "old_hat_mu = old_old_hat_mu = 0\n",
        "hat_Sigma=init$Sigma\n",
        "error_mu=rep(0,20)\n",
        "for(i in 1:20)\n",
        "{\n",
        "old_old_hat_mu = old_hat_mu\n",
        "old_hat_mu = hat_mu\n",
        "# E step\n",
        "E=Estep(Y, hat_mu, hat_Sigma, missing_idx)\n",
        "s1=E$s1\n",
        "s11=E$s11\n",
        "s2=E$s2\n",
        "s22=E$s22\n",
        "s12=E$s12\n",
        "M=Mstep(Y, s1, s2, s11, s22, s12)\n",
        "hat_mu=M$mu\n",
        "hat_Sigma=M$Sigma\n",
        "if(i>=3){cat('Iteration=',i,\", Convergence rate of mu2 =\",(hat_mu-old_hat_mu)[2]/(old_hat_mu-old_old_hat_mu)[2],'\\n')}\n",
        "}\n",
        "cat(\"Percentage of missingness is:\", sum(is.na(Y[,2]))/dim(Y)[1])\n",
        "# Pourcentage de valeurs manquantes"
      ],
      "metadata": {
        "colab": {
          "base_uri": "https://localhost:8080/"
        },
        "id": "2GixqL7vWioq",
        "outputId": "765f1e4f-3117-4714-a11b-446043762ef8"
      },
      "execution_count": null,
      "outputs": [
        {
          "output_type": "stream",
          "name": "stdout",
          "text": [
            "Iteration= 3 , Convergence rate of mu2 = 0.4597141 \n",
            "Iteration= 4 , Convergence rate of mu2 = 0.3873336 \n",
            "Iteration= 5 , Convergence rate of mu2 = 0.3568802 \n",
            "Iteration= 6 , Convergence rate of mu2 = 0.3403751 \n",
            "Iteration= 7 , Convergence rate of mu2 = 0.3301957 \n",
            "Iteration= 8 , Convergence rate of mu2 = 0.3234102 \n",
            "Iteration= 9 , Convergence rate of mu2 = 0.3186497 \n",
            "Iteration= 10 , Convergence rate of mu2 = 0.315189 \n",
            "Iteration= 11 , Convergence rate of mu2 = 0.3126076 \n",
            "Iteration= 12 , Convergence rate of mu2 = 0.3106447 \n",
            "Iteration= 13 , Convergence rate of mu2 = 0.3091304 \n",
            "Iteration= 14 , Convergence rate of mu2 = 0.307949 \n",
            "Iteration= 15 , Convergence rate of mu2 = 0.3070192 \n",
            "Iteration= 16 , Convergence rate of mu2 = 0.3062832 \n",
            "Iteration= 17 , Convergence rate of mu2 = 0.3056946 \n",
            "Iteration= 18 , Convergence rate of mu2 = 0.3052214 \n",
            "Iteration= 19 , Convergence rate of mu2 = 0.304882 \n",
            "Iteration= 20 , Convergence rate of mu2 = 0.3045674 \n",
            "Percentage of missingness is: 0.3"
          ]
        }
      ]
    },
    {
      "cell_type": "markdown",
      "source": [
        "Si les données ne sont pas MAR, mais MNAR, il existe un biais dans les estimateurs, et il est donc nécessaire de spécifier un modèle pour les valeurs manquantes.\n",
        "\n",
        "**Définition :**\n",
        "\n",
        "*   **MAR (Missing At Random)** signifie que les valeurs manquantes dépendent d’autres variables observées mais pas de la variable elle-même. Par exemple, dans un sondage, les personnes plus âgées peuvent omettre de répondre à des questions sur les réseaux sociaux, mais cette absence dépend de l'âge, qui est observable.\n",
        "*   **MNAR (Missing Not At Random)** signifie que les valeurs manquantes dépendent de la variable elle-même ou d’autres variables non observées. Par exemple dans les études de santé où les patients atteints de maladies graves peuvent être plus susceptibles de manquer des visites de suivi en raison de la gravité de leur état. Dans ce cas, l'absence de données (les visites manquées) est liée à la gravité de la maladie elle-même, qui est précisément l'information manquante. Ici, les données manquantes ne sont pas aléatoires et reflètent un biais dans l’échantillonnage en fonction de l’état de santé du patient.\n",
        "*   **MCAR (Missing Completely At Random)** désigne un mécanisme de valeurs manquantes dans lequel les absences de données ne sont liées ni aux valeurs observées ni aux valeurs manquantes elles-mêmes. Autrement dit, les données manquent de façon entièrement aléatoire, sans aucune corrélation avec d'autres variables ou avec les valeurs des données manquantes. Dans un contexte MCAR, les estimations statistiques sont non biaisées, et les analyses sont fiables sans ajustement spécial pour les valeurs manquantes.\n",
        "\n",
        "\n",
        "\n"
      ],
      "metadata": {
        "id": "0P1gRbVdLWA1"
      }
    },
    {
      "cell_type": "markdown",
      "source": [
        "Le code génère des données bivariées (deux variables) à partir d'une distribution normale multivariée, puis introduit des valeurs manquantes dans la deuxième variable selon deux mécanismes différents : MAR (Missing At Random) et MNAR (Missing Not At Random). **On a implémente avec un jeu de données diffrérent de Julie JOSSE**"
      ],
      "metadata": {
        "id": "qvpMV_PtXxy4"
      }
    },
    {
      "cell_type": "code",
      "source": [
        "set.seed(100)\n",
        "\n",
        "n <- 100\n",
        "r <- floor(n*0.3)\n",
        "mu <- c(2.22, -6.06)\n",
        "# Sigma doit être symétrique\n",
        "Sigma <- matrix(c(2.5, 0.4, 0.4, 0.9), nrow=2)\n",
        "Y <- rmvnorm(n, mean=mu, sigma=Sigma)\n",
        "\n",
        "missing_idx_MAR <-sample(100, r, replace = FALSE)\n",
        "Y1 <- Y\n",
        "Y1[missing_idx_MAR, 2] <- NA\n",
        "\n",
        "missing_idx_MNAR <-which(Y[,2]>sort(Y[,2],decreasing=TRUE)[r+1])\n",
        "Y2 <- Y\n",
        "Y2[missing_idx_MNAR, 2] <- NA"
      ],
      "metadata": {
        "id": "mZYI0dkRWx1x"
      },
      "execution_count": null,
      "outputs": []
    },
    {
      "cell_type": "code",
      "source": [
        "init1=initEM(Y1, missing_idx_MAR)\n",
        "hat_mu_MAR=init1$mu\n",
        "hat_Sigma_MAR=init1$Sigma\n",
        "init2=initEM(Y2, missing_idx_MNAR)\n",
        "hat_mu_MNAR=init2$mu\n",
        "hat_Sigma_MNAR=init2$Sigma\n",
        "\n",
        "#MAR\n",
        "init1=initEM(Y1, missing_idx_MAR)\n",
        "hat_mu_MAR=init1$mu\n",
        "hat_Sigma_MAR=init1$Sigma\n",
        "error_mu=rep(0,50)\n",
        "for(i in 1:50)\n",
        "{\n",
        "error_mu[i]=sqrt(sum((hat_mu_MAR-mu)^2))\n",
        "# E step\n",
        "E=Estep(Y, hat_mu_MAR, hat_Sigma_MAR, missing_idx_MAR)\n",
        "s1=E$s1\n",
        "s11=E$s11\n",
        "s2=E$s2\n",
        "s22=E$s22\n",
        "s12=E$s12\n",
        "M=Mstep(Y, s1, s2, s11, s22, s12)\n",
        "hat_mu_MAR=M$mu\n",
        "hat_Sigma_MAR=M$Sigma\n",
        "}\n",
        "\n",
        "#MNAR\n",
        "init2=initEM(Y1, missing_idx_MNAR)\n",
        "hat_mu_MAR=init2$mu\n",
        "hat_Sigma_MAR=init2$Sigma\n",
        "error_mu=rep(0,50)\n",
        "for(i in 1:50)\n",
        "{\n",
        "error_mu[i]=sqrt(sum((hat_mu_MNAR-mu)^2))\n",
        "# E step\n",
        "E=Estep(Y, hat_mu_MNAR, hat_Sigma_MNAR, missing_idx_MNAR)\n",
        "s1=E$s1\n",
        "s11=E$s11\n",
        "s2=E$s2\n",
        "s22=E$s22\n",
        "s12=E$s12\n",
        "M=Mstep(Y, s1, s2, s11, s22, s12)\n",
        "hat_mu_MNAR=M$mu\n",
        "hat_Sigma_MNAR=M$Sigma\n",
        "}\n",
        "\n",
        "print(hat_mu_MAR)\n",
        "print(hat_mu_MNAR)\n",
        "print(hat_Sigma_MAR)\n",
        "print(hat_Sigma_MNAR)"
      ],
      "metadata": {
        "colab": {
          "base_uri": "https://localhost:8080/"
        },
        "id": "UtDl5EHhW4rz",
        "outputId": "70e0f1be-448f-4a45-b038-2c283a61b34e"
      },
      "execution_count": null,
      "outputs": [
        {
          "output_type": "stream",
          "name": "stdout",
          "text": [
            "[1]  1.990499 -5.842908\n",
            "[1]  1.990499 -6.355156\n",
            "          [,1]      [,2]\n",
            "[1,] 1.5922978 0.1676295\n",
            "[2,] 0.1676295 0.7900182\n",
            "          [,1]      [,2]\n",
            "[1,] 1.5922978 0.2093514\n",
            "[2,] 0.2093514 0.4251123\n"
          ]
        }
      ]
    },
    {
      "cell_type": "markdown",
      "source": [
        "*hat_mu_MAR* et *hat_mu_MNAR* sont proches mais légèrement différents, indiquant une influence du mécanisme de manque (MAR vs. MNAR).\n",
        "*hat_Sigma_MAR* et *hat_Sigma_MNAR* montrent que la structure de covariance est affectée par les valeurs manquantes MNAR, les valeurs étant plus biaisées pour MNAR.\n",
        "\n",
        "Le code montre donc que les estimations des paramètres diffèrent en fonction de **la nature des données manquantes**, le biais étant plus marqué pour le cas MNAR"
      ],
      "metadata": {
        "id": "MkCH4rBYNhsI"
      }
    },
    {
      "cell_type": "markdown",
      "source": [
        "**1-2 EM pour la régression logistique avec des valeurs manquantes**"
      ],
      "metadata": {
        "id": "qEJoxFXuaUkr"
      }
    },
    {
      "cell_type": "code",
      "source": [
        "install.packages(\"devtools\")\n"
      ],
      "metadata": {
        "colab": {
          "base_uri": "https://localhost:8080/"
        },
        "id": "cwI3X6UDPLMB",
        "outputId": "8a505674-2224-4c1e-f093-cba07b2de6a1"
      },
      "execution_count": null,
      "outputs": [
        {
          "output_type": "stream",
          "name": "stderr",
          "text": [
            "Installing package into ‘/usr/local/lib/R/site-library’\n",
            "(as ‘lib’ is unspecified)\n",
            "\n"
          ]
        }
      ]
    },
    {
      "cell_type": "markdown",
      "source": [
        "Je n'ai pas fait cette partie car je ne réussi pas à installer et à faire tourner cette librairie  **install_github(\"wjiang94/misaem\", force = TRUE)**"
      ],
      "metadata": {
        "id": "mGArO5xmLB3O"
      }
    },
    {
      "cell_type": "code",
      "source": [
        "library(devtools)\n",
        "install_github(\"wjiang94/misaem\", force = TRUE)"
      ],
      "metadata": {
        "colab": {
          "base_uri": "https://localhost:8080/"
        },
        "id": "rpCMPqskPPqq",
        "outputId": "e57f68ee-5ef1-47c9-ee6b-1fcb7ff2d2df"
      },
      "execution_count": null,
      "outputs": [
        {
          "output_type": "stream",
          "name": "stderr",
          "text": [
            "Loading required package: usethis\n",
            "\n",
            "Downloading GitHub repo wjiang94/misaem@HEAD\n",
            "\n"
          ]
        },
        {
          "output_type": "stream",
          "name": "stdout",
          "text": [
            "withr     (3.0.1 -> 3.0.2      ) [CRAN]\n",
            "numDeriv  (NA    -> 2016.8-1.1 ) [CRAN]\n",
            "ucminf    (NA    -> 1.2.2      ) [CRAN]\n",
            "RcppEigen (NA    -> 0.3.4.0.2  ) [CRAN]\n",
            "nloptr    (NA    -> 2.1.1      ) [CRAN]\n",
            "minqa     (NA    -> 1.2.8      ) [CRAN]\n",
            "ordinal   (NA    -> 2023.12-4.1) [CRAN]\n",
            "lme4      (NA    -> 1.1-35.5   ) [CRAN]\n",
            "jomo      (NA    -> 2.7-6      ) [CRAN]\n",
            "pan       (NA    -> 1.9        ) [CRAN]\n",
            "iterators (NA    -> 1.0.14     ) [CRAN]\n",
            "shape     (NA    -> 1.4.6.1    ) [CRAN]\n",
            "foreach   (NA    -> 1.5.2      ) [CRAN]\n",
            "mitml     (NA    -> 0.4-5      ) [CRAN]\n",
            "glmnet    (NA    -> 4.1-8      ) [CRAN]\n",
            "mice      (NA    -> 3.16.0     ) [CRAN]\n"
          ]
        },
        {
          "output_type": "stream",
          "name": "stderr",
          "text": [
            "Installing 16 packages: withr, numDeriv, ucminf, RcppEigen, nloptr, minqa, ordinal, lme4, jomo, pan, iterators, shape, foreach, mitml, glmnet, mice\n",
            "\n",
            "Installing packages into ‘/usr/local/lib/R/site-library’\n",
            "(as ‘lib’ is unspecified)\n",
            "\n"
          ]
        },
        {
          "output_type": "stream",
          "name": "stdout",
          "text": [
            "\u001b[36m──\u001b[39m \u001b[36mR CMD build\u001b[39m \u001b[36m─────────────────────────────────────────────────────────────────\u001b[39m\n",
            "* checking for file ‘/tmp/Rtmpd9MNjK/remotes267292a6d1c/wjiang94-misaem-de3dc16/DESCRIPTION’ ... OK\n",
            "* preparing ‘misaem’:\n",
            "* checking DESCRIPTION meta-information ... OK\n",
            "* checking for LF line-endings in source and make files and shell scripts\n",
            "* checking for empty or unneeded directories\n",
            "Omitted ‘LazyData’ from DESCRIPTION\n",
            "* building ‘misaem_1.0.0.tar.gz’\n",
            "\n"
          ]
        },
        {
          "output_type": "stream",
          "name": "stderr",
          "text": [
            "Installing package into ‘/usr/local/lib/R/site-library’\n",
            "(as ‘lib’ is unspecified)\n",
            "\n"
          ]
        }
      ]
    },
    {
      "cell_type": "markdown",
      "source": [
        "\n",
        "**2- Imputation simple avec les moyennes ou avec la régression - cas bivarié.**\n",
        "\n",
        " On a modifié  **la moyenne et la matrice de variance-covariance** des données originales pour avoir un jeu de donnée différent. On a un jeu de données bivarié en utilisant une distribution normale multivariée avec une matrice de covariance spécifiée."
      ],
      "metadata": {
        "id": "mUJuw_LJqczI"
      }
    },
    {
      "cell_type": "code",
      "source": [
        "library(mvtnorm)\n",
        "n <- 100\n",
        "sigma <- matrix(c(500, 200,200, 450), ncol=2)\n",
        "don <- rmvnorm(n, mean = c(150, 100), sigma = sigma)"
      ],
      "metadata": {
        "id": "XWV2cYkmp3pz"
      },
      "execution_count": null,
      "outputs": []
    },
    {
      "cell_type": "code",
      "source": [
        "colnames(don) <- c(\"X\",\"Y\")\n",
        "don <- as.data.frame(don)\n",
        "library(ggplot2)\n",
        "ggplot(don) + aes(x=X, y=Y) + geom_point(colour=\"blue\")"
      ],
      "metadata": {
        "colab": {
          "base_uri": "https://localhost:8080/",
          "height": 437
        },
        "id": "mISD01goqo8y",
        "outputId": "f0ba6ec7-4ae3-4d4e-c032-9717e1e3e01b"
      },
      "execution_count": null,
      "outputs": [
        {
          "output_type": "display_data",
          "data": {
            "text/plain": [
              "plot without title"
            ],
            "image/png": "[encoded data removed]"
          },
          "metadata": {
            "image/png": {
              "width": 420,
              "height": 420
            }
          }
        }
      ]
    },
    {
      "cell_type": "markdown",
      "source": [
        "On introduit 73% de données manquantes (MCAR) sur une variables y.\n",
        "\n"
      ],
      "metadata": {
        "id": "953aN0eh2Jps"
      }
    },
    {
      "cell_type": "code",
      "source": [
        "# Introduction des valeurs manquantes dans une colonne spécifique du jeu de données\n",
        "donmiss <- don\n",
        "indNA <- sample(1:n, 0.73*n)\n",
        "donmiss[indNA, 2] <- NA"
      ],
      "metadata": {
        "id": "m1nPkSElsJw7"
      },
      "execution_count": null,
      "outputs": []
    },
    {
      "cell_type": "markdown",
      "source": [
        "Imputation par la **méthode des moyennes**: Ensuite, on remplit (impute) ces valeurs manquantes par la moyenne de la colonne \"Y\""
      ],
      "metadata": {
        "id": "ij6mOARDsz7q"
      }
    },
    {
      "cell_type": "code",
      "source": [
        "# Imputation par la moyenne des valeurs manquantes dans notre jeu de données\n",
        "donMean <- donmiss\n",
        "donMean[indNA, 2] <- mean(donMean[, 2],na.rm=T)\n",
        "imputed <- ((1:100)%in%indNA)\n",
        "ggplot(donMean) + ggtitle(\"mean imputation\") + aes(x=X, y=Y, colour=imputed) + geom_point()"
      ],
      "metadata": {
        "colab": {
          "base_uri": "https://localhost:8080/",
          "height": 437
        },
        "id": "86ULY126snjO",
        "outputId": "066faa4d-09b6-46f2-8cd7-74a0a1317db6"
      },
      "execution_count": null,
      "outputs": [
        {
          "output_type": "display_data",
          "data": {
            "text/plain": [
              "plot without title"
            ],
            "image/png": "[encoded data removed]"
          },
          "metadata": {
            "image/png": {
              "width": 420,
              "height": 420
            }
          }
        }
      ]
    },
    {
      "cell_type": "markdown",
      "source": [
        "Sur le graphique obtenu, les points  **rouges** montrent les valeurs originales. La ligne horizontale **vertes** au niveau de la moyenne indique que toutes les valeurs manquantes ont été remplacées par cette moyenne, ce qui réduit la **variabilité** de \"Y\" dans le jeu de données imputé."
      ],
      "metadata": {
        "id": "BuRw6a38TEKH"
      }
    },
    {
      "cell_type": "markdown",
      "source": [
        "Imputation par **régression des valeurs manquantes** dans la colonne Y de notre jeu de données. On prédit $Y$ à partir de $X$, en ajustant un modèle $Y \\sim X$."
      ],
      "metadata": {
        "id": "UIMD9mAXs9t-"
      }
    },
    {
      "cell_type": "code",
      "source": [
        "reg <- lm(Y~X, data = donmiss)\n",
        "donReg <- donmiss\n",
        "donReg[indNA, 2] <- predict(reg, donmiss[indNA, 1,drop = F])\n",
        "ggplot(donReg) + ggtitle(\"regression imputation\") + aes(x=X, y=Y, colour=imputed) + geom_point()"
      ],
      "metadata": {
        "colab": {
          "base_uri": "https://localhost:8080/",
          "height": 437
        },
        "id": "YMPrEe-otBnv",
        "outputId": "2e1f138e-c483-41ef-bfad-eec8f4d25eb0"
      },
      "execution_count": null,
      "outputs": [
        {
          "output_type": "display_data",
          "data": {
            "text/plain": [
              "plot without title"
            ],
            "image/png": "[encoded data removed]"
          },
          "metadata": {
            "image/png": {
              "width": 420,
              "height": 420
            }
          }
        }
      ]
    },
    {
      "cell_type": "markdown",
      "source": [
        "Dans ce graphique, les points en vert représentent les valeurs imputées par régression. Comparé à l'imputation par la moyenne (qui remplaçait toutes les valeurs manquantes par une constante), l'imputation par régression utilise la relation linéaire entre $X$ et\n",
        "$Y$ pour fournir des valeurs prédictives réalistes. Les valeurs imputées suivent la tendance des données observées, ce qui en fait une approche plus précise que l'imputation par moyenne."
      ],
      "metadata": {
        "id": "dxLieF3lU1Sg"
      }
    },
    {
      "cell_type": "markdown",
      "source": [
        "**Imputation par régression stochastique**, qui consiste à ajouter une composante aléatoire aux valeurs prédites par un modèle de régression pour les valeurs manquantes.  Ici, un bruit aléatoire est ajouté aux valeurs prédites, en utilisant la variance de l'erreur de la régression pour refléter la variabilité inhérente des données."
      ],
      "metadata": {
        "id": "3o6-yW9UtyzL"
      }
    },
    {
      "cell_type": "code",
      "source": [
        "donStochReg <- donmiss\n",
        "donStochReg[indNA, 2] <- donReg[indNA, 2] + rnorm(length(indNA), 0, (summary(reg))$sigma)\n",
        "ggplot(donStochReg) + ggtitle(\"stochastic regression imputation\") + aes(x=X, y=Y, colour=imputed) + geom_point()"
      ],
      "metadata": {
        "colab": {
          "base_uri": "https://localhost:8080/",
          "height": 437
        },
        "id": "RaH3h36YtsMh",
        "outputId": "b52af25e-a6a8-487c-e3c3-36970ab55478"
      },
      "execution_count": null,
      "outputs": [
        {
          "output_type": "display_data",
          "data": {
            "text/plain": [
              "plot without title"
            ],
            "image/png": "[encoded data removed]"
          },
          "metadata": {
            "image/png": {
              "width": 420,
              "height": 420
            }
          }
        }
      ]
    },
    {
      "cell_type": "markdown",
      "source": [
        "Il semble que nous ayons résolu le problème des valeurs manquantes grâce à cette imputation par régression stochastique. Les données imputées ressemblent aux données initiales.  **L'ajout de bruit aux prédictions de régression** permet de mieux simuler la variabilité naturelle des données."
      ],
      "metadata": {
        "id": "GTUI09qN5HTU"
      }
    },
    {
      "cell_type": "markdown",
      "source": [
        "Comparaison des différentes méthodes d'imputation des valeurs manquantes dans la colonne Y en calculant des statistiques (**moyenne, écart type, corrélation, intervalles de confiance**) pour chacune des trois méthodes d'imputation"
      ],
      "metadata": {
        "id": "K0EVkJdbuGEs"
      }
    },
    {
      "cell_type": "code",
      "source": [
        "res <- cbind.data.frame(donMean[,2], donReg[, 2],  donStochReg[,2])\n",
        "MM <- apply(res, 2, mean, na.rm = T)\n",
        "SD <- apply(res, 2, sd, na.rm = T)\n",
        "COR <- apply(res,2, cor, donmiss[,1])\n",
        "INF <- MM - qt(.975, n-1) * SD/sqrt(n)\n",
        "SUP <- MM + qt(.975, n-1) * SD/sqrt(n)\n",
        "WIDTH <- SUP - INF\n",
        "INCI <- (125<=SUP)&(125>=INF)\n",
        "res <-  rbind.data.frame(MM, SD, COR, INF, SUP, WIDTH, INCI)\n",
        "colnames(res) <-   c(\"MEAN\",\"REG\", \"STOCH\")\n",
        "rownames(res) <- c(\"muhat_y\", \"sigmahat_y\", \"cor\", \"inf\", \"sup\", \"width\", \"coverage\")\n",
        "res"
      ],
      "metadata": {
        "id": "8dS-Cmu2uFBD",
        "colab": {
          "base_uri": "https://localhost:8080/",
          "height": 318
        },
        "outputId": "640063ca-c229-410f-cfbd-30944603203a"
      },
      "execution_count": null,
      "outputs": [
        {
          "output_type": "display_data",
          "data": {
            "text/html": [
              "<table class=\"dataframe\">\n",
              "<caption>A data.frame: 7 × 3</caption>\n",
              "<thead>\n",
              "\t<tr><th></th><th scope=col>MEAN</th><th scope=col>REG</th><th scope=col>STOCH</th></tr>\n",
              "\t<tr><th></th><th scope=col>&lt;dbl&gt;</th><th scope=col>&lt;dbl&gt;</th><th scope=col>&lt;dbl&gt;</th></tr>\n",
              "</thead>\n",
              "<tbody>\n",
              "\t<tr><th scope=row>muhat_y</th><td>104.360332</td><td>105.2885732</td><td>105.8893879</td></tr>\n",
              "\t<tr><th scope=row>sigmahat_y</th><td> 11.213080</td><td> 14.4595627</td><td> 23.0435220</td></tr>\n",
              "\t<tr><th scope=row>cor</th><td>  0.244331</td><td>  0.7331787</td><td>  0.5384774</td></tr>\n",
              "\t<tr><th scope=row>inf</th><td>102.135414</td><td>102.4194822</td><td>101.3170532</td></tr>\n",
              "\t<tr><th scope=row>sup</th><td>106.585251</td><td>108.1576641</td><td>110.4617226</td></tr>\n",
              "\t<tr><th scope=row>width</th><td>  4.449837</td><td>  5.7381819</td><td>  9.1446694</td></tr>\n",
              "\t<tr><th scope=row>coverage</th><td>  0.000000</td><td>  0.0000000</td><td>  0.0000000</td></tr>\n",
              "</tbody>\n",
              "</table>\n"
            ],
            "text/markdown": "\nA data.frame: 7 × 3\n\n| <!--/--> | MEAN &lt;dbl&gt; | REG &lt;dbl&gt; | STOCH &lt;dbl&gt; |\n|---|---|---|---|\n| muhat_y | 104.360332 | 105.2885732 | 105.8893879 |\n| sigmahat_y |  11.213080 |  14.4595627 |  23.0435220 |\n| cor |   0.244331 |   0.7331787 |   0.5384774 |\n| inf | 102.135414 | 102.4194822 | 101.3170532 |\n| sup | 106.585251 | 108.1576641 | 110.4617226 |\n| width |   4.449837 |   5.7381819 |   9.1446694 |\n| coverage |   0.000000 |   0.0000000 |   0.0000000 |\n\n",
            "text/latex": "A data.frame: 7 × 3\n\\begin{tabular}{r|lll}\n  & MEAN & REG & STOCH\\\\\n  & <dbl> & <dbl> & <dbl>\\\\\n\\hline\n\tmuhat\\_y & 104.360332 & 105.2885732 & 105.8893879\\\\\n\tsigmahat\\_y &  11.213080 &  14.4595627 &  23.0435220\\\\\n\tcor &   0.244331 &   0.7331787 &   0.5384774\\\\\n\tinf & 102.135414 & 102.4194822 & 101.3170532\\\\\n\tsup & 106.585251 & 108.1576641 & 110.4617226\\\\\n\twidth &   4.449837 &   5.7381819 &   9.1446694\\\\\n\tcoverage &   0.000000 &   0.0000000 &   0.0000000\\\\\n\\end{tabular}\n",
            "text/plain": [
              "           MEAN       REG         STOCH      \n",
              "muhat_y    104.360332 105.2885732 105.8893879\n",
              "sigmahat_y  11.213080  14.4595627  23.0435220\n",
              "cor          0.244331   0.7331787   0.5384774\n",
              "inf        102.135414 102.4194822 101.3170532\n",
              "sup        106.585251 108.1576641 110.4617226\n",
              "width        4.449837   5.7381819   9.1446694\n",
              "coverage     0.000000   0.0000000   0.0000000"
            ]
          },
          "metadata": {}
        }
      ]
    },
    {
      "cell_type": "markdown",
      "source": [
        "**La couverture (coverage)**, ici à zéro pour chaque méthode, montre que les intervalles de confiance ne contiennent pas la vraie moyenne (125), indiquant une imprécision dans l'estimation.\n",
        "**La largeur de l'intervalle** (width) est plus grande avec la **régression stochastique**, reflétant une meilleure incertitude par rapport aux valeurs imputées."
      ],
      "metadata": {
        "id": "8y4-ALxaYVg4"
      }
    },
    {
      "cell_type": "code",
      "source": [
        "install.packages(\"matrixStats\")"
      ],
      "metadata": {
        "id": "TrKLnZ8YBnp3",
        "colab": {
          "base_uri": "https://localhost:8080/"
        },
        "outputId": "16148d74-d933-4c2d-ca22-b7a9b28d1ce4"
      },
      "execution_count": null,
      "outputs": [
        {
          "output_type": "stream",
          "name": "stderr",
          "text": [
            "Installing package into ‘/usr/local/lib/R/site-library’\n",
            "(as ‘lib’ is unspecified)\n",
            "\n"
          ]
        }
      ]
    },
    {
      "cell_type": "markdown",
      "source": [
        "Le code simule un processus de génération de données manquantes et compare trois méthodes d'imputation **(par la moyenne, par régression et par régression stochastique).**"
      ],
      "metadata": {
        "id": "6bqX_LgAZoC3"
      }
    },
    {
      "cell_type": "code",
      "source": [
        "# simulation du processus d'imputation de données manquantes en utilisant trois\n",
        "# méthodes différentes (imputation par la moyenne, régression, et régression stochastique)\n",
        "\n",
        "# Way 1\n",
        "SimuMiss <- function(){\n",
        "# generate data\n",
        "don <-rmvnorm(n, mean=c(125,125), sigma=matrix(c(625,375,375,625), ncol =2 ) )\n",
        "colnames(don) <- c(\"X\",\"Y\")\n",
        "don <- as.data.frame(don)\n",
        "\n",
        "# generate missing values\n",
        "donmiss <- don\n",
        "indNA <- sample(1:n, 0.73*n)\n",
        "donmiss[indNA, 2] <- NA\n",
        "\n",
        "donMean <- donReg <- donStochReg <- donmiss\n",
        "\n",
        "# Mean Imputation\n",
        "donMean[indNA, 2] <- mean(donMean[, 2], na.rm = T)\n",
        "\n",
        "# Regression Imputation\n",
        "reg <- lm(Y~X, data = donmiss)\n",
        "donReg[indNA, 2] <- predict(reg, donmiss[indNA, 1,drop = F])\n",
        "\n",
        "# Stochastic Regression Imputation\n",
        "donStochReg[indNA, 2] <- donReg[indNA, 2] + rnorm(length(indNA), 0, (summary(reg))$sigma)\n",
        "\n",
        "# Estimating the mean, the variance of Y, and a confidence interval for mu_y\n",
        "res <- cbind.data.frame(donMean[,2], donReg[, 2],  donStochReg[,2])\n",
        "MM <- apply(res, 2, mean, na.rm = T)\n",
        "SD <- apply(res, 2, sd, na.rm = T)\n",
        "COR <- apply(res,2, cor, donmiss[,1])\n",
        "INF <- MM - qt(.975, n-1) * SD/sqrt(n)\n",
        "SUP <- MM + qt(.975, n-1) * SD/sqrt(n)\n",
        "\n",
        "WIDTH <- SUP - INF\n",
        "INCI <- (125<=SUP)&(125>=INF)\n",
        "\n",
        "res <-  rbind.data.frame(MM, SD, COR, INF, SUP, WIDTH, INCI)\n",
        "colnames(res) <-   c(\"MEAN\",\"REG\", \"STOCH\")\n",
        "rownames(res) <- c(\"theta_y\", \"sigma_y\", \"cor\", \"inf\", \"sup\", \"width\", \"coverage\")\n",
        "return(res)\n",
        "}\n",
        "\n",
        "library(matrixStats)\n",
        "resRepeat <- lapply(1:1000, function(i) SimuMiss())\n",
        "bias <- colMeans(do.call(rbind, lapply(resRepeat, function(x) x[1,]-125)))\n",
        "cov <- colMeans(do.call(rbind, lapply(resRepeat, function(x) x[7,])))\n",
        "avg.width <- colMeans(do.call(rbind, lapply(resRepeat, function(x) x[6,])))\n",
        "res <- rbind(bias, cov, avg.width)\n",
        "res"
      ],
      "metadata": {
        "colab": {
          "base_uri": "https://localhost:8080/",
          "height": 161
        },
        "id": "pgvGPZcsupLB",
        "outputId": "fd1daa06-96bb-4949-ee3a-3e26c2ea1632"
      },
      "execution_count": null,
      "outputs": [
        {
          "output_type": "display_data",
          "data": {
            "text/html": [
              "<table class=\"dataframe\">\n",
              "<caption>A matrix: 3 × 3 of type dbl</caption>\n",
              "<thead>\n",
              "\t<tr><th></th><th scope=col>MEAN</th><th scope=col>REG</th><th scope=col>STOCH</th></tr>\n",
              "</thead>\n",
              "<tbody>\n",
              "\t<tr><th scope=row>bias</th><td>-0.1016188</td><td>-0.1057402</td><td>-0.1146918</td></tr>\n",
              "\t<tr><th scope=row>cov</th><td> 0.3790000</td><td> 0.5810000</td><td> 0.7210000</td></tr>\n",
              "\t<tr><th scope=row>avg.width</th><td> 5.0632823</td><td> 7.2878967</td><td> 9.9456676</td></tr>\n",
              "</tbody>\n",
              "</table>\n"
            ],
            "text/markdown": "\nA matrix: 3 × 3 of type dbl\n\n| <!--/--> | MEAN | REG | STOCH |\n|---|---|---|---|\n| bias | -0.1016188 | -0.1057402 | -0.1146918 |\n| cov |  0.3790000 |  0.5810000 |  0.7210000 |\n| avg.width |  5.0632823 |  7.2878967 |  9.9456676 |\n\n",
            "text/latex": "A matrix: 3 × 3 of type dbl\n\\begin{tabular}{r|lll}\n  & MEAN & REG & STOCH\\\\\n\\hline\n\tbias & -0.1016188 & -0.1057402 & -0.1146918\\\\\n\tcov &  0.3790000 &  0.5810000 &  0.7210000\\\\\n\tavg.width &  5.0632823 &  7.2878967 &  9.9456676\\\\\n\\end{tabular}\n",
            "text/plain": [
              "          MEAN       REG        STOCH     \n",
              "bias      -0.1016188 -0.1057402 -0.1146918\n",
              "cov        0.3790000  0.5810000  0.7210000\n",
              "avg.width  5.0632823  7.2878967  9.9456676"
            ]
          },
          "metadata": {}
        }
      ]
    },
    {
      "cell_type": "markdown",
      "source": [
        "\n",
        "\n",
        "*   **Biais :** Les valeurs sont proches de zéro, ce qui indique que les méthodes sont relativement précises.\n",
        "*   **Couverture :** La régression stochastique a la meilleure couverture, reflétant une meilleure estimation de l'incertitude.\n",
        "*   **Largeur de l'intervalle :** La régression stochastique produit les intervalles les plus larges, montrant une prise en compte de la variabilité due aux valeurs manquantes.\n",
        "\n",
        "Conclusion, la régression stochastique semble fournir les imputations les plus robustes, avec un bon équilibre entre précision et estimation de la variabilité.\n",
        "\n",
        "\n"
      ],
      "metadata": {
        "id": "BOsrNyY6aAx2"
      }
    },
    {
      "cell_type": "code",
      "source": [
        "# simulation d'un processus de génération de données avec des valeurs manquantes (MCAR),\n",
        "# et application de trois méthodes d'imputation (moyenne, régression,\n",
        "#  régression stochastique), puis évalue la performance des méthodes\n",
        "# Way 2\n",
        "statcheck <- function(don){\n",
        " test <- t.test(don[,2])\n",
        " muhat <-test$estimate\n",
        " corhat <-cor(don[,1],don[,2])\n",
        " cov <- 0\n",
        " CImu <- if((125<=test$conf.int[2])&(125>=test$conf.int[1])) cov <- 1\n",
        " sigmahat <- sd(don[,2])\n",
        " widthCI <-test$conf.int[2] -test$conf.int[1]\n",
        " return(list(muhat=muhat, sigmahat= sigmahat,  corhat = corhat , cov=cov,  widthCI= widthCI))\n",
        "}\n",
        "\n",
        "MCAR <-function(don, percent)\n",
        "{\n",
        "  indNA <- sample(1:nrow(don), percent*nrow(don))\n",
        "  don[indNA, 2] <- NA\n",
        "  return(don)\n",
        "}\n",
        "\n",
        "Impute <-function(don){\n",
        "don<-as.data.frame(don)\n",
        "colnames(don)=c(\"X\",\"Y\")\n",
        "donMean<-donReg<-donStochReg<-don\n",
        "indNA <- which(is.na(don[,2]))\n",
        "# Mean Imputation\n",
        "donMean[indNA, 2] <- mean(don[, 2], na.rm = T)\n",
        "\n",
        "# Regression Imputation\n",
        "reg <- lm(Y~X, data = don)\n",
        "donReg[indNA, 2] <- predict(reg, don[indNA, 1,drop = F])\n",
        "\n",
        "# Stochastic Regression Imputation\n",
        "donStochReg[indNA, 2] <- donReg[indNA, 2] + rnorm(length(indNA), 0, (summary(reg))$sigma)\n",
        "return(list(donMean=donMean, donReg=donReg, donStochReg=donStochReg))\n",
        "}\n",
        "\n",
        "# Replicate 1000 times the simulation\n",
        "n <- 100\n",
        "res <-replicate(1000, rmvnorm(n, mean=c(125,125), sigma=matrix(c(625,375,375,625), ncol =2 ) )) # replicate function here outputs an array\n",
        "arraymiss <- apply(res, MARGIN=3, FUN=MCAR, percent=0.73)\n",
        "aa <-array(arraymiss, dim = c(n, 2, 10))\n",
        "bb <- apply(aa, 3, Impute)\n",
        "cc <- lapply(bb, lapply, statcheck)\n",
        "dd <- lapply(cc, unlist)\n",
        "RES<- Reduce(\"+\", dd) / length(dd)\n",
        "RES<-as.data.frame(matrix(RES, 3, 5, byrow=T))\n",
        "colnames(RES) <- c(\"muhat\", \"sigmahat\",\"corhat\", \"cov_mu\", \"width_CI_mu\")\n",
        "rownames(RES) <- c(\"MEAN\", \"REGRESSION\", \"REGSTO\")\n",
        "RES"
      ],
      "metadata": {
        "colab": {
          "base_uri": "https://localhost:8080/",
          "height": 192
        },
        "id": "uAHMJ2x-u5hZ",
        "outputId": "950eb8bf-040c-472f-fcd4-ae6106a5a5bd"
      },
      "execution_count": null,
      "outputs": [
        {
          "output_type": "display_data",
          "data": {
            "text/html": [
              "<table class=\"dataframe\">\n",
              "<caption>A data.frame: 3 × 5</caption>\n",
              "<thead>\n",
              "\t<tr><th></th><th scope=col>muhat</th><th scope=col>sigmahat</th><th scope=col>corhat</th><th scope=col>cov_mu</th><th scope=col>width_CI_mu</th></tr>\n",
              "\t<tr><th></th><th scope=col>&lt;dbl&gt;</th><th scope=col>&lt;dbl&gt;</th><th scope=col>&lt;dbl&gt;</th><th scope=col>&lt;dbl&gt;</th><th scope=col>&lt;dbl&gt;</th></tr>\n",
              "</thead>\n",
              "<tbody>\n",
              "\t<tr><th scope=row>MEAN</th><td>125.0498</td><td>12.67619</td><td>0.3427530</td><td>0.5</td><td>5.030461</td></tr>\n",
              "\t<tr><th scope=row>REGRESSION</th><td>125.5942</td><td>18.71938</td><td>0.8545661</td><td>0.8</td><td>7.428661</td></tr>\n",
              "\t<tr><th scope=row>REGSTO</th><td>125.8412</td><td>23.74628</td><td>0.6577893</td><td>0.6</td><td>9.423554</td></tr>\n",
              "</tbody>\n",
              "</table>\n"
            ],
            "text/markdown": "\nA data.frame: 3 × 5\n\n| <!--/--> | muhat &lt;dbl&gt; | sigmahat &lt;dbl&gt; | corhat &lt;dbl&gt; | cov_mu &lt;dbl&gt; | width_CI_mu &lt;dbl&gt; |\n|---|---|---|---|---|---|\n| MEAN | 125.0498 | 12.67619 | 0.3427530 | 0.5 | 5.030461 |\n| REGRESSION | 125.5942 | 18.71938 | 0.8545661 | 0.8 | 7.428661 |\n| REGSTO | 125.8412 | 23.74628 | 0.6577893 | 0.6 | 9.423554 |\n\n",
            "text/latex": "A data.frame: 3 × 5\n\\begin{tabular}{r|lllll}\n  & muhat & sigmahat & corhat & cov\\_mu & width\\_CI\\_mu\\\\\n  & <dbl> & <dbl> & <dbl> & <dbl> & <dbl>\\\\\n\\hline\n\tMEAN & 125.0498 & 12.67619 & 0.3427530 & 0.5 & 5.030461\\\\\n\tREGRESSION & 125.5942 & 18.71938 & 0.8545661 & 0.8 & 7.428661\\\\\n\tREGSTO & 125.8412 & 23.74628 & 0.6577893 & 0.6 & 9.423554\\\\\n\\end{tabular}\n",
            "text/plain": [
              "           muhat    sigmahat corhat    cov_mu width_CI_mu\n",
              "MEAN       125.0498 12.67619 0.3427530 0.5    5.030461   \n",
              "REGRESSION 125.5942 18.71938 0.8545661 0.8    7.428661   \n",
              "REGSTO     125.8412 23.74628 0.6577893 0.6    9.423554   "
            ]
          },
          "metadata": {}
        }
      ]
    },
    {
      "cell_type": "markdown",
      "source": [
        "On aura pratiquement le même commentaire que précedement sur **la moyenne, l'estimation de l'écart-type.**\n",
        "\n",
        "Pour améliorer, on peut utiliser la régression stochastique, qui semble mieux préserver les caractéristiques de l'ensemble de données d'origine (variance et corrélation). Réduire la proportion de données manquantes (actuellement 73%) peut aussi améliorer la robustesse des estimations."
      ],
      "metadata": {
        "id": "t_8_w-FF8MQv"
      }
    },
    {
      "cell_type": "markdown",
      "source": [
        "On génére **les données avec de nouvelles moyennes et covariance**. Ensuite le code ajoute des données manquantes selon les mécanismes MCAR, MAR et MNAR. Egalement 3 méthodes d'imputation son utilisées : imputation par la moyenne, imputation par la regression, régression stochastique.\n",
        "\n",
        "Le code effectue 10 000 simulations en ajoutant les résultats à des matrices pour chaque méthode d’imputation et chaque mécanisme de données manquantes."
      ],
      "metadata": {
        "id": "4T_AKa5ox3Wr"
      }
    },
    {
      "cell_type": "code",
      "source": [
        "SimuMiss <- function(method){\n",
        "\n",
        "\n",
        "# Générer les données avec de nouvelles moyennes et covariance\n",
        "don <- rmvnorm(n, mean = c(150, 150), sigma = matrix(c(400, 200, 200, 400), ncol = 2))\n",
        "colnames(don) <- c(\"X\", \"Y\")\n",
        "don <- as.data.frame(don)\n",
        "\n",
        "\n",
        "# generate missing values\n",
        "donmiss <- don\n",
        "if (method == \"MCAR\"){\n",
        "indNA <- sample(1:n, 0.73*n)\n",
        "donmiss[indNA, 2] <- NA\n",
        "}\n",
        "if (method == \"MAR\"){\n",
        "donmiss[donmiss[,1]<=140, 2] <- NA\n",
        "indNA <- which(is.na(donmiss[,2]))\n",
        "}\n",
        "if (method == \"MNAR\"){\n",
        "donmiss[donmiss[,2]<=140, 2] <- NA\n",
        "indNA <- which(is.na(donmiss[, 2]))\n",
        "}\n",
        "\n",
        "donMean <- donReg <- donStochReg <- donmiss\n",
        "\n",
        "# Mean Imputation\n",
        "donMean[indNA, 2] <- mean(donMean[, 2], na.rm = T)\n",
        "\n",
        "# Regression Imputation\n",
        "reg <- lm(Y~X, data = donmiss)\n",
        "donReg[indNA, 2] <- predict(reg, donmiss[indNA, 1,drop = F])\n",
        "\n",
        "# Stochastic Regression Imputation\n",
        "donStochReg[indNA, 2] <- donReg[indNA, 2] + rnorm(length(indNA), 0, (summary(reg))$sigma)\n",
        "\n",
        "# Estimating the mean, the variance of Y, and a confidence interval for mu_y\n",
        "res <- cbind.data.frame(donmiss[, 2], donMean[,2], donReg[, 2],  donStochReg[,2])\n",
        "MM <- apply(res, 2, mean, na.rm = T)\n",
        "SD <- apply(res, 2, sd, na.rm = T)\n",
        "INF <- MM - qt(.975, n-1) * SD/sqrt(n)\n",
        "SUP <- MM + qt(.975, n-1) * SD/sqrt(n)\n",
        "\n",
        "# Complete case Analysis\n",
        "INF[1] <- MM[1] - qt(.975, n-(length(indNA))-1) * SD[1]/sqrt(n-(length(indNA))-1)\n",
        "SUP[1] <- MM[1] + qt(.975, n-(length(indNA))-1) * SD[1]/sqrt(n-(length(indNA))-1)\n",
        "\n",
        "INCI <- (125<=SUP)&(125>=INF)\n",
        "WIDTH <- SUP - INF\n",
        "res = rbind.data.frame(MM, SD, INF, SUP, INCI, WIDTH)\n",
        "colnames(res) =  c(\"CA\", \"MEAN\",\"REG\", \"STOCH\")\n",
        "return(res)\n",
        "}\n",
        "# SimuMiss(\"MCAR\")\n",
        "\n",
        "\n",
        "MAT <- MAT1 <- MAT2 <- matrix(0, 6, 4)\n",
        "for (i in 1:10000){\n",
        "MAT <- MAT + as.matrix(SimuMiss(\"MCAR\"))\n",
        "MAT1 <- MAT1 + as.matrix(SimuMiss(\"MAR\"))\n",
        "MAT2 <- MAT2 + as.matrix(SimuMiss(\"MNAR\"))\n",
        "}\n",
        "cbind.data.frame(MAT,MAT1,MAT2)/10000\n"
      ],
      "metadata": {
        "id": "Mgmio6GPwUro",
        "colab": {
          "base_uri": "https://localhost:8080/",
          "height": 286
        },
        "outputId": "be99b098-6ca4-4c0c-894d-38ce3b894f00"
      },
      "execution_count": null,
      "outputs": [
        {
          "output_type": "display_data",
          "data": {
            "text/html": [
              "<table class=\"dataframe\">\n",
              "<caption>A data.frame: 6 × 12</caption>\n",
              "<thead>\n",
              "\t<tr><th scope=col>CA</th><th scope=col>MEAN</th><th scope=col>REG</th><th scope=col>STOCH</th><th scope=col>CA</th><th scope=col>MEAN</th><th scope=col>REG</th><th scope=col>STOCH</th><th scope=col>CA</th><th scope=col>MEAN</th><th scope=col>REG</th><th scope=col>STOCH</th></tr>\n",
              "\t<tr><th scope=col>&lt;dbl&gt;</th><th scope=col>&lt;dbl&gt;</th><th scope=col>&lt;dbl&gt;</th><th scope=col>&lt;dbl&gt;</th><th scope=col>&lt;dbl&gt;</th><th scope=col>&lt;dbl&gt;</th><th scope=col>&lt;dbl&gt;</th><th scope=col>&lt;dbl&gt;</th><th scope=col>&lt;dbl&gt;</th><th scope=col>&lt;dbl&gt;</th><th scope=col>&lt;dbl&gt;</th><th scope=col>&lt;dbl&gt;</th></tr>\n",
              "</thead>\n",
              "<tbody>\n",
              "\t<tr><td>149.94653</td><td>149.946528</td><td>149.965810</td><td>149.950451</td><td>155.108294</td><td>155.10829</td><td>150.016894</td><td>150.015349</td><td>160.193122</td><td>160.193122</td><td>158.763824</td><td>158.767990</td></tr>\n",
              "\t<tr><td> 19.79771</td><td> 10.145746</td><td> 13.410884</td><td> 19.928437</td><td> 18.586508</td><td> 15.41275</td><td> 17.551855</td><td> 19.986965</td><td> 13.899019</td><td> 11.525360</td><td> 12.097107</td><td> 14.059291</td></tr>\n",
              "\t<tr><td>141.96563</td><td>147.933392</td><td>147.304799</td><td>145.996217</td><td>150.607444</td><td>152.05007</td><td>146.534225</td><td>146.049502</td><td>156.827320</td><td>157.906241</td><td>156.363496</td><td>155.978322</td></tr>\n",
              "\t<tr><td>157.92743</td><td>151.959665</td><td>152.626820</td><td>153.904686</td><td>159.609143</td><td>158.16652</td><td>153.499562</td><td>153.981197</td><td>163.558925</td><td>162.480004</td><td>161.164153</td><td>161.557659</td></tr>\n",
              "\t<tr><td>  0.00000</td><td>  0.000000</td><td>  0.000000</td><td>  0.000000</td><td>  0.000000</td><td>  0.00000</td><td>  0.000000</td><td>  0.000000</td><td>  0.000000</td><td>  0.000000</td><td>  0.000000</td><td>  0.000000</td></tr>\n",
              "\t<tr><td> 15.96180</td><td>  4.026272</td><td>  5.322021</td><td>  7.908468</td><td>  9.001699</td><td>  6.11645</td><td>  6.965338</td><td>  7.931695</td><td>  6.731605</td><td>  4.573763</td><td>  4.800657</td><td>  5.579337</td></tr>\n",
              "</tbody>\n",
              "</table>\n"
            ],
            "text/markdown": "\nA data.frame: 6 × 12\n\n| CA &lt;dbl&gt; | MEAN &lt;dbl&gt; | REG &lt;dbl&gt; | STOCH &lt;dbl&gt; | CA &lt;dbl&gt; | MEAN &lt;dbl&gt; | REG &lt;dbl&gt; | STOCH &lt;dbl&gt; | CA &lt;dbl&gt; | MEAN &lt;dbl&gt; | REG &lt;dbl&gt; | STOCH &lt;dbl&gt; |\n|---|---|---|---|---|---|---|---|---|---|---|---|\n| 149.94653 | 149.946528 | 149.965810 | 149.950451 | 155.108294 | 155.10829 | 150.016894 | 150.015349 | 160.193122 | 160.193122 | 158.763824 | 158.767990 |\n|  19.79771 |  10.145746 |  13.410884 |  19.928437 |  18.586508 |  15.41275 |  17.551855 |  19.986965 |  13.899019 |  11.525360 |  12.097107 |  14.059291 |\n| 141.96563 | 147.933392 | 147.304799 | 145.996217 | 150.607444 | 152.05007 | 146.534225 | 146.049502 | 156.827320 | 157.906241 | 156.363496 | 155.978322 |\n| 157.92743 | 151.959665 | 152.626820 | 153.904686 | 159.609143 | 158.16652 | 153.499562 | 153.981197 | 163.558925 | 162.480004 | 161.164153 | 161.557659 |\n|   0.00000 |   0.000000 |   0.000000 |   0.000000 |   0.000000 |   0.00000 |   0.000000 |   0.000000 |   0.000000 |   0.000000 |   0.000000 |   0.000000 |\n|  15.96180 |   4.026272 |   5.322021 |   7.908468 |   9.001699 |   6.11645 |   6.965338 |   7.931695 |   6.731605 |   4.573763 |   4.800657 |   5.579337 |\n\n",
            "text/latex": "A data.frame: 6 × 12\n\\begin{tabular}{llllllllllll}\n CA & MEAN & REG & STOCH & CA & MEAN & REG & STOCH & CA & MEAN & REG & STOCH\\\\\n <dbl> & <dbl> & <dbl> & <dbl> & <dbl> & <dbl> & <dbl> & <dbl> & <dbl> & <dbl> & <dbl> & <dbl>\\\\\n\\hline\n\t 149.94653 & 149.946528 & 149.965810 & 149.950451 & 155.108294 & 155.10829 & 150.016894 & 150.015349 & 160.193122 & 160.193122 & 158.763824 & 158.767990\\\\\n\t  19.79771 &  10.145746 &  13.410884 &  19.928437 &  18.586508 &  15.41275 &  17.551855 &  19.986965 &  13.899019 &  11.525360 &  12.097107 &  14.059291\\\\\n\t 141.96563 & 147.933392 & 147.304799 & 145.996217 & 150.607444 & 152.05007 & 146.534225 & 146.049502 & 156.827320 & 157.906241 & 156.363496 & 155.978322\\\\\n\t 157.92743 & 151.959665 & 152.626820 & 153.904686 & 159.609143 & 158.16652 & 153.499562 & 153.981197 & 163.558925 & 162.480004 & 161.164153 & 161.557659\\\\\n\t   0.00000 &   0.000000 &   0.000000 &   0.000000 &   0.000000 &   0.00000 &   0.000000 &   0.000000 &   0.000000 &   0.000000 &   0.000000 &   0.000000\\\\\n\t  15.96180 &   4.026272 &   5.322021 &   7.908468 &   9.001699 &   6.11645 &   6.965338 &   7.931695 &   6.731605 &   4.573763 &   4.800657 &   5.579337\\\\\n\\end{tabular}\n",
            "text/plain": [
              "  CA        MEAN       REG        STOCH      CA         MEAN      REG       \n",
              "1 149.94653 149.946528 149.965810 149.950451 155.108294 155.10829 150.016894\n",
              "2  19.79771  10.145746  13.410884  19.928437  18.586508  15.41275  17.551855\n",
              "3 141.96563 147.933392 147.304799 145.996217 150.607444 152.05007 146.534225\n",
              "4 157.92743 151.959665 152.626820 153.904686 159.609143 158.16652 153.499562\n",
              "5   0.00000   0.000000   0.000000   0.000000   0.000000   0.00000   0.000000\n",
              "6  15.96180   4.026272   5.322021   7.908468   9.001699   6.11645   6.965338\n",
              "  STOCH      CA         MEAN       REG        STOCH     \n",
              "1 150.015349 160.193122 160.193122 158.763824 158.767990\n",
              "2  19.986965  13.899019  11.525360  12.097107  14.059291\n",
              "3 146.049502 156.827320 157.906241 156.363496 155.978322\n",
              "4 153.981197 163.558925 162.480004 161.164153 161.557659\n",
              "5   0.000000   0.000000   0.000000   0.000000   0.000000\n",
              "6   7.931695   6.731605   4.573763   4.800657   5.579337"
            ]
          },
          "metadata": {}
        }
      ]
    },
    {
      "cell_type": "markdown",
      "source": [
        "Les **méthodes d'imputation influencen**t la précision des estimations. Par exemple, la méthode \"Stochastic Regression\" présente des écarts-types plus élevés, ce qui reflète une meilleure prise en compte de l'incertitude.\n",
        "\n",
        "Les **mécanismes MCAR, MAR, et MNAR** affectent la fidélité de chaque méthode. La proportion d'intervalles couvrant la valeur théorique (125) varie, ce qui indique la robustesse ou la sensibilité des méthodes aux types de données manquantes."
      ],
      "metadata": {
        "id": "UCofdz5-uQeb"
      }
    },
    {
      "cell_type": "markdown",
      "source": [
        "**3-Imputation avec une distribution gaussienne conjointe**\n",
        "\n",
        "On suppose tout d'abord que les données complètes $ X $ suivent une distribution normale multivariée $ \\mathcal{N}(\\mu, \\Sigma) $. Les paramètres $ \\mu $ et $ \\Sigma $ peuvent être estimés en utilisant des procédures basées sur la vraisemblance maximale pour les modèles de données incomplètes, comme l'algorithme d'Expectation-Maximization (EM).\n"
      ],
      "metadata": {
        "id": "RP6qYQ5vwlfG"
      }
    },
    {
      "cell_type": "code",
      "source": [
        "install.packages('norm')"
      ],
      "metadata": {
        "colab": {
          "base_uri": "https://localhost:8080/"
        },
        "id": "EWguncrAO2Mc",
        "outputId": "3dc82c35-aa0d-4cad-aacb-461f795b8a4a"
      },
      "execution_count": null,
      "outputs": [
        {
          "output_type": "stream",
          "name": "stderr",
          "text": [
            "Installing package into ‘/usr/local/lib/R/site-library’\n",
            "(as ‘lib’ is unspecified)\n",
            "\n"
          ]
        }
      ]
    },
    {
      "cell_type": "markdown",
      "source": [
        "Le code utilise le package *norm* en R pour estimer des paramètres de distribution dans des données manquantes, basées sur une distribution normale conjointe. On a remplacé les données donmiss par le dataframe *données* avec une moyenne de 150 pour X et 100 pour Y. Les valeurs manquantes sont introduites de manière aléatoire dans Y.\n",
        "\n"
      ],
      "metadata": {
        "id": "omrM25J4ZU0D"
      }
    },
    {
      "cell_type": "code",
      "source": [
        "# Chargement de la bibliothèque norm\n",
        "library(norm)\n",
        "\n",
        "# Création d'un nouveau jeu de données avec valeurs manquantes\n",
        "set.seed(42)  # Pour la reproductibilité\n",
        "donnees <- data.frame(\n",
        "  X = rnorm(100, mean = 150, sd = 20),\n",
        "  Y = rnorm(100, mean = 100, sd = 15)\n",
        ")\n",
        "\n",
        "# Introduire des valeurs manquantes dans la colonne Y\n",
        "indice_manquant <- sample(1:100, 30)  # 30% de valeurs manquantes\n",
        "donnees$Y[indice_manquant] <- NA\n",
        "\n",
        "# Préparation pour l'imputation avec EM\n",
        "pre <- prelim.norm(as.matrix(donnees))\n",
        "thetahat <- em.norm(pre)\n",
        "\n",
        "# Extraction des paramètres estimés\n",
        "resultat <- getparam.norm(pre, thetahat)\n",
        "resultat\n"
      ],
      "metadata": {
        "colab": {
          "base_uri": "https://localhost:8080/",
          "height": 212
        },
        "id": "PlfQfr3qaoOC",
        "outputId": "4761bb34-a5a3-4999-ead9-989f59b07e0f"
      },
      "execution_count": null,
      "outputs": [
        {
          "output_type": "stream",
          "name": "stdout",
          "text": [
            "Iterations of EM: \n",
            "1...2...3...4...5...6...7...8...9...\n"
          ]
        },
        {
          "output_type": "display_data",
          "data": {
            "text/html": [
              "<dl>\n",
              "\t<dt>$mu</dt>\n",
              "\t\t<dd><style>\n",
              ".list-inline {list-style: none; margin:0; padding: 0}\n",
              ".list-inline>li {display: inline-block}\n",
              ".list-inline>li:not(:last-child)::after {content: \"\\00b7\"; padding: 0 .5ex}\n",
              "</style>\n",
              "<ol class=list-inline><li>150.65029631226</li><li>99.086317316467</li></ol>\n",
              "</dd>\n",
              "\t<dt>$sigma</dt>\n",
              "\t\t<dd><table class=\"dataframe\">\n",
              "<caption>A matrix: 2 × 2 of type dbl</caption>\n",
              "<tbody>\n",
              "\t<tr><td>429.43203</td><td>-28.80075</td></tr>\n",
              "\t<tr><td>-28.80075</td><td>207.48982</td></tr>\n",
              "</tbody>\n",
              "</table>\n",
              "</dd>\n",
              "</dl>\n"
            ],
            "text/markdown": "$mu\n:   1. 150.65029631226\n2. 99.086317316467\n\n\n\n$sigma\n:   \nA matrix: 2 × 2 of type dbl\n\n| 429.43203 | -28.80075 |\n| -28.80075 | 207.48982 |\n\n\n\n\n",
            "text/latex": "\\begin{description}\n\\item[\\$mu] \\begin{enumerate*}\n\\item 150.65029631226\n\\item 99.086317316467\n\\end{enumerate*}\n\n\\item[\\$sigma] A matrix: 2 × 2 of type dbl\n\\begin{tabular}{ll}\n\t 429.43203 & -28.80075\\\\\n\t -28.80075 & 207.48982\\\\\n\\end{tabular}\n\n\\end{description}\n",
            "text/plain": [
              "$mu\n",
              "[1] 150.65030  99.08632\n",
              "\n",
              "$sigma\n",
              "          [,1]      [,2]\n",
              "[1,] 429.43203 -28.80075\n",
              "[2,] -28.80075 207.48982\n"
            ]
          },
          "metadata": {}
        }
      ]
    },
    {
      "cell_type": "markdown",
      "source": [
        "Après avoir défini une graine aléatoire (rngseed(1e5)) pour garantir la reproductibilité, le code remplace les valeurs manquantes dans Y par des valeurs générées en fonction des estimations obtenues avec EM, de sorte que les valeurs imputées suivent la distribution conjointe."
      ],
      "metadata": {
        "id": "xVVQ57KzbzLA"
      }
    },
    {
      "cell_type": "code",
      "source": [
        "# Very important: rngseed MUST be called before using imp.norm\n",
        "# Imputation multiple en tirant des valeurs pour remplacer les valeurs manquantes dans un jeu de données\n",
        "rngseed(1e5)\n",
        "imp.draw <- imp.norm(pre,thetahat,donnees)\n",
        "imp.draw"
      ],
      "metadata": {
        "id": "cYhSaEE1xIWD",
        "colab": {
          "base_uri": "https://localhost:8080/",
          "height": 2011
        },
        "outputId": "80404821-9f85-4ca2-ec60-aa6ec6e126a6"
      },
      "execution_count": null,
      "outputs": [
        {
          "output_type": "display_data",
          "data": {
            "text/html": [
              "<table class=\"dataframe\">\n",
              "<caption>A data.frame: 100 × 2</caption>\n",
              "<thead>\n",
              "\t<tr><th scope=col>X</th><th scope=col>Y</th></tr>\n",
              "\t<tr><th scope=col>&lt;dbl&gt;</th><th scope=col>&lt;dbl&gt;</th></tr>\n",
              "</thead>\n",
              "<tbody>\n",
              "\t<tr><td>177.41917</td><td>118.01448</td></tr>\n",
              "\t<tr><td>138.70604</td><td> 89.95676</td></tr>\n",
              "\t<tr><td>157.26257</td><td> 96.60456</td></tr>\n",
              "\t<tr><td>162.65725</td><td>127.72723</td></tr>\n",
              "\t<tr><td>158.08537</td><td> 91.65960</td></tr>\n",
              "\t<tr><td>147.87751</td><td>101.58271</td></tr>\n",
              "\t<tr><td>180.23044</td><td> 55.49282</td></tr>\n",
              "\t<tr><td>148.10682</td><td> 98.16475</td></tr>\n",
              "\t<tr><td>190.36847</td><td> 90.68658</td></tr>\n",
              "\t<tr><td>148.74572</td><td>100.62466</td></tr>\n",
              "\t<tr><td>176.09739</td><td> 99.62361</td></tr>\n",
              "\t<tr><td>195.73291</td><td>101.62109</td></tr>\n",
              "\t<tr><td>122.22279</td><td> 89.83900</td></tr>\n",
              "\t<tr><td>144.42422</td><td> 92.43674</td></tr>\n",
              "\t<tr><td>147.33357</td><td> 75.08351</td></tr>\n",
              "\t<tr><td>162.71901</td><td> 94.26499</td></tr>\n",
              "\t<tr><td>144.31494</td><td> 92.31025</td></tr>\n",
              "\t<tr><td> 96.87089</td><td>140.52837</td></tr>\n",
              "\t<tr><td>101.19066</td><td> 79.56826</td></tr>\n",
              "\t<tr><td>176.40227</td><td> 83.77537</td></tr>\n",
              "\t<tr><td>143.86723</td><td> 77.59562</td></tr>\n",
              "\t<tr><td>114.37383</td><td>107.44129</td></tr>\n",
              "\t<tr><td>146.56165</td><td>101.87054</td></tr>\n",
              "\t<tr><td>174.29349</td><td>119.28173</td></tr>\n",
              "\t<tr><td>187.90387</td><td> 99.97266</td></tr>\n",
              "\t<tr><td>141.39062</td><td> 93.57612</td></tr>\n",
              "\t<tr><td>144.85461</td><td> 90.79493</td></tr>\n",
              "\t<tr><td>114.73674</td><td> 88.20399</td></tr>\n",
              "\t<tr><td>159.20195</td><td> 81.62878</td></tr>\n",
              "\t<tr><td>137.20010</td><td> 97.05157</td></tr>\n",
              "\t<tr><td>⋮</td><td>⋮</td></tr>\n",
              "\t<tr><td>129.1376</td><td> 96.55333</td></tr>\n",
              "\t<tr><td>148.1963</td><td>112.54929</td></tr>\n",
              "\t<tr><td>162.4704</td><td> 73.82416</td></tr>\n",
              "\t<tr><td>130.9295</td><td>125.34188</td></tr>\n",
              "\t<tr><td>139.1434</td><td> 87.50243</td></tr>\n",
              "\t<tr><td>161.6199</td><td> 97.73836</td></tr>\n",
              "\t<tr><td>165.3636</td><td> 78.26489</td></tr>\n",
              "\t<tr><td>159.2754</td><td> 91.20370</td></tr>\n",
              "\t<tr><td>132.2845</td><td>107.24791</td></tr>\n",
              "\t<tr><td>128.0044</td><td>101.10725</td></tr>\n",
              "\t<tr><td>180.2541</td><td>102.27184</td></tr>\n",
              "\t<tr><td>155.1584</td><td> 91.23837</td></tr>\n",
              "\t<tr><td>151.7688</td><td>105.53210</td></tr>\n",
              "\t<tr><td>147.5821</td><td>104.41982</td></tr>\n",
              "\t<tr><td>126.1134</td><td>106.90266</td></tr>\n",
              "\t<tr><td>162.2399</td><td> 79.95645</td></tr>\n",
              "\t<tr><td>145.6572</td><td>110.51123</td></tr>\n",
              "\t<tr><td>146.3449</td><td>108.31295</td></tr>\n",
              "\t<tr><td>168.6669</td><td> 87.45540</td></tr>\n",
              "\t<tr><td>166.4355</td><td> 76.08118</td></tr>\n",
              "\t<tr><td>177.8423</td><td> 94.62380</td></tr>\n",
              "\t<tr><td>140.4765</td><td>129.30068</td></tr>\n",
              "\t<tr><td>163.0070</td><td>115.23765</td></tr>\n",
              "\t<tr><td>177.8222</td><td> 80.58996</td></tr>\n",
              "\t<tr><td>127.7842</td><td> 85.61244</td></tr>\n",
              "\t<tr><td>132.7841</td><td>116.28662</td></tr>\n",
              "\t<tr><td>127.3652</td><td>106.05662</td></tr>\n",
              "\t<tr><td>120.8157</td><td>108.79731</td></tr>\n",
              "\t<tr><td>151.5997</td><td>127.22843</td></tr>\n",
              "\t<tr><td>163.0641</td><td>101.93232</td></tr>\n",
              "</tbody>\n",
              "</table>\n"
            ],
            "text/markdown": "\nA data.frame: 100 × 2\n\n| X &lt;dbl&gt; | Y &lt;dbl&gt; |\n|---|---|\n| 177.41917 | 118.01448 |\n| 138.70604 |  89.95676 |\n| 157.26257 |  96.60456 |\n| 162.65725 | 127.72723 |\n| 158.08537 |  91.65960 |\n| 147.87751 | 101.58271 |\n| 180.23044 |  55.49282 |\n| 148.10682 |  98.16475 |\n| 190.36847 |  90.68658 |\n| 148.74572 | 100.62466 |\n| 176.09739 |  99.62361 |\n| 195.73291 | 101.62109 |\n| 122.22279 |  89.83900 |\n| 144.42422 |  92.43674 |\n| 147.33357 |  75.08351 |\n| 162.71901 |  94.26499 |\n| 144.31494 |  92.31025 |\n|  96.87089 | 140.52837 |\n| 101.19066 |  79.56826 |\n| 176.40227 |  83.77537 |\n| 143.86723 |  77.59562 |\n| 114.37383 | 107.44129 |\n| 146.56165 | 101.87054 |\n| 174.29349 | 119.28173 |\n| 187.90387 |  99.97266 |\n| 141.39062 |  93.57612 |\n| 144.85461 |  90.79493 |\n| 114.73674 |  88.20399 |\n| 159.20195 |  81.62878 |\n| 137.20010 |  97.05157 |\n| ⋮ | ⋮ |\n| 129.1376 |  96.55333 |\n| 148.1963 | 112.54929 |\n| 162.4704 |  73.82416 |\n| 130.9295 | 125.34188 |\n| 139.1434 |  87.50243 |\n| 161.6199 |  97.73836 |\n| 165.3636 |  78.26489 |\n| 159.2754 |  91.20370 |\n| 132.2845 | 107.24791 |\n| 128.0044 | 101.10725 |\n| 180.2541 | 102.27184 |\n| 155.1584 |  91.23837 |\n| 151.7688 | 105.53210 |\n| 147.5821 | 104.41982 |\n| 126.1134 | 106.90266 |\n| 162.2399 |  79.95645 |\n| 145.6572 | 110.51123 |\n| 146.3449 | 108.31295 |\n| 168.6669 |  87.45540 |\n| 166.4355 |  76.08118 |\n| 177.8423 |  94.62380 |\n| 140.4765 | 129.30068 |\n| 163.0070 | 115.23765 |\n| 177.8222 |  80.58996 |\n| 127.7842 |  85.61244 |\n| 132.7841 | 116.28662 |\n| 127.3652 | 106.05662 |\n| 120.8157 | 108.79731 |\n| 151.5997 | 127.22843 |\n| 163.0641 | 101.93232 |\n\n",
            "text/latex": "A data.frame: 100 × 2\n\\begin{tabular}{ll}\n X & Y\\\\\n <dbl> & <dbl>\\\\\n\\hline\n\t 177.41917 & 118.01448\\\\\n\t 138.70604 &  89.95676\\\\\n\t 157.26257 &  96.60456\\\\\n\t 162.65725 & 127.72723\\\\\n\t 158.08537 &  91.65960\\\\\n\t 147.87751 & 101.58271\\\\\n\t 180.23044 &  55.49282\\\\\n\t 148.10682 &  98.16475\\\\\n\t 190.36847 &  90.68658\\\\\n\t 148.74572 & 100.62466\\\\\n\t 176.09739 &  99.62361\\\\\n\t 195.73291 & 101.62109\\\\\n\t 122.22279 &  89.83900\\\\\n\t 144.42422 &  92.43674\\\\\n\t 147.33357 &  75.08351\\\\\n\t 162.71901 &  94.26499\\\\\n\t 144.31494 &  92.31025\\\\\n\t  96.87089 & 140.52837\\\\\n\t 101.19066 &  79.56826\\\\\n\t 176.40227 &  83.77537\\\\\n\t 143.86723 &  77.59562\\\\\n\t 114.37383 & 107.44129\\\\\n\t 146.56165 & 101.87054\\\\\n\t 174.29349 & 119.28173\\\\\n\t 187.90387 &  99.97266\\\\\n\t 141.39062 &  93.57612\\\\\n\t 144.85461 &  90.79493\\\\\n\t 114.73674 &  88.20399\\\\\n\t 159.20195 &  81.62878\\\\\n\t 137.20010 &  97.05157\\\\\n\t ⋮ & ⋮\\\\\n\t 129.1376 &  96.55333\\\\\n\t 148.1963 & 112.54929\\\\\n\t 162.4704 &  73.82416\\\\\n\t 130.9295 & 125.34188\\\\\n\t 139.1434 &  87.50243\\\\\n\t 161.6199 &  97.73836\\\\\n\t 165.3636 &  78.26489\\\\\n\t 159.2754 &  91.20370\\\\\n\t 132.2845 & 107.24791\\\\\n\t 128.0044 & 101.10725\\\\\n\t 180.2541 & 102.27184\\\\\n\t 155.1584 &  91.23837\\\\\n\t 151.7688 & 105.53210\\\\\n\t 147.5821 & 104.41982\\\\\n\t 126.1134 & 106.90266\\\\\n\t 162.2399 &  79.95645\\\\\n\t 145.6572 & 110.51123\\\\\n\t 146.3449 & 108.31295\\\\\n\t 168.6669 &  87.45540\\\\\n\t 166.4355 &  76.08118\\\\\n\t 177.8423 &  94.62380\\\\\n\t 140.4765 & 129.30068\\\\\n\t 163.0070 & 115.23765\\\\\n\t 177.8222 &  80.58996\\\\\n\t 127.7842 &  85.61244\\\\\n\t 132.7841 & 116.28662\\\\\n\t 127.3652 & 106.05662\\\\\n\t 120.8157 & 108.79731\\\\\n\t 151.5997 & 127.22843\\\\\n\t 163.0641 & 101.93232\\\\\n\\end{tabular}\n",
            "text/plain": [
              "    X         Y        \n",
              "1   177.41917 118.01448\n",
              "2   138.70604  89.95676\n",
              "3   157.26257  96.60456\n",
              "4   162.65725 127.72723\n",
              "5   158.08537  91.65960\n",
              "6   147.87751 101.58271\n",
              "7   180.23044  55.49282\n",
              "8   148.10682  98.16475\n",
              "9   190.36847  90.68658\n",
              "10  148.74572 100.62466\n",
              "11  176.09739  99.62361\n",
              "12  195.73291 101.62109\n",
              "13  122.22279  89.83900\n",
              "14  144.42422  92.43674\n",
              "15  147.33357  75.08351\n",
              "16  162.71901  94.26499\n",
              "17  144.31494  92.31025\n",
              "18   96.87089 140.52837\n",
              "19  101.19066  79.56826\n",
              "20  176.40227  83.77537\n",
              "21  143.86723  77.59562\n",
              "22  114.37383 107.44129\n",
              "23  146.56165 101.87054\n",
              "24  174.29349 119.28173\n",
              "25  187.90387  99.97266\n",
              "26  141.39062  93.57612\n",
              "27  144.85461  90.79493\n",
              "28  114.73674  88.20399\n",
              "29  159.20195  81.62878\n",
              "30  137.20010  97.05157\n",
              "⋮   ⋮         ⋮        \n",
              "71  129.1376   96.55333\n",
              "72  148.1963  112.54929\n",
              "73  162.4704   73.82416\n",
              "74  130.9295  125.34188\n",
              "75  139.1434   87.50243\n",
              "76  161.6199   97.73836\n",
              "77  165.3636   78.26489\n",
              "78  159.2754   91.20370\n",
              "79  132.2845  107.24791\n",
              "80  128.0044  101.10725\n",
              "81  180.2541  102.27184\n",
              "82  155.1584   91.23837\n",
              "83  151.7688  105.53210\n",
              "84  147.5821  104.41982\n",
              "85  126.1134  106.90266\n",
              "86  162.2399   79.95645\n",
              "87  145.6572  110.51123\n",
              "88  146.3449  108.31295\n",
              "89  168.6669   87.45540\n",
              "90  166.4355   76.08118\n",
              "91  177.8423   94.62380\n",
              "92  140.4765  129.30068\n",
              "93  163.0070  115.23765\n",
              "94  177.8222   80.58996\n",
              "95  127.7842   85.61244\n",
              "96  132.7841  116.28662\n",
              "97  127.3652  106.05662\n",
              "98  120.8157  108.79731\n",
              "99  151.5997  127.22843\n",
              "100 163.0641  101.93232"
            ]
          },
          "metadata": {}
        }
      ]
    },
    {
      "cell_type": "markdown",
      "source": [
        "Le tableau final affiche les données complètes avec les valeurs imputées pour Y là où elles étaient manquantes."
      ],
      "metadata": {
        "id": "PrUSOyLNeE6M"
      }
    },
    {
      "cell_type": "markdown",
      "source": [
        "**4-Imputation basée sur l'espérance conditionnelle** pour les valeurs manquantes dans un jeu de données *( \"donnee\" au lieu de donmiss*), en se basant sur **une distribution normale conjointe dont les paramètres (moyennes et covariances)** ont été estimés à l'aide de l'algorithme EM.\n",
        "\n",
        "Cet algorithme permet de prédire les valeurs manquantes de manière optimale sous l'hypothèse d'une distribution normale multivariée, en conservant les relations conditionnelles entre les variables."
      ],
      "metadata": {
        "id": "JOXaqmTAxyg2"
      }
    },
    {
      "cell_type": "code",
      "source": [
        "to_matrix = function(x, horiz){\n",
        "  # Helper function that converts to matrix\n",
        "  # while ensuring that the orientation is the right one if\n",
        "  # the inpute is just a vector (->column or row matrix)\n",
        "  if(!is.null(dim(x))){\n",
        "    return(x)\n",
        "  }\n",
        "  else{\n",
        "    if(!horiz){\n",
        "      return(as.matrix(x))\n",
        "    }\n",
        "    else{\n",
        "      return(t(as.matrix(x)))\n",
        "    }\n",
        "  }\n",
        "}\n",
        "\n",
        "estimate.1row = function(row, s, m){\n",
        "  # Used to perform the imputation on one row\n",
        "  miss_col = is.na(row)\n",
        "  nmiss = sum(miss_col)\n",
        "  if(nmiss>0){\n",
        "    mu.miss = m[miss_col]\n",
        "    mu.obs = m[!miss_col]\n",
        "    sigma.miss = s[miss_col,miss_col]\n",
        "    sigma.miss.obs = to_matrix(s[miss_col,!miss_col], horiz=nmiss==1)\n",
        "    sigma.obs = s[!miss_col,!miss_col]\n",
        "    mu_cond = mu.miss + sigma.miss.obs %*% solve(sigma.obs) %*% (row[!miss_col] - mu.obs)\n",
        "    row[miss_col] = mu_cond\n",
        "  }\n",
        "  return(row)\n",
        "}\n",
        "\n",
        "\n",
        "params = getparam.norm(pre,thetahat)\n",
        "sigma = params$sigma\n",
        "mu = params$mu\n",
        "imp.expectation = t(apply(donnees, 1, function(x){estimate.1row(x,s=sigma, m=mu)}))"
      ],
      "metadata": {
        "id": "66bTO5QPxmuy"
      },
      "execution_count": null,
      "outputs": []
    },
    {
      "cell_type": "markdown",
      "source": [
        "##5- **Multiple imputation**\n",
        "\n"
      ],
      "metadata": {
        "id": "C8h7banyyScP"
      }
    },
    {
      "cell_type": "markdown",
      "source": [
        "Ce code réalise une **imputation multiple** pour gérer les valeurs manquantes dans le jeu de données donnees, en utilisant trois méthodes de génération de données manquantes : **MCAR** (Missing Completely At Random), **MAR** (Missing At Random), et **MNAR** (Missing Not At Random).\n",
        "\n",
        "On continue avec notre jeu de données \"*donnee*\"."
      ],
      "metadata": {
        "id": "1ZEQtYJuoALW"
      }
    },
    {
      "cell_type": "code",
      "source": [
        "IMPMULT <- function(method, M){\n",
        "  # Génération des données\n",
        "  donnees <- data.frame(\n",
        "    X = rnorm(100, mean = 150, sd = 20),\n",
        "    Y = rnorm(100, mean = 100, sd = 15)\n",
        "  )\n",
        "\n",
        "  # Générer les valeurs manquantes\n",
        "  if (method == \"MCAR\"){\n",
        "    indNA <- sample(1:100, 0.73 * 100)\n",
        "    donnees[indNA, \"Y\"] <- NA\n",
        "  }\n",
        "  if (method == \"MAR\"){\n",
        "    donnees[donnees$X <= 140, \"Y\"] <- NA\n",
        "    indNA <- which(is.na(donnees$Y))\n",
        "  }\n",
        "  if (method == \"MNAR\"){\n",
        "    donnees[donnees$Y <= 100, \"Y\"] <- NA\n",
        "    indNA <- which(is.na(donnees$Y))\n",
        "  }\n",
        "\n",
        "  # Imputation multiple\n",
        "  ThetaHat <- VarThetaHat <- rep(NA, M)\n",
        "  for (j in 1:M){\n",
        "    donStochReg <- donnees\n",
        "    # Bootstrap pour refléter la variabilité d'échantillonnage\n",
        "    indsample <- sample(1:100, replace = TRUE)\n",
        "    reg <- lm(Y ~ X, data = donnees[indsample, ])\n",
        "    donStochReg[indNA, \"Y\"] <- predict(reg, donnees[indNA, \"X\", drop = FALSE]) + rnorm(length(indNA), 0, (summary(reg))$sigma)\n",
        "    ThetaHat[j] <- mean(donStochReg$Y, na.rm = TRUE)\n",
        "    VarThetaHat[j] <- var(donStochReg$Y, na.rm = TRUE) / 100\n",
        "  }\n",
        "\n",
        "  # Combinaison des résultats selon les règles de Rubin\n",
        "  ThetaHatBar <- mean(ThetaHat)\n",
        "  T <- mean(VarThetaHat) + (1 + 1/M) * var(ThetaHat)\n",
        "\n",
        "  IMddf <- (M-1) * (1 + mean(VarThetaHat) / ((M+1) * var(ThetaHat)))^2\n",
        "\n",
        "  IMINF <- ThetaHatBar - qt(0.975, df = IMddf) * sqrt(T)\n",
        "  IMSUP <- ThetaHatBar + qt(0.975, df = IMddf) * sqrt(T)\n",
        "\n",
        "  IMINCI <- (125 <= IMSUP) & (125 >= IMINF)\n",
        "  IMWIDTH <- IMSUP - IMINF\n",
        "  res <- rbind.data.frame(ThetaHatBar, IMINF, IMSUP, IMINCI, IMWIDTH)\n",
        "  colnames(res) <- c(\"IM\")\n",
        "  return(res)\n",
        "}\n",
        "\n",
        "# Exemple d'exécution\n",
        "IMPMULT(\"MCAR\", M = 100)\n"
      ],
      "metadata": {
        "colab": {
          "base_uri": "https://localhost:8080/",
          "height": 290
        },
        "id": "WVyqz7fZm-Jw",
        "outputId": "d66db727-f150-403a-e23a-dc139140c148"
      },
      "execution_count": null,
      "outputs": [
        {
          "output_type": "display_data",
          "data": {
            "text/html": [
              "<table class=\"dataframe\">\n",
              "<caption>A data.frame: 5 × 1</caption>\n",
              "<thead>\n",
              "\t<tr><th scope=col>IM</th></tr>\n",
              "\t<tr><th scope=col>&lt;dbl&gt;</th></tr>\n",
              "</thead>\n",
              "<tbody>\n",
              "\t<tr><td>101.72678</td></tr>\n",
              "\t<tr><td> 95.76430</td></tr>\n",
              "\t<tr><td>107.68926</td></tr>\n",
              "\t<tr><td>  0.00000</td></tr>\n",
              "\t<tr><td> 11.92496</td></tr>\n",
              "</tbody>\n",
              "</table>\n"
            ],
            "text/markdown": "\nA data.frame: 5 × 1\n\n| IM &lt;dbl&gt; |\n|---|\n| 101.72678 |\n|  95.76430 |\n| 107.68926 |\n|   0.00000 |\n|  11.92496 |\n\n",
            "text/latex": "A data.frame: 5 × 1\n\\begin{tabular}{l}\n IM\\\\\n <dbl>\\\\\n\\hline\n\t 101.72678\\\\\n\t  95.76430\\\\\n\t 107.68926\\\\\n\t   0.00000\\\\\n\t  11.92496\\\\\n\\end{tabular}\n",
            "text/plain": [
              "  IM       \n",
              "1 101.72678\n",
              "2  95.76430\n",
              "3 107.68926\n",
              "4   0.00000\n",
              "5  11.92496"
            ]
          },
          "metadata": {}
        }
      ]
    },
    {
      "cell_type": "markdown",
      "source": [
        "L'absence de couverture (IMINCI = 0) montre que la moyenne cible (125) n'est pas incluse dans l'intervalle, ce qui peut indiquer un biais dû à la méthode d'imputation ou aux hypothèses faites sur les valeurs manquantes."
      ],
      "metadata": {
        "id": "cPbWtPCqpUhA"
      }
    },
    {
      "cell_type": "markdown",
      "source": [
        "## **En résumé :**\n",
        "*   **L'imputation unique** sous-estime la variabilité des estimateurs des paramètres, car elle ne prend pas en compte la variabilité due aux valeurs manquantes. **L'imputation multiple** vise à fournir une estimation des paramètres d'intérêt ainsi que de leur variabilité, en intégrant la variabilité induite par les valeurs manquantes.\n",
        "*   **Le pourcentage de valeurs manquantes** n’est pas le seul facteur important. Si les **variables sont fortement corrélées**, il est possible de prédire les valeurs manquantes avec précision, même avec un pourcentage élevé de données manquantes. En revanche, si **l’ensemble de données est très bruité**, même un faible pourcentage de valeurs manquantes peut poser problème. **L’imputation multiple** peut toujours être réalisée et permet de mesurer précisément la **variabilité des prédictions**, ce qui indique à quel point on peut faire confiance aux résultats obtenus d’un ensemble de données (très) incomplet.\n",
        "*  Lorsque l'on a **3 méthodes d'imputation** à comparer : on peut utiliser une stratégie de validation croisée : on supprime certaines entrées disponibles, on les prédit avec les 3 méthodes d'imputation et on calcul les erreurs de prédiction. On répète cette procédure, disons, K fois. On choisis ensuite la **méthode qui minimise l'erreur de prédiction**.\n",
        "*   **La différence entre l'imputation avec Random Forest et l'ACP:** La qualité de l’imputation dépend des propriétés du modèle d'imputation. Avec **l'imputation par ACP**, on s'attend à mieux représenter les relations **linéaires entre les variables**, tandis que l'imputation par **forêts aléatoires** sera plus efficace pour capturer **les interactions fortes et les relations non linéaires entre variables.** Cependant, les forêts aléatoires ne pourront pas interpoler, c’est-à-dire prédire au-delà des limites observées, puisqu’elles se basent sur des moyennes.\n",
        "\n",
        "\n"
      ],
      "metadata": {
        "id": "iBcBnxVCFsj7"
      }
    }
  ]
}
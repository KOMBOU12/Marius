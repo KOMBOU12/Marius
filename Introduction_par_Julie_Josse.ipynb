{
  "nbformat": 4,
  "nbformat_minor": 0,
  "metadata": {
    "colab": {
      "provenance": [],
      "authorship_tag": "ABX9TyOIg6dCb6sloBQLWxkniSZt",
      "include_colab_link": true
    },
    "kernelspec": {
      "name": "ir",
      "display_name": "R"
    },
    "language_info": {
      "name": "R"
    }
  },
  "cells": [
    {
      "cell_type": "markdown",
      "metadata": {
        "id": "view-in-github",
        "colab_type": "text"
      },
      "source": [
        "<a href=\"https://colab.research.google.com/github/KOMBOU12/Marius/blob/main/Introduction_par_Julie_Josse.ipynb\" target=\"_parent\"><img src=\"https://colab.research.google.com/assets/colab-badge.svg\" alt=\"Open In Colab\"/></a>"
      ]
    },
    {
      "cell_type": "markdown",
      "source": [
        "## Le but de ce projet est de faire tourner les codes présentés par Julie JOSSE avec d'autres jeux de données"
      ],
      "metadata": {
        "id": "52887xM8Qy8Y"
      }
    },
    {
      "cell_type": "markdown",
      "source": [
        "**1-1 La méthode EM pour des données gaussiennes bivariées.**\n",
        "\n",
        "L'objectif de ce problème est d'utiliser l'algorithme EM pour estimer la moyenne d'un ensemble de données normales bivariées comportant des valeurs manquantes dans l'une des deux variables. Nous générons  des données synthétiques différentes de Julie Josse, puis nous mettons en œuvre l'algorithme EM pour calculer l'estimateur de la moyenne."
      ],
      "metadata": {
        "id": "80HOu39KRU4G"
      }
    },
    {
      "cell_type": "code",
      "source": [
        "install.packages(\"norm\")"
      ],
      "metadata": {
        "colab": {
          "base_uri": "https://localhost:8080/"
        },
        "id": "UMNhXHuPSPNE",
        "outputId": "790eb6f4-b8ba-4055-bb0e-d47a22f7604f"
      },
      "execution_count": 1,
      "outputs": [
        {
          "output_type": "stream",
          "name": "stderr",
          "text": [
            "Installing package into ‘/usr/local/lib/R/site-library’\n",
            "(as ‘lib’ is unspecified)\n",
            "\n"
          ]
        }
      ]
    },
    {
      "cell_type": "code",
      "execution_count": 2,
      "metadata": {
        "colab": {
          "base_uri": "https://localhost:8080/"
        },
        "id": "Vn7m1ja6Biof",
        "outputId": "56b73e15-a8c1-4440-badc-1bb3e7402b90"
      },
      "outputs": [
        {
          "output_type": "stream",
          "name": "stderr",
          "text": [
            "This package has some major limitations\n",
            "(for example, it does not work reliably when\n",
            "the number of variables exceeds 30),\n",
            "and has been superseded by the norm2 package.\n",
            "\n"
          ]
        },
        {
          "output_type": "stream",
          "name": "stdout",
          "text": [
            "Iterations of EM: \n",
            "1...2...3...4...5...6...7...8...9...10...11...12...13...14...15...16...17...\n"
          ]
        }
      ],
      "source": [
        "library(norm)\n",
        "data(mdata)\n",
        "pre <- prelim.norm(as.matrix(mdata))\n",
        "thetahat <- em.norm(pre)"
      ]
    },
    {
      "cell_type": "code",
      "source": [
        "install.packages(\"mvtnorm\")\n",
        "library(mvtnorm)"
      ],
      "metadata": {
        "id": "n9zbsw24FHrL",
        "colab": {
          "base_uri": "https://localhost:8080/"
        },
        "outputId": "8a9427af-11e5-48c9-bd42-518b79fd79df"
      },
      "execution_count": 3,
      "outputs": [
        {
          "output_type": "stream",
          "name": "stderr",
          "text": [
            "Installing package into ‘/usr/local/lib/R/site-library’\n",
            "(as ‘lib’ is unspecified)\n",
            "\n"
          ]
        }
      ]
    },
    {
      "cell_type": "markdown",
      "source": [
        "Ce code génère des données bivariées normalement distribuées avec des valeurs manquantes à 30%.  \n",
        "\n",
        "Le jeu de données comporte $ n $ échantillons contenant des valeurs manquantes uniquement dans la variable $ y_2$. En d'autres termes, pour un indice donné d'échantillons $ r \\leq n $, pour $ i = 1, \\ldots, r $, $ (y_{i1}, y_{i2}) $ sont complètement observés ; tandis que pour $ i = r + 1, \\ldots, n $, nous n'observons que $ y_{i1} $. L'objectif est d'estimer la moyenne $ \\mu $.\n",
        "\n",
        "Nous comparerons deux stratégies :\n",
        "1. Calcul direct de l'estimateur du maximum de vraisemblance.\n",
        "2. Estimation avec l'algorithme EM."
      ],
      "metadata": {
        "id": "0AM0TCR9DMIv"
      }
    },
    {
      "cell_type": "code",
      "source": [
        "set.seed(100)\n",
        "\n",
        "n <- 100\n",
        "r <- floor(n*0.3)\n",
        "mu <- c(2.22, -6.06)\n",
        "# Sigma doit être symétrique\n",
        "Sigma <- matrix(c(2.5, 0.4, 0.4, 0.9), nrow=2)  #\n",
        "\n",
        "Y <- rmvnorm(n, mean=mu, sigma=Sigma)\n",
        "missing_idx <- sample(100, r, replace = FALSE)\n",
        "Y[missing_idx, 2] <- NA"
      ],
      "metadata": {
        "id": "iQjgezsiGamW"
      },
      "execution_count": 4,
      "outputs": []
    },
    {
      "cell_type": "markdown",
      "source": [
        "On calcule les estimations du maximum de vraisemblance de $\\mu_1$ et $\\mu_2$"
      ],
      "metadata": {
        "id": "IDfuQhF5HPsQ"
      }
    },
    {
      "cell_type": "code",
      "source": [
        "hat_mu1_ML <- (1/n)*sum(Y[,1])\n",
        "bar_y1 <- mean(Y[setdiff(1:n,missing_idx), 1]) # mean(Y[!((1:n)%in%missing_idx), 1])\n",
        "bar_y2 <-mean(Y[setdiff(1:n,missing_idx), 2])\n",
        "s_11 <- mean((Y[setdiff(1:n,missing_idx),1]-bar_y1)^2)\n",
        "s_22 <- mean((Y[setdiff(1:n,missing_idx),2]-bar_y2)^2)\n",
        "s_12 <- mean((Y[setdiff(1:n,missing_idx),1]-bar_y1)*(Y[setdiff(1:n,missing_idx),2]-bar_y2))\n",
        "hat_beta_21.1 <- s_12/s_11\n",
        "hat_beta_20.1 <- bar_y2-hat_beta_21.1*bar_y1\n",
        "hat_mu2_ML <- hat_beta_20.1+hat_beta_21.1*hat_mu1_ML\n",
        "resML <- c(hat_mu1_ML=hat_mu1_ML,hat_mu2_ML=hat_mu2_ML)"
      ],
      "metadata": {
        "id": "8tmBcnI2G93f"
      },
      "execution_count": 5,
      "outputs": []
    },
    {
      "cell_type": "code",
      "source": [
        "Estep=function(Y, mu, Sigma, missing_idx)\n",
        "{\n",
        "n=nrow(Y)\n",
        "sigma_22.1=Sigma[2,2]-Sigma[1,2]^2/Sigma[1,1]\n",
        "beta_21.1=Sigma[1,2]/Sigma[1,1]\n",
        "beta_20.1=mu[2]-beta_21.1*mu[1]\n",
        "\n",
        "E_y2=rep(0, n)\n",
        "E_y2[missing_idx]=rep(beta_20.1, length(missing_idx))+beta_21.1*Y[missing_idx,1]\n",
        "E_y2[setdiff(1:n, missing_idx)]=Y[setdiff(1:n, missing_idx),2]\n",
        "E_y1=Y[,1]\n",
        "E_y2_y2=rep(0, n)\n",
        "E_y2_y2[missing_idx]=E_y2[missing_idx]^2+rep(sigma_22.1, length(missing_idx))\n",
        "E_y2_y2[setdiff(1:n, missing_idx)]=E_y2[setdiff(1:n, missing_idx)]^2\n",
        "E_y1_y1=Y[,1]^2\n",
        "E_y1_y2=rep(0, n)\n",
        "E_y1_y2=E_y2*E_y1\n",
        "return(structure(list(s1=sum(E_y1), s2=sum(E_y2), s11=sum(E_y1_y1), s22=sum(E_y2_y2), s12=sum(E_y1_y2))))\n",
        "}\n",
        "\n",
        "Mstep=function(Y, s1, s2, s11, s22, s12)\n",
        "{\n",
        "n=nrow(Y)\n",
        "mu1=s1/n\n",
        "mu2=s2/n\n",
        "sigma1=s11/n-mu1^2\n",
        "sigma2=s22/n-mu2^2\n",
        "sigma12=s12/n-mu1*mu2\n",
        "mu=c(mu1,mu2)\n",
        "Sigma=matrix(c(sigma1, sigma12,sigma12,sigma2), nrow=2)\n",
        "return(structure(list(mu=mu, Sigma=Sigma)))\n",
        "}"
      ],
      "metadata": {
        "id": "GGErrpNjVJ1N"
      },
      "execution_count": 6,
      "outputs": []
    },
    {
      "cell_type": "markdown",
      "source": [
        "On implémente une fonction  initEM"
      ],
      "metadata": {
        "id": "_XWN4vGTIAKE"
      }
    },
    {
      "cell_type": "code",
      "source": [
        "initEM=function(Y, missing_idx)\n",
        "{\n",
        "n=nrow(Y)\n",
        "r=n-length(missing_idx)\n",
        "mu1=mean(Y[,1])\n",
        "mu2=mean(Y[,2], na.rm=T)\n",
        "sigma1=mean(Y[,1]^2)-mu1^2\n",
        "sigma2=mean(Y[,2]^2, na.rm=T)-mu2^2\n",
        "sigma12=mean(Y[,1]*Y[,2], na.rm=T)-mu1*mu2\n",
        "mu=c(mu1,mu2)\n",
        "Sigma=matrix(c(sigma1, sigma12,sigma12,sigma2), nrow=2)\n",
        "return(structure(list(mu=mu, Sigma=Sigma)))\n",
        "}"
      ],
      "metadata": {
        "id": "065sKhzTVgRJ"
      },
      "execution_count": 7,
      "outputs": []
    },
    {
      "cell_type": "code",
      "source": [
        "init=initEM(Y, missing_idx)\n",
        "hat_mu=init$mu\n",
        "hat_Sigma=init$Sigma\n",
        "error_mu=rep(0,50)\n",
        "for(i in 1:50)\n",
        "{\n",
        "error_mu[i]=sqrt(sum((hat_mu-mu)^2))\n",
        "# E step\n",
        "E=Estep(Y, hat_mu, hat_Sigma, missing_idx)\n",
        "s1=E$s1\n",
        "s11=E$s11\n",
        "s2=E$s2\n",
        "s22=E$s22\n",
        "s12=E$s12\n",
        "M=Mstep(Y, s1, s2, s11, s22, s12)\n",
        "hat_mu=M$mu\n",
        "print(hat_mu)\n",
        "hat_Sigma=M$Sigma\n",
        "}\n",
        "plot(error_mu)"
      ],
      "metadata": {
        "colab": {
          "base_uri": "https://localhost:8080/",
          "height": 1000
        },
        "id": "nQAcT0X-V1q3",
        "outputId": "4ae116d9-16ea-4a7c-a77c-e7cd109b712f"
      },
      "execution_count": 8,
      "outputs": [
        {
          "output_type": "stream",
          "name": "stdout",
          "text": [
            "[1]  1.990499 -5.844650\n",
            "[1]  1.990499 -5.846090\n",
            "[1]  1.990499 -5.846753\n",
            "[1]  1.990499 -5.847009\n",
            "[1]  1.990499 -5.847101\n",
            "[1]  1.990499 -5.847132\n",
            "[1]  1.990499 -5.847142\n",
            "[1]  1.990499 -5.847145\n",
            "[1]  1.990499 -5.847147\n",
            "[1]  1.990499 -5.847147\n",
            "[1]  1.990499 -5.847147\n",
            "[1]  1.990499 -5.847147\n",
            "[1]  1.990499 -5.847147\n",
            "[1]  1.990499 -5.847147\n",
            "[1]  1.990499 -5.847147\n",
            "[1]  1.990499 -5.847147\n",
            "[1]  1.990499 -5.847147\n",
            "[1]  1.990499 -5.847147\n",
            "[1]  1.990499 -5.847147\n",
            "[1]  1.990499 -5.847147\n",
            "[1]  1.990499 -5.847147\n",
            "[1]  1.990499 -5.847147\n",
            "[1]  1.990499 -5.847147\n",
            "[1]  1.990499 -5.847147\n",
            "[1]  1.990499 -5.847147\n",
            "[1]  1.990499 -5.847147\n",
            "[1]  1.990499 -5.847147\n",
            "[1]  1.990499 -5.847147\n",
            "[1]  1.990499 -5.847147\n",
            "[1]  1.990499 -5.847147\n",
            "[1]  1.990499 -5.847147\n",
            "[1]  1.990499 -5.847147\n",
            "[1]  1.990499 -5.847147\n",
            "[1]  1.990499 -5.847147\n",
            "[1]  1.990499 -5.847147\n",
            "[1]  1.990499 -5.847147\n",
            "[1]  1.990499 -5.847147\n",
            "[1]  1.990499 -5.847147\n",
            "[1]  1.990499 -5.847147\n",
            "[1]  1.990499 -5.847147\n",
            "[1]  1.990499 -5.847147\n",
            "[1]  1.990499 -5.847147\n",
            "[1]  1.990499 -5.847147\n",
            "[1]  1.990499 -5.847147\n",
            "[1]  1.990499 -5.847147\n",
            "[1]  1.990499 -5.847147\n",
            "[1]  1.990499 -5.847147\n",
            "[1]  1.990499 -5.847147\n",
            "[1]  1.990499 -5.847147\n",
            "[1]  1.990499 -5.847147\n"
          ]
        },
        {
          "output_type": "display_data",
          "data": {
            "text/plain": [
              "plot without title"
            ],
            "image/png": "[encoded data removed]"
          },
          "metadata": {
            "image/png": {
              "width": 420,
              "height": 420
            }
          }
        }
      ]
    },
    {
      "cell_type": "markdown",
      "source": [
        "On observe que l'erreur diminue rapidement lors des premières itérations, indiquant que l'algorithme converge vers une estimation précise de\n",
        "μ. Après environ 10 itérations, l'erreur devient stable, suggérant que l'algorithme a atteint une convergence et que les estimations de\n",
        "μ ne s'améliorent plus de manière significative. Cela montre une convergence rapide vers le maximum de vraisemblance pour les paramètres."
      ],
      "metadata": {
        "id": "PD3SPXeXJhLz"
      }
    },
    {
      "cell_type": "markdown",
      "source": [
        "On vérifie que l'estimateur EM\n",
        "μ est égal à l'estimateur du maximum de vraisemblance."
      ],
      "metadata": {
        "id": "M6FG_FGTKa3I"
      }
    },
    {
      "cell_type": "code",
      "source": [
        "resEM <- hat_mu\n",
        "resEM\n",
        "resML"
      ],
      "metadata": {
        "colab": {
          "base_uri": "https://localhost:8080/",
          "height": 52
        },
        "id": "iAeqVEcLWhpY",
        "outputId": "67d1c4d8-eb7c-4091-da47-d3fb961c370e"
      },
      "execution_count": 9,
      "outputs": [
        {
          "output_type": "display_data",
          "data": {
            "text/html": [
              "<style>\n",
              ".list-inline {list-style: none; margin:0; padding: 0}\n",
              ".list-inline>li {display: inline-block}\n",
              ".list-inline>li:not(:last-child)::after {content: \"\\00b7\"; padding: 0 .5ex}\n",
              "</style>\n",
              "<ol class=list-inline><li>1.99049869623694</li><li>-5.84714700294876</li></ol>\n"
            ],
            "text/markdown": "1. 1.99049869623694\n2. -5.84714700294876\n\n\n",
            "text/latex": "\\begin{enumerate*}\n\\item 1.99049869623694\n\\item -5.84714700294876\n\\end{enumerate*}\n",
            "text/plain": [
              "[1]  1.990499 -5.847147"
            ]
          },
          "metadata": {}
        },
        {
          "output_type": "display_data",
          "data": {
            "text/html": [
              "<style>\n",
              ".dl-inline {width: auto; margin:0; padding: 0}\n",
              ".dl-inline>dt, .dl-inline>dd {float: none; width: auto; display: inline-block}\n",
              ".dl-inline>dt::after {content: \":\\0020\"; padding-right: .5ex}\n",
              ".dl-inline>dt:not(:first-of-type) {padding-left: .5ex}\n",
              "</style><dl class=dl-inline><dt>hat_mu1_ML</dt><dd>1.99049869623694</dd><dt>hat_mu2_ML</dt><dd>-5.84714700294876</dd></dl>\n"
            ],
            "text/markdown": "hat_mu1_ML\n:   1.99049869623694hat_mu2_ML\n:   -5.84714700294876\n\n",
            "text/latex": "\\begin{description*}\n\\item[hat\\textbackslash{}\\_mu1\\textbackslash{}\\_ML] 1.99049869623694\n\\item[hat\\textbackslash{}\\_mu2\\textbackslash{}\\_ML] -5.84714700294876\n\\end{description*}\n",
            "text/plain": [
              "hat_mu1_ML hat_mu2_ML \n",
              "  1.990499  -5.847147 "
            ]
          },
          "metadata": {}
        }
      ]
    },
    {
      "cell_type": "code",
      "source": [
        "init=initEM(Y, missing_idx)\n",
        "hat_mu=init$mu\n",
        "old_hat_mu = old_old_hat_mu = 0\n",
        "hat_Sigma=init$Sigma\n",
        "error_mu=rep(0,20)\n",
        "for(i in 1:20)\n",
        "{\n",
        "old_old_hat_mu = old_hat_mu\n",
        "old_hat_mu = hat_mu\n",
        "# E step\n",
        "E=Estep(Y, hat_mu, hat_Sigma, missing_idx)\n",
        "s1=E$s1\n",
        "s11=E$s11\n",
        "s2=E$s2\n",
        "s22=E$s22\n",
        "s12=E$s12\n",
        "M=Mstep(Y, s1, s2, s11, s22, s12)\n",
        "hat_mu=M$mu\n",
        "hat_Sigma=M$Sigma\n",
        "if(i>=3){cat('Iteration=',i,\", Convergence rate of mu2 =\",(hat_mu-old_hat_mu)[2]/(old_hat_mu-old_old_hat_mu)[2],'\\n')}\n",
        "}\n",
        "cat(\"Percentage of missingness is:\", sum(is.na(Y[,2]))/dim(Y)[1])\n",
        "# Pourcentage de valeurs manquantes"
      ],
      "metadata": {
        "colab": {
          "base_uri": "https://localhost:8080/"
        },
        "id": "2GixqL7vWioq",
        "outputId": "765f1e4f-3117-4714-a11b-446043762ef8"
      },
      "execution_count": 10,
      "outputs": [
        {
          "output_type": "stream",
          "name": "stdout",
          "text": [
            "Iteration= 3 , Convergence rate of mu2 = 0.4597141 \n",
            "Iteration= 4 , Convergence rate of mu2 = 0.3873336 \n",
            "Iteration= 5 , Convergence rate of mu2 = 0.3568802 \n",
            "Iteration= 6 , Convergence rate of mu2 = 0.3403751 \n",
            "Iteration= 7 , Convergence rate of mu2 = 0.3301957 \n",
            "Iteration= 8 , Convergence rate of mu2 = 0.3234102 \n",
            "Iteration= 9 , Convergence rate of mu2 = 0.3186497 \n",
            "Iteration= 10 , Convergence rate of mu2 = 0.315189 \n",
            "Iteration= 11 , Convergence rate of mu2 = 0.3126076 \n",
            "Iteration= 12 , Convergence rate of mu2 = 0.3106447 \n",
            "Iteration= 13 , Convergence rate of mu2 = 0.3091304 \n",
            "Iteration= 14 , Convergence rate of mu2 = 0.307949 \n",
            "Iteration= 15 , Convergence rate of mu2 = 0.3070192 \n",
            "Iteration= 16 , Convergence rate of mu2 = 0.3062832 \n",
            "Iteration= 17 , Convergence rate of mu2 = 0.3056946 \n",
            "Iteration= 18 , Convergence rate of mu2 = 0.3052214 \n",
            "Iteration= 19 , Convergence rate of mu2 = 0.304882 \n",
            "Iteration= 20 , Convergence rate of mu2 = 0.3045674 \n",
            "Percentage of missingness is: 0.3"
          ]
        }
      ]
    },
    {
      "cell_type": "markdown",
      "source": [
        "Si les données ne sont pas MAR, mais MNAR, il existe un biais dans les estimateurs, et il est donc nécessaire de spécifier un modèle pour les valeurs manquantes.\n",
        "\n",
        "**Définition :**\n",
        "\n",
        "*   **MAR (Missing At Random)** signifie que les valeurs manquantes dépendent d’autres variables observées mais pas de la variable elle-même. Par exemple, dans un sondage, les personnes plus âgées peuvent omettre de répondre à des questions sur les réseaux sociaux, mais cette absence dépend de l'âge, qui est observable.\n",
        "*   **MNAR (Missing Not At Random)** signifie que les valeurs manquantes dépendent de la variable elle-même ou d’autres variables non observées. Par exemple dans les études de santé où les patients atteints de maladies graves peuvent être plus susceptibles de manquer des visites de suivi en raison de la gravité de leur état. Dans ce cas, l'absence de données (les visites manquées) est liée à la gravité de la maladie elle-même, qui est précisément l'information manquante. Ici, les données manquantes ne sont pas aléatoires et reflètent un biais dans l’échantillonnage en fonction de l’état de santé du patient.\n",
        "*   **MCAR (Missing Completely At Random)** désigne un mécanisme de valeurs manquantes dans lequel les absences de données ne sont liées ni aux valeurs observées ni aux valeurs manquantes elles-mêmes. Autrement dit, les données manquent de façon entièrement aléatoire, sans aucune corrélation avec d'autres variables ou avec les valeurs des données manquantes. Dans un contexte MCAR, les estimations statistiques sont non biaisées, et les analyses sont fiables sans ajustement spécial pour les valeurs manquantes.\n",
        "\n",
        "\n",
        "\n"
      ],
      "metadata": {
        "id": "0P1gRbVdLWA1"
      }
    },
    {
      "cell_type": "markdown",
      "source": [
        "Le code génère des données bivariées (deux variables) à partir d'une distribution normale multivariée, puis introduit des valeurs manquantes dans la deuxième variable selon deux mécanismes différents : MAR (Missing At Random) et MNAR (Missing Not At Random). **On a implémente avec un jeu de données diffrérent de Julie JOSSE**"
      ],
      "metadata": {
        "id": "qvpMV_PtXxy4"
      }
    },
    {
      "cell_type": "code",
      "source": [
        "set.seed(100)\n",
        "\n",
        "n <- 100\n",
        "r <- floor(n*0.3)\n",
        "mu <- c(2.22, -6.06)\n",
        "# Sigma doit être symétrique\n",
        "Sigma <- matrix(c(2.5, 0.4, 0.4, 0.9), nrow=2)\n",
        "Y <- rmvnorm(n, mean=mu, sigma=Sigma)\n",
        "\n",
        "missing_idx_MAR <-sample(100, r, replace = FALSE)\n",
        "Y1 <- Y\n",
        "Y1[missing_idx_MAR, 2] <- NA\n",
        "\n",
        "missing_idx_MNAR <-which(Y[,2]>sort(Y[,2],decreasing=TRUE)[r+1])\n",
        "Y2 <- Y\n",
        "Y2[missing_idx_MNAR, 2] <- NA"
      ],
      "metadata": {
        "id": "mZYI0dkRWx1x"
      },
      "execution_count": 11,
      "outputs": []
    },
    {
      "cell_type": "code",
      "source": [
        "init1=initEM(Y1, missing_idx_MAR)\n",
        "hat_mu_MAR=init1$mu\n",
        "hat_Sigma_MAR=init1$Sigma\n",
        "init2=initEM(Y2, missing_idx_MNAR)\n",
        "hat_mu_MNAR=init2$mu\n",
        "hat_Sigma_MNAR=init2$Sigma\n",
        "\n",
        "#MAR\n",
        "init1=initEM(Y1, missing_idx_MAR)\n",
        "hat_mu_MAR=init1$mu\n",
        "hat_Sigma_MAR=init1$Sigma\n",
        "error_mu=rep(0,50)\n",
        "for(i in 1:50)\n",
        "{\n",
        "error_mu[i]=sqrt(sum((hat_mu_MAR-mu)^2))\n",
        "# E step\n",
        "E=Estep(Y, hat_mu_MAR, hat_Sigma_MAR, missing_idx_MAR)\n",
        "s1=E$s1\n",
        "s11=E$s11\n",
        "s2=E$s2\n",
        "s22=E$s22\n",
        "s12=E$s12\n",
        "M=Mstep(Y, s1, s2, s11, s22, s12)\n",
        "hat_mu_MAR=M$mu\n",
        "hat_Sigma_MAR=M$Sigma\n",
        "}\n",
        "\n",
        "#MNAR\n",
        "init2=initEM(Y1, missing_idx_MNAR)\n",
        "hat_mu_MAR=init2$mu\n",
        "hat_Sigma_MAR=init2$Sigma\n",
        "error_mu=rep(0,50)\n",
        "for(i in 1:50)\n",
        "{\n",
        "error_mu[i]=sqrt(sum((hat_mu_MNAR-mu)^2))\n",
        "# E step\n",
        "E=Estep(Y, hat_mu_MNAR, hat_Sigma_MNAR, missing_idx_MNAR)\n",
        "s1=E$s1\n",
        "s11=E$s11\n",
        "s2=E$s2\n",
        "s22=E$s22\n",
        "s12=E$s12\n",
        "M=Mstep(Y, s1, s2, s11, s22, s12)\n",
        "hat_mu_MNAR=M$mu\n",
        "hat_Sigma_MNAR=M$Sigma\n",
        "}\n",
        "\n",
        "print(hat_mu_MAR)\n",
        "print(hat_mu_MNAR)\n",
        "print(hat_Sigma_MAR)\n",
        "print(hat_Sigma_MNAR)"
      ],
      "metadata": {
        "colab": {
          "base_uri": "https://localhost:8080/"
        },
        "id": "UtDl5EHhW4rz",
        "outputId": "70e0f1be-448f-4a45-b038-2c283a61b34e"
      },
      "execution_count": 12,
      "outputs": [
        {
          "output_type": "stream",
          "name": "stdout",
          "text": [
            "[1]  1.990499 -5.842908\n",
            "[1]  1.990499 -6.355156\n",
            "          [,1]      [,2]\n",
            "[1,] 1.5922978 0.1676295\n",
            "[2,] 0.1676295 0.7900182\n",
            "          [,1]      [,2]\n",
            "[1,] 1.5922978 0.2093514\n",
            "[2,] 0.2093514 0.4251123\n"
          ]
        }
      ]
    },
    {
      "cell_type": "markdown",
      "source": [
        "**1-2 EM pour la régression logistique avec des valeurs manquantes**"
      ],
      "metadata": {
        "id": "qEJoxFXuaUkr"
      }
    },
    {
      "cell_type": "code",
      "source": [
        "install.packages(\"devtools\")\n"
      ],
      "metadata": {
        "colab": {
          "base_uri": "https://localhost:8080/"
        },
        "id": "cwI3X6UDPLMB",
        "outputId": "8a505674-2224-4c1e-f093-cba07b2de6a1"
      },
      "execution_count": 13,
      "outputs": [
        {
          "output_type": "stream",
          "name": "stderr",
          "text": [
            "Installing package into ‘/usr/local/lib/R/site-library’\n",
            "(as ‘lib’ is unspecified)\n",
            "\n"
          ]
        }
      ]
    },
    {
      "cell_type": "code",
      "source": [
        "library(devtools)\n",
        "install_github(\"wjiang94/misaem\", force = TRUE)"
      ],
      "metadata": {
        "colab": {
          "base_uri": "https://localhost:8080/"
        },
        "id": "rpCMPqskPPqq",
        "outputId": "e57f68ee-5ef1-47c9-ee6b-1fcb7ff2d2df"
      },
      "execution_count": 14,
      "outputs": [
        {
          "output_type": "stream",
          "name": "stderr",
          "text": [
            "Loading required package: usethis\n",
            "\n",
            "Downloading GitHub repo wjiang94/misaem@HEAD\n",
            "\n"
          ]
        },
        {
          "output_type": "stream",
          "name": "stdout",
          "text": [
            "withr     (3.0.1 -> 3.0.2      ) [CRAN]\n",
            "numDeriv  (NA    -> 2016.8-1.1 ) [CRAN]\n",
            "ucminf    (NA    -> 1.2.2      ) [CRAN]\n",
            "RcppEigen (NA    -> 0.3.4.0.2  ) [CRAN]\n",
            "nloptr    (NA    -> 2.1.1      ) [CRAN]\n",
            "minqa     (NA    -> 1.2.8      ) [CRAN]\n",
            "ordinal   (NA    -> 2023.12-4.1) [CRAN]\n",
            "lme4      (NA    -> 1.1-35.5   ) [CRAN]\n",
            "jomo      (NA    -> 2.7-6      ) [CRAN]\n",
            "pan       (NA    -> 1.9        ) [CRAN]\n",
            "iterators (NA    -> 1.0.14     ) [CRAN]\n",
            "shape     (NA    -> 1.4.6.1    ) [CRAN]\n",
            "foreach   (NA    -> 1.5.2      ) [CRAN]\n",
            "mitml     (NA    -> 0.4-5      ) [CRAN]\n",
            "glmnet    (NA    -> 4.1-8      ) [CRAN]\n",
            "mice      (NA    -> 3.16.0     ) [CRAN]\n"
          ]
        },
        {
          "output_type": "stream",
          "name": "stderr",
          "text": [
            "Installing 16 packages: withr, numDeriv, ucminf, RcppEigen, nloptr, minqa, ordinal, lme4, jomo, pan, iterators, shape, foreach, mitml, glmnet, mice\n",
            "\n",
            "Installing packages into ‘/usr/local/lib/R/site-library’\n",
            "(as ‘lib’ is unspecified)\n",
            "\n"
          ]
        },
        {
          "output_type": "stream",
          "name": "stdout",
          "text": [
            "\u001b[36m──\u001b[39m \u001b[36mR CMD build\u001b[39m \u001b[36m─────────────────────────────────────────────────────────────────\u001b[39m\n",
            "* checking for file ‘/tmp/Rtmpd9MNjK/remotes267292a6d1c/wjiang94-misaem-de3dc16/DESCRIPTION’ ... OK\n",
            "* preparing ‘misaem’:\n",
            "* checking DESCRIPTION meta-information ... OK\n",
            "* checking for LF line-endings in source and make files and shell scripts\n",
            "* checking for empty or unneeded directories\n",
            "Omitted ‘LazyData’ from DESCRIPTION\n",
            "* building ‘misaem_1.0.0.tar.gz’\n",
            "\n"
          ]
        },
        {
          "output_type": "stream",
          "name": "stderr",
          "text": [
            "Installing package into ‘/usr/local/lib/R/site-library’\n",
            "(as ‘lib’ is unspecified)\n",
            "\n"
          ]
        }
      ]
    },
    {
      "cell_type": "code",
      "source": [
        "library(misaem)\n",
        "ls(\"package:misaem\")\n"
      ],
      "metadata": {
        "colab": {
          "base_uri": "https://localhost:8080/",
          "height": 69
        },
        "id": "i8sjSZoyo2V9",
        "outputId": "9d6a1bf1-ba7f-43eb-b395-24cba7745629"
      },
      "execution_count": 15,
      "outputs": [
        {
          "output_type": "stream",
          "name": "stderr",
          "text": [
            "Warning message:\n",
            "“replacing previous import ‘mice::filter’ by ‘stats::filter’ when loading ‘misaem’”\n"
          ]
        },
        {
          "output_type": "display_data",
          "data": {
            "text/html": [
              "<style>\n",
              ".list-inline {list-style: none; margin:0; padding: 0}\n",
              ".list-inline>li {display: inline-block}\n",
              ".list-inline>li:not(:last-child)::after {content: \"\\00b7\"; padding: 0 .5ex}\n",
              "</style>\n",
              "<ol class=list-inline><li>'combinations'</li><li>'likelihood_saem'</li><li>'log_reg'</li><li>'louis_lr_saem'</li><li>'miss.glm'</li><li>'miss.glm.model.select'</li><li>'miss.lm'</li><li>'miss.lm.model.select'</li></ol>\n"
            ],
            "text/markdown": "1. 'combinations'\n2. 'likelihood_saem'\n3. 'log_reg'\n4. 'louis_lr_saem'\n5. 'miss.glm'\n6. 'miss.glm.model.select'\n7. 'miss.lm'\n8. 'miss.lm.model.select'\n\n\n",
            "text/latex": "\\begin{enumerate*}\n\\item 'combinations'\n\\item 'likelihood\\_saem'\n\\item 'log\\_reg'\n\\item 'louis\\_lr\\_saem'\n\\item 'miss.glm'\n\\item 'miss.glm.model.select'\n\\item 'miss.lm'\n\\item 'miss.lm.model.select'\n\\end{enumerate*}\n",
            "text/plain": [
              "[1] \"combinations\"          \"likelihood_saem\"       \"log_reg\"              \n",
              "[4] \"louis_lr_saem\"         \"miss.glm\"              \"miss.glm.model.select\"\n",
              "[7] \"miss.lm\"               \"miss.lm.model.select\" "
            ]
          },
          "metadata": {}
        }
      ]
    },
    {
      "cell_type": "code",
      "source": [
        "#install.packages(\"miss.saem\")\n",
        "library(miss.saem)\n",
        "library(devtools)\n",
        "#install_github(\"wjiang94/misaem\", force = TRUE) # Je n'ai pas réussi à installer le package saem\n",
        "library(misaem)\n",
        "# Generate dataset\n",
        "N <- 1000  # number of subjects\n",
        "p <- 5     # number of explanatory variables\n",
        "mu.star <- 1:p  #rep(0,p)  # mean of the explanatory variables\n",
        "sd <- 1:p # rep(1,p) # standard deviations\n",
        "C <- matrix(c(   # correlation matrix\n",
        "1,   0.8, 0,   0,   0,\n",
        "0.8, 1,   0,   0,   0,\n",
        "0,   0,   1,   0.3, 0.6,\n",
        "0,   0,   0.3, 1,   0.7,\n",
        "0,   0,   0.6, 0.7, 1), nrow=p)\n",
        "Sigma.star <- diag(sd)%*%C%*%diag(sd) # variance-covariance matrix of the explanatory variables\n",
        "beta.star <- c(0.5, -0.3, 1, 0, -0.6) # coefficients\n",
        "beta0.star <- -0.2  # intercept\n",
        "X.complete <- matrix(rnorm(N*p), nrow=N)%*%chol(Sigma.star) + matrix(rep(mu.star,N), nrow=N, byrow = TRUE)\n",
        "p1 <- 1/(1+exp(-X.complete%*%beta.star-beta0.star))\n",
        "y <- as.numeric(runif(N)<p1)\n",
        "\n",
        "# Generate missingness\n",
        "p.miss <- 0.10\n",
        "patterns <- runif(N*p)<p.miss # missing completely at random\n",
        "X.obs <- X.complete\n",
        "X.obs[patterns] <- NA\n",
        "\n",
        "# SAEM\n",
        "list.saem = miss.saem(X.obs, y, print_iter = FALSE)\n",
        "print(list.saem$beta)"
      ],
      "metadata": {
        "colab": {
          "base_uri": "https://localhost:8080/",
          "height": 106
        },
        "id": "T9D_hj-8ajeR",
        "outputId": "9e2410f8-f449-446b-f5e4-d17f157559dd"
      },
      "execution_count": 19,
      "outputs": [
        {
          "output_type": "error",
          "ename": "ERROR",
          "evalue": "Error in library(miss.saem): there is no package called ‘miss.saem’\n",
          "traceback": [
            "Error in library(miss.saem): there is no package called ‘miss.saem’\nTraceback:\n",
            "1. stop(packageNotFoundError(package, lib.loc, sys.call()))"
          ]
        }
      ]
    },
    {
      "cell_type": "code",
      "source": [
        "list.saem = miss.saem(X.obs, y, print_iter = FALSE, var_cal = TRUE)\n",
        "print(list.saem$var_obs)"
      ],
      "metadata": {
        "colab": {
          "base_uri": "https://localhost:8080/",
          "height": 72
        },
        "id": "Nu2ZpqDdqFox",
        "outputId": "fac5d55e-2825-4868-a720-259913fb7390"
      },
      "execution_count": 20,
      "outputs": [
        {
          "output_type": "error",
          "ename": "ERROR",
          "evalue": "Error in miss.saem(X.obs, y, print_iter = FALSE, var_cal = TRUE): could not find function \"miss.saem\"\n",
          "traceback": [
            "Error in miss.saem(X.obs, y, print_iter = FALSE, var_cal = TRUE): could not find function \"miss.saem\"\nTraceback:\n"
          ]
        }
      ]
    },
    {
      "cell_type": "markdown",
      "source": [
        "\n",
        "**2- Imputation simple avec les moyennes ou avec la régression - cas bivarié.**\n",
        "\n",
        " On a modifié les la moyenne et la matrice de variance-covariance des données originales"
      ],
      "metadata": {
        "id": "mUJuw_LJqczI"
      }
    },
    {
      "cell_type": "code",
      "source": [
        "library(mvtnorm)\n",
        "n <- 100\n",
        "sigma <- matrix(c(500, 200,200, 450), ncol=2)\n",
        "don <- rmvnorm(n, mean = c(150, 100), sigma = sigma)"
      ],
      "metadata": {
        "id": "XWV2cYkmp3pz"
      },
      "execution_count": 21,
      "outputs": []
    },
    {
      "cell_type": "code",
      "source": [
        "colnames(don) <- c(\"X\",\"Y\")\n",
        "don <- as.data.frame(don)\n",
        "library(ggplot2)\n",
        "ggplot(don) + aes(x=X, y=Y) + geom_point(colour=\"blue\")"
      ],
      "metadata": {
        "colab": {
          "base_uri": "https://localhost:8080/",
          "height": 437
        },
        "id": "mISD01goqo8y",
        "outputId": "ea8c38ac-bed7-4347-f0db-083cce55db9d"
      },
      "execution_count": 22,
      "outputs": [
        {
          "output_type": "display_data",
          "data": {
            "text/plain": [
              "plot without title"
            ],
            "image/png": "[encoded data removed]"
          },
          "metadata": {
            "image/png": {
              "width": 420,
              "height": 420
            }
          }
        }
      ]
    },
    {
      "cell_type": "markdown",
      "source": [
        "On introduit 73% de données manquantes (MCAR) sur une variables y.\n",
        "\n",
        "\"Missing Completely at Random\" (MCAR) signifie que les données manquantes ne dépendent ni des valeurs observées ni des valeurs manquantes elles-mêmes. Autrement dit, la probabilité qu'une donnée soit manquante est la même pour toutes les observations et n'est liée à aucune variable spécifique."
      ],
      "metadata": {
        "id": "953aN0eh2Jps"
      }
    },
    {
      "cell_type": "code",
      "source": [
        "# Introduction des valeurs manquantes dans une colonne spécifique du jeu de données\n",
        "donmiss <- don\n",
        "indNA <- sample(1:n, 0.73*n)\n",
        "donmiss[indNA, 2] <- NA"
      ],
      "metadata": {
        "id": "m1nPkSElsJw7"
      },
      "execution_count": 23,
      "outputs": []
    },
    {
      "cell_type": "markdown",
      "source": [
        "Imputation par la **méthode des moyennes**"
      ],
      "metadata": {
        "id": "ij6mOARDsz7q"
      }
    },
    {
      "cell_type": "code",
      "source": [
        "# Imputation par la moyenne des valeurs manquantes dans notre jeu de données\n",
        "donMean <- donmiss\n",
        "donMean[indNA, 2] <- mean(donMean[, 2],na.rm=T)\n",
        "imputed <- ((1:100)%in%indNA)\n",
        "ggplot(donMean) + ggtitle(\"mean imputation\") + aes(x=X, y=Y, colour=imputed) + geom_point()"
      ],
      "metadata": {
        "colab": {
          "base_uri": "https://localhost:8080/",
          "height": 437
        },
        "id": "86ULY126snjO",
        "outputId": "674b951b-7154-4d22-acff-e4d3aecd716c"
      },
      "execution_count": 24,
      "outputs": [
        {
          "output_type": "display_data",
          "data": {
            "text/plain": [
              "plot without title"
            ],
            "image/png": "[encoded data removed]"
          },
          "metadata": {
            "image/png": {
              "width": 420,
              "height": 420
            }
          }
        }
      ]
    },
    {
      "cell_type": "markdown",
      "source": [
        "Imputation par **régression des valeurs manquantes** dans la colonne Y de notre jeu de données\n",
        "\n",
        "On la fait pour pouvoir prendre en compte la relation entre les variables."
      ],
      "metadata": {
        "id": "UIMD9mAXs9t-"
      }
    },
    {
      "cell_type": "code",
      "source": [
        "reg <- lm(Y~X, data = donmiss)\n",
        "donReg <- donmiss\n",
        "donReg[indNA, 2] <- predict(reg, donmiss[indNA, 1,drop = F])\n",
        "ggplot(donReg) + ggtitle(\"regression imputation\") + aes(x=X, y=Y, colour=imputed) + geom_point()"
      ],
      "metadata": {
        "colab": {
          "base_uri": "https://localhost:8080/",
          "height": 437
        },
        "id": "YMPrEe-otBnv",
        "outputId": "974a13ca-b816-44af-9737-f07d7a2032ba"
      },
      "execution_count": 25,
      "outputs": [
        {
          "output_type": "display_data",
          "data": {
            "text/plain": [
              "plot without title"
            ],
            "image/png": "[encoded data removed]"
          },
          "metadata": {
            "image/png": {
              "width": 420,
              "height": 420
            }
          }
        }
      ]
    },
    {
      "cell_type": "markdown",
      "source": [
        "**Imputation par régression stochastique**, qui consiste à ajouter une composante aléatoire aux valeurs prédites par un modèle de régression pour les valeurs manquantes"
      ],
      "metadata": {
        "id": "3o6-yW9UtyzL"
      }
    },
    {
      "cell_type": "code",
      "source": [
        "donStochReg <- donmiss\n",
        "donStochReg[indNA, 2] <- donReg[indNA, 2] + rnorm(length(indNA), 0, (summary(reg))$sigma)\n",
        "ggplot(donStochReg) + ggtitle(\"stochastic regression imputation\") + aes(x=X, y=Y, colour=imputed) + geom_point()"
      ],
      "metadata": {
        "colab": {
          "base_uri": "https://localhost:8080/",
          "height": 437
        },
        "id": "RaH3h36YtsMh",
        "outputId": "e8c439c1-58cd-4bc6-f41e-52889fe5725c"
      },
      "execution_count": 26,
      "outputs": [
        {
          "output_type": "display_data",
          "data": {
            "text/plain": [
              "plot without title"
            ],
            "image/png": "[encoded data removed]"
          },
          "metadata": {
            "image/png": {
              "width": 420,
              "height": 420
            }
          }
        }
      ]
    },
    {
      "cell_type": "markdown",
      "source": [
        "Il semble que nous ayons résolu le problème des valeurs manquantes grâce à cette imputation par régression stochastique. Les données imputées ressemblent aux données initiales."
      ],
      "metadata": {
        "id": "GTUI09qN5HTU"
      }
    },
    {
      "cell_type": "markdown",
      "source": [
        "Comparaison des différentes méthodes d'imputation des valeurs manquantes dans la colonne Y en calculant des statistiques (**moyenne, écart type, corrélation, intervalles de confiance**) pour chacune des trois méthodes d'imputation"
      ],
      "metadata": {
        "id": "K0EVkJdbuGEs"
      }
    },
    {
      "cell_type": "code",
      "source": [
        "res <- cbind.data.frame(donMean[,2], donReg[, 2],  donStochReg[,2])\n",
        "MM <- apply(res, 2, mean, na.rm = T)\n",
        "SD <- apply(res, 2, sd, na.rm = T)\n",
        "COR <- apply(res,2, cor, donmiss[,1])\n",
        "INF <- MM - qt(.975, n-1) * SD/sqrt(n)\n",
        "SUP <- MM + qt(.975, n-1) * SD/sqrt(n)\n",
        "WIDTH <- SUP - INF\n",
        "INCI <- (125<=SUP)&(125>=INF)\n",
        "res <-  rbind.data.frame(MM, SD, COR, INF, SUP, WIDTH, INCI)\n",
        "colnames(res) <-   c(\"MEAN\",\"REG\", \"STOCH\")\n",
        "rownames(res) <- c(\"muhat_y\", \"sigmahat_y\", \"cor\", \"inf\", \"sup\", \"width\", \"coverage\")\n",
        "res"
      ],
      "metadata": {
        "id": "8dS-Cmu2uFBD",
        "colab": {
          "base_uri": "https://localhost:8080/",
          "height": 318
        },
        "outputId": "a8043b80-5ec1-4eed-b45a-54ae6179daff"
      },
      "execution_count": 27,
      "outputs": [
        {
          "output_type": "display_data",
          "data": {
            "text/html": [
              "<table class=\"dataframe\">\n",
              "<caption>A data.frame: 7 × 3</caption>\n",
              "<thead>\n",
              "\t<tr><th></th><th scope=col>MEAN</th><th scope=col>REG</th><th scope=col>STOCH</th></tr>\n",
              "\t<tr><th></th><th scope=col>&lt;dbl&gt;</th><th scope=col>&lt;dbl&gt;</th><th scope=col>&lt;dbl&gt;</th></tr>\n",
              "</thead>\n",
              "<tbody>\n",
              "\t<tr><th scope=row>muhat_y</th><td>100.5374093</td><td>101.2262253</td><td>101.6948494</td></tr>\n",
              "\t<tr><th scope=row>sigmahat_y</th><td> 10.3906921</td><td> 14.6235672</td><td> 19.8404135</td></tr>\n",
              "\t<tr><th scope=row>cor</th><td>  0.2865396</td><td>  0.8127777</td><td>  0.5251561</td></tr>\n",
              "\t<tr><th scope=row>inf</th><td> 98.4756706</td><td> 98.3245923</td><td> 97.7580809</td></tr>\n",
              "\t<tr><th scope=row>sup</th><td>102.5991481</td><td>104.1278582</td><td>105.6316179</td></tr>\n",
              "\t<tr><th scope=row>width</th><td>  4.1234775</td><td>  5.8032660</td><td>  7.8735370</td></tr>\n",
              "\t<tr><th scope=row>coverage</th><td>  0.0000000</td><td>  0.0000000</td><td>  0.0000000</td></tr>\n",
              "</tbody>\n",
              "</table>\n"
            ],
            "text/markdown": "\nA data.frame: 7 × 3\n\n| <!--/--> | MEAN &lt;dbl&gt; | REG &lt;dbl&gt; | STOCH &lt;dbl&gt; |\n|---|---|---|---|\n| muhat_y | 100.5374093 | 101.2262253 | 101.6948494 |\n| sigmahat_y |  10.3906921 |  14.6235672 |  19.8404135 |\n| cor |   0.2865396 |   0.8127777 |   0.5251561 |\n| inf |  98.4756706 |  98.3245923 |  97.7580809 |\n| sup | 102.5991481 | 104.1278582 | 105.6316179 |\n| width |   4.1234775 |   5.8032660 |   7.8735370 |\n| coverage |   0.0000000 |   0.0000000 |   0.0000000 |\n\n",
            "text/latex": "A data.frame: 7 × 3\n\\begin{tabular}{r|lll}\n  & MEAN & REG & STOCH\\\\\n  & <dbl> & <dbl> & <dbl>\\\\\n\\hline\n\tmuhat\\_y & 100.5374093 & 101.2262253 & 101.6948494\\\\\n\tsigmahat\\_y &  10.3906921 &  14.6235672 &  19.8404135\\\\\n\tcor &   0.2865396 &   0.8127777 &   0.5251561\\\\\n\tinf &  98.4756706 &  98.3245923 &  97.7580809\\\\\n\tsup & 102.5991481 & 104.1278582 & 105.6316179\\\\\n\twidth &   4.1234775 &   5.8032660 &   7.8735370\\\\\n\tcoverage &   0.0000000 &   0.0000000 &   0.0000000\\\\\n\\end{tabular}\n",
            "text/plain": [
              "           MEAN        REG         STOCH      \n",
              "muhat_y    100.5374093 101.2262253 101.6948494\n",
              "sigmahat_y  10.3906921  14.6235672  19.8404135\n",
              "cor          0.2865396   0.8127777   0.5251561\n",
              "inf         98.4756706  98.3245923  97.7580809\n",
              "sup        102.5991481 104.1278582 105.6316179\n",
              "width        4.1234775   5.8032660   7.8735370\n",
              "coverage     0.0000000   0.0000000   0.0000000"
            ]
          },
          "metadata": {}
        }
      ]
    },
    {
      "cell_type": "code",
      "source": [
        "install.packages(\"matrixStats\")"
      ],
      "metadata": {
        "id": "TrKLnZ8YBnp3",
        "colab": {
          "base_uri": "https://localhost:8080/"
        },
        "outputId": "d9253b38-ff60-421b-f0b9-bf1d2dde4296"
      },
      "execution_count": 28,
      "outputs": [
        {
          "output_type": "stream",
          "name": "stderr",
          "text": [
            "Installing package into ‘/usr/local/lib/R/site-library’\n",
            "(as ‘lib’ is unspecified)\n",
            "\n"
          ]
        }
      ]
    },
    {
      "cell_type": "code",
      "source": [
        "# simulation du processus d'imputation de données manquantes en utilisant trois\n",
        "# méthodes différentes (imputation par la moyenne, régression, et régression stochastique)\n",
        "\n",
        "# Way 1\n",
        "SimuMiss <- function(){\n",
        "# generate data\n",
        "don <-rmvnorm(n, mean=c(125,125), sigma=matrix(c(625,375,375,625), ncol =2 ) )\n",
        "colnames(don) <- c(\"X\",\"Y\")\n",
        "don <- as.data.frame(don)\n",
        "\n",
        "# generate missing values\n",
        "donmiss <- don\n",
        "indNA <- sample(1:n, 0.73*n)\n",
        "donmiss[indNA, 2] <- NA\n",
        "\n",
        "donMean <- donReg <- donStochReg <- donmiss\n",
        "\n",
        "# Mean Imputation\n",
        "donMean[indNA, 2] <- mean(donMean[, 2], na.rm = T)\n",
        "\n",
        "# Regression Imputation\n",
        "reg <- lm(Y~X, data = donmiss)\n",
        "donReg[indNA, 2] <- predict(reg, donmiss[indNA, 1,drop = F])\n",
        "\n",
        "# Stochastic Regression Imputation\n",
        "donStochReg[indNA, 2] <- donReg[indNA, 2] + rnorm(length(indNA), 0, (summary(reg))$sigma)\n",
        "\n",
        "# Estimating the mean, the variance of Y, and a confidence interval for mu_y\n",
        "res <- cbind.data.frame(donMean[,2], donReg[, 2],  donStochReg[,2])\n",
        "MM <- apply(res, 2, mean, na.rm = T)\n",
        "SD <- apply(res, 2, sd, na.rm = T)\n",
        "COR <- apply(res,2, cor, donmiss[,1])\n",
        "INF <- MM - qt(.975, n-1) * SD/sqrt(n)\n",
        "SUP <- MM + qt(.975, n-1) * SD/sqrt(n)\n",
        "\n",
        "WIDTH <- SUP - INF\n",
        "INCI <- (125<=SUP)&(125>=INF)\n",
        "\n",
        "res <-  rbind.data.frame(MM, SD, COR, INF, SUP, WIDTH, INCI)\n",
        "colnames(res) <-   c(\"MEAN\",\"REG\", \"STOCH\")\n",
        "rownames(res) <- c(\"theta_y\", \"sigma_y\", \"cor\", \"inf\", \"sup\", \"width\", \"coverage\")\n",
        "return(res)\n",
        "}\n",
        "\n",
        "library(matrixStats)\n",
        "resRepeat <- lapply(1:1000, function(i) SimuMiss())\n",
        "bias <- colMeans(do.call(rbind, lapply(resRepeat, function(x) x[1,]-125)))\n",
        "cov <- colMeans(do.call(rbind, lapply(resRepeat, function(x) x[7,])))\n",
        "avg.width <- colMeans(do.call(rbind, lapply(resRepeat, function(x) x[6,])))\n",
        "res <- rbind(bias, cov, avg.width)\n",
        "res"
      ],
      "metadata": {
        "colab": {
          "base_uri": "https://localhost:8080/",
          "height": 161
        },
        "id": "pgvGPZcsupLB",
        "outputId": "fc44ab4f-69ff-4c46-e7cc-d87707bf4249"
      },
      "execution_count": 29,
      "outputs": [
        {
          "output_type": "display_data",
          "data": {
            "text/html": [
              "<table class=\"dataframe\">\n",
              "<caption>A matrix: 3 × 3 of type dbl</caption>\n",
              "<thead>\n",
              "\t<tr><th></th><th scope=col>MEAN</th><th scope=col>REG</th><th scope=col>STOCH</th></tr>\n",
              "</thead>\n",
              "<tbody>\n",
              "\t<tr><th scope=row>bias</th><td>-0.05617402</td><td>-0.005775121</td><td>-0.007742021</td></tr>\n",
              "\t<tr><th scope=row>cov</th><td> 0.39600000</td><td> 0.598000000</td><td> 0.716000000</td></tr>\n",
              "\t<tr><th scope=row>avg.width</th><td> 5.05288618</td><td> 7.277681085</td><td> 9.916351570</td></tr>\n",
              "</tbody>\n",
              "</table>\n"
            ],
            "text/markdown": "\nA matrix: 3 × 3 of type dbl\n\n| <!--/--> | MEAN | REG | STOCH |\n|---|---|---|---|\n| bias | -0.05617402 | -0.005775121 | -0.007742021 |\n| cov |  0.39600000 |  0.598000000 |  0.716000000 |\n| avg.width |  5.05288618 |  7.277681085 |  9.916351570 |\n\n",
            "text/latex": "A matrix: 3 × 3 of type dbl\n\\begin{tabular}{r|lll}\n  & MEAN & REG & STOCH\\\\\n\\hline\n\tbias & -0.05617402 & -0.005775121 & -0.007742021\\\\\n\tcov &  0.39600000 &  0.598000000 &  0.716000000\\\\\n\tavg.width &  5.05288618 &  7.277681085 &  9.916351570\\\\\n\\end{tabular}\n",
            "text/plain": [
              "          MEAN        REG          STOCH       \n",
              "bias      -0.05617402 -0.005775121 -0.007742021\n",
              "cov        0.39600000  0.598000000  0.716000000\n",
              "avg.width  5.05288618  7.277681085  9.916351570"
            ]
          },
          "metadata": {}
        }
      ]
    },
    {
      "cell_type": "code",
      "source": [
        "# simulation d'un processus de génération de données avec des valeurs manquantes (MCAR),\n",
        "# et application de trois méthodes d'imputation (moyenne, régression,\n",
        "#  régression stochastique), puis évalue la performance des méthodes\n",
        "# Way 2\n",
        "statcheck <- function(don){\n",
        " test <- t.test(don[,2])\n",
        " muhat <-test$estimate\n",
        " corhat <-cor(don[,1],don[,2])\n",
        " cov <- 0\n",
        " CImu <- if((125<=test$conf.int[2])&(125>=test$conf.int[1])) cov <- 1\n",
        " sigmahat <- sd(don[,2])\n",
        " widthCI <-test$conf.int[2] -test$conf.int[1]\n",
        " return(list(muhat=muhat, sigmahat= sigmahat,  corhat = corhat , cov=cov,  widthCI= widthCI))\n",
        "}\n",
        "\n",
        "MCAR <-function(don, percent)\n",
        "{\n",
        "  indNA <- sample(1:nrow(don), percent*nrow(don))\n",
        "  don[indNA, 2] <- NA\n",
        "  return(don)\n",
        "}\n",
        "\n",
        "Impute <-function(don){\n",
        "don<-as.data.frame(don)\n",
        "colnames(don)=c(\"X\",\"Y\")\n",
        "donMean<-donReg<-donStochReg<-don\n",
        "indNA <- which(is.na(don[,2]))\n",
        "# Mean Imputation\n",
        "donMean[indNA, 2] <- mean(don[, 2], na.rm = T)\n",
        "\n",
        "# Regression Imputation\n",
        "reg <- lm(Y~X, data = don)\n",
        "donReg[indNA, 2] <- predict(reg, don[indNA, 1,drop = F])\n",
        "\n",
        "# Stochastic Regression Imputation\n",
        "donStochReg[indNA, 2] <- donReg[indNA, 2] + rnorm(length(indNA), 0, (summary(reg))$sigma)\n",
        "return(list(donMean=donMean, donReg=donReg, donStochReg=donStochReg))\n",
        "}\n",
        "\n",
        "# Replicate 1000 times the simulation\n",
        "n <- 100\n",
        "res <-replicate(1000, rmvnorm(n, mean=c(125,125), sigma=matrix(c(625,375,375,625), ncol =2 ) )) # replicate function here outputs an array\n",
        "arraymiss <- apply(res, MARGIN=3, FUN=MCAR, percent=0.73)\n",
        "aa <-array(arraymiss, dim = c(n, 2, 10))\n",
        "bb <- apply(aa, 3, Impute)\n",
        "cc <- lapply(bb, lapply, statcheck)\n",
        "dd <- lapply(cc, unlist)\n",
        "RES<- Reduce(\"+\", dd) / length(dd)\n",
        "RES<-as.data.frame(matrix(RES, 3, 5, byrow=T))\n",
        "colnames(RES) <- c(\"muhat\", \"sigmahat\",\"corhat\", \"cov_mu\", \"width_CI_mu\")\n",
        "rownames(RES) <- c(\"MEAN\", \"REGRESSION\", \"REGSTO\")\n",
        "RES"
      ],
      "metadata": {
        "colab": {
          "base_uri": "https://localhost:8080/",
          "height": 192
        },
        "id": "uAHMJ2x-u5hZ",
        "outputId": "63b6c55e-3552-44ff-85c6-e90c3ff1e534"
      },
      "execution_count": 30,
      "outputs": [
        {
          "output_type": "display_data",
          "data": {
            "text/html": [
              "<table class=\"dataframe\">\n",
              "<caption>A data.frame: 3 × 5</caption>\n",
              "<thead>\n",
              "\t<tr><th></th><th scope=col>muhat</th><th scope=col>sigmahat</th><th scope=col>corhat</th><th scope=col>cov_mu</th><th scope=col>width_CI_mu</th></tr>\n",
              "\t<tr><th></th><th scope=col>&lt;dbl&gt;</th><th scope=col>&lt;dbl&gt;</th><th scope=col>&lt;dbl&gt;</th><th scope=col>&lt;dbl&gt;</th><th scope=col>&lt;dbl&gt;</th></tr>\n",
              "</thead>\n",
              "<tbody>\n",
              "\t<tr><th scope=row>MEAN</th><td>123.8778</td><td>12.83883</td><td>0.2958489</td><td>0.6</td><td> 5.095004</td></tr>\n",
              "\t<tr><th scope=row>REGRESSION</th><td>123.9965</td><td>18.20233</td><td>0.8078423</td><td>0.6</td><td> 7.223475</td></tr>\n",
              "\t<tr><th scope=row>REGSTO</th><td>124.0931</td><td>25.60063</td><td>0.5828430</td><td>0.7</td><td>10.159440</td></tr>\n",
              "</tbody>\n",
              "</table>\n"
            ],
            "text/markdown": "\nA data.frame: 3 × 5\n\n| <!--/--> | muhat &lt;dbl&gt; | sigmahat &lt;dbl&gt; | corhat &lt;dbl&gt; | cov_mu &lt;dbl&gt; | width_CI_mu &lt;dbl&gt; |\n|---|---|---|---|---|---|\n| MEAN | 123.8778 | 12.83883 | 0.2958489 | 0.6 |  5.095004 |\n| REGRESSION | 123.9965 | 18.20233 | 0.8078423 | 0.6 |  7.223475 |\n| REGSTO | 124.0931 | 25.60063 | 0.5828430 | 0.7 | 10.159440 |\n\n",
            "text/latex": "A data.frame: 3 × 5\n\\begin{tabular}{r|lllll}\n  & muhat & sigmahat & corhat & cov\\_mu & width\\_CI\\_mu\\\\\n  & <dbl> & <dbl> & <dbl> & <dbl> & <dbl>\\\\\n\\hline\n\tMEAN & 123.8778 & 12.83883 & 0.2958489 & 0.6 &  5.095004\\\\\n\tREGRESSION & 123.9965 & 18.20233 & 0.8078423 & 0.6 &  7.223475\\\\\n\tREGSTO & 124.0931 & 25.60063 & 0.5828430 & 0.7 & 10.159440\\\\\n\\end{tabular}\n",
            "text/plain": [
              "           muhat    sigmahat corhat    cov_mu width_CI_mu\n",
              "MEAN       123.8778 12.83883 0.2958489 0.6     5.095004  \n",
              "REGRESSION 123.9965 18.20233 0.8078423 0.6     7.223475  \n",
              "REGSTO     124.0931 25.60063 0.5828430 0.7    10.159440  "
            ]
          },
          "metadata": {}
        }
      ]
    },
    {
      "cell_type": "markdown",
      "source": [
        "Toutes les méthodes d'imputation sous-estiment légèrement la moyenne réelle de 125.  La régression stochastique présente l'estimation de l'écart-type la plus élevée, reflétant une meilleure préservation de la variance des données d'origine. La régression stochastique montre la meilleure couverture de l'intervalle de confiance pour la moyenne, son intervalle de confiance est le plus large, ce qui signifie une incertitude plus élevée  mais aussi une meilleure précision en incluant la variabilité.\n",
        "\n",
        "Pour améliorer, on peut Utiliser la régression stochastique, qui semble mieux préserver les caractéristiques de l'ensemble de données d'origine (variance et corrélation). Réduire la proportion de données manquantes (actuellement 73%) peut aussi améliorer la robustesse des estimations."
      ],
      "metadata": {
        "id": "t_8_w-FF8MQv"
      }
    },
    {
      "cell_type": "markdown",
      "source": [
        "Les blocs MAT, MAT1 et MAT2 calculent la moyenne des statistiques pour chaque méthode d’imputation (MCAR, MAR, MNAR) sur plusieurs simulations pour évaluer la performance des méthodes."
      ],
      "metadata": {
        "id": "4T_AKa5ox3Wr"
      }
    },
    {
      "cell_type": "code",
      "source": [
        "SimuMiss <- function(method){\n",
        "# generate data\n",
        "don <-rmvnorm(n, mean=c(125,125), sigma=matrix(c(625,375,375,625), ncol =2 ) )\n",
        "colnames(don) <- c(\"X\",\"Y\")\n",
        "don <- as.data.frame(don)\n",
        "\n",
        "# generate missing values\n",
        "donmiss <- don\n",
        "if (method == \"MCAR\"){\n",
        "indNA <- sample(1:n, 0.73*n)\n",
        "donmiss[indNA, 2] <- NA\n",
        "}\n",
        "if (method == \"MAR\"){\n",
        "donmiss[donmiss[,1]<=140, 2] <- NA\n",
        "indNA <- which(is.na(donmiss[,2]))\n",
        "}\n",
        "if (method == \"MNAR\"){\n",
        "donmiss[donmiss[,2]<=140, 2] <- NA\n",
        "indNA <- which(is.na(donmiss[, 2]))\n",
        "}\n",
        "\n",
        "donMean <- donReg <- donStochReg <- donmiss\n",
        "\n",
        "# Mean Imputation\n",
        "donMean[indNA, 2] <- mean(donMean[, 2], na.rm = T)\n",
        "\n",
        "# Regression Imputation\n",
        "reg <- lm(Y~X, data = donmiss)\n",
        "donReg[indNA, 2] <- predict(reg, donmiss[indNA, 1,drop = F])\n",
        "\n",
        "# Stochastic Regression Imputation\n",
        "donStochReg[indNA, 2] <- donReg[indNA, 2] + rnorm(length(indNA), 0, (summary(reg))$sigma)\n",
        "\n",
        "# Estimating the mean, the variance of Y, and a confidence interval for mu_y\n",
        "res <- cbind.data.frame(donmiss[, 2], donMean[,2], donReg[, 2],  donStochReg[,2])\n",
        "MM <- apply(res, 2, mean, na.rm = T)\n",
        "SD <- apply(res, 2, sd, na.rm = T)\n",
        "INF <- MM - qt(.975, n-1) * SD/sqrt(n)\n",
        "SUP <- MM + qt(.975, n-1) * SD/sqrt(n)\n",
        "\n",
        "# Complete case Analysis\n",
        "INF[1] <- MM[1] - qt(.975, n-(length(indNA))-1) * SD[1]/sqrt(n-(length(indNA))-1)\n",
        "SUP[1] <- MM[1] + qt(.975, n-(length(indNA))-1) * SD[1]/sqrt(n-(length(indNA))-1)\n",
        "\n",
        "INCI <- (125<=SUP)&(125>=INF)\n",
        "WIDTH <- SUP - INF\n",
        "res = rbind.data.frame(MM, SD, INF, SUP, INCI, WIDTH)\n",
        "colnames(res) =  c(\"CA\", \"MEAN\",\"REG\", \"STOCH\")\n",
        "return(res)\n",
        "}\n",
        "# SimuMiss(\"MCAR\")\n",
        "\n",
        "\n",
        "MAT <- MAT1 <- MAT2 <- matrix(0, 6, 4)\n",
        "#for (i in 1:10000){\n",
        "MAT <- MAT + as.matrix(SimuMiss(\"MCAR\"))\n",
        "MAT1 <- MAT1 + as.matrix(SimuMiss(\"MAR\"))\n",
        "MAT2 <- MAT2 + as.matrix(SimuMiss(\"MNAR\"))\n",
        "#}\n",
        "#cbind.data.frame(MAT,MAT1,MAT2)/10000"
      ],
      "metadata": {
        "id": "Mgmio6GPwUro"
      },
      "execution_count": 31,
      "outputs": []
    },
    {
      "cell_type": "markdown",
      "source": [
        "**3-Imputation avec une distribution gaussienne conjointe**\n",
        "\n",
        "On suppose tout d'abord que les données complètes $ X $ suivent une distribution normale multivariée $ \\mathcal{N}(\\mu, \\Sigma) $. Les paramètres $ \\mu $ et $ \\Sigma $ peuvent être estimés en utilisant des procédures basées sur la vraisemblance maximale pour les modèles de données incomplètes, comme l'algorithme d'Expectation-Maximization (EM).\n"
      ],
      "metadata": {
        "id": "RP6qYQ5vwlfG"
      }
    },
    {
      "cell_type": "code",
      "source": [
        "install.packages('norm')"
      ],
      "metadata": {
        "colab": {
          "base_uri": "https://localhost:8080/"
        },
        "id": "EWguncrAO2Mc",
        "outputId": "7e1bfc72-429f-49a1-f0bd-dd5e87b3a5d8"
      },
      "execution_count": 2,
      "outputs": [
        {
          "output_type": "stream",
          "name": "stderr",
          "text": [
            "Installing package into ‘/usr/local/lib/R/site-library’\n",
            "(as ‘lib’ is unspecified)\n",
            "\n"
          ]
        }
      ]
    },
    {
      "cell_type": "code",
      "source": [
        "# Imputation de données manquantes en se basant sur une distribution normale conjointe.\n",
        "library(norm)\n",
        "pre <- prelim.norm(as.matrix(donmiss))\n",
        "thetahat <- em.norm(pre)\n",
        "getparam.norm(pre,thetahat)"
      ],
      "metadata": {
        "colab": {
          "base_uri": "https://localhost:8080/",
          "height": 349
        },
        "id": "aV_4KtUawXtK",
        "outputId": "badfce7c-3b42-4a85-9048-9907da6e80d6"
      },
      "execution_count": 3,
      "outputs": [
        {
          "output_type": "stream",
          "name": "stderr",
          "text": [
            "This package has some major limitations\n",
            "(for example, it does not work reliably when\n",
            "the number of variables exceeds 30),\n",
            "and has been superseded by the norm2 package.\n",
            "\n"
          ]
        },
        {
          "output_type": "error",
          "ename": "ERROR",
          "evalue": "Error: object 'donmiss' not found\n",
          "traceback": [
            "Error: object 'donmiss' not found\nTraceback:\n",
            "1. as.matrix(donmiss)",
            "2. .handleSimpleError(function (cnd) \n . {\n .     watcher$capture_plot_and_output()\n .     cnd <- sanitize_call(cnd)\n .     watcher$push(cnd)\n .     switch(on_error, continue = invokeRestart(\"eval_continue\"), \n .         stop = invokeRestart(\"eval_stop\"), error = invokeRestart(\"eval_error\", \n .             cnd))\n . }, \"object 'donmiss' not found\", base::quote(eval(expr, envir)))"
          ]
        }
      ]
    },
    {
      "cell_type": "code",
      "source": [
        "# Very important: rngseed MUST be called before using imp.norm\n",
        "# Imputation multiple en tirant des valeurs pour remplacer les valeurs manquantes dans un jeu de données\n",
        "rngseed(1e5)\n",
        "imp.draw <- imp.norm(pre,thetahat,donmiss)"
      ],
      "metadata": {
        "id": "cYhSaEE1xIWD"
      },
      "execution_count": null,
      "outputs": []
    },
    {
      "cell_type": "markdown",
      "source": [
        "Imputation basée sur **l'espérance conditionnelle** pour les valeurs manquantes dans un jeu de données (donmiss), en se basant sur **une distribution normale conjointe dont les paramètres (moyennes et covariances)** ont été estimés à l'aide de l'algorithme EM."
      ],
      "metadata": {
        "id": "JOXaqmTAxyg2"
      }
    },
    {
      "cell_type": "code",
      "source": [
        "to_matrix = function(x, horiz){\n",
        "  # Helper function that converts to matrix\n",
        "  # while ensuring that the orientation is the right one if\n",
        "  # the inpute is just a vector (->column or row matrix)\n",
        "  if(!is.null(dim(x))){\n",
        "    return(x)\n",
        "  }\n",
        "  else{\n",
        "    if(!horiz){\n",
        "      return(as.matrix(x))\n",
        "    }\n",
        "    else{\n",
        "      return(t(as.matrix(x)))\n",
        "    }\n",
        "  }\n",
        "}\n",
        "\n",
        "estimate.1row = function(row, s, m){\n",
        "  # Used to perform the imputation on one row\n",
        "  miss_col = is.na(row)\n",
        "  nmiss = sum(miss_col)\n",
        "  if(nmiss>0){\n",
        "    mu.miss = m[miss_col]\n",
        "    mu.obs = m[!miss_col]\n",
        "    sigma.miss = s[miss_col,miss_col]\n",
        "    sigma.miss.obs = to_matrix(s[miss_col,!miss_col], horiz=nmiss==1)\n",
        "    sigma.obs = s[!miss_col,!miss_col]\n",
        "    mu_cond = mu.miss + sigma.miss.obs %*% solve(sigma.obs) %*% (row[!miss_col] - mu.obs)\n",
        "    row[miss_col] = mu_cond\n",
        "  }\n",
        "  return(row)\n",
        "}\n",
        "\n",
        "\n",
        "params = getparam.norm(pre,thetahat)\n",
        "sigma = params$sigma\n",
        "mu = params$mu\n",
        "imp.expectation = t(apply(donmiss, 1, function(x){estimate.1row(x,s=sigma, m=mu)}))"
      ],
      "metadata": {
        "id": "66bTO5QPxmuy"
      },
      "execution_count": null,
      "outputs": []
    },
    {
      "cell_type": "code",
      "source": [
        "params"
      ],
      "metadata": {
        "id": "DRh6hFVxOpu4"
      },
      "execution_count": null,
      "outputs": []
    },
    {
      "cell_type": "markdown",
      "source": [
        "Les éléments non diagonaux (266,61) de sigma montrent la covariance entre les deux variables, traduisant une corrélation positive."
      ],
      "metadata": {
        "id": "CbYYm-17Pr5A"
      }
    },
    {
      "cell_type": "markdown",
      "source": [
        "## **Multiple imputation**\n",
        "\n",
        "Le code réalise une **imputation multiple sur des données manquantes** en utilisant trois mécanismes différents : **MCAR** (Missing Completely At Random), **MAR** (Missing At Random), et **MNAR** (Missing Not At Random). Il applique ensuite les règles de Rubin pour combiner les résultats des imputations multiples."
      ],
      "metadata": {
        "id": "C8h7banyyScP"
      }
    },
    {
      "cell_type": "code",
      "source": [
        "IMPMULT <- function(method, M){\n",
        "# generate data\n",
        "don <-rmvnorm(n, mean=c(125,125), sigma=matrix(c(625,375,375,625), ncol = 2 ) )\n",
        "colnames(don) <- c(\"X\",\"Y\")\n",
        "don <- as.data.frame(don)\n",
        "\n",
        "# generate missing values\n",
        "donmiss <- don\n",
        "if (method == \"MCAR\"){\n",
        "indNA <- sample(1:n, 0.73*n)\n",
        "donmiss[indNA, 2] <- NA\n",
        "}\n",
        "if (method == \"MAR\"){\n",
        "donmiss[donmiss[,1]<=140, 2] <- NA\n",
        "indNA <- which(is.na(donmiss[,2]))\n",
        "}\n",
        "if (method == \"MNAR\"){\n",
        "donmiss[donmiss[,2]<=140, 2] <- NA\n",
        "indNA <- which(is.na(donmiss[,2]))\n",
        "}\n",
        "\n",
        "# Multiple Imputation\n",
        "ThetaHat = VarThetaHat = rep(NA, M)\n",
        "for (j in 1:M){\n",
        "donStochReg <- donmiss\n",
        "# Bootstrap to reflect the sampling variability and have a proper multiple imputation method\n",
        "indsample <- sample(1:n, replace = T)\n",
        "reg <- lm(Y~X, data = donmiss[indsample,])\n",
        "donStochReg[indNA, 2] <-  predict(reg, donmiss[indNA, 1,drop = F]) +rnorm(length(indNA), 0, (summary(reg))$sigma)\n",
        "ThetaHat[j] <- mean(donStochReg[, 2])\n",
        "VarThetaHat[j] <- var(donStochReg[, 2])/n\n",
        "}\n",
        "\n",
        "# Combine the results according to Rubin rules\n",
        "ThetaHatBar  <- mean(ThetaHat)\n",
        "T  <- mean(VarThetaHat)  + (1 + 1/M)* var(ThetaHat)\n",
        "\n",
        "IMddf  <- (M-1)*(1 + mean(VarThetaHat)/((M+1)*var(ThetaHat)))^2\n",
        "\n",
        "IMINF <- ThetaHatBar - qt(.975, df = IMddf)*sqrt(T)\n",
        "IMSUP <- ThetaHatBar + qt(.975, df = IMddf)*sqrt(T)\n",
        "\n",
        "IMINCI <- (125<=IMSUP)&(125>=IMINF)\n",
        "IMWIDTH <- IMSUP - IMINF\n",
        "res = rbind.data.frame(ThetaHatBar, IMINF, IMSUP, IMINCI, IMWIDTH)\n",
        "colnames(res) =  c(\"IM\")\n",
        "return(res)\n",
        "}\n",
        "# IMPMULT(\"MCAR\", M = 100)\n",
        "\n",
        "MAT= MAT1 = MAT2 = rep(0,5)\n",
        "#for (i in 1:10000){\n",
        "MAT = MAT + as.matrix(IMPMULT(\"MCAR\", M = 100))\n",
        "MAT1 = MAT1 + as.matrix(IMPMULT(\"MAR\", M = 100))\n",
        "MAT2 = MAT2 + as.matrix(IMPMULT(\"MNAR\", M = 100))\n",
        "#}\n",
        "MAT/10000\n",
        "MAT1/10000\n",
        "MAT2/10000"
      ],
      "metadata": {
        "colab": {
          "base_uri": "https://localhost:8080/",
          "height": 689
        },
        "id": "sSNrALA5yPvV",
        "outputId": "ed039d42-55fe-4219-a5b6-a119a74abb74"
      },
      "execution_count": null,
      "outputs": [
        {
          "output_type": "display_data",
          "data": {
            "text/html": [
              "<table class=\"dataframe\">\n",
              "<caption>A matrix: 5 × 1 of type dbl</caption>\n",
              "<thead>\n",
              "\t<tr><th scope=col>IM</th></tr>\n",
              "</thead>\n",
              "<tbody>\n",
              "\t<tr><td>0.013414820</td></tr>\n",
              "\t<tr><td>0.012620754</td></tr>\n",
              "\t<tr><td>0.014208886</td></tr>\n",
              "\t<tr><td>0.000000000</td></tr>\n",
              "\t<tr><td>0.001588132</td></tr>\n",
              "</tbody>\n",
              "</table>\n"
            ],
            "text/markdown": "\nA matrix: 5 × 1 of type dbl\n\n| IM |\n|---|\n| 0.013414820 |\n| 0.012620754 |\n| 0.014208886 |\n| 0.000000000 |\n| 0.001588132 |\n\n",
            "text/latex": "A matrix: 5 × 1 of type dbl\n\\begin{tabular}{l}\n IM\\\\\n\\hline\n\t 0.013414820\\\\\n\t 0.012620754\\\\\n\t 0.014208886\\\\\n\t 0.000000000\\\\\n\t 0.001588132\\\\\n\\end{tabular}\n",
            "text/plain": [
              "     IM         \n",
              "[1,] 0.013414820\n",
              "[2,] 0.012620754\n",
              "[3,] 0.014208886\n",
              "[4,] 0.000000000\n",
              "[5,] 0.001588132"
            ]
          },
          "metadata": {}
        },
        {
          "output_type": "display_data",
          "data": {
            "text/html": [
              "<table class=\"dataframe\">\n",
              "<caption>A matrix: 5 × 1 of type dbl</caption>\n",
              "<thead>\n",
              "\t<tr><th scope=col>IM</th></tr>\n",
              "</thead>\n",
              "<tbody>\n",
              "\t<tr><td>0.011412607</td></tr>\n",
              "\t<tr><td>0.009249761</td></tr>\n",
              "\t<tr><td>0.013575452</td></tr>\n",
              "\t<tr><td>0.000100000</td></tr>\n",
              "\t<tr><td>0.004325690</td></tr>\n",
              "</tbody>\n",
              "</table>\n"
            ],
            "text/markdown": "\nA matrix: 5 × 1 of type dbl\n\n| IM |\n|---|\n| 0.011412607 |\n| 0.009249761 |\n| 0.013575452 |\n| 0.000100000 |\n| 0.004325690 |\n\n",
            "text/latex": "A matrix: 5 × 1 of type dbl\n\\begin{tabular}{l}\n IM\\\\\n\\hline\n\t 0.011412607\\\\\n\t 0.009249761\\\\\n\t 0.013575452\\\\\n\t 0.000100000\\\\\n\t 0.004325690\\\\\n\\end{tabular}\n",
            "text/plain": [
              "     IM         \n",
              "[1,] 0.011412607\n",
              "[2,] 0.009249761\n",
              "[3,] 0.013575452\n",
              "[4,] 0.000100000\n",
              "[5,] 0.004325690"
            ]
          },
          "metadata": {}
        },
        {
          "output_type": "display_data",
          "data": {
            "text/html": [
              "<table class=\"dataframe\">\n",
              "<caption>A matrix: 5 × 1 of type dbl</caption>\n",
              "<thead>\n",
              "\t<tr><th scope=col>IM</th></tr>\n",
              "</thead>\n",
              "<tbody>\n",
              "\t<tr><td>0.015506417</td></tr>\n",
              "\t<tr><td>0.014824400</td></tr>\n",
              "\t<tr><td>0.016188435</td></tr>\n",
              "\t<tr><td>0.000000000</td></tr>\n",
              "\t<tr><td>0.001364035</td></tr>\n",
              "</tbody>\n",
              "</table>\n"
            ],
            "text/markdown": "\nA matrix: 5 × 1 of type dbl\n\n| IM |\n|---|\n| 0.015506417 |\n| 0.014824400 |\n| 0.016188435 |\n| 0.000000000 |\n| 0.001364035 |\n\n",
            "text/latex": "A matrix: 5 × 1 of type dbl\n\\begin{tabular}{l}\n IM\\\\\n\\hline\n\t 0.015506417\\\\\n\t 0.014824400\\\\\n\t 0.016188435\\\\\n\t 0.000000000\\\\\n\t 0.001364035\\\\\n\\end{tabular}\n",
            "text/plain": [
              "     IM         \n",
              "[1,] 0.015506417\n",
              "[2,] 0.014824400\n",
              "[3,] 0.016188435\n",
              "[4,] 0.000000000\n",
              "[5,] 0.001364035"
            ]
          },
          "metadata": {}
        }
      ]
    }
  ]
}
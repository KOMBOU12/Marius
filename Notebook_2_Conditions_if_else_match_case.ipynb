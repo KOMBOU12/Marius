{
  "cells": [
    {
      "cell_type": "markdown",
      "metadata": {
        "id": "view-in-github",
        "colab_type": "text"
      },
      "source": [
        "<a href=\"https://colab.research.google.com/github/KOMBOU12/Marius/blob/main/Notebook_2_Conditions_if_else_match_case.ipynb\" target=\"_parent\"><img src=\"https://colab.research.google.com/assets/colab-badge.svg\" alt=\"Open In Colab\"/></a>"
      ]
    },
    {
      "cell_type": "markdown",
      "id": "df7e1756",
      "metadata": {
        "id": "df7e1756"
      },
      "source": [
        "\n",
        "# Notebook 2 : Les Structures Conditionnelles en Python\n",
        "\n",
        "## Introduction\n",
        "Dans ce notebook, nous allons explorer les structures conditionnelles en Python, qui permettent de prendre des décisions basées sur des conditions :\n",
        "- La structure `if`, `else`, et `elif`\n",
        "- L'instruction `match/case` (introduite dans Python 3.10)\n",
        "\n",
        "Les structures conditionnelles sont essentielles pour contrôler le flux d'exécution en fonction des valeurs et conditions.\n"
      ]
    },
    {
      "cell_type": "code",
      "execution_count": 1,
      "id": "7d73ad9c",
      "metadata": {
        "colab": {
          "base_uri": "https://localhost:8080/"
        },
        "id": "7d73ad9c",
        "outputId": "3b462790-1d3c-4339-9b7f-d17362d8ee30"
      },
      "outputs": [
        {
          "output_type": "stream",
          "name": "stdout",
          "text": [
            "Adulte\n"
          ]
        }
      ],
      "source": [
        "\n",
        "# Section 1 : Structure if, else, elif\n",
        "# La structure if permet d'exécuter un bloc de code si une condition est vraie.\n",
        "# elif (else if) et else permettent de définir des alternatives.\n",
        "\n",
        "# Exemple\n",
        "age = 18\n",
        "\n",
        "if age < 18:\n",
        "    print(\"Mineur\")\n",
        "elif age < 65:\n",
        "    print(\"Adulte\")\n",
        "else:\n",
        "    print(\"Senior\")\n"
      ]
    },
    {
      "cell_type": "code",
      "execution_count": 4,
      "id": "65303ee6",
      "metadata": {
        "colab": {
          "base_uri": "https://localhost:8080/"
        },
        "id": "65303ee6",
        "outputId": "238a6c5a-9f23-47e8-e9bd-9f7a5cfd9de8"
      },
      "outputs": [
        {
          "output_type": "stream",
          "name": "stdout",
          "text": [
            "Commande inconnue\n"
          ]
        }
      ],
      "source": [
        "\n",
        "# Section 2 : Structure match/case\n",
        "# La structure match/case, introduite dans Python 3.10, permet de comparer des valeurs contre différents motifs.\n",
        "# Elle est utile pour les cas complexes nécessitant une correspondance de motifs.\n",
        "\n",
        "# Exemple\n",
        "command = \"gl\"\n",
        "\n",
        "match command:\n",
        "    case \"start\":\n",
        "        print(\"Démarrage du système\")\n",
        "    case \"stop\":\n",
        "        print(\"Arrêt du système\")\n",
        "    case \"pause\":\n",
        "        print(\"Pause du système\")\n",
        "    case _:\n",
        "        print(\"Commande inconnue\")\n"
      ]
    },
    {
      "cell_type": "markdown",
      "id": "eb61b378",
      "metadata": {
        "id": "eb61b378"
      },
      "source": [
        "\n",
        "# Exercices pratiques\n",
        "Appliquons les concepts des structures conditionnelles.\n"
      ]
    },
    {
      "cell_type": "code",
      "execution_count": 5,
      "id": "cd358734",
      "metadata": {
        "colab": {
          "base_uri": "https://localhost:8080/"
        },
        "id": "cd358734",
        "outputId": "5ee65089-405c-4fda-860e-da24e3817775"
      },
      "outputs": [
        {
          "output_type": "stream",
          "name": "stdout",
          "text": [
            "Tempéré\n"
          ]
        }
      ],
      "source": [
        "\n",
        "# Exercice 1\n",
        "# Écrivez un programme qui prend une variable 'temperature' et affiche :\n",
        "# \"Froid\" si la température est en dessous de 10, \"Chaud\" si elle est au-dessus de 25,\n",
        "# et \"Tempéré\" sinon.\n",
        "# Résultat attendu pour temperature = 18 : \"Tempéré\"\n",
        "\n",
        "temperature = 18\n",
        "\n",
        "if temperature < 10:\n",
        "  print(\"Froid\")\n",
        "\n",
        "elif temperature > 25:\n",
        "  print(\"Chaud\")\n",
        "\n",
        "else:\n",
        "  print(\"Tempéré\")\n"
      ]
    },
    {
      "cell_type": "code",
      "execution_count": 7,
      "id": "247d7b9e",
      "metadata": {
        "colab": {
          "base_uri": "https://localhost:8080/"
        },
        "id": "247d7b9e",
        "outputId": "e35d8fcc-bf57-4917-8c78-002188fc7f54"
      },
      "outputs": [
        {
          "output_type": "stream",
          "name": "stdout",
          "text": [
            "Nul\n"
          ]
        }
      ],
      "source": [
        "\n",
        "# Exercice 2\n",
        "# Utilisez if/elif/else pour afficher \"Positif\" si 'number' est positif,\n",
        "# \"Négatif\" s'il est négatif, et \"Nul\" si la valeur est zéro.\n",
        "# Résultat attendu pour number = -5 : \"Négatif\"\n",
        "\n",
        "number = 0\n",
        "\n",
        "if number > 0:\n",
        "  print(\"Positif\")\n",
        "\n",
        "elif number < 0:\n",
        "  print(\"Négatif\")\n",
        "else :\n",
        "  print(\"Nul\")\n",
        "\n"
      ]
    },
    {
      "cell_type": "code",
      "execution_count": 10,
      "id": "ad254ac2",
      "metadata": {
        "colab": {
          "base_uri": "https://localhost:8080/"
        },
        "id": "ad254ac2",
        "outputId": "16ad49ce-93c6-4184-972a-c8bd9bcc0ed9"
      },
      "outputs": [
        {
          "output_type": "stream",
          "name": "stdout",
          "text": [
            "Fin de semaine\n"
          ]
        }
      ],
      "source": [
        "\n",
        "# Exercice 3\n",
        "# Utilisez match/case pour créer une variable 'day' contenant un jour de la semaine (ex. \"lundi\").\n",
        "# Affichez \"Début de semaine\" pour lundi et mardi, \"Milieu de semaine\" pour mercredi et jeudi,\n",
        "# \"Fin de semaine\" pour vendredi, et \"Week-end\" pour samedi et dimanche.\n",
        "# Résultat attendu pour day = \"vendredi\" : \"Fin de semaine\"\n",
        "\n",
        "day = \"vendredi\"\n",
        "\n",
        "match day:\n",
        "  case \"lundi\" | \"mardi\" :\n",
        "     print(\"Début de semaine\")\n",
        "  case \"mercredi\":\n",
        "     print(\"Milieu de semaine\")\n",
        "  case \"vendredi\":\n",
        "     print(\"Fin de semaine\")\n",
        "  case \"samedi\" | \"dimanche\":\n",
        "     print(\"Week-end'\")\n",
        "\n"
      ]
    },
    {
      "cell_type": "code",
      "execution_count": null,
      "id": "f5ebf1e8",
      "metadata": {
        "id": "f5ebf1e8"
      },
      "outputs": [],
      "source": [
        "\n",
        "# Exercice 4\n",
        "# Déclarez une variable 'score' avec une valeur entre 0 et 100.\n",
        "# Affichez la mention correspondante : \"Échec\" pour moins de 50, \"Passable\" pour 50-65,\n",
        "# \"Bien\" pour 66-85, et \"Excellent\" pour plus de 85.\n",
        "# Résultat attendu pour score = 78 : \"Bien\"\n",
        "\n"
      ]
    }
  ],
  "metadata": {
    "kernelspec": {
      "display_name": "Python 3 (ipykernel)",
      "language": "python",
      "name": "python3"
    },
    "language_info": {
      "codemirror_mode": {
        "name": "ipython",
        "version": 3
      },
      "file_extension": ".py",
      "mimetype": "text/x-python",
      "name": "python",
      "nbconvert_exporter": "python",
      "pygments_lexer": "ipython3",
      "version": "3.12.7"
    },
    "colab": {
      "provenance": [],
      "include_colab_link": true
    }
  },
  "nbformat": 4,
  "nbformat_minor": 5
}
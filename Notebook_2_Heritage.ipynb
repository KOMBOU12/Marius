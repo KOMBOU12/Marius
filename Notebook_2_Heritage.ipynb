{
  "cells": [
    {
      "cell_type": "markdown",
      "metadata": {
        "id": "view-in-github",
        "colab_type": "text"
      },
      "source": [
        "<a href=\"https://colab.research.google.com/github/KOMBOU12/Marius/blob/main/Notebook_2_Heritage.ipynb\" target=\"_parent\"><img src=\"https://colab.research.google.com/assets/colab-badge.svg\" alt=\"Open In Colab\"/></a>"
      ]
    },
    {
      "cell_type": "markdown",
      "id": "5f1bfa44",
      "metadata": {
        "id": "5f1bfa44"
      },
      "source": [
        "\n",
        "# Notebook 11 : Héritage en Programmation Orientée Objet\n",
        "\n",
        "## Introduction\n",
        "L'**héritage** est un concept fondamental en programmation orientée objet permettant de créer de nouvelles classes à partir de classes existantes.\n",
        "Il permet de réutiliser du code, d'ajouter de nouvelles fonctionnalités et de créer des hiérarchies de classes.\n",
        "\n",
        "Dans ce notebook, nous allons aborder :\n",
        "- L'héritage simple\n",
        "- L'héritage multiple\n",
        "\n",
        "Les exemples sont basés sur un système d'information d'université.\n"
      ]
    },
    {
      "cell_type": "markdown",
      "id": "0f4338e8",
      "metadata": {
        "id": "0f4338e8"
      },
      "source": [
        "\n",
        "## Section 1 : Héritage Simple\n",
        "\n",
        "L'**héritage simple** permet de créer une nouvelle classe à partir d'une seule classe de base.\n",
        "La nouvelle classe (classe enfant) hérite des attributs et des méthodes de la classe de base (classe parent).\n",
        "\n",
        "### Exemple : Personne et Étudiant\n",
        "Dans un système d'université, nous pouvons définir une classe de base `Personne` et faire hériter `Etudiant` de cette classe.\n"
      ]
    },
    {
      "cell_type": "code",
      "execution_count": null,
      "id": "e1d70aea",
      "metadata": {
        "id": "e1d70aea"
      },
      "outputs": [],
      "source": [
        "\n",
        "class Personne:\n",
        "    def __init__(self, nom, age):\n",
        "        self.nom = nom\n",
        "        self.age = age\n",
        "\n",
        "    def afficher_infos(self):\n",
        "        print(f\"Nom : {self.nom}, Âge : {self.age}\")\n",
        "\n",
        "class Etudiant(Personne):\n",
        "    def __init__(self, nom, age, matricule):\n",
        "        super().__init__(nom, age)  # Appel au constructeur de la classe parent\n",
        "        self.matricule = matricule\n",
        "\n",
        "    def afficher_infos(self):\n",
        "        super().afficher_infos()  # Appel à la méthode de la classe parent\n",
        "        print(f\"Matricule : {self.matricule}\")\n",
        "\n",
        "# Création d'instance\n",
        "etudiant1 = Etudiant(\"Alice Dupont\", 20, \"2022001\")\n",
        "etudiant1.afficher_infos()\n"
      ]
    },
    {
      "cell_type": "markdown",
      "id": "110a2672",
      "metadata": {
        "id": "110a2672"
      },
      "source": [
        "\n",
        "## Section 2 : Héritage Multiple\n",
        "\n",
        "L'**héritage multiple** permet à une classe d'hériter de plusieurs classes de base.\n",
        "Cela peut être utile lorsque vous avez des comportements provenant de plusieurs sources.\n",
        "\n",
        "### Exemple : Personne, Employé, et Enseignant\n",
        "Dans un système d'université, un `Enseignant` pourrait hériter à la fois de `Personne` et d'une classe `Employé`.\n"
      ]
    },
    {
      "cell_type": "code",
      "execution_count": null,
      "id": "8440699d",
      "metadata": {
        "id": "8440699d"
      },
      "outputs": [],
      "source": [
        "\n",
        "class Employe:\n",
        "    def __init__(self, salaire):\n",
        "        self.salaire = salaire\n",
        "\n",
        "    def afficher_salaire(self):\n",
        "        print(f\"Salaire : {self.salaire}\")\n",
        "\n",
        "class Enseignant(Personne, Employe):\n",
        "    def __init__(self, nom, age, salaire, domaine):\n",
        "        Personne.__init__(self, nom, age)\n",
        "        Employe.__init__(self, salaire)\n",
        "        self.domaine = domaine\n",
        "\n",
        "    def afficher_infos(self):\n",
        "        super().afficher_infos()\n",
        "        print(f\"Domaine : {self.domaine}\")\n",
        "        self.afficher_salaire()\n",
        "\n",
        "# Création d'instance\n",
        "enseignant1 = Enseignant(\"Dr. Paul Martin\", 45, 3000, \"Informatique\")\n",
        "enseignant1.afficher_infos()\n"
      ]
    },
    {
      "cell_type": "markdown",
      "id": "9c20df15",
      "metadata": {
        "id": "9c20df15"
      },
      "source": [
        "\n",
        "# Exercices Pratiques\n",
        "\n",
        "Appliquez les concepts de l'héritage pour résoudre les exercices suivants.\n"
      ]
    },
    {
      "cell_type": "markdown",
      "id": "011e3dd7",
      "metadata": {
        "id": "011e3dd7"
      },
      "source": [
        "\n",
        "## Exercice 1 : Classe Assistant\n",
        "Créez une classe `Assistant` qui hérite de `Etudiant` et ajoute un attribut `departement`.\n",
        "Affichez les informations de l'assistant, y compris son département.\n",
        "\n",
        "**Exemple attendu** : pour un assistant \"Bob\", ajoutez un département et affichez toutes ses informations.\n"
      ]
    },
    {
      "cell_type": "code",
      "execution_count": null,
      "id": "8adfcf56",
      "metadata": {
        "id": "8adfcf56"
      },
      "outputs": [],
      "source": [
        "\n",
        "# Réponse Exercice 1\n"
      ]
    },
    {
      "cell_type": "markdown",
      "id": "8040f76b",
      "metadata": {
        "id": "8040f76b"
      },
      "source": [
        "\n",
        "## Exercice 2 : Classe Administrateur\n",
        "Créez une classe `Administrateur` qui hérite de `Personne` et `Employe` et ajoute un attribut `responsabilite`.\n",
        "Affichez toutes les informations de l'administrateur, y compris sa responsabilité.\n",
        "\n",
        "**Exemple attendu** : pour un administrateur, affichez son nom, son âge, son salaire, et sa responsabilité.\n"
      ]
    },
    {
      "cell_type": "code",
      "execution_count": null,
      "id": "c96243fc",
      "metadata": {
        "id": "c96243fc"
      },
      "outputs": [],
      "source": [
        "\n",
        "# Réponse Exercice 2\n"
      ]
    }
  ],
  "metadata": {
    "language_info": {
      "name": "python"
    },
    "colab": {
      "provenance": [],
      "include_colab_link": true
    }
  },
  "nbformat": 4,
  "nbformat_minor": 5
}
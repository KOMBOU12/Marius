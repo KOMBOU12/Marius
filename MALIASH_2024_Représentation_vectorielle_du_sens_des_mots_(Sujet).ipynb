{
  "nbformat": 4,
  "nbformat_minor": 0,
  "metadata": {
    "colab": {
      "provenance": [],
      "include_colab_link": true
    },
    "kernelspec": {
      "name": "python3",
      "display_name": "Python 3"
    }
  },
  "cells": [
    {
      "cell_type": "markdown",
      "metadata": {
        "id": "view-in-github",
        "colab_type": "text"
      },
      "source": [
        "<a href=\"https://colab.research.google.com/github/KOMBOU12/Marius/blob/main/MALIASH_2024_Repr%C3%A9sentation_vectorielle_du_sens_des_mots_(Sujet).ipynb\" target=\"_parent\"><img src=\"https://colab.research.google.com/assets/colab-badge.svg\" alt=\"Open In Colab\"/></a>"
      ]
    },
    {
      "cell_type": "markdown",
      "metadata": {
        "id": "1MBLqlgL3BYi"
      },
      "source": [
        "# Représentation vectorielle du sens des mots\n",
        "\n",
        "**Auteur :** Adrien Guille (Université Lumière Lyon 2), pour le cours *Representation learning for NLP* @ Master 2 MALIA et Master 2 MIASH."
      ]
    },
    {
      "cell_type": "markdown",
      "metadata": {
        "id": "9P1gOVRYXsAP"
      },
      "source": [
        "## Chargement des vecteurs\n",
        "\n",
        "On télécharge une petite collection de vecteurs appris par la méthode **Skip-Gram avec échantillonnage négatif**.\n",
        "\n",
        "Les représentations en dimension 300 des 100 000 mots les plus fréquents ont été apprises à partir de l'ensemble des pages francophones sur Wikipedia. Autrement dit, chacun des 100 000 mots les plus fréquents dans les articles Wikipedia sont associés à un vecteur $u \\in \\mathbb{R}^{300}$."
      ]
    },
    {
      "cell_type": "code",
      "metadata": {
        "id": "9h8Tz4x6uzQW",
        "colab": {
          "base_uri": "https://localhost:8080/"
        },
        "outputId": "3f6a9b02-67cb-4f0c-d386-791bcb7940cc"
      },
      "source": [
        "# Téléchargement\n",
        "! wget https://raw.githubusercontent.com/AdrienGuille/adrienguille.github.io/main/assets/sgns.wiki.fr.zip\n",
        "! unzip sgns.wiki.fr.zip\n",
        "\n",
        "# Lecture du vocabulaire et des vecteurs\n",
        "import pandas as pd\n",
        "data = pd.read_csv(\"sgns.wiki.fr.vec\", sep=\" \", quoting=3, header=None, skiprows=1)\n",
        "vocabulary = list(data[0].values)\n",
        "vectors = data[range(1, 301)].values\n",
        "\n",
        "# Définition d'une fonction pour accéder de façon sûre aux vecteurs\n",
        "def get_vector(word):\n",
        "  if word in vocabulary:\n",
        "    return vectors[vocabulary.index(word)]\n",
        "  else:\n",
        "    return None"
      ],
      "execution_count": 1,
      "outputs": [
        {
          "output_type": "stream",
          "name": "stdout",
          "text": [
            "--2024-12-06 23:05:56--  https://raw.githubusercontent.com/AdrienGuille/adrienguille.github.io/main/assets/sgns.wiki.fr.zip\n",
            "Resolving raw.githubusercontent.com (raw.githubusercontent.com)... 185.199.110.133, 185.199.111.133, 185.199.108.133, ...\n",
            "Connecting to raw.githubusercontent.com (raw.githubusercontent.com)|185.199.110.133|:443... connected.\n",
            "HTTP request sent, awaiting response... 200 OK\n",
            "Length: 98204893 (94M) [application/zip]\n",
            "Saving to: ‘sgns.wiki.fr.zip’\n",
            "\n",
            "sgns.wiki.fr.zip    100%[===================>]  93.66M   164MB/s    in 0.6s    \n",
            "\n",
            "2024-12-06 23:05:58 (164 MB/s) - ‘sgns.wiki.fr.zip’ saved [98204893/98204893]\n",
            "\n",
            "Archive:  sgns.wiki.fr.zip\n",
            "  inflating: sgns.wiki.fr.vec        \n"
          ]
        }
      ]
    },
    {
      "cell_type": "code",
      "source": [
        "vocabulary.index('vice')"
      ],
      "metadata": {
        "id": "k7gbdwxcR9hF",
        "outputId": "69dd012b-d5a3-45a4-b519-9d2ef120396f",
        "colab": {
          "base_uri": "https://localhost:8080/"
        }
      },
      "execution_count": 22,
      "outputs": [
        {
          "output_type": "execute_result",
          "data": {
            "text/plain": [
              "948"
            ]
          },
          "metadata": {},
          "execution_count": 22
        }
      ]
    },
    {
      "cell_type": "code",
      "source": [
        "vectors[100]"
      ],
      "metadata": {
        "id": "VUu49ssjYZRM",
        "outputId": "eee636c1-8520-47b5-f985-f2275c060e29",
        "colab": {
          "base_uri": "https://localhost:8080/"
        }
      },
      "execution_count": 21,
      "outputs": [
        {
          "output_type": "execute_result",
          "data": {
            "text/plain": [
              "array([ 0.018082 , -0.21577  , -0.24939  , -0.025855 ,  0.14047  ,\n",
              "       -0.036023 , -0.098464 ,  0.013544 ,  0.27167  ,  0.0053517,\n",
              "       -0.33799  , -0.13787  , -0.19879  ,  0.12006  ,  0.13555  ,\n",
              "       -0.50332  , -0.11082  , -0.22246  , -0.29738  ,  0.037606 ,\n",
              "        0.20291  , -0.017751 , -0.085998 ,  0.070302 , -0.09224  ,\n",
              "       -0.30888  , -0.15315  ,  0.10933  ,  0.03868  , -0.4142   ,\n",
              "        0.16869  ,  0.007345 ,  0.10729  , -0.026919 ,  0.25212  ,\n",
              "       -0.2328   ,  0.10068  , -0.13259  ,  0.072498 ,  0.13042  ,\n",
              "        0.090889 , -0.18345  ,  0.015469 ,  0.12032  ,  0.048208 ,\n",
              "       -0.18849  , -0.18553  ,  0.20453  ,  0.053698 , -0.10348  ,\n",
              "        0.21454  , -0.048734 , -0.0018432,  0.22273  , -0.073183 ,\n",
              "       -0.23615  , -0.16378  ,  0.1896   ,  0.080522 ,  0.45127  ,\n",
              "        0.12708  ,  0.053352 ,  0.14837  , -0.21207  , -0.19264  ,\n",
              "        0.073829 , -0.26522  , -0.2352   ,  0.047609 , -0.26742  ,\n",
              "       -0.18074  ,  0.15475  , -0.1864   ,  0.033111 , -0.19404  ,\n",
              "        0.083392 ,  0.063514 ,  0.28419  ,  0.16539  ,  0.037201 ,\n",
              "       -0.1616   , -0.20728  ,  0.072934 ,  0.11614  ,  0.055493 ,\n",
              "        0.12593  ,  0.019905 ,  0.016261 , -0.11019  , -0.35282  ,\n",
              "       -0.092306 ,  0.19575  , -0.18958  , -0.031674 , -0.49858  ,\n",
              "        0.31955  ,  0.032011 ,  0.095371 ,  0.13831  , -0.18733  ,\n",
              "        0.0067679,  0.087613 , -0.13493  ,  0.21526  , -0.36598  ,\n",
              "        0.29686  , -0.013918 ,  0.038563 , -0.039581 ,  0.32882  ,\n",
              "        0.070232 , -0.0030543,  0.031557 ,  0.27655  ,  0.31957  ,\n",
              "        0.17375  , -0.023717 , -0.26241  , -0.17658  ,  0.093997 ,\n",
              "        0.17212  , -0.079756 ,  0.06207  ,  0.10196  ,  0.22731  ,\n",
              "        0.24113  ,  0.25238  , -0.036156 , -0.017352 ,  0.4239   ,\n",
              "        0.14473  , -0.049073 ,  0.20412  ,  0.12554  , -0.072054 ,\n",
              "       -0.011196 , -0.077483 ,  0.025308 ,  0.0027413, -0.28809  ,\n",
              "        0.036398 , -0.17701  , -0.094653 , -0.21086  ,  0.054033 ,\n",
              "        0.27799  , -0.017989 ,  0.10229  ,  0.094903 ,  0.034582 ,\n",
              "        0.062171 ,  0.073662 , -0.089553 ,  0.028826 , -0.0075047,\n",
              "       -0.25959  ,  0.024361 ,  0.25883  , -0.17654  ,  0.22356  ,\n",
              "       -0.16995  , -0.17121  ,  0.053378 , -0.096346 , -0.076117 ,\n",
              "        0.029783 ,  0.26739  ,  0.036273 ,  0.32679  ,  0.022829 ,\n",
              "       -0.054553 , -0.015299 ,  0.07457  ,  0.1004   ,  0.1878   ,\n",
              "       -0.15762  ,  0.32907  , -0.14406  ,  0.077214 , -0.027003 ,\n",
              "       -0.0271   , -0.18875  ,  0.064276 , -0.15082  ,  0.19137  ,\n",
              "        0.54392  , -0.074912 ,  0.032132 ,  0.13804  , -0.070533 ,\n",
              "        0.16828  ,  0.26074  ,  0.31899  , -0.19137  , -0.018082 ,\n",
              "       -0.20078  , -0.020806 ,  0.16056  , -0.035719 ,  0.1177   ,\n",
              "        0.24204  ,  0.094418 , -0.24691  ,  0.24977  , -0.34186  ,\n",
              "       -0.089228 ,  0.049071 ,  0.089213 , -0.10666  ,  0.10464  ,\n",
              "       -0.15086  ,  0.23525  ,  0.19921  ,  0.34582  ,  0.022393 ,\n",
              "        0.35318  ,  0.064383 , -0.11499  ,  0.088443 , -0.060556 ,\n",
              "       -0.18037  , -0.14533  , -0.20962  ,  0.019564 ,  0.19541  ,\n",
              "       -0.42932  ,  0.099108 ,  0.11132  ,  0.026513 ,  0.17077  ,\n",
              "       -0.043717 ,  0.16334  ,  0.30768  , -0.010959 ,  0.078113 ,\n",
              "       -0.25197  ,  0.13172  ,  0.002879 , -0.11666  , -0.29327  ,\n",
              "       -0.094913 ,  0.22844  ,  0.17139  ,  0.45091  , -0.08979  ,\n",
              "        0.1402   , -0.33475  ,  0.066468 ,  0.11655  , -0.074766 ,\n",
              "       -0.12868  ,  0.1563   ,  0.14101  ,  0.10397  , -0.087439 ,\n",
              "        0.32116  ,  0.12141  , -0.042634 ,  0.1257   , -0.013399 ,\n",
              "        0.24927  , -0.023617 ,  0.37989  , -0.17782  , -0.22115  ,\n",
              "        0.10458  , -0.20721  , -0.19538  ,  0.12992  , -0.12441  ,\n",
              "        0.1756   ,  0.096314 ,  0.0092069,  0.091185 , -0.34762  ,\n",
              "        0.12974  ,  0.19747  ,  0.02063  , -0.41107  ,  0.13529  ,\n",
              "        0.12169  ,  0.38208  ,  0.037678 ,  0.041292 , -0.18182  ,\n",
              "       -0.029578 ,  0.14852  ,  0.17954  ,  0.29988  , -0.31795  ,\n",
              "        0.028964 ,  0.072363 ,  0.19387  , -0.11182  , -0.17478  ,\n",
              "       -0.14975  , -0.2399   ,  0.034162 , -0.010016 , -0.23876  ])"
            ]
          },
          "metadata": {},
          "execution_count": 21
        }
      ]
    },
    {
      "cell_type": "markdown",
      "metadata": {
        "id": "xnJuZn6YWxMn"
      },
      "source": [
        "## Identification des mots proches\n",
        "\n",
        "On mesure la proximité entre les mots comme une fonction du produit scalaire de leurs représentations. Plus exactement on mesure le produit scalaire normalisé par le produit des normes, qui correspond au cosinus de l'angle entre les deux vecteurs :\n",
        "$$\n",
        "\\cos(\\theta_{u_1, u_2}) = \\frac{u_1 \\cdot u_2}{||u_1|| \\times ||u_2||}\n",
        "$$\n",
        "\n",
        "**Exercice** :\n",
        "- Écrire la fonction `get_most_similar_words` qui reçoit une représentation vectorielle ou un mot et retourne les $n$ mots les plus proches.\n",
        "- La tester !"
      ]
    },
    {
      "cell_type": "code",
      "metadata": {
        "id": "EFbPPqod-USy"
      },
      "source": [
        "from sklearn.metrics.pairwise import cosine_similarity\n",
        "import numpy as np\n",
        "\n",
        "def get_most_similar_words(vector, n=10):\n",
        "    if type(vector) == str:\n",
        "        # si l'argument reçu est de type texte, on le remplace par le vecteur qui correspond\n",
        "        vector = get_vector(vector)\n",
        "    else\n"
      ],
      "execution_count": 2,
      "outputs": []
    },
    {
      "cell_type": "markdown",
      "metadata": {
        "id": "W86FJ0b6XNMb"
      },
      "source": [
        "## Visualisation des représentations et des relations entre elles: pays & capitales\n",
        "\n",
        "**Exercice:**\n",
        "- Extraire le sous-ensemble de vecteurs pour les mots donnés ci-après\n",
        "- Les projeter linéairement en 3D au moyen d'une décomposition en valeurs singulières tronquée\n",
        "- Visualiser les vecteurs dans le plan, d'après leurs coordonnées sur les 2ème et 3ème axes."
      ]
    },
    {
      "cell_type": "code",
      "metadata": {
        "id": "DzRMB3sYuK3J"
      },
      "source": [
        "from sklearn.decomposition import TruncatedSVD\n",
        "import matplotlib.pyplot as plt\n",
        "\n",
        "words = ['paris', 'france', 'berlin', 'allemagne', 'pékin', 'chine', 'tokyo', 'japon', 'mexico', 'mexique', 'caracas', 'venezuela']\n",
        "word_vectors = [get_vector(w) for w in words]\n"
      ],
      "execution_count": null,
      "outputs": []
    },
    {
      "cell_type": "markdown",
      "metadata": {
        "id": "5aD6U1rfXdgt"
      },
      "source": [
        "## Prédiction du nom de la capitale à partir du nom d'un pays\n",
        "\n",
        "**Exercice** :\n",
        "- D'après le résultat obtenu précédemment, proposer une manière de deviner le nom de la capitale à partir du nom d'un pays d'après leurs représentations.\n",
        "- Écrire la fonction `find_capital` qui implémente votre idée et la tester !"
      ]
    },
    {
      "cell_type": "code",
      "metadata": {
        "id": "Ld4s9xOy6p2r"
      },
      "source": [],
      "execution_count": null,
      "outputs": []
    },
    {
      "cell_type": "markdown",
      "metadata": {
        "id": "iLSEVn49XjGL"
      },
      "source": [
        "## Résolution d'analogies\n",
        "\n",
        "On considère des analogies de la forme $a$ est à $b$, ce que $c$ est à $d$. Dans l'espace vectoriel on devrait avoir $u_a - u_b = u_c - u_d$.\n",
        "\n",
        "**Exercice** :\n",
        "- Écrire une fonction qui résoud une telle analogie, sachant $a$, $b$ et $c$.\n",
        "- La tester !"
      ]
    },
    {
      "cell_type": "code",
      "metadata": {
        "id": "x1J-rnsDyCSU"
      },
      "source": [
        "def solve_analogy(word_a, word_b, word_c):\n"
      ],
      "execution_count": null,
      "outputs": []
    }
  ]
}
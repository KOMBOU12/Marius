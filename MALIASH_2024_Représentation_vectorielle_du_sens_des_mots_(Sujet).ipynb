{
  "nbformat": 4,
  "nbformat_minor": 0,
  "metadata": {
    "colab": {
      "provenance": [],
      "include_colab_link": true
    },
    "kernelspec": {
      "name": "python3",
      "display_name": "Python 3"
    }
  },
  "cells": [
    {
      "cell_type": "markdown",
      "metadata": {
        "id": "view-in-github",
        "colab_type": "text"
      },
      "source": [
        "<a href=\"https://colab.research.google.com/github/KOMBOU12/Marius/blob/main/MALIASH_2024_Repr%C3%A9sentation_vectorielle_du_sens_des_mots_(Sujet).ipynb\" target=\"_parent\"><img src=\"https://colab.research.google.com/assets/colab-badge.svg\" alt=\"Open In Colab\"/></a>"
      ]
    },
    {
      "cell_type": "markdown",
      "metadata": {
        "id": "1MBLqlgL3BYi"
      },
      "source": [
        "# Représentation vectorielle du sens des mots\n",
        "\n",
        "**Auteur :** Adrien Guille (Université Lumière Lyon 2), pour le cours *Representation learning for NLP* @ Master 2 MALIA et Master 2 MIASH."
      ]
    },
    {
      "cell_type": "markdown",
      "metadata": {
        "id": "9P1gOVRYXsAP"
      },
      "source": [
        "## Chargement des vecteurs\n",
        "\n",
        "On télécharge une petite collection de vecteurs appris par la méthode **Skip-Gram avec échantillonnage négatif**.\n",
        "\n",
        "Les représentations en dimension 300 des 100 000 mots les plus fréquents ont été apprises à partir de l'ensemble des pages francophones sur Wikipedia. Autrement dit, chacun des 100 000 mots les plus fréquents dans les articles Wikipedia sont associés à un vecteur $u \\in \\mathbb{R}^{300}$."
      ]
    },
    {
      "cell_type": "code",
      "metadata": {
        "id": "9h8Tz4x6uzQW",
        "colab": {
          "base_uri": "https://localhost:8080/"
        },
        "outputId": "5fe46294-fa4f-4207-c304-718c7615fc96"
      },
      "source": [
        "# Téléchargement\n",
        "! wget https://raw.githubusercontent.com/AdrienGuille/adrienguille.github.io/main/assets/sgns.wiki.fr.zip\n",
        "! unzip sgns.wiki.fr.zip\n",
        "\n",
        "# Lecture du vocabulaire et des vecteurs\n",
        "import pandas as pd\n",
        "data = pd.read_csv(\"sgns.wiki.fr.vec\", sep=\" \", quoting=3, header=None, skiprows=1)\n",
        "vocabulary = list(data[0].values)\n",
        "vectors = data[range(1, 301)].values\n",
        "\n",
        "# Définition d'une fonction pour accéder de façon sûre aux vecteurs\n",
        "def get_vector(word):\n",
        "  if word in vocabulary:\n",
        "    return vectors[vocabulary.index(word)]\n",
        "  else:\n",
        "    return None"
      ],
      "execution_count": 2,
      "outputs": [
        {
          "output_type": "stream",
          "name": "stdout",
          "text": [
            "--2024-12-07 05:06:35--  https://raw.githubusercontent.com/AdrienGuille/adrienguille.github.io/main/assets/sgns.wiki.fr.zip\n",
            "Resolving raw.githubusercontent.com (raw.githubusercontent.com)... 185.199.109.133, 185.199.108.133, 185.199.110.133, ...\n",
            "Connecting to raw.githubusercontent.com (raw.githubusercontent.com)|185.199.109.133|:443... connected.\n",
            "HTTP request sent, awaiting response... 200 OK\n",
            "Length: 98204893 (94M) [application/zip]\n",
            "Saving to: ‘sgns.wiki.fr.zip’\n",
            "\n",
            "sgns.wiki.fr.zip    100%[===================>]  93.66M  43.4MB/s    in 2.2s    \n",
            "\n",
            "2024-12-07 05:06:39 (43.4 MB/s) - ‘sgns.wiki.fr.zip’ saved [98204893/98204893]\n",
            "\n",
            "Archive:  sgns.wiki.fr.zip\n",
            "  inflating: sgns.wiki.fr.vec        \n"
          ]
        }
      ]
    },
    {
      "cell_type": "code",
      "source": [
        "vocabulary.index('vice')"
      ],
      "metadata": {
        "colab": {
          "base_uri": "https://localhost:8080/"
        },
        "id": "k7gbdwxcR9hF",
        "outputId": "69dd012b-d5a3-45a4-b519-9d2ef120396f"
      },
      "execution_count": 22,
      "outputs": [
        {
          "output_type": "execute_result",
          "data": {
            "text/plain": [
              "948"
            ]
          },
          "metadata": {},
          "execution_count": 22
        }
      ]
    },
    {
      "cell_type": "code",
      "source": [
        "vectors[10].shape"
      ],
      "metadata": {
        "colab": {
          "base_uri": "https://localhost:8080/"
        },
        "id": "VUu49ssjYZRM",
        "outputId": "ca2a1e84-2915-462d-ab04-c20d58aca3f5"
      },
      "execution_count": 31,
      "outputs": [
        {
          "output_type": "execute_result",
          "data": {
            "text/plain": [
              "(300,)"
            ]
          },
          "metadata": {},
          "execution_count": 31
        }
      ]
    },
    {
      "cell_type": "markdown",
      "metadata": {
        "id": "xnJuZn6YWxMn"
      },
      "source": [
        "## Identification des mots proches\n",
        "\n",
        "On mesure la proximité entre les mots comme une fonction du produit scalaire de leurs représentations. Plus exactement on mesure le produit scalaire normalisé par le produit des normes, qui correspond au cosinus de l'angle entre les deux vecteurs :\n",
        "$$\n",
        "\\cos(\\theta_{u_1, u_2}) = \\frac{u_1 \\cdot u_2}{||u_1|| \\times ||u_2||}\n",
        "$$\n",
        "\n",
        "**Exercice** :\n",
        "- Écrire la fonction `get_most_similar_words` qui reçoit une représentation vectorielle ou un mot et retourne les $n$ mots les plus proches.\n",
        "- La tester !"
      ]
    },
    {
      "cell_type": "code",
      "metadata": {
        "id": "EFbPPqod-USy",
        "colab": {
          "base_uri": "https://localhost:8080/"
        },
        "outputId": "e405cd2a-482d-447d-9a50-4878c5e56a68"
      },
      "source": [
        "from sklearn.metrics.pairwise import cosine_similarity\n",
        "import numpy as np\n",
        "import heapq\n",
        "\n",
        "# Fonction pour trouver les mots les plus similaires\n",
        "def get_most_similar_words(vector, n=10):\n",
        "    if isinstance(vector, str):\n",
        "        # Si un mot est donné, récupère son vecteur\n",
        "        vector = get_vector(vector)\n",
        "        if vector is None:\n",
        "            return f\"Le mot '{vector}' n'existe pas dans le vocabulaire.\"\n",
        "\n",
        "    # Liste pour stocker les similarités\n",
        "    similarities = []\n",
        "\n",
        "    # Calcul des similarités cosinus entre le vecteur donné et tous les vecteurs\n",
        "    for i in range(len(vectors)):\n",
        "        sim = cosine_similarity(vector.reshape(1, -1), vectors[i].reshape(1, -1))[0][0]\n",
        "        similarities.append((sim, vocabulary[i]))\n",
        "\n",
        "    # Trouver les n mots les plus proches (tri par similarité décroissante)\n",
        "    most_similar = heapq.nlargest(n, similarities, key=lambda x: x[0])\n",
        "\n",
        "    # Retourne les n mots avec leurs similarités\n",
        "    return [(word, round(sim, 4)) for sim, word in most_similar]\n",
        "\n",
        "# Tester la fonction\n",
        "#print(get_most_similar_words(\"roi\", n=5))\n",
        "print(get_most_similar_words(\"chien\", n=5))"
      ],
      "execution_count": 9,
      "outputs": [
        {
          "output_type": "stream",
          "name": "stdout",
          "text": [
            "[('chien', 1.0), ('chiens', 0.7498), ('chienne', 0.7083), ('chiot', 0.6648), ('chat', 0.663)]\n"
          ]
        }
      ]
    },
    {
      "cell_type": "markdown",
      "metadata": {
        "id": "W86FJ0b6XNMb"
      },
      "source": [
        "## Visualisation des représentations et des relations entre elles: pays & capitales\n",
        "\n",
        "**Exercice:**\n",
        "- Extraire le sous-ensemble de vecteurs pour les mots donnés ci-après\n",
        "- Les projeter linéairement en 3D au moyen d'une décomposition en valeurs singulières tronquée\n",
        "- Visualiser les vecteurs dans le plan, d'après leurs coordonnées sur les 2ème et 3ème axes."
      ]
    },
    {
      "cell_type": "code",
      "metadata": {
        "id": "DzRMB3sYuK3J"
      },
      "source": [
        "from sklearn.decomposition import TruncatedSVD\n",
        "import matplotlib.pyplot as plt\n",
        "\n",
        "words = ['paris', 'france', 'berlin', 'allemagne', 'pékin', 'chine', 'tokyo', 'japon', 'mexico', 'mexique', 'caracas', 'venezuela']\n",
        "word_vectors = [get_vector(w) for w in words]\n"
      ],
      "execution_count": null,
      "outputs": []
    },
    {
      "cell_type": "markdown",
      "metadata": {
        "id": "5aD6U1rfXdgt"
      },
      "source": [
        "## Prédiction du nom de la capitale à partir du nom d'un pays\n",
        "\n",
        "**Exercice** :\n",
        "- D'après le résultat obtenu précédemment, proposer une manière de deviner le nom de la capitale à partir du nom d'un pays d'après leurs représentations.\n",
        "- Écrire la fonction `find_capital` qui implémente votre idée et la tester !"
      ]
    },
    {
      "cell_type": "code",
      "metadata": {
        "id": "Ld4s9xOy6p2r"
      },
      "source": [],
      "execution_count": null,
      "outputs": []
    },
    {
      "cell_type": "markdown",
      "metadata": {
        "id": "iLSEVn49XjGL"
      },
      "source": [
        "## Résolution d'analogies\n",
        "\n",
        "On considère des analogies de la forme $a$ est à $b$, ce que $c$ est à $d$. Dans l'espace vectoriel on devrait avoir $u_a - u_b = u_c - u_d$.\n",
        "\n",
        "**Exercice** :\n",
        "- Écrire une fonction qui résoud une telle analogie, sachant $a$, $b$ et $c$.\n",
        "- La tester !"
      ]
    },
    {
      "cell_type": "code",
      "metadata": {
        "id": "x1J-rnsDyCSU"
      },
      "source": [
        "def solve_analogy(word_a, word_b, word_c):\n"
      ],
      "execution_count": null,
      "outputs": []
    }
  ]
}
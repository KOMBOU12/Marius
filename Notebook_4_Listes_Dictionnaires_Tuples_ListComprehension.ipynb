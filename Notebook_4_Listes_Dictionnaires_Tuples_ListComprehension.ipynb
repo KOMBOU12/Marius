{
  "cells": [
    {
      "cell_type": "markdown",
      "metadata": {
        "id": "view-in-github",
        "colab_type": "text"
      },
      "source": [
        "<a href=\"https://colab.research.google.com/github/KOMBOU12/Marius/blob/main/Notebook_4_Listes_Dictionnaires_Tuples_ListComprehension.ipynb\" target=\"_parent\"><img src=\"https://colab.research.google.com/assets/colab-badge.svg\" alt=\"Open In Colab\"/></a>"
      ]
    },
    {
      "cell_type": "markdown",
      "id": "60aa4cb6",
      "metadata": {
        "id": "60aa4cb6"
      },
      "source": [
        "\n",
        "# Notebook 4 : Les Listes, Dictionnaires, Tuples, et List Comprehension en Python\n",
        "\n",
        "## Introduction\n",
        "Dans ce notebook, nous allons explorer les principales structures de données en Python :\n",
        "- Les listes\n",
        "- Les dictionnaires\n",
        "- Les tuples\n",
        "- Les compréhensions de liste\n",
        "\n",
        "Ces structures de données permettent de stocker et manipuler des collections d'éléments de manière efficace.\n"
      ]
    },
    {
      "cell_type": "code",
      "execution_count": 1,
      "id": "d43e2b05",
      "metadata": {
        "colab": {
          "base_uri": "https://localhost:8080/"
        },
        "id": "d43e2b05",
        "outputId": "579c2a01-04af-44b5-9735-53be0d530464"
      },
      "outputs": [
        {
          "output_type": "stream",
          "name": "stdout",
          "text": [
            "['pomme', 'banane', 'cerise']\n",
            "banane\n",
            "['pomme', 'banane', 'cerise', 'orange']\n",
            "['banane', 'cerise', 'orange']\n"
          ]
        }
      ],
      "source": [
        "\n",
        "# Section 1 : Les Listes\n",
        "# Une liste est une collection d'éléments modifiable et ordonnée.\n",
        "\n",
        "# Exemple\n",
        "fruits = [\"pomme\", \"banane\", \"cerise\"]\n",
        "print(fruits)\n",
        "\n",
        "# Accéder à un élément\n",
        "print(fruits[1])  # Affiche \"banane\"\n",
        "\n",
        "# Ajouter un élément\n",
        "fruits.append(\"orange\")\n",
        "print(fruits)\n",
        "\n",
        "# Supprimer un élément\n",
        "fruits.remove(\"pomme\")\n",
        "print(fruits)\n"
      ]
    },
    {
      "cell_type": "code",
      "execution_count": 2,
      "id": "42eb3e5b",
      "metadata": {
        "colab": {
          "base_uri": "https://localhost:8080/"
        },
        "id": "42eb3e5b",
        "outputId": "31593171-dca1-424f-da0f-c2e565ca4053"
      },
      "outputs": [
        {
          "output_type": "stream",
          "name": "stdout",
          "text": [
            "{'nom': 'Alice', 'âge': 25, 'ville': 'Paris'}\n",
            "Alice\n",
            "{'nom': 'Alice', 'âge': 25, 'ville': 'Paris', 'profession': 'Ingénieur'}\n",
            "{'nom': 'Alice', 'ville': 'Paris', 'profession': 'Ingénieur'}\n"
          ]
        }
      ],
      "source": [
        "\n",
        "# Section 2 : Les Dictionnaires\n",
        "# Un dictionnaire est une collection non ordonnée d'éléments sous forme de paires clé-valeur.\n",
        "\n",
        "# Exemple\n",
        "person = {\"nom\": \"Alice\", \"âge\": 25, \"ville\": \"Paris\"}\n",
        "print(person)\n",
        "\n",
        "# Accéder à une valeur\n",
        "print(person[\"nom\"])  # Affiche \"Alice\"\n",
        "\n",
        "# Ajouter une paire clé-valeur\n",
        "person[\"profession\"] = \"Ingénieur\"\n",
        "print(person)\n",
        "\n",
        "# Supprimer une paire clé-valeur\n",
        "del person[\"âge\"]\n",
        "print(person)\n"
      ]
    },
    {
      "cell_type": "code",
      "execution_count": 3,
      "id": "05d15aab",
      "metadata": {
        "colab": {
          "base_uri": "https://localhost:8080/"
        },
        "id": "05d15aab",
        "outputId": "01616ec4-96ab-4258-f33d-2862f5b0039d"
      },
      "outputs": [
        {
          "output_type": "stream",
          "name": "stdout",
          "text": [
            "(10.5, 20.3)\n",
            "10.5\n"
          ]
        }
      ],
      "source": [
        "\n",
        "# Section 3 : Les Tuples\n",
        "# Un tuple est une collection ordonnée et immuable d'éléments.\n",
        "\n",
        "# Exemple\n",
        "coordonnees = (10.5, 20.3)\n",
        "print(coordonnees)\n",
        "\n",
        "# Accéder à un élément\n",
        "print(coordonnees[0])  # Affiche 10.5\n",
        "\n",
        "# Les tuples sont immuables, donc on ne peut pas les modifier directement.\n",
        "# coordonnees[0] = 11.5  # Cela générerait une erreur\n"
      ]
    },
    {
      "cell_type": "code",
      "execution_count": 5,
      "id": "637629a6",
      "metadata": {
        "colab": {
          "base_uri": "https://localhost:8080/"
        },
        "id": "637629a6",
        "outputId": "f69f1f9c-2997-4a69-9cfc-713c1ca4682a"
      },
      "outputs": [
        {
          "output_type": "stream",
          "name": "stdout",
          "text": [
            "[0, 1, 4, 9, 16, 25, 36, 49, 64, 81]\n",
            "[0, 2, 4, 6, 8]\n"
          ]
        }
      ],
      "source": [
        "\n",
        "# Section 4 : List Comprehension\n",
        "# Une compréhension de liste est une syntaxe concise pour créer une nouvelle liste en appliquant une expression à chaque élément d'une séquence.\n",
        "\n",
        "# Exemple : créer une liste des carrés des nombres de 0 à 9\n",
        "carrés = [x**2 for x in range(10)]\n",
        "print(carrés)\n",
        "\n",
        "# Exemple avec condition : nombres pairs de 0 à 9\n",
        "pairs = [x for x in range(10) if x % 2 == 0]\n",
        "print(pairs)\n"
      ]
    },
    {
      "cell_type": "markdown",
      "id": "d639dabe",
      "metadata": {
        "id": "d639dabe"
      },
      "source": [
        "\n",
        "# Exercices pratiques\n",
        "Appliquons les concepts de manipulation des structures de données.\n"
      ]
    },
    {
      "cell_type": "code",
      "execution_count": 8,
      "id": "5c9524a3",
      "metadata": {
        "colab": {
          "base_uri": "https://localhost:8080/"
        },
        "id": "5c9524a3",
        "outputId": "ec158ef2-55e7-4121-938c-ef85982c5163"
      },
      "outputs": [
        {
          "output_type": "stream",
          "name": "stdout",
          "text": [
            "[1, 3, 4, 5, 6]\n"
          ]
        }
      ],
      "source": [
        "\n",
        "# Exercice 1\n",
        "# Créez une liste appelée 'nombres' contenant les valeurs [1, 2, 3, 4, 5].\n",
        "# Ajoutez le nombre 6 à la fin de la liste, puis retirez le nombre 2.\n",
        "# Résultat attendu : [1, 3, 4, 5, 6]\n",
        "\n",
        "nombres = [1, 2, 3, 4, 5]\n",
        "\n",
        "nombres.append(6)\n",
        "del nombres[1]\n",
        "print(nombres)\n",
        "\n"
      ]
    },
    {
      "cell_type": "code",
      "execution_count": 12,
      "id": "20739014",
      "metadata": {
        "colab": {
          "base_uri": "https://localhost:8080/"
        },
        "id": "20739014",
        "outputId": "20c1860b-b414-49ca-bdc3-3b9675dacea2"
      },
      "outputs": [
        {
          "output_type": "stream",
          "name": "stdout",
          "text": [
            "{'titre': 'Python 101', 'auteur': 'John Doe', 'annee': 2021, 'genre': 'Programmation'}\n"
          ]
        }
      ],
      "source": [
        "\n",
        "# Exercice 2\n",
        "# Créez un dictionnaire représentant un livre avec les clés 'titre', 'auteur' et 'année'.\n",
        "# Ajoutez une clé 'genre' avec une valeur de votre choix, puis affichez le dictionnaire.\n",
        "# Résultat attendu : {'titre': 'Python 101', 'auteur': 'John Doe', 'année': 2021, 'genre': 'Programmation'}\n",
        "\n",
        "dict = {'titre': 'Python 101', 'auteur': 'John Doe', 'annee': 2021,  'genre': 'Programmation' }\n",
        "\n",
        "print(dict)\n"
      ]
    },
    {
      "cell_type": "code",
      "execution_count": 14,
      "id": "ec6ecc7a",
      "metadata": {
        "colab": {
          "base_uri": "https://localhost:8080/"
        },
        "id": "ec6ecc7a",
        "outputId": "0e8743b9-43a0-4138-d6c2-e5f4ef67e817"
      },
      "outputs": [
        {
          "output_type": "stream",
          "name": "stdout",
          "text": [
            "1920 1980\n"
          ]
        }
      ],
      "source": [
        "\n",
        "# Exercice 3\n",
        "# Créez un tuple nommé 'dimensions' contenant les valeurs (1920, 1080).\n",
        "# Affichez la largeur (premier élément) et la hauteur (deuxième élément) séparément.\n",
        "# Résultat attendu : 1920 1080\n",
        "\n",
        "dimensions = (1920, 1980)\n",
        "print(dimensions[0], dimensions[1])\n"
      ]
    },
    {
      "cell_type": "code",
      "execution_count": 15,
      "id": "f5407796",
      "metadata": {
        "colab": {
          "base_uri": "https://localhost:8080/"
        },
        "id": "f5407796",
        "outputId": "af042aaf-6889-4eaf-8e04-05226f81689b"
      },
      "outputs": [
        {
          "output_type": "stream",
          "name": "stdout",
          "text": [
            "[1, 3, 5, 7, 9, 11, 13, 15, 17, 19]\n"
          ]
        }
      ],
      "source": [
        "\n",
        "# Exercice 4\n",
        "# Utilisez une compréhension de liste pour créer une liste des nombres impairs de 1 à 20.\n",
        "# Résultat attendu : [1, 3, 5, 7, 9, 11, 13, 15, 17, 19]\n",
        "\n",
        "impairs = [x for x in range(20)  if x % 2 == 1 ]\n",
        "print(impairs)"
      ]
    },
    {
      "cell_type": "code",
      "execution_count": 23,
      "id": "28280252",
      "metadata": {
        "colab": {
          "base_uri": "https://localhost:8080/"
        },
        "id": "28280252",
        "outputId": "c0011f9b-7737-4036-b4e6-49df59ea7f87"
      },
      "outputs": [
        {
          "output_type": "stream",
          "name": "stdout",
          "text": [
            "[1, 4, 9, 16, 25, 36, 49, 64, 81, 100]\n"
          ]
        }
      ],
      "source": [
        "\n",
        "# Exercice 5\n",
        "# Créez une liste des carrés des nombres de 1 à 10 en utilisant une compréhension de liste.\n",
        "# Résultat attendu : [1, 4, 9, 16, 25, 36, 49, 64, 81, 100]\n",
        "\n",
        "carrés = [x**2 for x in range(1, 11)]\n",
        "\n",
        "print(carrés)\n",
        "\n"
      ]
    }
  ],
  "metadata": {
    "kernelspec": {
      "display_name": "Python 3 (ipykernel)",
      "language": "python",
      "name": "python3"
    },
    "language_info": {
      "codemirror_mode": {
        "name": "ipython",
        "version": 3
      },
      "file_extension": ".py",
      "mimetype": "text/x-python",
      "name": "python",
      "nbconvert_exporter": "python",
      "pygments_lexer": "ipython3",
      "version": "3.12.7"
    },
    "colab": {
      "provenance": [],
      "include_colab_link": true
    }
  },
  "nbformat": 4,
  "nbformat_minor": 5
}